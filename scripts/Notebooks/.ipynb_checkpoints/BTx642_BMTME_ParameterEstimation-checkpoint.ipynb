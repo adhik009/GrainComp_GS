{
 "cells": [
  {
   "cell_type": "markdown",
   "metadata": {},
   "source": [
    "## Parameter Estimation using the BMTME function in the BMTME package"
   ]
  },
  {
   "cell_type": "code",
   "execution_count": 2,
   "metadata": {},
   "outputs": [],
   "source": [
    "##Fit multi trait multi environment models using BMTME package\n",
    ".libPaths(c('/home/ssapkot/.conda/envs/r_env_360/lib', .libPaths()))\n",
    "#install.packages(\"BMTME\",repos='http://cran.us.r-project.org', dependencies = TRUE)\n",
    "library(BGLR)\n",
    "library(lme4)\n",
    "#library(doMC)\n",
    "#library(foreach)\n",
    "library(coda)\n",
    "library(tidyverse)\n",
    "library(ggplot2)\n",
    "library(BMTME)\n",
    "\n",
    "setwd(\"/panicle/ssapkot/git_repo/GrainComp_GS/\")"
   ]
  },
  {
   "cell_type": "markdown",
   "metadata": {},
   "source": [
    "## Population: BTx642\n",
    "### Model Fit: BMTME using all five grain composition traits"
   ]
  },
  {
   "cell_type": "code",
   "execution_count": 3,
   "metadata": {},
   "outputs": [
    {
     "name": "stdout",
     "output_type": "stream",
     "text": [
      "[1] \"Number of iterations in the chain:\"\n"
     ]
    },
    {
     "data": {
      "text/html": [
       "25000"
      ],
      "text/latex": [
       "25000"
      ],
      "text/markdown": [
       "25000"
      ],
      "text/plain": [
       "[1] 25000"
      ]
     },
     "metadata": {},
     "output_type": "display_data"
    },
    {
     "name": "stdout",
     "output_type": "stream",
     "text": [
      "[1] \"Number of burnIns in the chain:\"\n"
     ]
    },
    {
     "data": {
      "text/html": [
       "15000"
      ],
      "text/latex": [
       "15000"
      ],
      "text/markdown": [
       "15000"
      ],
      "text/plain": [
       "[1] 15000"
      ]
     },
     "metadata": {},
     "output_type": "display_data"
    },
    {
     "name": "stdout",
     "output_type": "stream",
     "text": [
      "[1] \"Estimated parameters:\"\n"
     ]
    },
    {
     "data": {
      "text/html": [
       "<table>\n",
       "<tbody>\n",
       "\t<tr><td>Y          </td><td>nIter      </td><td>burnIn     </td><td>thin       </td><td>dfe        </td><td>Se         </td><td>yHat       </td><td>SD.yHat    </td><td>beta       </td><td>SD.beta    </td><td>b1         </td><td>b2         </td><td>vare       </td><td>SD.vare    </td><td>varEnv     </td><td>SD.varEnv  </td><td>varTrait   </td><td>SD.varTrait</td><td>NAvalues   </td></tr>\n",
       "</tbody>\n",
       "</table>\n"
      ],
      "text/latex": [
       "\\begin{tabular}{lllllllllllllllllll}\n",
       "\t Y           & nIter       & burnIn      & thin        & dfe         & Se          & yHat        & SD.yHat     & beta        & SD.beta     & b1          & b2          & vare        & SD.vare     & varEnv      & SD.varEnv   & varTrait    & SD.varTrait & NAvalues   \\\\\n",
       "\\end{tabular}\n"
      ],
      "text/markdown": [
       "\n",
       "| Y           | nIter       | burnIn      | thin        | dfe         | Se          | yHat        | SD.yHat     | beta        | SD.beta     | b1          | b2          | vare        | SD.vare     | varEnv      | SD.varEnv   | varTrait    | SD.varTrait | NAvalues    |\n",
       "\n"
      ],
      "text/plain": [
       "     [,1] [,2]  [,3]   [,4] [,5] [,6] [,7] [,8]    [,9] [,10]   [,11] [,12]\n",
       "[1,] Y    nIter burnIn thin dfe  Se   yHat SD.yHat beta SD.beta b1    b2   \n",
       "     [,13] [,14]   [,15]  [,16]     [,17]    [,18]       [,19]   \n",
       "[1,] vare  SD.vare varEnv SD.varEnv varTrait SD.varTrait NAvalues"
      ]
     },
     "metadata": {},
     "output_type": "display_data"
    }
   ],
   "source": [
    "fm <- readRDS('results/BMTME/BTx642_allPheno_BMTME_model.rds')\n",
    "print('Number of iterations in the chain:')\n",
    "fm$nIter\n",
    "print('Number of burnIns in the chain:')\n",
    "fm$burnIn\n",
    "print('Estimated parameters:')\n",
    "t(names(fm))"
   ]
  },
  {
   "cell_type": "markdown",
   "metadata": {},
   "source": [
    "#### Beta coefficients for each trait"
   ]
  },
  {
   "cell_type": "code",
   "execution_count": 6,
   "metadata": {},
   "outputs": [
    {
     "name": "stdout",
     "output_type": "stream",
     "text": [
      "[1] \"Estimates of beta coefficients\"\n"
     ]
    },
    {
     "data": {
      "text/html": [
       "<table>\n",
       "<thead><tr><th></th><th scope=col>Amylose</th><th scope=col>Fat</th><th scope=col>GrossEnergy</th><th scope=col>Protein</th><th scope=col>Starch</th></tr></thead>\n",
       "<tbody>\n",
       "\t<tr><th scope=row>SC2014</th><td>-0.0464</td><td>-0.0089</td><td>-0.1944</td><td>-0.0214</td><td>0.0421 </td></tr>\n",
       "\t<tr><th scope=row>SC2015</th><td>-0.0462</td><td>-0.0024</td><td>-0.1492</td><td>-0.0215</td><td>0.0396 </td></tr>\n",
       "\t<tr><th scope=row>TX2014</th><td>-0.0285</td><td>-0.0018</td><td>-0.2878</td><td>-0.0240</td><td>0.0412 </td></tr>\n",
       "\t<tr><th scope=row>TX2015</th><td>-0.0474</td><td>-0.0018</td><td>-0.1223</td><td>-0.0220</td><td>0.0378 </td></tr>\n",
       "</tbody>\n",
       "</table>\n"
      ],
      "text/latex": [
       "\\begin{tabular}{r|lllll}\n",
       "  & Amylose & Fat & GrossEnergy & Protein & Starch\\\\\n",
       "\\hline\n",
       "\tSC2014 & -0.0464 & -0.0089 & -0.1944 & -0.0214 & 0.0421 \\\\\n",
       "\tSC2015 & -0.0462 & -0.0024 & -0.1492 & -0.0215 & 0.0396 \\\\\n",
       "\tTX2014 & -0.0285 & -0.0018 & -0.2878 & -0.0240 & 0.0412 \\\\\n",
       "\tTX2015 & -0.0474 & -0.0018 & -0.1223 & -0.0220 & 0.0378 \\\\\n",
       "\\end{tabular}\n"
      ],
      "text/markdown": [
       "\n",
       "| <!--/--> | Amylose | Fat | GrossEnergy | Protein | Starch |\n",
       "|---|---|---|---|---|---|\n",
       "| SC2014 | -0.0464 | -0.0089 | -0.1944 | -0.0214 | 0.0421  |\n",
       "| SC2015 | -0.0462 | -0.0024 | -0.1492 | -0.0215 | 0.0396  |\n",
       "| TX2014 | -0.0285 | -0.0018 | -0.2878 | -0.0240 | 0.0412  |\n",
       "| TX2015 | -0.0474 | -0.0018 | -0.1223 | -0.0220 | 0.0378  |\n",
       "\n"
      ],
      "text/plain": [
       "       Amylose Fat     GrossEnergy Protein Starch\n",
       "SC2014 -0.0464 -0.0089 -0.1944     -0.0214 0.0421\n",
       "SC2015 -0.0462 -0.0024 -0.1492     -0.0215 0.0396\n",
       "TX2014 -0.0285 -0.0018 -0.2878     -0.0240 0.0412\n",
       "TX2015 -0.0474 -0.0018 -0.1223     -0.0220 0.0378"
      ]
     },
     "metadata": {},
     "output_type": "display_data"
    },
    {
     "name": "stdout",
     "output_type": "stream",
     "text": [
      "[1] \"SD of beta coefficients\"\n"
     ]
    },
    {
     "data": {
      "text/html": [
       "<table>\n",
       "<thead><tr><th></th><th scope=col>Amylose</th><th scope=col>Fat</th><th scope=col>GrossEnergy</th><th scope=col>Protein</th><th scope=col>Starch</th></tr></thead>\n",
       "<tbody>\n",
       "\t<tr><th scope=row>SC2014</th><td>0.0853</td><td>0.0143</td><td>0.4968</td><td>0.0232</td><td>0.0464</td></tr>\n",
       "\t<tr><th scope=row>SC2015</th><td>0.0868</td><td>0.0142</td><td>0.4997</td><td>0.0232</td><td>0.0461</td></tr>\n",
       "\t<tr><th scope=row>TX2014</th><td>0.0865</td><td>0.0140</td><td>0.4937</td><td>0.0233</td><td>0.0460</td></tr>\n",
       "\t<tr><th scope=row>TX2015</th><td>0.0843</td><td>0.0142</td><td>0.4943</td><td>0.0231</td><td>0.0457</td></tr>\n",
       "</tbody>\n",
       "</table>\n"
      ],
      "text/latex": [
       "\\begin{tabular}{r|lllll}\n",
       "  & Amylose & Fat & GrossEnergy & Protein & Starch\\\\\n",
       "\\hline\n",
       "\tSC2014 & 0.0853 & 0.0143 & 0.4968 & 0.0232 & 0.0464\\\\\n",
       "\tSC2015 & 0.0868 & 0.0142 & 0.4997 & 0.0232 & 0.0461\\\\\n",
       "\tTX2014 & 0.0865 & 0.0140 & 0.4937 & 0.0233 & 0.0460\\\\\n",
       "\tTX2015 & 0.0843 & 0.0142 & 0.4943 & 0.0231 & 0.0457\\\\\n",
       "\\end{tabular}\n"
      ],
      "text/markdown": [
       "\n",
       "| <!--/--> | Amylose | Fat | GrossEnergy | Protein | Starch |\n",
       "|---|---|---|---|---|---|\n",
       "| SC2014 | 0.0853 | 0.0143 | 0.4968 | 0.0232 | 0.0464 |\n",
       "| SC2015 | 0.0868 | 0.0142 | 0.4997 | 0.0232 | 0.0461 |\n",
       "| TX2014 | 0.0865 | 0.0140 | 0.4937 | 0.0233 | 0.0460 |\n",
       "| TX2015 | 0.0843 | 0.0142 | 0.4943 | 0.0231 | 0.0457 |\n",
       "\n"
      ],
      "text/plain": [
       "       Amylose Fat    GrossEnergy Protein Starch\n",
       "SC2014 0.0853  0.0143 0.4968      0.0232  0.0464\n",
       "SC2015 0.0868  0.0142 0.4997      0.0232  0.0461\n",
       "TX2014 0.0865  0.0140 0.4937      0.0233  0.0460\n",
       "TX2015 0.0843  0.0142 0.4943      0.0231  0.0457"
      ]
     },
     "metadata": {},
     "output_type": "display_data"
    }
   ],
   "source": [
    "beta <- fm$beta\n",
    "rownames(beta) <- c('SC2014','SC2015','TX2014','TX2015')\n",
    "print('Estimates of beta coefficients')\n",
    "beta\n",
    "sd.b <- fm$SD.beta\n",
    "rownames(sd.b) <- c('SC2014','SC2015','TX2014','TX2015')\n",
    "print('SD of beta coefficients')\n",
    "sd.b"
   ]
  },
  {
   "cell_type": "code",
   "execution_count": null,
   "metadata": {},
   "outputs": [],
   "source": []
  },
  {
   "cell_type": "markdown",
   "metadata": {},
   "source": [
    "#### Variance-covariance for Traits"
   ]
  },
  {
   "cell_type": "code",
   "execution_count": 9,
   "metadata": {},
   "outputs": [
    {
     "name": "stdout",
     "output_type": "stream",
     "text": [
      "[1] \"Genetic Covariance between Traits\"\n"
     ]
    },
    {
     "data": {
      "text/html": [
       "<table>\n",
       "<thead><tr><th></th><th scope=col>Amylose</th><th scope=col>Fat</th><th scope=col>GrossEnergy</th><th scope=col>Protein</th><th scope=col>Starch</th></tr></thead>\n",
       "<tbody>\n",
       "\t<tr><th scope=row>Amylose</th><td> 3.5804</td><td>-0.1879</td><td> 0.3933</td><td>-0.1058</td><td> 0.5653</td></tr>\n",
       "\t<tr><th scope=row>Fat</th><td>-0.1879</td><td> 0.0439</td><td> 0.6256</td><td> 0.0163</td><td>-0.0705</td></tr>\n",
       "\t<tr><th scope=row>GrossEnergy</th><td> 0.3933</td><td> 0.6256</td><td>28.1423</td><td> 1.2427</td><td>-2.2577</td></tr>\n",
       "\t<tr><th scope=row>Protein</th><td>-0.1058</td><td> 0.0163</td><td> 1.2427</td><td> 0.2359</td><td>-0.2708</td></tr>\n",
       "\t<tr><th scope=row>Starch</th><td> 0.5653</td><td>-0.0705</td><td>-2.2577</td><td>-0.2708</td><td> 0.5510</td></tr>\n",
       "</tbody>\n",
       "</table>\n"
      ],
      "text/latex": [
       "\\begin{tabular}{r|lllll}\n",
       "  & Amylose & Fat & GrossEnergy & Protein & Starch\\\\\n",
       "\\hline\n",
       "\tAmylose &  3.5804 & -0.1879 &  0.3933 & -0.1058 &  0.5653\\\\\n",
       "\tFat & -0.1879 &  0.0439 &  0.6256 &  0.0163 & -0.0705\\\\\n",
       "\tGrossEnergy &  0.3933 &  0.6256 & 28.1423 &  1.2427 & -2.2577\\\\\n",
       "\tProtein & -0.1058 &  0.0163 &  1.2427 &  0.2359 & -0.2708\\\\\n",
       "\tStarch &  0.5653 & -0.0705 & -2.2577 & -0.2708 &  0.5510\\\\\n",
       "\\end{tabular}\n"
      ],
      "text/markdown": [
       "\n",
       "| <!--/--> | Amylose | Fat | GrossEnergy | Protein | Starch |\n",
       "|---|---|---|---|---|---|\n",
       "| Amylose |  3.5804 | -0.1879 |  0.3933 | -0.1058 |  0.5653 |\n",
       "| Fat | -0.1879 |  0.0439 |  0.6256 |  0.0163 | -0.0705 |\n",
       "| GrossEnergy |  0.3933 |  0.6256 | 28.1423 |  1.2427 | -2.2577 |\n",
       "| Protein | -0.1058 |  0.0163 |  1.2427 |  0.2359 | -0.2708 |\n",
       "| Starch |  0.5653 | -0.0705 | -2.2577 | -0.2708 |  0.5510 |\n",
       "\n"
      ],
      "text/plain": [
       "            Amylose Fat     GrossEnergy Protein Starch \n",
       "Amylose      3.5804 -0.1879  0.3933     -0.1058  0.5653\n",
       "Fat         -0.1879  0.0439  0.6256      0.0163 -0.0705\n",
       "GrossEnergy  0.3933  0.6256 28.1423      1.2427 -2.2577\n",
       "Protein     -0.1058  0.0163  1.2427      0.2359 -0.2708\n",
       "Starch       0.5653 -0.0705 -2.2577     -0.2708  0.5510"
      ]
     },
     "metadata": {},
     "output_type": "display_data"
    },
    {
     "name": "stdout",
     "output_type": "stream",
     "text": [
      "[1] \"--------------------------------------\"\n",
      "[1] \"Genetic correlation between Traits\"\n"
     ]
    },
    {
     "data": {
      "text/html": [
       "<table>\n",
       "<thead><tr><th></th><th scope=col>Amylose</th><th scope=col>Fat</th><th scope=col>GrossEnergy</th><th scope=col>Protein</th><th scope=col>Starch</th></tr></thead>\n",
       "<tbody>\n",
       "\t<tr><th scope=row>Amylose</th><td> 1.00000000</td><td>-0.4739459 </td><td> 0.03918126</td><td>-0.1151214 </td><td> 0.4024736 </td></tr>\n",
       "\t<tr><th scope=row>Fat</th><td>-0.47394587</td><td> 1.0000000 </td><td> 0.56283965</td><td> 0.1601738 </td><td>-0.4532951 </td></tr>\n",
       "\t<tr><th scope=row>GrossEnergy</th><td> 0.03918126</td><td> 0.5628397 </td><td> 1.00000000</td><td> 0.4823059 </td><td>-0.5733379 </td></tr>\n",
       "\t<tr><th scope=row>Protein</th><td>-0.11512136</td><td> 0.1601738 </td><td> 0.48230585</td><td> 1.0000000 </td><td>-0.7511192 </td></tr>\n",
       "\t<tr><th scope=row>Starch</th><td> 0.40247361</td><td>-0.4532951 </td><td>-0.57333788</td><td>-0.7511192 </td><td> 1.0000000 </td></tr>\n",
       "</tbody>\n",
       "</table>\n"
      ],
      "text/latex": [
       "\\begin{tabular}{r|lllll}\n",
       "  & Amylose & Fat & GrossEnergy & Protein & Starch\\\\\n",
       "\\hline\n",
       "\tAmylose &  1.00000000 & -0.4739459  &  0.03918126 & -0.1151214  &  0.4024736 \\\\\n",
       "\tFat & -0.47394587 &  1.0000000  &  0.56283965 &  0.1601738  & -0.4532951 \\\\\n",
       "\tGrossEnergy &  0.03918126 &  0.5628397  &  1.00000000 &  0.4823059  & -0.5733379 \\\\\n",
       "\tProtein & -0.11512136 &  0.1601738  &  0.48230585 &  1.0000000  & -0.7511192 \\\\\n",
       "\tStarch &  0.40247361 & -0.4532951  & -0.57333788 & -0.7511192  &  1.0000000 \\\\\n",
       "\\end{tabular}\n"
      ],
      "text/markdown": [
       "\n",
       "| <!--/--> | Amylose | Fat | GrossEnergy | Protein | Starch |\n",
       "|---|---|---|---|---|---|\n",
       "| Amylose |  1.00000000 | -0.4739459  |  0.03918126 | -0.1151214  |  0.4024736  |\n",
       "| Fat | -0.47394587 |  1.0000000  |  0.56283965 |  0.1601738  | -0.4532951  |\n",
       "| GrossEnergy |  0.03918126 |  0.5628397  |  1.00000000 |  0.4823059  | -0.5733379  |\n",
       "| Protein | -0.11512136 |  0.1601738  |  0.48230585 |  1.0000000  | -0.7511192  |\n",
       "| Starch |  0.40247361 | -0.4532951  | -0.57333788 | -0.7511192  |  1.0000000  |\n",
       "\n"
      ],
      "text/plain": [
       "            Amylose     Fat        GrossEnergy Protein    Starch    \n",
       "Amylose      1.00000000 -0.4739459  0.03918126 -0.1151214  0.4024736\n",
       "Fat         -0.47394587  1.0000000  0.56283965  0.1601738 -0.4532951\n",
       "GrossEnergy  0.03918126  0.5628397  1.00000000  0.4823059 -0.5733379\n",
       "Protein     -0.11512136  0.1601738  0.48230585  1.0000000 -0.7511192\n",
       "Starch       0.40247361 -0.4532951 -0.57333788 -0.7511192  1.0000000"
      ]
     },
     "metadata": {},
     "output_type": "display_data"
    },
    {
     "name": "stdout",
     "output_type": "stream",
     "text": [
      "[1] \"--------------------------------------\"\n"
     ]
    }
   ],
   "source": [
    "COV_TraitGenetic <- fm$varTrait\n",
    "rownames(COV_TraitGenetic) <- colnames(COV_TraitGenetic)\n",
    "print('Genetic Covariance between Traits')\n",
    "COV_TraitGenetic\n",
    "print('--------------------------------------')\n",
    "COR_TraitGenetic <- cov2cor(COV_TraitGenetic)\n",
    "rownames(COR_TraitGenetic) <- colnames(COR_TraitGenetic)\n",
    "print('Genetic correlation between Traits')\n",
    "COR_TraitGenetic\n",
    "print('--------------------------------------')"
   ]
  },
  {
   "cell_type": "markdown",
   "metadata": {},
   "source": [
    "#### Variance-covariance for environments"
   ]
  },
  {
   "cell_type": "code",
   "execution_count": 10,
   "metadata": {},
   "outputs": [
    {
     "name": "stdout",
     "output_type": "stream",
     "text": [
      "[1] \"Genetic Covariance between environments\"\n"
     ]
    },
    {
     "data": {
      "text/html": [
       "<table>\n",
       "<thead><tr><th></th><th scope=col>SC2014</th><th scope=col>SC2015</th><th scope=col>TX2014</th><th scope=col>TX2015</th></tr></thead>\n",
       "<tbody>\n",
       "\t<tr><th scope=row>SC2014</th><td> 0.3255</td><td>-0.0305</td><td>-0.0088</td><td> 0.1316</td></tr>\n",
       "\t<tr><th scope=row>SC2015</th><td>-0.0305</td><td> 0.8799</td><td> 0.0319</td><td>-0.2391</td></tr>\n",
       "\t<tr><th scope=row>TX2014</th><td>-0.0088</td><td> 0.0319</td><td> 2.3090</td><td> 0.1794</td></tr>\n",
       "\t<tr><th scope=row>TX2015</th><td> 0.1316</td><td>-0.2391</td><td> 0.1794</td><td> 6.4893</td></tr>\n",
       "</tbody>\n",
       "</table>\n"
      ],
      "text/latex": [
       "\\begin{tabular}{r|llll}\n",
       "  & SC2014 & SC2015 & TX2014 & TX2015\\\\\n",
       "\\hline\n",
       "\tSC2014 &  0.3255 & -0.0305 & -0.0088 &  0.1316\\\\\n",
       "\tSC2015 & -0.0305 &  0.8799 &  0.0319 & -0.2391\\\\\n",
       "\tTX2014 & -0.0088 &  0.0319 &  2.3090 &  0.1794\\\\\n",
       "\tTX2015 &  0.1316 & -0.2391 &  0.1794 &  6.4893\\\\\n",
       "\\end{tabular}\n"
      ],
      "text/markdown": [
       "\n",
       "| <!--/--> | SC2014 | SC2015 | TX2014 | TX2015 |\n",
       "|---|---|---|---|---|\n",
       "| SC2014 |  0.3255 | -0.0305 | -0.0088 |  0.1316 |\n",
       "| SC2015 | -0.0305 |  0.8799 |  0.0319 | -0.2391 |\n",
       "| TX2014 | -0.0088 |  0.0319 |  2.3090 |  0.1794 |\n",
       "| TX2015 |  0.1316 | -0.2391 |  0.1794 |  6.4893 |\n",
       "\n"
      ],
      "text/plain": [
       "       SC2014  SC2015  TX2014  TX2015 \n",
       "SC2014  0.3255 -0.0305 -0.0088  0.1316\n",
       "SC2015 -0.0305  0.8799  0.0319 -0.2391\n",
       "TX2014 -0.0088  0.0319  2.3090  0.1794\n",
       "TX2015  0.1316 -0.2391  0.1794  6.4893"
      ]
     },
     "metadata": {},
     "output_type": "display_data"
    },
    {
     "name": "stdout",
     "output_type": "stream",
     "text": [
      "[1] \"--------------------------------------\"\n",
      "[1] \"Genetic correlation between environments\"\n"
     ]
    },
    {
     "data": {
      "text/html": [
       "<table>\n",
       "<thead><tr><th></th><th scope=col>SC2014</th><th scope=col>SC2015</th><th scope=col>TX2014</th><th scope=col>TX2015</th></tr></thead>\n",
       "<tbody>\n",
       "\t<tr><th scope=row>SC2014</th><td> 1.00000000</td><td>-0.05699118</td><td>-0.01015068</td><td> 0.09054854</td></tr>\n",
       "\t<tr><th scope=row>SC2015</th><td>-0.05699118</td><td> 1.00000000</td><td> 0.02238010</td><td>-0.10006080</td></tr>\n",
       "\t<tr><th scope=row>TX2014</th><td>-0.01015068</td><td> 0.02238010</td><td> 1.00000000</td><td> 0.04634592</td></tr>\n",
       "\t<tr><th scope=row>TX2015</th><td> 0.09054854</td><td>-0.10006080</td><td> 0.04634592</td><td> 1.00000000</td></tr>\n",
       "</tbody>\n",
       "</table>\n"
      ],
      "text/latex": [
       "\\begin{tabular}{r|llll}\n",
       "  & SC2014 & SC2015 & TX2014 & TX2015\\\\\n",
       "\\hline\n",
       "\tSC2014 &  1.00000000 & -0.05699118 & -0.01015068 &  0.09054854\\\\\n",
       "\tSC2015 & -0.05699118 &  1.00000000 &  0.02238010 & -0.10006080\\\\\n",
       "\tTX2014 & -0.01015068 &  0.02238010 &  1.00000000 &  0.04634592\\\\\n",
       "\tTX2015 &  0.09054854 & -0.10006080 &  0.04634592 &  1.00000000\\\\\n",
       "\\end{tabular}\n"
      ],
      "text/markdown": [
       "\n",
       "| <!--/--> | SC2014 | SC2015 | TX2014 | TX2015 |\n",
       "|---|---|---|---|---|\n",
       "| SC2014 |  1.00000000 | -0.05699118 | -0.01015068 |  0.09054854 |\n",
       "| SC2015 | -0.05699118 |  1.00000000 |  0.02238010 | -0.10006080 |\n",
       "| TX2014 | -0.01015068 |  0.02238010 |  1.00000000 |  0.04634592 |\n",
       "| TX2015 |  0.09054854 | -0.10006080 |  0.04634592 |  1.00000000 |\n",
       "\n"
      ],
      "text/plain": [
       "       SC2014      SC2015      TX2014      TX2015     \n",
       "SC2014  1.00000000 -0.05699118 -0.01015068  0.09054854\n",
       "SC2015 -0.05699118  1.00000000  0.02238010 -0.10006080\n",
       "TX2014 -0.01015068  0.02238010  1.00000000  0.04634592\n",
       "TX2015  0.09054854 -0.10006080  0.04634592  1.00000000"
      ]
     },
     "metadata": {},
     "output_type": "display_data"
    },
    {
     "name": "stdout",
     "output_type": "stream",
     "text": [
      "[1] \"--------------------------------------\"\n"
     ]
    }
   ],
   "source": [
    "COV_EnvGenetic <- fm$varEnv\n",
    "rownames(COV_EnvGenetic) <- colnames(COV_EnvGenetic)\n",
    "print('Genetic Covariance between environments')\n",
    "COV_EnvGenetic\n",
    "print('--------------------------------------')\n",
    "COR_EnvGenetic <- cov2cor(COV_EnvGenetic)\n",
    "rownames(COR_EnvGenetic) <- colnames(COR_EnvGenetic)\n",
    "print('Genetic correlation between environments')\n",
    "COR_EnvGenetic\n",
    "print('--------------------------------------')"
   ]
  },
  {
   "cell_type": "markdown",
   "metadata": {},
   "source": [
    "#### Variance-covariance for Residuals"
   ]
  },
  {
   "cell_type": "code",
   "execution_count": 11,
   "metadata": {},
   "outputs": [
    {
     "name": "stdout",
     "output_type": "stream",
     "text": [
      "[1] \"Genetic Covariance for Residuals\"\n"
     ]
    },
    {
     "data": {
      "text/html": [
       "<table>\n",
       "<thead><tr><th></th><th scope=col>Amylose</th><th scope=col>Fat</th><th scope=col>GrossEnergy</th><th scope=col>Protein</th><th scope=col>Starch</th></tr></thead>\n",
       "<tbody>\n",
       "\t<tr><th scope=row>Amylose</th><td> 1.4078</td><td> 0.0341</td><td> 1.9477</td><td> 0.0483</td><td>-0.1137</td></tr>\n",
       "\t<tr><th scope=row>Fat</th><td> 0.0341</td><td> 0.0386</td><td> 0.8854</td><td> 0.0064</td><td>-0.0775</td></tr>\n",
       "\t<tr><th scope=row>GrossEnergy</th><td> 1.9477</td><td> 0.8854</td><td>47.0912</td><td> 1.0434</td><td>-3.0691</td></tr>\n",
       "\t<tr><th scope=row>Protein</th><td> 0.0483</td><td> 0.0064</td><td> 1.0434</td><td> 0.1013</td><td>-0.1397</td></tr>\n",
       "\t<tr><th scope=row>Starch</th><td>-0.1137</td><td>-0.0775</td><td>-3.0691</td><td>-0.1397</td><td> 0.4061</td></tr>\n",
       "</tbody>\n",
       "</table>\n"
      ],
      "text/latex": [
       "\\begin{tabular}{r|lllll}\n",
       "  & Amylose & Fat & GrossEnergy & Protein & Starch\\\\\n",
       "\\hline\n",
       "\tAmylose &  1.4078 &  0.0341 &  1.9477 &  0.0483 & -0.1137\\\\\n",
       "\tFat &  0.0341 &  0.0386 &  0.8854 &  0.0064 & -0.0775\\\\\n",
       "\tGrossEnergy &  1.9477 &  0.8854 & 47.0912 &  1.0434 & -3.0691\\\\\n",
       "\tProtein &  0.0483 &  0.0064 &  1.0434 &  0.1013 & -0.1397\\\\\n",
       "\tStarch & -0.1137 & -0.0775 & -3.0691 & -0.1397 &  0.4061\\\\\n",
       "\\end{tabular}\n"
      ],
      "text/markdown": [
       "\n",
       "| <!--/--> | Amylose | Fat | GrossEnergy | Protein | Starch |\n",
       "|---|---|---|---|---|---|\n",
       "| Amylose |  1.4078 |  0.0341 |  1.9477 |  0.0483 | -0.1137 |\n",
       "| Fat |  0.0341 |  0.0386 |  0.8854 |  0.0064 | -0.0775 |\n",
       "| GrossEnergy |  1.9477 |  0.8854 | 47.0912 |  1.0434 | -3.0691 |\n",
       "| Protein |  0.0483 |  0.0064 |  1.0434 |  0.1013 | -0.1397 |\n",
       "| Starch | -0.1137 | -0.0775 | -3.0691 | -0.1397 |  0.4061 |\n",
       "\n"
      ],
      "text/plain": [
       "            Amylose Fat     GrossEnergy Protein Starch \n",
       "Amylose      1.4078  0.0341  1.9477      0.0483 -0.1137\n",
       "Fat          0.0341  0.0386  0.8854      0.0064 -0.0775\n",
       "GrossEnergy  1.9477  0.8854 47.0912      1.0434 -3.0691\n",
       "Protein      0.0483  0.0064  1.0434      0.1013 -0.1397\n",
       "Starch      -0.1137 -0.0775 -3.0691     -0.1397  0.4061"
      ]
     },
     "metadata": {},
     "output_type": "display_data"
    },
    {
     "name": "stdout",
     "output_type": "stream",
     "text": [
      "[1] \"--------------------------------------\"\n",
      "[1] \"Genetic correlation for Residuals\"\n"
     ]
    },
    {
     "data": {
      "text/html": [
       "<table>\n",
       "<thead><tr><th></th><th scope=col>Amylose</th><th scope=col>Fat</th><th scope=col>GrossEnergy</th><th scope=col>Protein</th><th scope=col>Starch</th></tr></thead>\n",
       "<tbody>\n",
       "\t<tr><th scope=row>Amylose</th><td> 1.0000000</td><td> 0.1462818</td><td> 0.2392113</td><td> 0.1279004</td><td>-0.1503743</td></tr>\n",
       "\t<tr><th scope=row>Fat</th><td> 0.1462818</td><td> 1.0000000</td><td> 0.6567136</td><td> 0.1023485</td><td>-0.6190013</td></tr>\n",
       "\t<tr><th scope=row>GrossEnergy</th><td> 0.2392113</td><td> 0.6567136</td><td> 1.0000000</td><td> 0.4777231</td><td>-0.7018183</td></tr>\n",
       "\t<tr><th scope=row>Protein</th><td> 0.1279004</td><td> 0.1023485</td><td> 0.4777231</td><td> 1.0000000</td><td>-0.6887715</td></tr>\n",
       "\t<tr><th scope=row>Starch</th><td>-0.1503743</td><td>-0.6190013</td><td>-0.7018183</td><td>-0.6887715</td><td> 1.0000000</td></tr>\n",
       "</tbody>\n",
       "</table>\n"
      ],
      "text/latex": [
       "\\begin{tabular}{r|lllll}\n",
       "  & Amylose & Fat & GrossEnergy & Protein & Starch\\\\\n",
       "\\hline\n",
       "\tAmylose &  1.0000000 &  0.1462818 &  0.2392113 &  0.1279004 & -0.1503743\\\\\n",
       "\tFat &  0.1462818 &  1.0000000 &  0.6567136 &  0.1023485 & -0.6190013\\\\\n",
       "\tGrossEnergy &  0.2392113 &  0.6567136 &  1.0000000 &  0.4777231 & -0.7018183\\\\\n",
       "\tProtein &  0.1279004 &  0.1023485 &  0.4777231 &  1.0000000 & -0.6887715\\\\\n",
       "\tStarch & -0.1503743 & -0.6190013 & -0.7018183 & -0.6887715 &  1.0000000\\\\\n",
       "\\end{tabular}\n"
      ],
      "text/markdown": [
       "\n",
       "| <!--/--> | Amylose | Fat | GrossEnergy | Protein | Starch |\n",
       "|---|---|---|---|---|---|\n",
       "| Amylose |  1.0000000 |  0.1462818 |  0.2392113 |  0.1279004 | -0.1503743 |\n",
       "| Fat |  0.1462818 |  1.0000000 |  0.6567136 |  0.1023485 | -0.6190013 |\n",
       "| GrossEnergy |  0.2392113 |  0.6567136 |  1.0000000 |  0.4777231 | -0.7018183 |\n",
       "| Protein |  0.1279004 |  0.1023485 |  0.4777231 |  1.0000000 | -0.6887715 |\n",
       "| Starch | -0.1503743 | -0.6190013 | -0.7018183 | -0.6887715 |  1.0000000 |\n",
       "\n"
      ],
      "text/plain": [
       "            Amylose    Fat        GrossEnergy Protein    Starch    \n",
       "Amylose      1.0000000  0.1462818  0.2392113   0.1279004 -0.1503743\n",
       "Fat          0.1462818  1.0000000  0.6567136   0.1023485 -0.6190013\n",
       "GrossEnergy  0.2392113  0.6567136  1.0000000   0.4777231 -0.7018183\n",
       "Protein      0.1279004  0.1023485  0.4777231   1.0000000 -0.6887715\n",
       "Starch      -0.1503743 -0.6190013 -0.7018183  -0.6887715  1.0000000"
      ]
     },
     "metadata": {},
     "output_type": "display_data"
    },
    {
     "name": "stdout",
     "output_type": "stream",
     "text": [
      "[1] \"--------------------------------------\"\n"
     ]
    }
   ],
   "source": [
    "COV_Residual <- fm$vare\n",
    "rownames(COV_Residual) <- colnames(COV_Residual)\n",
    "print('Genetic Covariance for Residuals')\n",
    "COV_Residual\n",
    "print('--------------------------------------')\n",
    "COR_Residual <- cov2cor(COV_Residual)\n",
    "rownames(COR_Residual) <- colnames(COR_Residual)\n",
    "print('Genetic correlation for Residuals')\n",
    "COR_Residual\n",
    "print('--------------------------------------')"
   ]
  },
  {
   "cell_type": "code",
   "execution_count": 12,
   "metadata": {},
   "outputs": [
    {
     "data": {
      "text/html": [
       "<table>\n",
       "<thead><tr><th></th><th scope=col>Amylose</th><th scope=col>Fat</th><th scope=col>GrossEnergy</th><th scope=col>Protein</th><th scope=col>Starch</th></tr></thead>\n",
       "<tbody>\n",
       "\t<tr><th scope=row>Amylose</th><td> 0.97384654</td><td>-0.3906858 </td><td> 0.04520961</td><td>-0.1824183 </td><td> 0.3651056 </td></tr>\n",
       "\t<tr><th scope=row>Fat</th><td>-0.36344294</td><td> 0.9320934 </td><td> 0.68014471</td><td> 0.1865270 </td><td>-0.5408317 </td></tr>\n",
       "\t<tr><th scope=row>GrossEnergy</th><td> 0.03620693</td><td> 0.6060247 </td><td> 0.88613153</td><td> 0.3918961 </td><td>-0.5686768 </td></tr>\n",
       "\t<tr><th scope=row>Protein</th><td>-0.17744979</td><td> 0.1976160 </td><td> 0.46184287</td><td> 0.9723111 </td><td>-0.7944557 </td></tr>\n",
       "\t<tr><th scope=row>Starch</th><td> 0.33026401</td><td>-0.5280223 </td><td>-0.62473756</td><td>-0.7371192 </td><td> 0.9358518 </td></tr>\n",
       "</tbody>\n",
       "</table>\n"
      ],
      "text/latex": [
       "\\begin{tabular}{r|lllll}\n",
       "  & Amylose & Fat & GrossEnergy & Protein & Starch\\\\\n",
       "\\hline\n",
       "\tAmylose &  0.97384654 & -0.3906858  &  0.04520961 & -0.1824183  &  0.3651056 \\\\\n",
       "\tFat & -0.36344294 &  0.9320934  &  0.68014471 &  0.1865270  & -0.5408317 \\\\\n",
       "\tGrossEnergy &  0.03620693 &  0.6060247  &  0.88613153 &  0.3918961  & -0.5686768 \\\\\n",
       "\tProtein & -0.17744979 &  0.1976160  &  0.46184287 &  0.9723111  & -0.7944557 \\\\\n",
       "\tStarch &  0.33026401 & -0.5280223  & -0.62473756 & -0.7371192  &  0.9358518 \\\\\n",
       "\\end{tabular}\n"
      ],
      "text/markdown": [
       "\n",
       "| <!--/--> | Amylose | Fat | GrossEnergy | Protein | Starch |\n",
       "|---|---|---|---|---|---|\n",
       "| Amylose |  0.97384654 | -0.3906858  |  0.04520961 | -0.1824183  |  0.3651056  |\n",
       "| Fat | -0.36344294 |  0.9320934  |  0.68014471 |  0.1865270  | -0.5408317  |\n",
       "| GrossEnergy |  0.03620693 |  0.6060247  |  0.88613153 |  0.3918961  | -0.5686768  |\n",
       "| Protein | -0.17744979 |  0.1976160  |  0.46184287 |  0.9723111  | -0.7944557  |\n",
       "| Starch |  0.33026401 | -0.5280223  | -0.62473756 | -0.7371192  |  0.9358518  |\n",
       "\n"
      ],
      "text/plain": [
       "            Amylose     Fat        GrossEnergy Protein    Starch    \n",
       "Amylose      0.97384654 -0.3906858  0.04520961 -0.1824183  0.3651056\n",
       "Fat         -0.36344294  0.9320934  0.68014471  0.1865270 -0.5408317\n",
       "GrossEnergy  0.03620693  0.6060247  0.88613153  0.3918961 -0.5686768\n",
       "Protein     -0.17744979  0.1976160  0.46184287  0.9723111 -0.7944557\n",
       "Starch       0.33026401 -0.5280223 -0.62473756 -0.7371192  0.9358518"
      ]
     },
     "metadata": {},
     "output_type": "display_data"
    }
   ],
   "source": [
    "cor(fm$Y,fm$yHat,use='complete')"
   ]
  },
  {
   "cell_type": "code",
   "execution_count": null,
   "metadata": {},
   "outputs": [],
   "source": []
  }
 ],
 "metadata": {
  "kernelspec": {
   "display_name": "R 3.6.0",
   "language": "R",
   "name": "ir360"
  },
  "language_info": {
   "codemirror_mode": "r",
   "file_extension": ".r",
   "mimetype": "text/x-r-source",
   "name": "R",
   "pygments_lexer": "r",
   "version": "3.6.0"
  }
 },
 "nbformat": 4,
 "nbformat_minor": 2
}
