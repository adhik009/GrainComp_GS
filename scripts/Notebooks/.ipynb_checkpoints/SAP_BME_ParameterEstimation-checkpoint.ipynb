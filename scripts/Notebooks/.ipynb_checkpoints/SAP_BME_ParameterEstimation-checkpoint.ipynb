{
 "cells": [
  {
   "cell_type": "markdown",
   "metadata": {},
   "source": [
    "## Parameter Estimation using the BME function in BMTME package"
   ]
  },
  {
   "cell_type": "code",
   "execution_count": 38,
   "metadata": {},
   "outputs": [],
   "source": [
    "##Fit multi trait multi environment models using BMTME package\n",
    ".libPaths(c('/home/ssapkot/.conda/envs/r_env_360/lib', .libPaths()))\n",
    "#install.packages(\"BMTME\",repos='http://cran.us.r-project.org', dependencies = TRUE)\n",
    "library(BGLR)\n",
    "library(lme4)\n",
    "#library(doMC)\n",
    "#library(foreach)\n",
    "library(coda)\n",
    "library(tidyverse)\n",
    "library(ggplot2)\n",
    "library(BMTME)\n",
    "\n",
    "setwd(\"/panicle/ssapkot/git_repo/GrainComp_GS/\")"
   ]
  },
  {
   "cell_type": "markdown",
   "metadata": {},
   "source": [
    "## Population: GSDP"
   ]
  },
  {
   "cell_type": "code",
   "execution_count": 33,
   "metadata": {},
   "outputs": [
    {
     "name": "stdout",
     "output_type": "stream",
     "text": [
      "[1] \"Number of iterations in the chain:\"\n"
     ]
    },
    {
     "data": {
      "text/html": [
       "25000"
      ],
      "text/latex": [
       "25000"
      ],
      "text/markdown": [
       "25000"
      ],
      "text/plain": [
       "[1] 25000"
      ]
     },
     "metadata": {},
     "output_type": "display_data"
    },
    {
     "name": "stdout",
     "output_type": "stream",
     "text": [
      "[1] \"Number of burnIns in the chain:\"\n"
     ]
    },
    {
     "data": {
      "text/html": [
       "15000"
      ],
      "text/latex": [
       "15000"
      ],
      "text/markdown": [
       "15000"
      ],
      "text/plain": [
       "[1] 15000"
      ]
     },
     "metadata": {},
     "output_type": "display_data"
    },
    {
     "name": "stdout",
     "output_type": "stream",
     "text": [
      "[1] \"Estimated parameters:\"\n"
     ]
    },
    {
     "data": {
      "text/html": [
       "<table>\n",
       "<tbody>\n",
       "\t<tr><td>Y          </td><td>nIter      </td><td>burnIn     </td><td>thin       </td><td>dfe        </td><td>Se         </td><td>yHat       </td><td>SD.yHat    </td><td>beta       </td><td>SD.beta    </td><td>b1         </td><td>SD.b1      </td><td>vare       </td><td>SD.vare    </td><td>varTrait   </td><td>SD.varTrait</td><td>NAvalues   </td></tr>\n",
       "</tbody>\n",
       "</table>\n"
      ],
      "text/latex": [
       "\\begin{tabular}{lllllllllllllllll}\n",
       "\t Y           & nIter       & burnIn      & thin        & dfe         & Se          & yHat        & SD.yHat     & beta        & SD.beta     & b1          & SD.b1       & vare        & SD.vare     & varTrait    & SD.varTrait & NAvalues   \\\\\n",
       "\\end{tabular}\n"
      ],
      "text/markdown": [
       "\n",
       "| Y           | nIter       | burnIn      | thin        | dfe         | Se          | yHat        | SD.yHat     | beta        | SD.beta     | b1          | SD.b1       | vare        | SD.vare     | varTrait    | SD.varTrait | NAvalues    |\n",
       "\n"
      ],
      "text/plain": [
       "     [,1] [,2]  [,3]   [,4] [,5] [,6] [,7] [,8]    [,9] [,10]   [,11] [,12]\n",
       "[1,] Y    nIter burnIn thin dfe  Se   yHat SD.yHat beta SD.beta b1    SD.b1\n",
       "     [,13] [,14]   [,15]    [,16]       [,17]   \n",
       "[1,] vare  SD.vare varTrait SD.varTrait NAvalues"
      ]
     },
     "metadata": {},
     "output_type": "display_data"
    }
   ],
   "source": [
    "fm <- readRDS('results/BME/SAP_BME_Amylose_Model.rds')\n",
    "print('Number of iterations in the chain:')\n",
    "fm$nIter\n",
    "print('Number of burnIns in the chain:')\n",
    "fm$burnIn\n",
    "print('Estimated parameters:')\n",
    "t(names(fm))"
   ]
  },
  {
   "cell_type": "markdown",
   "metadata": {},
   "source": [
    "#### Beta coefficients for each trait"
   ]
  },
  {
   "cell_type": "code",
   "execution_count": 39,
   "metadata": {},
   "outputs": [
    {
     "name": "stdout",
     "output_type": "stream",
     "text": [
      "[1] \"Estimates and SD of beta coefficients\"\n"
     ]
    },
    {
     "data": {
      "text/html": [
       "<table>\n",
       "<thead><tr><th></th><th scope=col>Trait</th><th scope=col>2013</th><th scope=col>2014</th><th scope=col>2017</th></tr></thead>\n",
       "<tbody>\n",
       "\t<tr><th scope=row>value</th><td>Amylose         </td><td>-6e-04 ± 0.0565 </td><td>0.034 ± 0.0792  </td><td>0.002 ± 0.0586  </td></tr>\n",
       "\t<tr><th scope=row>value</th><td>Fat             </td><td>0.0039 ± 0.0135 </td><td>0.005 ± 0.0171  </td><td>0.0108 ± 0.016  </td></tr>\n",
       "\t<tr><th scope=row>value</th><td>Gross_Energy    </td><td>-0.1583 ± 0.881 </td><td>-0.9212 ± 0.8636</td><td>1.132 ± 0.9483  </td></tr>\n",
       "\t<tr><th scope=row>value</th><td>Protein         </td><td>0.0023 ± 0.039  </td><td>-0.0313 ± 0.033 </td><td>0.0189 ± 0.0304 </td></tr>\n",
       "\t<tr><th scope=row>value</th><td>Starch          </td><td>0.0209 ± 0.0491 </td><td>0.0832 ± 0.0633 </td><td>-0.0147 ± 0.0654</td></tr>\n",
       "</tbody>\n",
       "</table>\n"
      ],
      "text/latex": [
       "\\begin{tabular}{r|llll}\n",
       "  & Trait & 2013 & 2014 & 2017\\\\\n",
       "\\hline\n",
       "\tvalue & Amylose          & -6e-04 ± 0.0565  & 0.034 ± 0.0792   & 0.002 ± 0.0586  \\\\\n",
       "\tvalue & Fat              & 0.0039 ± 0.0135  & 0.005 ± 0.0171   & 0.0108 ± 0.016  \\\\\n",
       "\tvalue & Gross\\_Energy   & -0.1583 ± 0.881  & -0.9212 ± 0.8636 & 1.132 ± 0.9483  \\\\\n",
       "\tvalue & Protein          & 0.0023 ± 0.039   & -0.0313 ± 0.033  & 0.0189 ± 0.0304 \\\\\n",
       "\tvalue & Starch           & 0.0209 ± 0.0491  & 0.0832 ± 0.0633  & -0.0147 ± 0.0654\\\\\n",
       "\\end{tabular}\n"
      ],
      "text/markdown": [
       "\n",
       "| <!--/--> | Trait | 2013 | 2014 | 2017 |\n",
       "|---|---|---|---|---|\n",
       "| value | Amylose          | -6e-04 ± 0.0565  | 0.034 ± 0.0792   | 0.002 ± 0.0586   |\n",
       "| value | Fat              | 0.0039 ± 0.0135  | 0.005 ± 0.0171   | 0.0108 ± 0.016   |\n",
       "| value | Gross_Energy     | -0.1583 ± 0.881  | -0.9212 ± 0.8636 | 1.132 ± 0.9483   |\n",
       "| value | Protein          | 0.0023 ± 0.039   | -0.0313 ± 0.033  | 0.0189 ± 0.0304  |\n",
       "| value | Starch           | 0.0209 ± 0.0491  | 0.0832 ± 0.0633  | -0.0147 ± 0.0654 |\n",
       "\n"
      ],
      "text/plain": [
       "      Trait        2013            2014             2017            \n",
       "value Amylose      -6e-04 ± 0.0565 0.034 ± 0.0792   0.002 ± 0.0586  \n",
       "value Fat          0.0039 ± 0.0135 0.005 ± 0.0171   0.0108 ± 0.016  \n",
       "value Gross_Energy -0.1583 ± 0.881 -0.9212 ± 0.8636 1.132 ± 0.9483  \n",
       "value Protein      0.0023 ± 0.039  -0.0313 ± 0.033  0.0189 ± 0.0304 \n",
       "value Starch       0.0209 ± 0.0491 0.0832 ± 0.0633  -0.0147 ± 0.0654"
      ]
     },
     "metadata": {},
     "output_type": "display_data"
    }
   ],
   "source": [
    "setwd('results/BME/')\n",
    "Traits <- c('Amylose','Fat','Gross_Energy','Protein','Starch')\n",
    "beta <- c()\n",
    "for (i in 1:length(Traits)){\n",
    "    trait <- Traits[i]\n",
    "    fm <- readRDS(file=paste0('SAP_BME_',trait,'_Model.rds'))\n",
    "    m.b <- fm$beta\n",
    "    sd.b <- fm$SD.beta\n",
    "    value <- c(trait,paste0(m.b,' ± ',sd.b))\n",
    "    beta <- rbind(beta, value)\n",
    "    }\n",
    "colnames(beta) <- c('Trait','2013','2014','2017')\n",
    "\n",
    "print('Estimates and SD of beta coefficients')\n",
    "beta\n",
    "setwd('../../')"
   ]
  },
  {
   "cell_type": "markdown",
   "metadata": {},
   "source": [
    "### Amylose"
   ]
  },
  {
   "cell_type": "markdown",
   "metadata": {},
   "source": [
    "#### Variance-covariance for Environment"
   ]
  },
  {
   "cell_type": "code",
   "execution_count": 40,
   "metadata": {},
   "outputs": [
    {
     "name": "stdout",
     "output_type": "stream",
     "text": [
      "[1] \"Genetic Covariance between Environments\"\n"
     ]
    },
    {
     "data": {
      "text/html": [
       "<table>\n",
       "<thead><tr><th></th><th scope=col>Amylose2013</th><th scope=col>Amylose2014</th><th scope=col>Amylose2017</th></tr></thead>\n",
       "<tbody>\n",
       "\t<tr><th scope=row>Amylose2013</th><td> 0.5698</td><td> 0.3426</td><td>-0.0411</td></tr>\n",
       "\t<tr><th scope=row>Amylose2014</th><td> 0.3426</td><td> 1.0684</td><td>-0.0761</td></tr>\n",
       "\t<tr><th scope=row>Amylose2017</th><td>-0.0411</td><td>-0.0761</td><td> 0.3014</td></tr>\n",
       "</tbody>\n",
       "</table>\n"
      ],
      "text/latex": [
       "\\begin{tabular}{r|lll}\n",
       "  & Amylose2013 & Amylose2014 & Amylose2017\\\\\n",
       "\\hline\n",
       "\tAmylose2013 &  0.5698 &  0.3426 & -0.0411\\\\\n",
       "\tAmylose2014 &  0.3426 &  1.0684 & -0.0761\\\\\n",
       "\tAmylose2017 & -0.0411 & -0.0761 &  0.3014\\\\\n",
       "\\end{tabular}\n"
      ],
      "text/markdown": [
       "\n",
       "| <!--/--> | Amylose2013 | Amylose2014 | Amylose2017 |\n",
       "|---|---|---|---|\n",
       "| Amylose2013 |  0.5698 |  0.3426 | -0.0411 |\n",
       "| Amylose2014 |  0.3426 |  1.0684 | -0.0761 |\n",
       "| Amylose2017 | -0.0411 | -0.0761 |  0.3014 |\n",
       "\n"
      ],
      "text/plain": [
       "            Amylose2013 Amylose2014 Amylose2017\n",
       "Amylose2013  0.5698      0.3426     -0.0411    \n",
       "Amylose2014  0.3426      1.0684     -0.0761    \n",
       "Amylose2017 -0.0411     -0.0761      0.3014    "
      ]
     },
     "metadata": {},
     "output_type": "display_data"
    },
    {
     "name": "stdout",
     "output_type": "stream",
     "text": [
      "[1] \"--------------------------------------\"\n",
      "[1] \"Genetic correlation between Environments\"\n"
     ]
    },
    {
     "data": {
      "text/html": [
       "<table>\n",
       "<thead><tr><th></th><th scope=col>Amylose2013</th><th scope=col>Amylose2014</th><th scope=col>Amylose2017</th></tr></thead>\n",
       "<tbody>\n",
       "\t<tr><th scope=row>Amylose2013</th><td> 1.00000000</td><td> 0.4390957 </td><td>-0.09917655</td></tr>\n",
       "\t<tr><th scope=row>Amylose2014</th><td> 0.43909571</td><td> 1.0000000 </td><td>-0.13410535</td></tr>\n",
       "\t<tr><th scope=row>Amylose2017</th><td>-0.09917655</td><td>-0.1341053 </td><td> 1.00000000</td></tr>\n",
       "</tbody>\n",
       "</table>\n"
      ],
      "text/latex": [
       "\\begin{tabular}{r|lll}\n",
       "  & Amylose2013 & Amylose2014 & Amylose2017\\\\\n",
       "\\hline\n",
       "\tAmylose2013 &  1.00000000 &  0.4390957  & -0.09917655\\\\\n",
       "\tAmylose2014 &  0.43909571 &  1.0000000  & -0.13410535\\\\\n",
       "\tAmylose2017 & -0.09917655 & -0.1341053  &  1.00000000\\\\\n",
       "\\end{tabular}\n"
      ],
      "text/markdown": [
       "\n",
       "| <!--/--> | Amylose2013 | Amylose2014 | Amylose2017 |\n",
       "|---|---|---|---|\n",
       "| Amylose2013 |  1.00000000 |  0.4390957  | -0.09917655 |\n",
       "| Amylose2014 |  0.43909571 |  1.0000000  | -0.13410535 |\n",
       "| Amylose2017 | -0.09917655 | -0.1341053  |  1.00000000 |\n",
       "\n"
      ],
      "text/plain": [
       "            Amylose2013 Amylose2014 Amylose2017\n",
       "Amylose2013  1.00000000  0.4390957  -0.09917655\n",
       "Amylose2014  0.43909571  1.0000000  -0.13410535\n",
       "Amylose2017 -0.09917655 -0.1341053   1.00000000"
      ]
     },
     "metadata": {},
     "output_type": "display_data"
    },
    {
     "name": "stdout",
     "output_type": "stream",
     "text": [
      "[1] \"--------------------------------------\"\n"
     ]
    }
   ],
   "source": [
    "fm <- readRDS('results/BME/SAP_BME_Amylose_Model.rds')\n",
    "\n",
    "COV_TraitGenetic <- fm$varTrait\n",
    "rownames(COV_TraitGenetic) <- colnames(COV_TraitGenetic)\n",
    "print('Genetic Covariance between Environments')\n",
    "COV_TraitGenetic\n",
    "print('--------------------------------------')\n",
    "COR_TraitGenetic <- cov2cor(COV_TraitGenetic)\n",
    "rownames(COR_TraitGenetic) <- colnames(COR_TraitGenetic)\n",
    "print('Genetic correlation between Environments')\n",
    "COR_TraitGenetic\n",
    "print('--------------------------------------')"
   ]
  },
  {
   "cell_type": "markdown",
   "metadata": {},
   "source": [
    "#### Variance-covariance for Residuals"
   ]
  },
  {
   "cell_type": "code",
   "execution_count": 41,
   "metadata": {},
   "outputs": [
    {
     "name": "stdout",
     "output_type": "stream",
     "text": [
      "[1] \"Genetic Covariance for Residuals\"\n"
     ]
    },
    {
     "data": {
      "text/html": [
       "<table>\n",
       "<thead><tr><th></th><th scope=col>Amylose2013</th><th scope=col>Amylose2014</th><th scope=col>Amylose2017</th></tr></thead>\n",
       "<tbody>\n",
       "\t<tr><th scope=row>Amylose2013</th><td>1.0562</td><td>0.6578</td><td>0.2979</td></tr>\n",
       "\t<tr><th scope=row>Amylose2014</th><td>0.6578</td><td>2.1115</td><td>0.4076</td></tr>\n",
       "\t<tr><th scope=row>Amylose2017</th><td>0.2979</td><td>0.4076</td><td>1.1285</td></tr>\n",
       "</tbody>\n",
       "</table>\n"
      ],
      "text/latex": [
       "\\begin{tabular}{r|lll}\n",
       "  & Amylose2013 & Amylose2014 & Amylose2017\\\\\n",
       "\\hline\n",
       "\tAmylose2013 & 1.0562 & 0.6578 & 0.2979\\\\\n",
       "\tAmylose2014 & 0.6578 & 2.1115 & 0.4076\\\\\n",
       "\tAmylose2017 & 0.2979 & 0.4076 & 1.1285\\\\\n",
       "\\end{tabular}\n"
      ],
      "text/markdown": [
       "\n",
       "| <!--/--> | Amylose2013 | Amylose2014 | Amylose2017 |\n",
       "|---|---|---|---|\n",
       "| Amylose2013 | 1.0562 | 0.6578 | 0.2979 |\n",
       "| Amylose2014 | 0.6578 | 2.1115 | 0.4076 |\n",
       "| Amylose2017 | 0.2979 | 0.4076 | 1.1285 |\n",
       "\n"
      ],
      "text/plain": [
       "            Amylose2013 Amylose2014 Amylose2017\n",
       "Amylose2013 1.0562      0.6578      0.2979     \n",
       "Amylose2014 0.6578      2.1115      0.4076     \n",
       "Amylose2017 0.2979      0.4076      1.1285     "
      ]
     },
     "metadata": {},
     "output_type": "display_data"
    },
    {
     "name": "stdout",
     "output_type": "stream",
     "text": [
      "[1] \"--------------------------------------\"\n",
      "[1] \"Genetic correlation for Residuals\"\n"
     ]
    },
    {
     "data": {
      "text/html": [
       "<table>\n",
       "<thead><tr><th></th><th scope=col>Amylose2013</th><th scope=col>Amylose2014</th><th scope=col>Amylose2017</th></tr></thead>\n",
       "<tbody>\n",
       "\t<tr><th scope=row>Amylose2013</th><td>1.0000000</td><td>0.440479 </td><td>0.2728643</td></tr>\n",
       "\t<tr><th scope=row>Amylose2014</th><td>0.4404790</td><td>1.000000 </td><td>0.2640510</td></tr>\n",
       "\t<tr><th scope=row>Amylose2017</th><td>0.2728643</td><td>0.264051 </td><td>1.0000000</td></tr>\n",
       "</tbody>\n",
       "</table>\n"
      ],
      "text/latex": [
       "\\begin{tabular}{r|lll}\n",
       "  & Amylose2013 & Amylose2014 & Amylose2017\\\\\n",
       "\\hline\n",
       "\tAmylose2013 & 1.0000000 & 0.440479  & 0.2728643\\\\\n",
       "\tAmylose2014 & 0.4404790 & 1.000000  & 0.2640510\\\\\n",
       "\tAmylose2017 & 0.2728643 & 0.264051  & 1.0000000\\\\\n",
       "\\end{tabular}\n"
      ],
      "text/markdown": [
       "\n",
       "| <!--/--> | Amylose2013 | Amylose2014 | Amylose2017 |\n",
       "|---|---|---|---|\n",
       "| Amylose2013 | 1.0000000 | 0.440479  | 0.2728643 |\n",
       "| Amylose2014 | 0.4404790 | 1.000000  | 0.2640510 |\n",
       "| Amylose2017 | 0.2728643 | 0.264051  | 1.0000000 |\n",
       "\n"
      ],
      "text/plain": [
       "            Amylose2013 Amylose2014 Amylose2017\n",
       "Amylose2013 1.0000000   0.440479    0.2728643  \n",
       "Amylose2014 0.4404790   1.000000    0.2640510  \n",
       "Amylose2017 0.2728643   0.264051    1.0000000  "
      ]
     },
     "metadata": {},
     "output_type": "display_data"
    },
    {
     "name": "stdout",
     "output_type": "stream",
     "text": [
      "[1] \"--------------------------------------\"\n"
     ]
    }
   ],
   "source": [
    "COV_Residual <- fm$vare\n",
    "rownames(COV_Residual) <- colnames(COV_Residual)\n",
    "print('Genetic Covariance for Residuals')\n",
    "COV_Residual\n",
    "print('--------------------------------------')\n",
    "COR_Residual <- cov2cor(COV_Residual)\n",
    "rownames(COR_Residual) <- colnames(COR_Residual)\n",
    "print('Genetic correlation for Residuals')\n",
    "COR_Residual\n",
    "print('--------------------------------------')"
   ]
  },
  {
   "cell_type": "markdown",
   "metadata": {},
   "source": [
    "### Fat"
   ]
  },
  {
   "cell_type": "code",
   "execution_count": 42,
   "metadata": {},
   "outputs": [
    {
     "name": "stdout",
     "output_type": "stream",
     "text": [
      "[1] \"Genetic Covariance between Environments\"\n"
     ]
    },
    {
     "data": {
      "text/html": [
       "<table>\n",
       "<thead><tr><th></th><th scope=col>Fat2013</th><th scope=col>Fat2014</th><th scope=col>Fat2017</th></tr></thead>\n",
       "<tbody>\n",
       "\t<tr><th scope=row>Fat2013</th><td>0.0893</td><td>0.0607</td><td>0.0331</td></tr>\n",
       "\t<tr><th scope=row>Fat2014</th><td>0.0607</td><td>0.0864</td><td>0.0424</td></tr>\n",
       "\t<tr><th scope=row>Fat2017</th><td>0.0331</td><td>0.0424</td><td>0.0455</td></tr>\n",
       "</tbody>\n",
       "</table>\n"
      ],
      "text/latex": [
       "\\begin{tabular}{r|lll}\n",
       "  & Fat2013 & Fat2014 & Fat2017\\\\\n",
       "\\hline\n",
       "\tFat2013 & 0.0893 & 0.0607 & 0.0331\\\\\n",
       "\tFat2014 & 0.0607 & 0.0864 & 0.0424\\\\\n",
       "\tFat2017 & 0.0331 & 0.0424 & 0.0455\\\\\n",
       "\\end{tabular}\n"
      ],
      "text/markdown": [
       "\n",
       "| <!--/--> | Fat2013 | Fat2014 | Fat2017 |\n",
       "|---|---|---|---|\n",
       "| Fat2013 | 0.0893 | 0.0607 | 0.0331 |\n",
       "| Fat2014 | 0.0607 | 0.0864 | 0.0424 |\n",
       "| Fat2017 | 0.0331 | 0.0424 | 0.0455 |\n",
       "\n"
      ],
      "text/plain": [
       "        Fat2013 Fat2014 Fat2017\n",
       "Fat2013 0.0893  0.0607  0.0331 \n",
       "Fat2014 0.0607  0.0864  0.0424 \n",
       "Fat2017 0.0331  0.0424  0.0455 "
      ]
     },
     "metadata": {},
     "output_type": "display_data"
    },
    {
     "name": "stdout",
     "output_type": "stream",
     "text": [
      "[1] \"--------------------------------------\"\n",
      "[1] \"Genetic correlation between Environments\"\n"
     ]
    },
    {
     "data": {
      "text/html": [
       "<table>\n",
       "<thead><tr><th></th><th scope=col>Fat2013</th><th scope=col>Fat2014</th><th scope=col>Fat2017</th></tr></thead>\n",
       "<tbody>\n",
       "\t<tr><th scope=row>Fat2013</th><td>1.0000000</td><td>0.6910446</td><td>0.5192740</td></tr>\n",
       "\t<tr><th scope=row>Fat2014</th><td>0.6910446</td><td>1.0000000</td><td>0.6762438</td></tr>\n",
       "\t<tr><th scope=row>Fat2017</th><td>0.5192740</td><td>0.6762438</td><td>1.0000000</td></tr>\n",
       "</tbody>\n",
       "</table>\n"
      ],
      "text/latex": [
       "\\begin{tabular}{r|lll}\n",
       "  & Fat2013 & Fat2014 & Fat2017\\\\\n",
       "\\hline\n",
       "\tFat2013 & 1.0000000 & 0.6910446 & 0.5192740\\\\\n",
       "\tFat2014 & 0.6910446 & 1.0000000 & 0.6762438\\\\\n",
       "\tFat2017 & 0.5192740 & 0.6762438 & 1.0000000\\\\\n",
       "\\end{tabular}\n"
      ],
      "text/markdown": [
       "\n",
       "| <!--/--> | Fat2013 | Fat2014 | Fat2017 |\n",
       "|---|---|---|---|\n",
       "| Fat2013 | 1.0000000 | 0.6910446 | 0.5192740 |\n",
       "| Fat2014 | 0.6910446 | 1.0000000 | 0.6762438 |\n",
       "| Fat2017 | 0.5192740 | 0.6762438 | 1.0000000 |\n",
       "\n"
      ],
      "text/plain": [
       "        Fat2013   Fat2014   Fat2017  \n",
       "Fat2013 1.0000000 0.6910446 0.5192740\n",
       "Fat2014 0.6910446 1.0000000 0.6762438\n",
       "Fat2017 0.5192740 0.6762438 1.0000000"
      ]
     },
     "metadata": {},
     "output_type": "display_data"
    },
    {
     "name": "stdout",
     "output_type": "stream",
     "text": [
      "[1] \"--------------------------------------\"\n",
      "[1] \"Variance-covariance for Residuals\"\n",
      "[1] \"Genetic Covariance for Residuals\"\n"
     ]
    },
    {
     "data": {
      "text/html": [
       "<table>\n",
       "<thead><tr><th></th><th scope=col>Fat2013</th><th scope=col>Fat2014</th><th scope=col>Fat2017</th></tr></thead>\n",
       "<tbody>\n",
       "\t<tr><th scope=row>Fat2013</th><td>0.0512</td><td>0.0362</td><td>0.0341</td></tr>\n",
       "\t<tr><th scope=row>Fat2014</th><td>0.0362</td><td>0.0907</td><td>0.0470</td></tr>\n",
       "\t<tr><th scope=row>Fat2017</th><td>0.0341</td><td>0.0470</td><td>0.0839</td></tr>\n",
       "</tbody>\n",
       "</table>\n"
      ],
      "text/latex": [
       "\\begin{tabular}{r|lll}\n",
       "  & Fat2013 & Fat2014 & Fat2017\\\\\n",
       "\\hline\n",
       "\tFat2013 & 0.0512 & 0.0362 & 0.0341\\\\\n",
       "\tFat2014 & 0.0362 & 0.0907 & 0.0470\\\\\n",
       "\tFat2017 & 0.0341 & 0.0470 & 0.0839\\\\\n",
       "\\end{tabular}\n"
      ],
      "text/markdown": [
       "\n",
       "| <!--/--> | Fat2013 | Fat2014 | Fat2017 |\n",
       "|---|---|---|---|\n",
       "| Fat2013 | 0.0512 | 0.0362 | 0.0341 |\n",
       "| Fat2014 | 0.0362 | 0.0907 | 0.0470 |\n",
       "| Fat2017 | 0.0341 | 0.0470 | 0.0839 |\n",
       "\n"
      ],
      "text/plain": [
       "        Fat2013 Fat2014 Fat2017\n",
       "Fat2013 0.0512  0.0362  0.0341 \n",
       "Fat2014 0.0362  0.0907  0.0470 \n",
       "Fat2017 0.0341  0.0470  0.0839 "
      ]
     },
     "metadata": {},
     "output_type": "display_data"
    },
    {
     "name": "stdout",
     "output_type": "stream",
     "text": [
      "[1] \"--------------------------------------\"\n",
      "[1] \"Genetic correlation for Residuals\"\n"
     ]
    },
    {
     "data": {
      "text/html": [
       "<table>\n",
       "<thead><tr><th></th><th scope=col>Fat2013</th><th scope=col>Fat2014</th><th scope=col>Fat2017</th></tr></thead>\n",
       "<tbody>\n",
       "\t<tr><th scope=row>Fat2013</th><td>1.0000000</td><td>0.5312145</td><td>0.5202815</td></tr>\n",
       "\t<tr><th scope=row>Fat2014</th><td>0.5312145</td><td>1.0000000</td><td>0.5387822</td></tr>\n",
       "\t<tr><th scope=row>Fat2017</th><td>0.5202815</td><td>0.5387822</td><td>1.0000000</td></tr>\n",
       "</tbody>\n",
       "</table>\n"
      ],
      "text/latex": [
       "\\begin{tabular}{r|lll}\n",
       "  & Fat2013 & Fat2014 & Fat2017\\\\\n",
       "\\hline\n",
       "\tFat2013 & 1.0000000 & 0.5312145 & 0.5202815\\\\\n",
       "\tFat2014 & 0.5312145 & 1.0000000 & 0.5387822\\\\\n",
       "\tFat2017 & 0.5202815 & 0.5387822 & 1.0000000\\\\\n",
       "\\end{tabular}\n"
      ],
      "text/markdown": [
       "\n",
       "| <!--/--> | Fat2013 | Fat2014 | Fat2017 |\n",
       "|---|---|---|---|\n",
       "| Fat2013 | 1.0000000 | 0.5312145 | 0.5202815 |\n",
       "| Fat2014 | 0.5312145 | 1.0000000 | 0.5387822 |\n",
       "| Fat2017 | 0.5202815 | 0.5387822 | 1.0000000 |\n",
       "\n"
      ],
      "text/plain": [
       "        Fat2013   Fat2014   Fat2017  \n",
       "Fat2013 1.0000000 0.5312145 0.5202815\n",
       "Fat2014 0.5312145 1.0000000 0.5387822\n",
       "Fat2017 0.5202815 0.5387822 1.0000000"
      ]
     },
     "metadata": {},
     "output_type": "display_data"
    },
    {
     "name": "stdout",
     "output_type": "stream",
     "text": [
      "[1] \"--------------------------------------\"\n"
     ]
    }
   ],
   "source": [
    "fm <- readRDS('results/BME/SAP_BME_Fat_Model.rds')\n",
    "COV_TraitGenetic <- fm$varTrait\n",
    "rownames(COV_TraitGenetic) <- colnames(COV_TraitGenetic)\n",
    "print('Genetic Covariance between Environments')\n",
    "COV_TraitGenetic\n",
    "print('--------------------------------------')\n",
    "COR_TraitGenetic <- cov2cor(COV_TraitGenetic)\n",
    "rownames(COR_TraitGenetic) <- colnames(COR_TraitGenetic)\n",
    "print('Genetic correlation between Environments')\n",
    "COR_TraitGenetic\n",
    "print('--------------------------------------')\n",
    "print('Variance-covariance for Residuals')\n",
    "COV_Residual <- fm$vare\n",
    "rownames(COV_Residual) <- colnames(COV_Residual)\n",
    "print('Genetic Covariance for Residuals')\n",
    "COV_Residual\n",
    "print('--------------------------------------')\n",
    "COR_Residual <- cov2cor(COV_Residual)\n",
    "rownames(COR_Residual) <- colnames(COR_Residual)\n",
    "print('Genetic correlation for Residuals')\n",
    "COR_Residual\n",
    "print('--------------------------------------')"
   ]
  },
  {
   "cell_type": "markdown",
   "metadata": {},
   "source": [
    "### Gross energy"
   ]
  },
  {
   "cell_type": "code",
   "execution_count": 44,
   "metadata": {},
   "outputs": [
    {
     "name": "stdout",
     "output_type": "stream",
     "text": [
      "[1] \"Genetic Covariance between Environments\"\n"
     ]
    },
    {
     "data": {
      "text/html": [
       "<table>\n",
       "<thead><tr><th></th><th scope=col>Gross_Energy2013</th><th scope=col>Gross_Energy2014</th><th scope=col>Gross_Energy2017</th></tr></thead>\n",
       "<tbody>\n",
       "\t<tr><th scope=row>Gross_Energy2013</th><td>432.3011</td><td>462.1604</td><td>361.0890</td></tr>\n",
       "\t<tr><th scope=row>Gross_Energy2014</th><td>462.1604</td><td>758.1919</td><td>460.5435</td></tr>\n",
       "\t<tr><th scope=row>Gross_Energy2017</th><td>361.0890</td><td>460.5435</td><td>443.5673</td></tr>\n",
       "</tbody>\n",
       "</table>\n"
      ],
      "text/latex": [
       "\\begin{tabular}{r|lll}\n",
       "  & Gross\\_Energy2013 & Gross\\_Energy2014 & Gross\\_Energy2017\\\\\n",
       "\\hline\n",
       "\tGross\\_Energy2013 & 432.3011 & 462.1604 & 361.0890\\\\\n",
       "\tGross\\_Energy2014 & 462.1604 & 758.1919 & 460.5435\\\\\n",
       "\tGross\\_Energy2017 & 361.0890 & 460.5435 & 443.5673\\\\\n",
       "\\end{tabular}\n"
      ],
      "text/markdown": [
       "\n",
       "| <!--/--> | Gross_Energy2013 | Gross_Energy2014 | Gross_Energy2017 |\n",
       "|---|---|---|---|\n",
       "| Gross_Energy2013 | 432.3011 | 462.1604 | 361.0890 |\n",
       "| Gross_Energy2014 | 462.1604 | 758.1919 | 460.5435 |\n",
       "| Gross_Energy2017 | 361.0890 | 460.5435 | 443.5673 |\n",
       "\n"
      ],
      "text/plain": [
       "                 Gross_Energy2013 Gross_Energy2014 Gross_Energy2017\n",
       "Gross_Energy2013 432.3011         462.1604         361.0890        \n",
       "Gross_Energy2014 462.1604         758.1919         460.5435        \n",
       "Gross_Energy2017 361.0890         460.5435         443.5673        "
      ]
     },
     "metadata": {},
     "output_type": "display_data"
    },
    {
     "name": "stdout",
     "output_type": "stream",
     "text": [
      "[1] \"--------------------------------------\"\n",
      "[1] \"Genetic correlation between Environments\"\n"
     ]
    },
    {
     "data": {
      "text/html": [
       "<table>\n",
       "<thead><tr><th></th><th scope=col>Gross_Energy2013</th><th scope=col>Gross_Energy2014</th><th scope=col>Gross_Energy2017</th></tr></thead>\n",
       "<tbody>\n",
       "\t<tr><th scope=row>Gross_Energy2013</th><td>1.0000000</td><td>0.8072536</td><td>0.8245962</td></tr>\n",
       "\t<tr><th scope=row>Gross_Energy2014</th><td>0.8072536</td><td>1.0000000</td><td>0.7941478</td></tr>\n",
       "\t<tr><th scope=row>Gross_Energy2017</th><td>0.8245962</td><td>0.7941478</td><td>1.0000000</td></tr>\n",
       "</tbody>\n",
       "</table>\n"
      ],
      "text/latex": [
       "\\begin{tabular}{r|lll}\n",
       "  & Gross\\_Energy2013 & Gross\\_Energy2014 & Gross\\_Energy2017\\\\\n",
       "\\hline\n",
       "\tGross\\_Energy2013 & 1.0000000 & 0.8072536 & 0.8245962\\\\\n",
       "\tGross\\_Energy2014 & 0.8072536 & 1.0000000 & 0.7941478\\\\\n",
       "\tGross\\_Energy2017 & 0.8245962 & 0.7941478 & 1.0000000\\\\\n",
       "\\end{tabular}\n"
      ],
      "text/markdown": [
       "\n",
       "| <!--/--> | Gross_Energy2013 | Gross_Energy2014 | Gross_Energy2017 |\n",
       "|---|---|---|---|\n",
       "| Gross_Energy2013 | 1.0000000 | 0.8072536 | 0.8245962 |\n",
       "| Gross_Energy2014 | 0.8072536 | 1.0000000 | 0.7941478 |\n",
       "| Gross_Energy2017 | 0.8245962 | 0.7941478 | 1.0000000 |\n",
       "\n"
      ],
      "text/plain": [
       "                 Gross_Energy2013 Gross_Energy2014 Gross_Energy2017\n",
       "Gross_Energy2013 1.0000000        0.8072536        0.8245962       \n",
       "Gross_Energy2014 0.8072536        1.0000000        0.7941478       \n",
       "Gross_Energy2017 0.8245962        0.7941478        1.0000000       "
      ]
     },
     "metadata": {},
     "output_type": "display_data"
    },
    {
     "name": "stdout",
     "output_type": "stream",
     "text": [
      "[1] \"--------------------------------------\"\n",
      "[1] \"Variance-covariance for Residuals\"\n",
      "[1] \"Genetic Covariance for Residuals\"\n"
     ]
    },
    {
     "data": {
      "text/html": [
       "<table>\n",
       "<thead><tr><th></th><th scope=col>Gross_Energy2013</th><th scope=col>Gross_Energy2014</th><th scope=col>Gross_Energy2017</th></tr></thead>\n",
       "<tbody>\n",
       "\t<tr><th scope=row>Gross_Energy2013</th><td>469.1503</td><td>204.5199</td><td>245.7517</td></tr>\n",
       "\t<tr><th scope=row>Gross_Energy2014</th><td>204.5199</td><td>562.6575</td><td>291.6920</td></tr>\n",
       "\t<tr><th scope=row>Gross_Energy2017</th><td>245.7517</td><td>291.6920</td><td>682.1634</td></tr>\n",
       "</tbody>\n",
       "</table>\n"
      ],
      "text/latex": [
       "\\begin{tabular}{r|lll}\n",
       "  & Gross\\_Energy2013 & Gross\\_Energy2014 & Gross\\_Energy2017\\\\\n",
       "\\hline\n",
       "\tGross\\_Energy2013 & 469.1503 & 204.5199 & 245.7517\\\\\n",
       "\tGross\\_Energy2014 & 204.5199 & 562.6575 & 291.6920\\\\\n",
       "\tGross\\_Energy2017 & 245.7517 & 291.6920 & 682.1634\\\\\n",
       "\\end{tabular}\n"
      ],
      "text/markdown": [
       "\n",
       "| <!--/--> | Gross_Energy2013 | Gross_Energy2014 | Gross_Energy2017 |\n",
       "|---|---|---|---|\n",
       "| Gross_Energy2013 | 469.1503 | 204.5199 | 245.7517 |\n",
       "| Gross_Energy2014 | 204.5199 | 562.6575 | 291.6920 |\n",
       "| Gross_Energy2017 | 245.7517 | 291.6920 | 682.1634 |\n",
       "\n"
      ],
      "text/plain": [
       "                 Gross_Energy2013 Gross_Energy2014 Gross_Energy2017\n",
       "Gross_Energy2013 469.1503         204.5199         245.7517        \n",
       "Gross_Energy2014 204.5199         562.6575         291.6920        \n",
       "Gross_Energy2017 245.7517         291.6920         682.1634        "
      ]
     },
     "metadata": {},
     "output_type": "display_data"
    },
    {
     "name": "stdout",
     "output_type": "stream",
     "text": [
      "[1] \"--------------------------------------\"\n",
      "[1] \"Genetic correlation for Residuals\"\n"
     ]
    },
    {
     "data": {
      "text/html": [
       "<table>\n",
       "<thead><tr><th></th><th scope=col>Gross_Energy2013</th><th scope=col>Gross_Energy2014</th><th scope=col>Gross_Energy2017</th></tr></thead>\n",
       "<tbody>\n",
       "\t<tr><th scope=row>Gross_Energy2013</th><td>1.0000000</td><td>0.3980682</td><td>0.4344065</td></tr>\n",
       "\t<tr><th scope=row>Gross_Energy2014</th><td>0.3980682</td><td>1.0000000</td><td>0.4708236</td></tr>\n",
       "\t<tr><th scope=row>Gross_Energy2017</th><td>0.4344065</td><td>0.4708236</td><td>1.0000000</td></tr>\n",
       "</tbody>\n",
       "</table>\n"
      ],
      "text/latex": [
       "\\begin{tabular}{r|lll}\n",
       "  & Gross\\_Energy2013 & Gross\\_Energy2014 & Gross\\_Energy2017\\\\\n",
       "\\hline\n",
       "\tGross\\_Energy2013 & 1.0000000 & 0.3980682 & 0.4344065\\\\\n",
       "\tGross\\_Energy2014 & 0.3980682 & 1.0000000 & 0.4708236\\\\\n",
       "\tGross\\_Energy2017 & 0.4344065 & 0.4708236 & 1.0000000\\\\\n",
       "\\end{tabular}\n"
      ],
      "text/markdown": [
       "\n",
       "| <!--/--> | Gross_Energy2013 | Gross_Energy2014 | Gross_Energy2017 |\n",
       "|---|---|---|---|\n",
       "| Gross_Energy2013 | 1.0000000 | 0.3980682 | 0.4344065 |\n",
       "| Gross_Energy2014 | 0.3980682 | 1.0000000 | 0.4708236 |\n",
       "| Gross_Energy2017 | 0.4344065 | 0.4708236 | 1.0000000 |\n",
       "\n"
      ],
      "text/plain": [
       "                 Gross_Energy2013 Gross_Energy2014 Gross_Energy2017\n",
       "Gross_Energy2013 1.0000000        0.3980682        0.4344065       \n",
       "Gross_Energy2014 0.3980682        1.0000000        0.4708236       \n",
       "Gross_Energy2017 0.4344065        0.4708236        1.0000000       "
      ]
     },
     "metadata": {},
     "output_type": "display_data"
    },
    {
     "name": "stdout",
     "output_type": "stream",
     "text": [
      "[1] \"--------------------------------------\"\n"
     ]
    }
   ],
   "source": [
    "fm <- readRDS('results/BME/SAP_BME_Gross_Energy_Model.rds')\n",
    "COV_TraitGenetic <- fm$varTrait\n",
    "rownames(COV_TraitGenetic) <- colnames(COV_TraitGenetic)\n",
    "print('Genetic Covariance between Environments')\n",
    "COV_TraitGenetic\n",
    "print('--------------------------------------')\n",
    "COR_TraitGenetic <- cov2cor(COV_TraitGenetic)\n",
    "rownames(COR_TraitGenetic) <- colnames(COR_TraitGenetic)\n",
    "print('Genetic correlation between Environments')\n",
    "COR_TraitGenetic\n",
    "print('--------------------------------------')\n",
    "print('Variance-covariance for Residuals')\n",
    "COV_Residual <- fm$vare\n",
    "rownames(COV_Residual) <- colnames(COV_Residual)\n",
    "print('Genetic Covariance for Residuals')\n",
    "COV_Residual\n",
    "print('--------------------------------------')\n",
    "COR_Residual <- cov2cor(COV_Residual)\n",
    "rownames(COR_Residual) <- colnames(COR_Residual)\n",
    "print('Genetic correlation for Residuals')\n",
    "COR_Residual\n",
    "print('--------------------------------------')"
   ]
  },
  {
   "cell_type": "markdown",
   "metadata": {},
   "source": [
    "### Protein"
   ]
  },
  {
   "cell_type": "code",
   "execution_count": 45,
   "metadata": {},
   "outputs": [
    {
     "name": "stdout",
     "output_type": "stream",
     "text": [
      "[1] \"Genetic Covariance between Environments\"\n"
     ]
    },
    {
     "data": {
      "text/html": [
       "<table>\n",
       "<thead><tr><th></th><th scope=col>Protein2013</th><th scope=col>Protein2014</th><th scope=col>Protein2017</th></tr></thead>\n",
       "<tbody>\n",
       "\t<tr><th scope=row>Protein2013</th><td>0.2424</td><td>0.1835</td><td>0.1413</td></tr>\n",
       "\t<tr><th scope=row>Protein2014</th><td>0.1835</td><td>0.2889</td><td>0.1533</td></tr>\n",
       "\t<tr><th scope=row>Protein2017</th><td>0.1413</td><td>0.1533</td><td>0.1610</td></tr>\n",
       "</tbody>\n",
       "</table>\n"
      ],
      "text/latex": [
       "\\begin{tabular}{r|lll}\n",
       "  & Protein2013 & Protein2014 & Protein2017\\\\\n",
       "\\hline\n",
       "\tProtein2013 & 0.2424 & 0.1835 & 0.1413\\\\\n",
       "\tProtein2014 & 0.1835 & 0.2889 & 0.1533\\\\\n",
       "\tProtein2017 & 0.1413 & 0.1533 & 0.1610\\\\\n",
       "\\end{tabular}\n"
      ],
      "text/markdown": [
       "\n",
       "| <!--/--> | Protein2013 | Protein2014 | Protein2017 |\n",
       "|---|---|---|---|\n",
       "| Protein2013 | 0.2424 | 0.1835 | 0.1413 |\n",
       "| Protein2014 | 0.1835 | 0.2889 | 0.1533 |\n",
       "| Protein2017 | 0.1413 | 0.1533 | 0.1610 |\n",
       "\n"
      ],
      "text/plain": [
       "            Protein2013 Protein2014 Protein2017\n",
       "Protein2013 0.2424      0.1835      0.1413     \n",
       "Protein2014 0.1835      0.2889      0.1533     \n",
       "Protein2017 0.1413      0.1533      0.1610     "
      ]
     },
     "metadata": {},
     "output_type": "display_data"
    },
    {
     "name": "stdout",
     "output_type": "stream",
     "text": [
      "[1] \"--------------------------------------\"\n",
      "[1] \"Genetic correlation between Environments\"\n"
     ]
    },
    {
     "data": {
      "text/html": [
       "<table>\n",
       "<thead><tr><th></th><th scope=col>Protein2013</th><th scope=col>Protein2014</th><th scope=col>Protein2017</th></tr></thead>\n",
       "<tbody>\n",
       "\t<tr><th scope=row>Protein2013</th><td>1.0000000</td><td>0.6934194</td><td>0.7152583</td></tr>\n",
       "\t<tr><th scope=row>Protein2014</th><td>0.6934194</td><td>1.0000000</td><td>0.7108131</td></tr>\n",
       "\t<tr><th scope=row>Protein2017</th><td>0.7152583</td><td>0.7108131</td><td>1.0000000</td></tr>\n",
       "</tbody>\n",
       "</table>\n"
      ],
      "text/latex": [
       "\\begin{tabular}{r|lll}\n",
       "  & Protein2013 & Protein2014 & Protein2017\\\\\n",
       "\\hline\n",
       "\tProtein2013 & 1.0000000 & 0.6934194 & 0.7152583\\\\\n",
       "\tProtein2014 & 0.6934194 & 1.0000000 & 0.7108131\\\\\n",
       "\tProtein2017 & 0.7152583 & 0.7108131 & 1.0000000\\\\\n",
       "\\end{tabular}\n"
      ],
      "text/markdown": [
       "\n",
       "| <!--/--> | Protein2013 | Protein2014 | Protein2017 |\n",
       "|---|---|---|---|\n",
       "| Protein2013 | 1.0000000 | 0.6934194 | 0.7152583 |\n",
       "| Protein2014 | 0.6934194 | 1.0000000 | 0.7108131 |\n",
       "| Protein2017 | 0.7152583 | 0.7108131 | 1.0000000 |\n",
       "\n"
      ],
      "text/plain": [
       "            Protein2013 Protein2014 Protein2017\n",
       "Protein2013 1.0000000   0.6934194   0.7152583  \n",
       "Protein2014 0.6934194   1.0000000   0.7108131  \n",
       "Protein2017 0.7152583   0.7108131   1.0000000  "
      ]
     },
     "metadata": {},
     "output_type": "display_data"
    },
    {
     "name": "stdout",
     "output_type": "stream",
     "text": [
      "[1] \"--------------------------------------\"\n",
      "[1] \"Variance-covariance for Residuals\"\n",
      "[1] \"Genetic Covariance for Residuals\"\n"
     ]
    },
    {
     "data": {
      "text/html": [
       "<table>\n",
       "<thead><tr><th></th><th scope=col>Protein2013</th><th scope=col>Protein2014</th><th scope=col>Protein2017</th></tr></thead>\n",
       "<tbody>\n",
       "\t<tr><th scope=row>Protein2013</th><td>0.4890</td><td>0.1369</td><td>0.1090</td></tr>\n",
       "\t<tr><th scope=row>Protein2014</th><td>0.1369</td><td>0.3405</td><td>0.0571</td></tr>\n",
       "\t<tr><th scope=row>Protein2017</th><td>0.1090</td><td>0.0571</td><td>0.2941</td></tr>\n",
       "</tbody>\n",
       "</table>\n"
      ],
      "text/latex": [
       "\\begin{tabular}{r|lll}\n",
       "  & Protein2013 & Protein2014 & Protein2017\\\\\n",
       "\\hline\n",
       "\tProtein2013 & 0.4890 & 0.1369 & 0.1090\\\\\n",
       "\tProtein2014 & 0.1369 & 0.3405 & 0.0571\\\\\n",
       "\tProtein2017 & 0.1090 & 0.0571 & 0.2941\\\\\n",
       "\\end{tabular}\n"
      ],
      "text/markdown": [
       "\n",
       "| <!--/--> | Protein2013 | Protein2014 | Protein2017 |\n",
       "|---|---|---|---|\n",
       "| Protein2013 | 0.4890 | 0.1369 | 0.1090 |\n",
       "| Protein2014 | 0.1369 | 0.3405 | 0.0571 |\n",
       "| Protein2017 | 0.1090 | 0.0571 | 0.2941 |\n",
       "\n"
      ],
      "text/plain": [
       "            Protein2013 Protein2014 Protein2017\n",
       "Protein2013 0.4890      0.1369      0.1090     \n",
       "Protein2014 0.1369      0.3405      0.0571     \n",
       "Protein2017 0.1090      0.0571      0.2941     "
      ]
     },
     "metadata": {},
     "output_type": "display_data"
    },
    {
     "name": "stdout",
     "output_type": "stream",
     "text": [
      "[1] \"--------------------------------------\"\n",
      "[1] \"Genetic correlation for Residuals\"\n"
     ]
    },
    {
     "data": {
      "text/html": [
       "<table>\n",
       "<thead><tr><th></th><th scope=col>Protein2013</th><th scope=col>Protein2014</th><th scope=col>Protein2017</th></tr></thead>\n",
       "<tbody>\n",
       "\t<tr><th scope=row>Protein2013</th><td>1.0000000</td><td>0.3354984</td><td>0.2874250</td></tr>\n",
       "\t<tr><th scope=row>Protein2014</th><td>0.3354984</td><td>1.0000000</td><td>0.1804388</td></tr>\n",
       "\t<tr><th scope=row>Protein2017</th><td>0.2874250</td><td>0.1804388</td><td>1.0000000</td></tr>\n",
       "</tbody>\n",
       "</table>\n"
      ],
      "text/latex": [
       "\\begin{tabular}{r|lll}\n",
       "  & Protein2013 & Protein2014 & Protein2017\\\\\n",
       "\\hline\n",
       "\tProtein2013 & 1.0000000 & 0.3354984 & 0.2874250\\\\\n",
       "\tProtein2014 & 0.3354984 & 1.0000000 & 0.1804388\\\\\n",
       "\tProtein2017 & 0.2874250 & 0.1804388 & 1.0000000\\\\\n",
       "\\end{tabular}\n"
      ],
      "text/markdown": [
       "\n",
       "| <!--/--> | Protein2013 | Protein2014 | Protein2017 |\n",
       "|---|---|---|---|\n",
       "| Protein2013 | 1.0000000 | 0.3354984 | 0.2874250 |\n",
       "| Protein2014 | 0.3354984 | 1.0000000 | 0.1804388 |\n",
       "| Protein2017 | 0.2874250 | 0.1804388 | 1.0000000 |\n",
       "\n"
      ],
      "text/plain": [
       "            Protein2013 Protein2014 Protein2017\n",
       "Protein2013 1.0000000   0.3354984   0.2874250  \n",
       "Protein2014 0.3354984   1.0000000   0.1804388  \n",
       "Protein2017 0.2874250   0.1804388   1.0000000  "
      ]
     },
     "metadata": {},
     "output_type": "display_data"
    },
    {
     "name": "stdout",
     "output_type": "stream",
     "text": [
      "[1] \"--------------------------------------\"\n"
     ]
    }
   ],
   "source": [
    "fm <- readRDS('results/BME/SAP_BME_Protein_Model.rds')\n",
    "COV_TraitGenetic <- fm$varTrait\n",
    "rownames(COV_TraitGenetic) <- colnames(COV_TraitGenetic)\n",
    "print('Genetic Covariance between Environments')\n",
    "COV_TraitGenetic\n",
    "print('--------------------------------------')\n",
    "COR_TraitGenetic <- cov2cor(COV_TraitGenetic)\n",
    "rownames(COR_TraitGenetic) <- colnames(COR_TraitGenetic)\n",
    "print('Genetic correlation between Environments')\n",
    "COR_TraitGenetic\n",
    "print('--------------------------------------')\n",
    "print('Variance-covariance for Residuals')\n",
    "COV_Residual <- fm$vare\n",
    "rownames(COV_Residual) <- colnames(COV_Residual)\n",
    "print('Genetic Covariance for Residuals')\n",
    "COV_Residual\n",
    "print('--------------------------------------')\n",
    "COR_Residual <- cov2cor(COV_Residual)\n",
    "rownames(COR_Residual) <- colnames(COR_Residual)\n",
    "print('Genetic correlation for Residuals')\n",
    "COR_Residual\n",
    "print('--------------------------------------')"
   ]
  },
  {
   "cell_type": "markdown",
   "metadata": {},
   "source": [
    "### Starch"
   ]
  },
  {
   "cell_type": "code",
   "execution_count": 46,
   "metadata": {},
   "outputs": [
    {
     "name": "stdout",
     "output_type": "stream",
     "text": [
      "[1] \"Genetic Covariance between Environments\"\n"
     ]
    },
    {
     "data": {
      "text/html": [
       "<table>\n",
       "<thead><tr><th></th><th scope=col>Starch2013</th><th scope=col>Starch2014</th><th scope=col>Starch2017</th></tr></thead>\n",
       "<tbody>\n",
       "\t<tr><th scope=row>Starch2013</th><td>0.6703</td><td>0.5982</td><td>0.6942</td></tr>\n",
       "\t<tr><th scope=row>Starch2014</th><td>0.5982</td><td>1.1841</td><td>0.9286</td></tr>\n",
       "\t<tr><th scope=row>Starch2017</th><td>0.6942</td><td>0.9286</td><td>1.4617</td></tr>\n",
       "</tbody>\n",
       "</table>\n"
      ],
      "text/latex": [
       "\\begin{tabular}{r|lll}\n",
       "  & Starch2013 & Starch2014 & Starch2017\\\\\n",
       "\\hline\n",
       "\tStarch2013 & 0.6703 & 0.5982 & 0.6942\\\\\n",
       "\tStarch2014 & 0.5982 & 1.1841 & 0.9286\\\\\n",
       "\tStarch2017 & 0.6942 & 0.9286 & 1.4617\\\\\n",
       "\\end{tabular}\n"
      ],
      "text/markdown": [
       "\n",
       "| <!--/--> | Starch2013 | Starch2014 | Starch2017 |\n",
       "|---|---|---|---|\n",
       "| Starch2013 | 0.6703 | 0.5982 | 0.6942 |\n",
       "| Starch2014 | 0.5982 | 1.1841 | 0.9286 |\n",
       "| Starch2017 | 0.6942 | 0.9286 | 1.4617 |\n",
       "\n"
      ],
      "text/plain": [
       "           Starch2013 Starch2014 Starch2017\n",
       "Starch2013 0.6703     0.5982     0.6942    \n",
       "Starch2014 0.5982     1.1841     0.9286    \n",
       "Starch2017 0.6942     0.9286     1.4617    "
      ]
     },
     "metadata": {},
     "output_type": "display_data"
    },
    {
     "name": "stdout",
     "output_type": "stream",
     "text": [
      "[1] \"--------------------------------------\"\n",
      "[1] \"Genetic correlation between Environments\"\n"
     ]
    },
    {
     "data": {
      "text/html": [
       "<table>\n",
       "<thead><tr><th></th><th scope=col>Starch2013</th><th scope=col>Starch2014</th><th scope=col>Starch2017</th></tr></thead>\n",
       "<tbody>\n",
       "\t<tr><th scope=row>Starch2013</th><td>1.0000000</td><td>0.6714561</td><td>0.7013275</td></tr>\n",
       "\t<tr><th scope=row>Starch2014</th><td>0.6714561</td><td>1.0000000</td><td>0.7058385</td></tr>\n",
       "\t<tr><th scope=row>Starch2017</th><td>0.7013275</td><td>0.7058385</td><td>1.0000000</td></tr>\n",
       "</tbody>\n",
       "</table>\n"
      ],
      "text/latex": [
       "\\begin{tabular}{r|lll}\n",
       "  & Starch2013 & Starch2014 & Starch2017\\\\\n",
       "\\hline\n",
       "\tStarch2013 & 1.0000000 & 0.6714561 & 0.7013275\\\\\n",
       "\tStarch2014 & 0.6714561 & 1.0000000 & 0.7058385\\\\\n",
       "\tStarch2017 & 0.7013275 & 0.7058385 & 1.0000000\\\\\n",
       "\\end{tabular}\n"
      ],
      "text/markdown": [
       "\n",
       "| <!--/--> | Starch2013 | Starch2014 | Starch2017 |\n",
       "|---|---|---|---|\n",
       "| Starch2013 | 1.0000000 | 0.6714561 | 0.7013275 |\n",
       "| Starch2014 | 0.6714561 | 1.0000000 | 0.7058385 |\n",
       "| Starch2017 | 0.7013275 | 0.7058385 | 1.0000000 |\n",
       "\n"
      ],
      "text/plain": [
       "           Starch2013 Starch2014 Starch2017\n",
       "Starch2013 1.0000000  0.6714561  0.7013275 \n",
       "Starch2014 0.6714561  1.0000000  0.7058385 \n",
       "Starch2017 0.7013275  0.7058385  1.0000000 "
      ]
     },
     "metadata": {},
     "output_type": "display_data"
    },
    {
     "name": "stdout",
     "output_type": "stream",
     "text": [
      "[1] \"--------------------------------------\"\n",
      "[1] \"Variance-covariance for Residuals\"\n",
      "[1] \"Genetic Covariance for Residuals\"\n"
     ]
    },
    {
     "data": {
      "text/html": [
       "<table>\n",
       "<thead><tr><th></th><th scope=col>Starch2013</th><th scope=col>Starch2014</th><th scope=col>Starch2017</th></tr></thead>\n",
       "<tbody>\n",
       "\t<tr><th scope=row>Starch2013</th><td>0.7494</td><td>0.3382</td><td>0.0300</td></tr>\n",
       "\t<tr><th scope=row>Starch2014</th><td>0.3382</td><td>1.2476</td><td>0.1417</td></tr>\n",
       "\t<tr><th scope=row>Starch2017</th><td>0.0300</td><td>0.1417</td><td>1.3060</td></tr>\n",
       "</tbody>\n",
       "</table>\n"
      ],
      "text/latex": [
       "\\begin{tabular}{r|lll}\n",
       "  & Starch2013 & Starch2014 & Starch2017\\\\\n",
       "\\hline\n",
       "\tStarch2013 & 0.7494 & 0.3382 & 0.0300\\\\\n",
       "\tStarch2014 & 0.3382 & 1.2476 & 0.1417\\\\\n",
       "\tStarch2017 & 0.0300 & 0.1417 & 1.3060\\\\\n",
       "\\end{tabular}\n"
      ],
      "text/markdown": [
       "\n",
       "| <!--/--> | Starch2013 | Starch2014 | Starch2017 |\n",
       "|---|---|---|---|\n",
       "| Starch2013 | 0.7494 | 0.3382 | 0.0300 |\n",
       "| Starch2014 | 0.3382 | 1.2476 | 0.1417 |\n",
       "| Starch2017 | 0.0300 | 0.1417 | 1.3060 |\n",
       "\n"
      ],
      "text/plain": [
       "           Starch2013 Starch2014 Starch2017\n",
       "Starch2013 0.7494     0.3382     0.0300    \n",
       "Starch2014 0.3382     1.2476     0.1417    \n",
       "Starch2017 0.0300     0.1417     1.3060    "
      ]
     },
     "metadata": {},
     "output_type": "display_data"
    },
    {
     "name": "stdout",
     "output_type": "stream",
     "text": [
      "[1] \"--------------------------------------\"\n",
      "[1] \"Genetic correlation for Residuals\"\n"
     ]
    },
    {
     "data": {
      "text/html": [
       "<table>\n",
       "<thead><tr><th></th><th scope=col>Starch2013</th><th scope=col>Starch2014</th><th scope=col>Starch2017</th></tr></thead>\n",
       "<tbody>\n",
       "\t<tr><th scope=row>Starch2013</th><td>1.00000000</td><td>0.3497672 </td><td>0.03032444</td></tr>\n",
       "\t<tr><th scope=row>Starch2014</th><td>0.34976720</td><td>1.0000000 </td><td>0.11100961</td></tr>\n",
       "\t<tr><th scope=row>Starch2017</th><td>0.03032444</td><td>0.1110096 </td><td>1.00000000</td></tr>\n",
       "</tbody>\n",
       "</table>\n"
      ],
      "text/latex": [
       "\\begin{tabular}{r|lll}\n",
       "  & Starch2013 & Starch2014 & Starch2017\\\\\n",
       "\\hline\n",
       "\tStarch2013 & 1.00000000 & 0.3497672  & 0.03032444\\\\\n",
       "\tStarch2014 & 0.34976720 & 1.0000000  & 0.11100961\\\\\n",
       "\tStarch2017 & 0.03032444 & 0.1110096  & 1.00000000\\\\\n",
       "\\end{tabular}\n"
      ],
      "text/markdown": [
       "\n",
       "| <!--/--> | Starch2013 | Starch2014 | Starch2017 |\n",
       "|---|---|---|---|\n",
       "| Starch2013 | 1.00000000 | 0.3497672  | 0.03032444 |\n",
       "| Starch2014 | 0.34976720 | 1.0000000  | 0.11100961 |\n",
       "| Starch2017 | 0.03032444 | 0.1110096  | 1.00000000 |\n",
       "\n"
      ],
      "text/plain": [
       "           Starch2013 Starch2014 Starch2017\n",
       "Starch2013 1.00000000 0.3497672  0.03032444\n",
       "Starch2014 0.34976720 1.0000000  0.11100961\n",
       "Starch2017 0.03032444 0.1110096  1.00000000"
      ]
     },
     "metadata": {},
     "output_type": "display_data"
    },
    {
     "name": "stdout",
     "output_type": "stream",
     "text": [
      "[1] \"--------------------------------------\"\n"
     ]
    }
   ],
   "source": [
    "fm <- readRDS('results/BME/SAP_BME_Starch_Model.rds')\n",
    "COV_TraitGenetic <- fm$varTrait\n",
    "rownames(COV_TraitGenetic) <- colnames(COV_TraitGenetic)\n",
    "print('Genetic Covariance between Environments')\n",
    "COV_TraitGenetic\n",
    "print('--------------------------------------')\n",
    "COR_TraitGenetic <- cov2cor(COV_TraitGenetic)\n",
    "rownames(COR_TraitGenetic) <- colnames(COR_TraitGenetic)\n",
    "print('Genetic correlation between Environments')\n",
    "COR_TraitGenetic\n",
    "print('--------------------------------------')\n",
    "print('Variance-covariance for Residuals')\n",
    "COV_Residual <- fm$vare\n",
    "rownames(COV_Residual) <- colnames(COV_Residual)\n",
    "print('Genetic Covariance for Residuals')\n",
    "COV_Residual\n",
    "print('--------------------------------------')\n",
    "COR_Residual <- cov2cor(COV_Residual)\n",
    "rownames(COR_Residual) <- colnames(COR_Residual)\n",
    "print('Genetic correlation for Residuals')\n",
    "COR_Residual\n",
    "print('--------------------------------------')"
   ]
  },
  {
   "cell_type": "code",
   "execution_count": null,
   "metadata": {},
   "outputs": [],
   "source": []
  },
  {
   "cell_type": "code",
   "execution_count": null,
   "metadata": {},
   "outputs": [],
   "source": []
  }
 ],
 "metadata": {
  "kernelspec": {
   "display_name": "R 3.6.0",
   "language": "R",
   "name": "ir360"
  },
  "language_info": {
   "codemirror_mode": "r",
   "file_extension": ".r",
   "mimetype": "text/x-r-source",
   "name": "R",
   "pygments_lexer": "r",
   "version": "3.6.0"
  }
 },
 "nbformat": 4,
 "nbformat_minor": 2
}
