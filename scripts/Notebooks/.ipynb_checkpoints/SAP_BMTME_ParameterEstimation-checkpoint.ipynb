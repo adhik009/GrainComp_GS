{
 "cells": [
  {
   "cell_type": "markdown",
   "metadata": {},
   "source": [
    "## Parameter Estimation using the BMTME function in the BMTME package"
   ]
  },
  {
   "cell_type": "code",
   "execution_count": 1,
   "metadata": {},
   "outputs": [
    {
     "name": "stderr",
     "output_type": "stream",
     "text": [
      "Loading required package: Matrix\n",
      "Registered S3 method overwritten by 'rvest':\n",
      "  method            from\n",
      "  read_xml.response xml2\n",
      "── Attaching packages ─────────────────────────────────────── tidyverse 1.2.1 ──\n",
      "✔ ggplot2 3.2.0     ✔ purrr   0.3.2\n",
      "✔ tibble  2.1.3     ✔ dplyr   0.8.2\n",
      "✔ tidyr   0.8.3     ✔ stringr 1.4.0\n",
      "✔ readr   1.3.1     ✔ forcats 0.4.0\n",
      "── Conflicts ────────────────────────────────────────── tidyverse_conflicts() ──\n",
      "✖ tidyr::expand() masks Matrix::expand()\n",
      "✖ dplyr::filter() masks stats::filter()\n",
      "✖ dplyr::lag()    masks stats::lag()\n"
     ]
    }
   ],
   "source": [
    "##Fit multi trait multi environment models using BMTME package\n",
    ".libPaths(c('/home/ssapkot/.conda/envs/r_env_360/lib', .libPaths()))\n",
    "#install.packages(\"BMTME\",repos='http://cran.us.r-project.org', dependencies = TRUE)\n",
    "library(BGLR)\n",
    "library(lme4)\n",
    "#library(doMC)\n",
    "#library(foreach)\n",
    "library(coda)\n",
    "library(tidyverse)\n",
    "library(ggplot2)\n",
    "library(BMTME)\n",
    "\n",
    "setwd(\"/panicle/ssapkot/git_repo/GrainComp_GS/\")"
   ]
  },
  {
   "cell_type": "markdown",
   "metadata": {},
   "source": [
    "## Population: GSDP\n",
    "### Model Fit: BMTME using all five grain composition traits"
   ]
  },
  {
   "cell_type": "code",
   "execution_count": 9,
   "metadata": {},
   "outputs": [
    {
     "name": "stdout",
     "output_type": "stream",
     "text": [
      "[1] \"Number of iterations in the chain:\"\n"
     ]
    },
    {
     "data": {
      "text/html": [
       "25000"
      ],
      "text/latex": [
       "25000"
      ],
      "text/markdown": [
       "25000"
      ],
      "text/plain": [
       "[1] 25000"
      ]
     },
     "metadata": {},
     "output_type": "display_data"
    },
    {
     "name": "stdout",
     "output_type": "stream",
     "text": [
      "[1] \"Number of burnIns in the chain:\"\n"
     ]
    },
    {
     "data": {
      "text/html": [
       "15000"
      ],
      "text/latex": [
       "15000"
      ],
      "text/markdown": [
       "15000"
      ],
      "text/plain": [
       "[1] 15000"
      ]
     },
     "metadata": {},
     "output_type": "display_data"
    },
    {
     "name": "stdout",
     "output_type": "stream",
     "text": [
      "[1] \"Estimated parameters:\"\n"
     ]
    },
    {
     "data": {
      "text/html": [
       "<table>\n",
       "<tbody>\n",
       "\t<tr><td>Y          </td><td>nIter      </td><td>burnIn     </td><td>thin       </td><td>dfe        </td><td>Se         </td><td>yHat       </td><td>SD.yHat    </td><td>beta       </td><td>SD.beta    </td><td>b1         </td><td>b2         </td><td>vare       </td><td>SD.vare    </td><td>varEnv     </td><td>SD.varEnv  </td><td>varTrait   </td><td>SD.varTrait</td><td>NAvalues   </td></tr>\n",
       "</tbody>\n",
       "</table>\n"
      ],
      "text/latex": [
       "\\begin{tabular}{lllllllllllllllllll}\n",
       "\t Y           & nIter       & burnIn      & thin        & dfe         & Se          & yHat        & SD.yHat     & beta        & SD.beta     & b1          & b2          & vare        & SD.vare     & varEnv      & SD.varEnv   & varTrait    & SD.varTrait & NAvalues   \\\\\n",
       "\\end{tabular}\n"
      ],
      "text/markdown": [
       "\n",
       "| Y           | nIter       | burnIn      | thin        | dfe         | Se          | yHat        | SD.yHat     | beta        | SD.beta     | b1          | b2          | vare        | SD.vare     | varEnv      | SD.varEnv   | varTrait    | SD.varTrait | NAvalues    |\n",
       "\n"
      ],
      "text/plain": [
       "     [,1] [,2]  [,3]   [,4] [,5] [,6] [,7] [,8]    [,9] [,10]   [,11] [,12]\n",
       "[1,] Y    nIter burnIn thin dfe  Se   yHat SD.yHat beta SD.beta b1    b2   \n",
       "     [,13] [,14]   [,15]  [,16]     [,17]    [,18]       [,19]   \n",
       "[1,] vare  SD.vare varEnv SD.varEnv varTrait SD.varTrait NAvalues"
      ]
     },
     "metadata": {},
     "output_type": "display_data"
    }
   ],
   "source": [
    "fm <- readRDS('results/BMTME/SAP_allPheno_BMTME_model.rds')\n",
    "print('Number of iterations in the chain:')\n",
    "fm$nIter\n",
    "print('Number of burnIns in the chain:')\n",
    "fm$burnIn\n",
    "print('Estimated parameters:')\n",
    "t(names(fm))"
   ]
  },
  {
   "cell_type": "markdown",
   "metadata": {},
   "source": [
    "#### Beta coefficients for each trait"
   ]
  },
  {
   "cell_type": "code",
   "execution_count": 19,
   "metadata": {},
   "outputs": [
    {
     "name": "stdout",
     "output_type": "stream",
     "text": [
      "[1] \"Estimates of beta coefficients\"\n"
     ]
    },
    {
     "data": {
      "text/html": [
       "<table>\n",
       "<thead><tr><th></th><th scope=col>Amylose</th><th scope=col>Fat</th><th scope=col>Gross_Energy</th><th scope=col>Protein</th><th scope=col>Starch</th></tr></thead>\n",
       "<tbody>\n",
       "\t<tr><th scope=row>2013</th><td>-0.0061</td><td> 0.0015</td><td>-0.0717</td><td> 0.0074</td><td> 0.0042</td></tr>\n",
       "\t<tr><th scope=row>2014</th><td>-0.0125</td><td>-0.0010</td><td>-0.4550</td><td>-0.0095</td><td> 0.0269</td></tr>\n",
       "\t<tr><th scope=row>2017</th><td>-0.0032</td><td> 0.0029</td><td> 0.7304</td><td> 0.0148</td><td>-0.0129</td></tr>\n",
       "</tbody>\n",
       "</table>\n"
      ],
      "text/latex": [
       "\\begin{tabular}{r|lllll}\n",
       "  & Amylose & Fat & Gross\\_Energy & Protein & Starch\\\\\n",
       "\\hline\n",
       "\t2013 & -0.0061 &  0.0015 & -0.0717 &  0.0074 &  0.0042\\\\\n",
       "\t2014 & -0.0125 & -0.0010 & -0.4550 & -0.0095 &  0.0269\\\\\n",
       "\t2017 & -0.0032 &  0.0029 &  0.7304 &  0.0148 & -0.0129\\\\\n",
       "\\end{tabular}\n"
      ],
      "text/markdown": [
       "\n",
       "| <!--/--> | Amylose | Fat | Gross_Energy | Protein | Starch |\n",
       "|---|---|---|---|---|---|\n",
       "| 2013 | -0.0061 |  0.0015 | -0.0717 |  0.0074 |  0.0042 |\n",
       "| 2014 | -0.0125 | -0.0010 | -0.4550 | -0.0095 |  0.0269 |\n",
       "| 2017 | -0.0032 |  0.0029 |  0.7304 |  0.0148 | -0.0129 |\n",
       "\n"
      ],
      "text/plain": [
       "     Amylose Fat     Gross_Energy Protein Starch \n",
       "2013 -0.0061  0.0015 -0.0717       0.0074  0.0042\n",
       "2014 -0.0125 -0.0010 -0.4550      -0.0095  0.0269\n",
       "2017 -0.0032  0.0029  0.7304       0.0148 -0.0129"
      ]
     },
     "metadata": {},
     "output_type": "display_data"
    },
    {
     "name": "stdout",
     "output_type": "stream",
     "text": [
      "[1] \"SD of beta coefficients\"\n"
     ]
    },
    {
     "data": {
      "text/html": [
       "<table>\n",
       "<thead><tr><th></th><th scope=col>Amylose</th><th scope=col>Fat</th><th scope=col>Gross_Energy</th><th scope=col>Protein</th><th scope=col>Starch</th></tr></thead>\n",
       "<tbody>\n",
       "\t<tr><th scope=row>2013</th><td>0.0577</td><td>0.0089</td><td>0.7471</td><td>0.022 </td><td>0.0385</td></tr>\n",
       "\t<tr><th scope=row>2014</th><td>0.0556</td><td>0.0083</td><td>0.7174</td><td>0.021 </td><td>0.0362</td></tr>\n",
       "\t<tr><th scope=row>2017</th><td>0.0563</td><td>0.0086</td><td>0.7174</td><td>0.021 </td><td>0.0369</td></tr>\n",
       "</tbody>\n",
       "</table>\n"
      ],
      "text/latex": [
       "\\begin{tabular}{r|lllll}\n",
       "  & Amylose & Fat & Gross\\_Energy & Protein & Starch\\\\\n",
       "\\hline\n",
       "\t2013 & 0.0577 & 0.0089 & 0.7471 & 0.022  & 0.0385\\\\\n",
       "\t2014 & 0.0556 & 0.0083 & 0.7174 & 0.021  & 0.0362\\\\\n",
       "\t2017 & 0.0563 & 0.0086 & 0.7174 & 0.021  & 0.0369\\\\\n",
       "\\end{tabular}\n"
      ],
      "text/markdown": [
       "\n",
       "| <!--/--> | Amylose | Fat | Gross_Energy | Protein | Starch |\n",
       "|---|---|---|---|---|---|\n",
       "| 2013 | 0.0577 | 0.0089 | 0.7471 | 0.022  | 0.0385 |\n",
       "| 2014 | 0.0556 | 0.0083 | 0.7174 | 0.021  | 0.0362 |\n",
       "| 2017 | 0.0563 | 0.0086 | 0.7174 | 0.021  | 0.0369 |\n",
       "\n"
      ],
      "text/plain": [
       "     Amylose Fat    Gross_Energy Protein Starch\n",
       "2013 0.0577  0.0089 0.7471       0.022   0.0385\n",
       "2014 0.0556  0.0083 0.7174       0.021   0.0362\n",
       "2017 0.0563  0.0086 0.7174       0.021   0.0369"
      ]
     },
     "metadata": {},
     "output_type": "display_data"
    }
   ],
   "source": [
    "beta <- fm$beta\n",
    "rownames(beta) <- c('2013','2014','2017')\n",
    "print('Estimates of beta coefficients')\n",
    "beta\n",
    "sd.b <- fm$SD.beta\n",
    "rownames(sd.b) <- c('2013','2014','2017')\n",
    "print('SD of beta coefficients')\n",
    "sd.b"
   ]
  },
  {
   "cell_type": "code",
   "execution_count": null,
   "metadata": {},
   "outputs": [],
   "source": []
  },
  {
   "cell_type": "markdown",
   "metadata": {},
   "source": [
    "#### Variance-covariance for Traits"
   ]
  },
  {
   "cell_type": "code",
   "execution_count": 21,
   "metadata": {},
   "outputs": [
    {
     "name": "stdout",
     "output_type": "stream",
     "text": [
      "[1] \"Genetic Covariance between Traits\"\n"
     ]
    },
    {
     "data": {
      "text/html": [
       "<table>\n",
       "<thead><tr><th></th><th scope=col>Amylose</th><th scope=col>Fat</th><th scope=col>Gross_Energy</th><th scope=col>Protein</th><th scope=col>Starch</th></tr></thead>\n",
       "<tbody>\n",
       "\t<tr><th scope=row>Amylose</th><td> 0.1804 </td><td> 0.0028 </td><td>  1.0786</td><td> 0.0097 </td><td>-0.0048 </td></tr>\n",
       "\t<tr><th scope=row>Fat</th><td> 0.0028 </td><td> 0.0184 </td><td>  1.1426</td><td> 0.0084 </td><td>-0.0217 </td></tr>\n",
       "\t<tr><th scope=row>Gross_Energy</th><td> 1.0786 </td><td> 1.1426 </td><td>131.6724</td><td> 1.8680 </td><td>-3.7743 </td></tr>\n",
       "\t<tr><th scope=row>Protein</th><td> 0.0097 </td><td> 0.0084 </td><td>  1.8680</td><td> 0.0660 </td><td>-0.0822 </td></tr>\n",
       "\t<tr><th scope=row>Starch</th><td>-0.0048 </td><td>-0.0217 </td><td> -3.7743</td><td>-0.0822 </td><td> 0.2646 </td></tr>\n",
       "</tbody>\n",
       "</table>\n"
      ],
      "text/latex": [
       "\\begin{tabular}{r|lllll}\n",
       "  & Amylose & Fat & Gross\\_Energy & Protein & Starch\\\\\n",
       "\\hline\n",
       "\tAmylose &  0.1804  &  0.0028  &   1.0786 &  0.0097  & -0.0048 \\\\\n",
       "\tFat &  0.0028  &  0.0184  &   1.1426 &  0.0084  & -0.0217 \\\\\n",
       "\tGross\\_Energy &  1.0786  &  1.1426  & 131.6724 &  1.8680  & -3.7743 \\\\\n",
       "\tProtein &  0.0097  &  0.0084  &   1.8680 &  0.0660  & -0.0822 \\\\\n",
       "\tStarch & -0.0048  & -0.0217  &  -3.7743 & -0.0822  &  0.2646 \\\\\n",
       "\\end{tabular}\n"
      ],
      "text/markdown": [
       "\n",
       "| <!--/--> | Amylose | Fat | Gross_Energy | Protein | Starch |\n",
       "|---|---|---|---|---|---|\n",
       "| Amylose |  0.1804  |  0.0028  |   1.0786 |  0.0097  | -0.0048  |\n",
       "| Fat |  0.0028  |  0.0184  |   1.1426 |  0.0084  | -0.0217  |\n",
       "| Gross_Energy |  1.0786  |  1.1426  | 131.6724 |  1.8680  | -3.7743  |\n",
       "| Protein |  0.0097  |  0.0084  |   1.8680 |  0.0660  | -0.0822  |\n",
       "| Starch | -0.0048  | -0.0217  |  -3.7743 | -0.0822  |  0.2646  |\n",
       "\n"
      ],
      "text/plain": [
       "             Amylose Fat     Gross_Energy Protein Starch \n",
       "Amylose       0.1804  0.0028   1.0786      0.0097 -0.0048\n",
       "Fat           0.0028  0.0184   1.1426      0.0084 -0.0217\n",
       "Gross_Energy  1.0786  1.1426 131.6724      1.8680 -3.7743\n",
       "Protein       0.0097  0.0084   1.8680      0.0660 -0.0822\n",
       "Starch       -0.0048 -0.0217  -3.7743     -0.0822  0.2646"
      ]
     },
     "metadata": {},
     "output_type": "display_data"
    },
    {
     "name": "stdout",
     "output_type": "stream",
     "text": [
      "[1] \"--------------------------------------\"\n",
      "[1] \"Genetic correlation between Traits\"\n"
     ]
    },
    {
     "data": {
      "text/html": [
       "<table>\n",
       "<thead><tr><th></th><th scope=col>Amylose</th><th scope=col>Fat</th><th scope=col>Gross_Energy</th><th scope=col>Protein</th><th scope=col>Starch</th></tr></thead>\n",
       "<tbody>\n",
       "\t<tr><th scope=row>Amylose</th><td> 1.00000000</td><td> 0.04859939</td><td> 0.2213068 </td><td> 0.08889585</td><td>-0.0219699 </td></tr>\n",
       "\t<tr><th scope=row>Fat</th><td> 0.04859939</td><td> 1.00000000</td><td> 0.7340708 </td><td> 0.24104516</td><td>-0.3109968 </td></tr>\n",
       "\t<tr><th scope=row>Gross_Energy</th><td> 0.22130681</td><td> 0.73407077</td><td> 1.0000000 </td><td> 0.63366180</td><td>-0.6394316 </td></tr>\n",
       "\t<tr><th scope=row>Protein</th><td> 0.08889585</td><td> 0.24104516</td><td> 0.6336618 </td><td> 1.00000000</td><td>-0.6220208 </td></tr>\n",
       "\t<tr><th scope=row>Starch</th><td>-0.02196990</td><td>-0.31099679</td><td>-0.6394316 </td><td>-0.62202083</td><td> 1.0000000 </td></tr>\n",
       "</tbody>\n",
       "</table>\n"
      ],
      "text/latex": [
       "\\begin{tabular}{r|lllll}\n",
       "  & Amylose & Fat & Gross\\_Energy & Protein & Starch\\\\\n",
       "\\hline\n",
       "\tAmylose &  1.00000000 &  0.04859939 &  0.2213068  &  0.08889585 & -0.0219699 \\\\\n",
       "\tFat &  0.04859939 &  1.00000000 &  0.7340708  &  0.24104516 & -0.3109968 \\\\\n",
       "\tGross\\_Energy &  0.22130681 &  0.73407077 &  1.0000000  &  0.63366180 & -0.6394316 \\\\\n",
       "\tProtein &  0.08889585 &  0.24104516 &  0.6336618  &  1.00000000 & -0.6220208 \\\\\n",
       "\tStarch & -0.02196990 & -0.31099679 & -0.6394316  & -0.62202083 &  1.0000000 \\\\\n",
       "\\end{tabular}\n"
      ],
      "text/markdown": [
       "\n",
       "| <!--/--> | Amylose | Fat | Gross_Energy | Protein | Starch |\n",
       "|---|---|---|---|---|---|\n",
       "| Amylose |  1.00000000 |  0.04859939 |  0.2213068  |  0.08889585 | -0.0219699  |\n",
       "| Fat |  0.04859939 |  1.00000000 |  0.7340708  |  0.24104516 | -0.3109968  |\n",
       "| Gross_Energy |  0.22130681 |  0.73407077 |  1.0000000  |  0.63366180 | -0.6394316  |\n",
       "| Protein |  0.08889585 |  0.24104516 |  0.6336618  |  1.00000000 | -0.6220208  |\n",
       "| Starch | -0.02196990 | -0.31099679 | -0.6394316  | -0.62202083 |  1.0000000  |\n",
       "\n"
      ],
      "text/plain": [
       "             Amylose     Fat         Gross_Energy Protein     Starch    \n",
       "Amylose       1.00000000  0.04859939  0.2213068    0.08889585 -0.0219699\n",
       "Fat           0.04859939  1.00000000  0.7340708    0.24104516 -0.3109968\n",
       "Gross_Energy  0.22130681  0.73407077  1.0000000    0.63366180 -0.6394316\n",
       "Protein       0.08889585  0.24104516  0.6336618    1.00000000 -0.6220208\n",
       "Starch       -0.02196990 -0.31099679 -0.6394316   -0.62202083  1.0000000"
      ]
     },
     "metadata": {},
     "output_type": "display_data"
    },
    {
     "name": "stdout",
     "output_type": "stream",
     "text": [
      "[1] \"--------------------------------------\"\n"
     ]
    }
   ],
   "source": [
    "COV_TraitGenetic <- fm$varTrait\n",
    "rownames(COV_TraitGenetic) <- colnames(COV_TraitGenetic)\n",
    "print('Genetic Covariance between Traits')\n",
    "COV_TraitGenetic\n",
    "print('--------------------------------------')\n",
    "COR_TraitGenetic <- cov2cor(COV_TraitGenetic)\n",
    "rownames(COR_TraitGenetic) <- colnames(COR_TraitGenetic)\n",
    "print('Genetic correlation between Traits')\n",
    "COR_TraitGenetic\n",
    "print('--------------------------------------')"
   ]
  },
  {
   "cell_type": "markdown",
   "metadata": {},
   "source": [
    "#### Variance-covariance for environments"
   ]
  },
  {
   "cell_type": "code",
   "execution_count": 22,
   "metadata": {},
   "outputs": [
    {
     "name": "stdout",
     "output_type": "stream",
     "text": [
      "[1] \"Genetic Covariance between environments\"\n"
     ]
    },
    {
     "data": {
      "text/html": [
       "<table>\n",
       "<thead><tr><th></th><th scope=col>2013</th><th scope=col>2014</th><th scope=col>2017</th></tr></thead>\n",
       "<tbody>\n",
       "\t<tr><th scope=row>2013</th><td>3.7646</td><td>0.1268</td><td>0.3249</td></tr>\n",
       "\t<tr><th scope=row>2014</th><td>0.1268</td><td>4.2095</td><td>0.4892</td></tr>\n",
       "\t<tr><th scope=row>2017</th><td>0.3249</td><td>0.4892</td><td>6.8561</td></tr>\n",
       "</tbody>\n",
       "</table>\n"
      ],
      "text/latex": [
       "\\begin{tabular}{r|lll}\n",
       "  & 2013 & 2014 & 2017\\\\\n",
       "\\hline\n",
       "\t2013 & 3.7646 & 0.1268 & 0.3249\\\\\n",
       "\t2014 & 0.1268 & 4.2095 & 0.4892\\\\\n",
       "\t2017 & 0.3249 & 0.4892 & 6.8561\\\\\n",
       "\\end{tabular}\n"
      ],
      "text/markdown": [
       "\n",
       "| <!--/--> | 2013 | 2014 | 2017 |\n",
       "|---|---|---|---|\n",
       "| 2013 | 3.7646 | 0.1268 | 0.3249 |\n",
       "| 2014 | 0.1268 | 4.2095 | 0.4892 |\n",
       "| 2017 | 0.3249 | 0.4892 | 6.8561 |\n",
       "\n"
      ],
      "text/plain": [
       "     2013   2014   2017  \n",
       "2013 3.7646 0.1268 0.3249\n",
       "2014 0.1268 4.2095 0.4892\n",
       "2017 0.3249 0.4892 6.8561"
      ]
     },
     "metadata": {},
     "output_type": "display_data"
    },
    {
     "name": "stdout",
     "output_type": "stream",
     "text": [
      "[1] \"--------------------------------------\"\n",
      "[1] \"Genetic correlation between environments\"\n"
     ]
    },
    {
     "data": {
      "text/html": [
       "<table>\n",
       "<thead><tr><th></th><th scope=col>2013</th><th scope=col>2014</th><th scope=col>2017</th></tr></thead>\n",
       "<tbody>\n",
       "\t<tr><th scope=row>2013</th><td>1.00000000</td><td>0.03185258</td><td>0.06395165</td></tr>\n",
       "\t<tr><th scope=row>2014</th><td>0.03185258</td><td>1.00000000</td><td>0.09106104</td></tr>\n",
       "\t<tr><th scope=row>2017</th><td>0.06395165</td><td>0.09106104</td><td>1.00000000</td></tr>\n",
       "</tbody>\n",
       "</table>\n"
      ],
      "text/latex": [
       "\\begin{tabular}{r|lll}\n",
       "  & 2013 & 2014 & 2017\\\\\n",
       "\\hline\n",
       "\t2013 & 1.00000000 & 0.03185258 & 0.06395165\\\\\n",
       "\t2014 & 0.03185258 & 1.00000000 & 0.09106104\\\\\n",
       "\t2017 & 0.06395165 & 0.09106104 & 1.00000000\\\\\n",
       "\\end{tabular}\n"
      ],
      "text/markdown": [
       "\n",
       "| <!--/--> | 2013 | 2014 | 2017 |\n",
       "|---|---|---|---|\n",
       "| 2013 | 1.00000000 | 0.03185258 | 0.06395165 |\n",
       "| 2014 | 0.03185258 | 1.00000000 | 0.09106104 |\n",
       "| 2017 | 0.06395165 | 0.09106104 | 1.00000000 |\n",
       "\n"
      ],
      "text/plain": [
       "     2013       2014       2017      \n",
       "2013 1.00000000 0.03185258 0.06395165\n",
       "2014 0.03185258 1.00000000 0.09106104\n",
       "2017 0.06395165 0.09106104 1.00000000"
      ]
     },
     "metadata": {},
     "output_type": "display_data"
    },
    {
     "name": "stdout",
     "output_type": "stream",
     "text": [
      "[1] \"--------------------------------------\"\n"
     ]
    }
   ],
   "source": [
    "COV_EnvGenetic <- fm$varEnv\n",
    "rownames(COV_EnvGenetic) <- colnames(COV_EnvGenetic)\n",
    "print('Genetic Covariance between environments')\n",
    "COV_EnvGenetic\n",
    "print('--------------------------------------')\n",
    "COR_EnvGenetic <- cov2cor(COV_EnvGenetic)\n",
    "rownames(COR_EnvGenetic) <- colnames(COR_EnvGenetic)\n",
    "print('Genetic correlation between environments')\n",
    "COR_EnvGenetic\n",
    "print('--------------------------------------')"
   ]
  },
  {
   "cell_type": "markdown",
   "metadata": {},
   "source": [
    "#### Variance-covariance for Residuals"
   ]
  },
  {
   "cell_type": "code",
   "execution_count": 23,
   "metadata": {},
   "outputs": [
    {
     "name": "stdout",
     "output_type": "stream",
     "text": [
      "[1] \"Genetic Covariance for Residuals\"\n"
     ]
    },
    {
     "data": {
      "text/html": [
       "<table>\n",
       "<thead><tr><th></th><th scope=col>Amylose</th><th scope=col>Fat</th><th scope=col>Gross_Energy</th><th scope=col>Protein</th><th scope=col>Starch</th></tr></thead>\n",
       "<tbody>\n",
       "\t<tr><th scope=row>Amylose</th><td> 1.1288 </td><td>-0.0164 </td><td>  0.6924</td><td>-0.0083 </td><td>-0.0013 </td></tr>\n",
       "\t<tr><th scope=row>Fat</th><td>-0.0164 </td><td> 0.0250 </td><td>  1.5061</td><td> 0.0155 </td><td>-0.0455 </td></tr>\n",
       "\t<tr><th scope=row>Gross_Energy</th><td> 0.6924 </td><td> 1.5061 </td><td>213.7150</td><td> 4.5477 </td><td>-6.6938 </td></tr>\n",
       "\t<tr><th scope=row>Protein</th><td>-0.0083 </td><td> 0.0155 </td><td>  4.5477</td><td> 0.1731 </td><td>-0.2080 </td></tr>\n",
       "\t<tr><th scope=row>Starch</th><td>-0.0013 </td><td>-0.0455 </td><td> -6.6938</td><td>-0.2080 </td><td> 0.4926 </td></tr>\n",
       "</tbody>\n",
       "</table>\n"
      ],
      "text/latex": [
       "\\begin{tabular}{r|lllll}\n",
       "  & Amylose & Fat & Gross\\_Energy & Protein & Starch\\\\\n",
       "\\hline\n",
       "\tAmylose &  1.1288  & -0.0164  &   0.6924 & -0.0083  & -0.0013 \\\\\n",
       "\tFat & -0.0164  &  0.0250  &   1.5061 &  0.0155  & -0.0455 \\\\\n",
       "\tGross\\_Energy &  0.6924  &  1.5061  & 213.7150 &  4.5477  & -6.6938 \\\\\n",
       "\tProtein & -0.0083  &  0.0155  &   4.5477 &  0.1731  & -0.2080 \\\\\n",
       "\tStarch & -0.0013  & -0.0455  &  -6.6938 & -0.2080  &  0.4926 \\\\\n",
       "\\end{tabular}\n"
      ],
      "text/markdown": [
       "\n",
       "| <!--/--> | Amylose | Fat | Gross_Energy | Protein | Starch |\n",
       "|---|---|---|---|---|---|\n",
       "| Amylose |  1.1288  | -0.0164  |   0.6924 | -0.0083  | -0.0013  |\n",
       "| Fat | -0.0164  |  0.0250  |   1.5061 |  0.0155  | -0.0455  |\n",
       "| Gross_Energy |  0.6924  |  1.5061  | 213.7150 |  4.5477  | -6.6938  |\n",
       "| Protein | -0.0083  |  0.0155  |   4.5477 |  0.1731  | -0.2080  |\n",
       "| Starch | -0.0013  | -0.0455  |  -6.6938 | -0.2080  |  0.4926  |\n",
       "\n"
      ],
      "text/plain": [
       "             Amylose Fat     Gross_Energy Protein Starch \n",
       "Amylose       1.1288 -0.0164   0.6924     -0.0083 -0.0013\n",
       "Fat          -0.0164  0.0250   1.5061      0.0155 -0.0455\n",
       "Gross_Energy  0.6924  1.5061 213.7150      4.5477 -6.6938\n",
       "Protein      -0.0083  0.0155   4.5477      0.1731 -0.2080\n",
       "Starch       -0.0013 -0.0455  -6.6938     -0.2080  0.4926"
      ]
     },
     "metadata": {},
     "output_type": "display_data"
    },
    {
     "name": "stdout",
     "output_type": "stream",
     "text": [
      "[1] \"--------------------------------------\"\n",
      "[1] \"Genetic correlation for Residuals\"\n"
     ]
    },
    {
     "data": {
      "text/html": [
       "<table>\n",
       "<thead><tr><th></th><th scope=col>Amylose</th><th scope=col>Fat</th><th scope=col>Gross_Energy</th><th scope=col>Protein</th><th scope=col>Starch</th></tr></thead>\n",
       "<tbody>\n",
       "\t<tr><th scope=row>Amylose</th><td> 1.000000000</td><td>-0.09762597 </td><td> 0.04457908 </td><td>-0.01877678 </td><td>-0.001743362</td></tr>\n",
       "\t<tr><th scope=row>Fat</th><td>-0.097625966</td><td> 1.00000000 </td><td> 0.65157783 </td><td> 0.23562055 </td><td>-0.410009754</td></tr>\n",
       "\t<tr><th scope=row>Gross_Energy</th><td> 0.044579075</td><td> 0.65157783 </td><td> 1.00000000 </td><td> 0.74769723 </td><td>-0.652391097</td></tr>\n",
       "\t<tr><th scope=row>Protein</th><td>-0.018776777</td><td> 0.23562055 </td><td> 0.74769723 </td><td> 1.00000000 </td><td>-0.712307631</td></tr>\n",
       "\t<tr><th scope=row>Starch</th><td>-0.001743362</td><td>-0.41000975 </td><td>-0.65239110 </td><td>-0.71230763 </td><td> 1.000000000</td></tr>\n",
       "</tbody>\n",
       "</table>\n"
      ],
      "text/latex": [
       "\\begin{tabular}{r|lllll}\n",
       "  & Amylose & Fat & Gross\\_Energy & Protein & Starch\\\\\n",
       "\\hline\n",
       "\tAmylose &  1.000000000 & -0.09762597  &  0.04457908  & -0.01877678  & -0.001743362\\\\\n",
       "\tFat & -0.097625966 &  1.00000000  &  0.65157783  &  0.23562055  & -0.410009754\\\\\n",
       "\tGross\\_Energy &  0.044579075 &  0.65157783  &  1.00000000  &  0.74769723  & -0.652391097\\\\\n",
       "\tProtein & -0.018776777 &  0.23562055  &  0.74769723  &  1.00000000  & -0.712307631\\\\\n",
       "\tStarch & -0.001743362 & -0.41000975  & -0.65239110  & -0.71230763  &  1.000000000\\\\\n",
       "\\end{tabular}\n"
      ],
      "text/markdown": [
       "\n",
       "| <!--/--> | Amylose | Fat | Gross_Energy | Protein | Starch |\n",
       "|---|---|---|---|---|---|\n",
       "| Amylose |  1.000000000 | -0.09762597  |  0.04457908  | -0.01877678  | -0.001743362 |\n",
       "| Fat | -0.097625966 |  1.00000000  |  0.65157783  |  0.23562055  | -0.410009754 |\n",
       "| Gross_Energy |  0.044579075 |  0.65157783  |  1.00000000  |  0.74769723  | -0.652391097 |\n",
       "| Protein | -0.018776777 |  0.23562055  |  0.74769723  |  1.00000000  | -0.712307631 |\n",
       "| Starch | -0.001743362 | -0.41000975  | -0.65239110  | -0.71230763  |  1.000000000 |\n",
       "\n"
      ],
      "text/plain": [
       "             Amylose      Fat         Gross_Energy Protein     Starch      \n",
       "Amylose       1.000000000 -0.09762597  0.04457908  -0.01877678 -0.001743362\n",
       "Fat          -0.097625966  1.00000000  0.65157783   0.23562055 -0.410009754\n",
       "Gross_Energy  0.044579075  0.65157783  1.00000000   0.74769723 -0.652391097\n",
       "Protein      -0.018776777  0.23562055  0.74769723   1.00000000 -0.712307631\n",
       "Starch       -0.001743362 -0.41000975 -0.65239110  -0.71230763  1.000000000"
      ]
     },
     "metadata": {},
     "output_type": "display_data"
    },
    {
     "name": "stdout",
     "output_type": "stream",
     "text": [
      "[1] \"--------------------------------------\"\n"
     ]
    }
   ],
   "source": [
    "COV_Residual <- fm$vare\n",
    "rownames(COV_Residual) <- colnames(COV_Residual)\n",
    "print('Genetic Covariance for Residuals')\n",
    "COV_Residual\n",
    "print('--------------------------------------')\n",
    "COR_Residual <- cov2cor(COV_Residual)\n",
    "rownames(COR_Residual) <- colnames(COR_Residual)\n",
    "print('Genetic correlation for Residuals')\n",
    "COR_Residual\n",
    "print('--------------------------------------')"
   ]
  },
  {
   "cell_type": "code",
   "execution_count": 31,
   "metadata": {},
   "outputs": [
    {
     "data": {
      "text/html": [
       "<table>\n",
       "<thead><tr><th></th><th scope=col>Amylose</th><th scope=col>Fat</th><th scope=col>Gross_Energy</th><th scope=col>Protein</th><th scope=col>Starch</th></tr></thead>\n",
       "<tbody>\n",
       "\t<tr><th scope=row>Amylose</th><td> 0.95113043</td><td> 0.05858978</td><td> 0.1945127 </td><td> 0.04180349</td><td>-0.06143078</td></tr>\n",
       "\t<tr><th scope=row>Fat</th><td> 0.09289312</td><td> 0.99434254</td><td> 0.7934167 </td><td> 0.27163264</td><td>-0.41702016</td></tr>\n",
       "\t<tr><th scope=row>Gross_Energy</th><td> 0.27934027</td><td> 0.78710469</td><td> 0.9923241 </td><td> 0.65258092</td><td>-0.70120659</td></tr>\n",
       "\t<tr><th scope=row>Protein</th><td> 0.05544835</td><td> 0.23921340</td><td> 0.5844327 </td><td> 0.98655932</td><td>-0.59454994</td></tr>\n",
       "\t<tr><th scope=row>Starch</th><td>-0.08091004</td><td>-0.39723544</td><td>-0.6832117 </td><td>-0.64392001</td><td> 0.99039957</td></tr>\n",
       "</tbody>\n",
       "</table>\n"
      ],
      "text/latex": [
       "\\begin{tabular}{r|lllll}\n",
       "  & Amylose & Fat & Gross\\_Energy & Protein & Starch\\\\\n",
       "\\hline\n",
       "\tAmylose &  0.95113043 &  0.05858978 &  0.1945127  &  0.04180349 & -0.06143078\\\\\n",
       "\tFat &  0.09289312 &  0.99434254 &  0.7934167  &  0.27163264 & -0.41702016\\\\\n",
       "\tGross\\_Energy &  0.27934027 &  0.78710469 &  0.9923241  &  0.65258092 & -0.70120659\\\\\n",
       "\tProtein &  0.05544835 &  0.23921340 &  0.5844327  &  0.98655932 & -0.59454994\\\\\n",
       "\tStarch & -0.08091004 & -0.39723544 & -0.6832117  & -0.64392001 &  0.99039957\\\\\n",
       "\\end{tabular}\n"
      ],
      "text/markdown": [
       "\n",
       "| <!--/--> | Amylose | Fat | Gross_Energy | Protein | Starch |\n",
       "|---|---|---|---|---|---|\n",
       "| Amylose |  0.95113043 |  0.05858978 |  0.1945127  |  0.04180349 | -0.06143078 |\n",
       "| Fat |  0.09289312 |  0.99434254 |  0.7934167  |  0.27163264 | -0.41702016 |\n",
       "| Gross_Energy |  0.27934027 |  0.78710469 |  0.9923241  |  0.65258092 | -0.70120659 |\n",
       "| Protein |  0.05544835 |  0.23921340 |  0.5844327  |  0.98655932 | -0.59454994 |\n",
       "| Starch | -0.08091004 | -0.39723544 | -0.6832117  | -0.64392001 |  0.99039957 |\n",
       "\n"
      ],
      "text/plain": [
       "             Amylose     Fat         Gross_Energy Protein     Starch     \n",
       "Amylose       0.95113043  0.05858978  0.1945127    0.04180349 -0.06143078\n",
       "Fat           0.09289312  0.99434254  0.7934167    0.27163264 -0.41702016\n",
       "Gross_Energy  0.27934027  0.78710469  0.9923241    0.65258092 -0.70120659\n",
       "Protein       0.05544835  0.23921340  0.5844327    0.98655932 -0.59454994\n",
       "Starch       -0.08091004 -0.39723544 -0.6832117   -0.64392001  0.99039957"
      ]
     },
     "metadata": {},
     "output_type": "display_data"
    }
   ],
   "source": [
    "cor(fm$Y,fm$yHat,use='complete')"
   ]
  },
  {
   "cell_type": "code",
   "execution_count": null,
   "metadata": {},
   "outputs": [],
   "source": []
  }
 ],
 "metadata": {
  "kernelspec": {
   "display_name": "R 3.6.0",
   "language": "R",
   "name": "ir360"
  },
  "language_info": {
   "codemirror_mode": "r",
   "file_extension": ".r",
   "mimetype": "text/x-r-source",
   "name": "R",
   "pygments_lexer": "r",
   "version": "3.6.0"
  }
 },
 "nbformat": 4,
 "nbformat_minor": 2
}
