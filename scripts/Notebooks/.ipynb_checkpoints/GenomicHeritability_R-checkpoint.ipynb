{
 "cells": [
  {
   "cell_type": "markdown",
   "metadata": {},
   "source": [
    "### Calculate marker based heritability for GSDP and RILs"
   ]
  },
  {
   "cell_type": "code",
   "execution_count": 1,
   "metadata": {},
   "outputs": [
    {
     "name": "stderr",
     "output_type": "stream",
     "text": [
      "Loading required package: MASS\n",
      "Registered S3 method overwritten by 'rvest':\n",
      "  method            from\n",
      "  read_xml.response xml2\n",
      "── Attaching packages ─────────────────────────────────────── tidyverse 1.2.1 ──\n",
      "✔ ggplot2 3.2.0     ✔ purrr   0.3.2\n",
      "✔ tibble  2.1.3     ✔ dplyr   0.8.2\n",
      "✔ tidyr   0.8.3     ✔ stringr 1.4.0\n",
      "✔ readr   1.3.1     ✔ forcats 0.4.0\n",
      "── Conflicts ────────────────────────────────────────── tidyverse_conflicts() ──\n",
      "✖ dplyr::filter() masks stats::filter()\n",
      "✖ dplyr::lag()    masks stats::lag()\n",
      "✖ dplyr::select() masks MASS::select()\n",
      "\n",
      "Attaching package: ‘reshape2’\n",
      "\n",
      "The following object is masked from ‘package:tidyr’:\n",
      "\n",
      "    smiths\n",
      "\n"
     ]
    }
   ],
   "source": [
    ".libPaths(c('/home/ssapkot/.conda/envs/r_env_360/lib', .libPaths()))\n",
    "\n",
    "#install.packages(\"adegenet\",repos='http://cran.us.r-project.org', dependencies = TRUE)\n",
    "library(heritability)\n",
    "library(tidyverse)\n",
    "library(ggplot2)\n",
    "library(reshape2)\n",
    "\n",
    "setwd(\"/panicle/ssapkot/GrainComp/\")"
   ]
  },
  {
   "cell_type": "markdown",
   "metadata": {},
   "source": [
    "### Make Phenotypic file with covariates"
   ]
  },
  {
   "cell_type": "code",
   "execution_count": 66,
   "metadata": {},
   "outputs": [
    {
     "data": {
      "text/html": [
       "<table>\n",
       "<thead><tr><th scope=col>Taxa</th><th scope=col>Year</th><th scope=col>Location</th><th scope=col>Rep</th><th scope=col>2014_SC_1</th><th scope=col>2014_SC_2</th><th scope=col>2014_TX_1</th><th scope=col>2014_TX_2</th><th scope=col>2015_SC_1</th><th scope=col>2015_SC_2</th><th scope=col>2015_TX_1</th><th scope=col>2015_TX_2</th><th scope=col>Taxa_Location_Year_Rep</th></tr></thead>\n",
       "<tbody>\n",
       "\t<tr><td>CS66_001          </td><td>2014              </td><td>SC                </td><td>1                 </td><td>1                 </td><td>0                 </td><td>0                 </td><td>0                 </td><td>0                 </td><td>0                 </td><td>0                 </td><td>0                 </td><td>CS66_001_SC_2014_1</td></tr>\n",
       "\t<tr><td>CS66_002          </td><td>2014              </td><td>SC                </td><td>1                 </td><td>1                 </td><td>0                 </td><td>0                 </td><td>0                 </td><td>0                 </td><td>0                 </td><td>0                 </td><td>0                 </td><td>CS66_002_SC_2014_1</td></tr>\n",
       "\t<tr><td>CS66_007          </td><td>2014              </td><td>SC                </td><td>1                 </td><td>1                 </td><td>0                 </td><td>0                 </td><td>0                 </td><td>0                 </td><td>0                 </td><td>0                 </td><td>0                 </td><td>CS66_007_SC_2014_1</td></tr>\n",
       "\t<tr><td>CS66_009          </td><td>2014              </td><td>SC                </td><td>1                 </td><td>1                 </td><td>0                 </td><td>0                 </td><td>0                 </td><td>0                 </td><td>0                 </td><td>0                 </td><td>0                 </td><td>CS66_009_SC_2014_1</td></tr>\n",
       "\t<tr><td>CS66_010          </td><td>2014              </td><td>SC                </td><td>1                 </td><td>1                 </td><td>0                 </td><td>0                 </td><td>0                 </td><td>0                 </td><td>0                 </td><td>0                 </td><td>0                 </td><td>CS66_010_SC_2014_1</td></tr>\n",
       "\t<tr><td>CS66_011          </td><td>2014              </td><td>SC                </td><td>1                 </td><td>1                 </td><td>0                 </td><td>0                 </td><td>0                 </td><td>0                 </td><td>0                 </td><td>0                 </td><td>0                 </td><td>CS66_011_SC_2014_1</td></tr>\n",
       "</tbody>\n",
       "</table>\n"
      ],
      "text/latex": [
       "\\begin{tabular}{r|lllllllllllll}\n",
       " Taxa & Year & Location & Rep & 2014\\_SC\\_1 & 2014\\_SC\\_2 & 2014\\_TX\\_1 & 2014\\_TX\\_2 & 2015\\_SC\\_1 & 2015\\_SC\\_2 & 2015\\_TX\\_1 & 2015\\_TX\\_2 & Taxa\\_Location\\_Year\\_Rep\\\\\n",
       "\\hline\n",
       "\t CS66\\_001                 & 2014                       & SC                         & 1                          & 1                          & 0                          & 0                          & 0                          & 0                          & 0                          & 0                          & 0                          & CS66\\_001\\_SC\\_2014\\_1\\\\\n",
       "\t CS66\\_002                 & 2014                       & SC                         & 1                          & 1                          & 0                          & 0                          & 0                          & 0                          & 0                          & 0                          & 0                          & CS66\\_002\\_SC\\_2014\\_1\\\\\n",
       "\t CS66\\_007                 & 2014                       & SC                         & 1                          & 1                          & 0                          & 0                          & 0                          & 0                          & 0                          & 0                          & 0                          & CS66\\_007\\_SC\\_2014\\_1\\\\\n",
       "\t CS66\\_009                 & 2014                       & SC                         & 1                          & 1                          & 0                          & 0                          & 0                          & 0                          & 0                          & 0                          & 0                          & CS66\\_009\\_SC\\_2014\\_1\\\\\n",
       "\t CS66\\_010                 & 2014                       & SC                         & 1                          & 1                          & 0                          & 0                          & 0                          & 0                          & 0                          & 0                          & 0                          & CS66\\_010\\_SC\\_2014\\_1\\\\\n",
       "\t CS66\\_011                 & 2014                       & SC                         & 1                          & 1                          & 0                          & 0                          & 0                          & 0                          & 0                          & 0                          & 0                          & CS66\\_011\\_SC\\_2014\\_1\\\\\n",
       "\\end{tabular}\n"
      ],
      "text/markdown": [
       "\n",
       "| Taxa | Year | Location | Rep | 2014_SC_1 | 2014_SC_2 | 2014_TX_1 | 2014_TX_2 | 2015_SC_1 | 2015_SC_2 | 2015_TX_1 | 2015_TX_2 | Taxa_Location_Year_Rep |\n",
       "|---|---|---|---|---|---|---|---|---|---|---|---|---|\n",
       "| CS66_001           | 2014               | SC                 | 1                  | 1                  | 0                  | 0                  | 0                  | 0                  | 0                  | 0                  | 0                  | CS66_001_SC_2014_1 |\n",
       "| CS66_002           | 2014               | SC                 | 1                  | 1                  | 0                  | 0                  | 0                  | 0                  | 0                  | 0                  | 0                  | CS66_002_SC_2014_1 |\n",
       "| CS66_007           | 2014               | SC                 | 1                  | 1                  | 0                  | 0                  | 0                  | 0                  | 0                  | 0                  | 0                  | CS66_007_SC_2014_1 |\n",
       "| CS66_009           | 2014               | SC                 | 1                  | 1                  | 0                  | 0                  | 0                  | 0                  | 0                  | 0                  | 0                  | CS66_009_SC_2014_1 |\n",
       "| CS66_010           | 2014               | SC                 | 1                  | 1                  | 0                  | 0                  | 0                  | 0                  | 0                  | 0                  | 0                  | CS66_010_SC_2014_1 |\n",
       "| CS66_011           | 2014               | SC                 | 1                  | 1                  | 0                  | 0                  | 0                  | 0                  | 0                  | 0                  | 0                  | CS66_011_SC_2014_1 |\n",
       "\n"
      ],
      "text/plain": [
       "  Taxa     Year Location Rep 2014_SC_1 2014_SC_2 2014_TX_1 2014_TX_2 2015_SC_1\n",
       "1 CS66_001 2014 SC       1   1         0         0         0         0        \n",
       "2 CS66_002 2014 SC       1   1         0         0         0         0        \n",
       "3 CS66_007 2014 SC       1   1         0         0         0         0        \n",
       "4 CS66_009 2014 SC       1   1         0         0         0         0        \n",
       "5 CS66_010 2014 SC       1   1         0         0         0         0        \n",
       "6 CS66_011 2014 SC       1   1         0         0         0         0        \n",
       "  2015_SC_2 2015_TX_1 2015_TX_2 Taxa_Location_Year_Rep\n",
       "1 0         0         0         CS66_001_SC_2014_1    \n",
       "2 0         0         0         CS66_002_SC_2014_1    \n",
       "3 0         0         0         CS66_007_SC_2014_1    \n",
       "4 0         0         0         CS66_009_SC_2014_1    \n",
       "5 0         0         0         CS66_010_SC_2014_1    \n",
       "6 0         0         0         CS66_011_SC_2014_1    "
      ]
     },
     "metadata": {},
     "output_type": "display_data"
    },
    {
     "data": {
      "text/html": [
       "<ol class=list-inline>\n",
       "\t<li>2224</li>\n",
       "\t<li>13</li>\n",
       "</ol>\n"
      ],
      "text/latex": [
       "\\begin{enumerate*}\n",
       "\\item 2224\n",
       "\\item 13\n",
       "\\end{enumerate*}\n"
      ],
      "text/markdown": [
       "1. 2224\n",
       "2. 13\n",
       "\n",
       "\n"
      ],
      "text/plain": [
       "[1] 2224   13"
      ]
     },
     "metadata": {},
     "output_type": "display_data"
    }
   ],
   "source": [
    "###  function to make covariates column\n",
    "\n",
    "######## Make a data frame for the list of genotypes with genotypic  data\n",
    "#df <- read.csv(\"data/pheno.csv\",header=T)\n",
    "df <- Y\n",
    "taxa <- as.vector(df$Taxa)\n",
    "Taxa <- rep(taxa, times=8)\n",
    "Year <- rep(c('2014','2015'),each=4*nrow(df))\n",
    "Location <- rep(c('SC','TX'), each =2*nrow(df), times=2)\n",
    "Rep <- rep(c('1','2'), each=nrow(df),times=4)\n",
    "df <- as.data.frame(cbind(Taxa,Year,Location,Rep))\n",
    "###################################\n",
    "\n",
    "getBinaryVectorFromYearRep <-  function(df, year, env, rep){\n",
    "    binary_vector <- c()\n",
    "    for (i in 1:nrow(df)){\n",
    "        row <- df[i,]\n",
    "        if (row$Year== year && row$Location == env && row$Rep  == rep){\n",
    "            binary_vector <- c(binary_vector, 1)\n",
    "        } else {\n",
    "            binary_vector <- c(binary_vector, 0)\n",
    "        }\n",
    "    }\n",
    "    return(binary_vector)\n",
    "}\n",
    "\n",
    "for (year in  c(\"2014\",\"2015\")){\n",
    "    for (env in c(\"SC\",\"TX\")){\n",
    "        for (rep in  c(\"1\",\"2\")){\n",
    "        b_vector <- getBinaryVectorFromYearRep(df, year, env, rep)\n",
    "        df[,paste(year, env, rep, sep = \"_\")] <- b_vector\n",
    "        }\n",
    "    }\n",
    "}\n",
    "\n",
    "df <- df %>% mutate(Taxa_Location_Year_Rep = paste(Taxa,Location,Year,Rep,sep='_'))\n",
    "head(df)\n",
    "dim(df)"
   ]
  },
  {
   "cell_type": "code",
   "execution_count": 68,
   "metadata": {},
   "outputs": [
    {
     "data": {
      "text/html": [
       "<table>\n",
       "<thead><tr><th scope=col>Taxa</th><th scope=col>Year</th><th scope=col>Location</th><th scope=col>Rep</th><th scope=col>Amylose</th><th scope=col>Fat</th><th scope=col>Cal.g</th><th scope=col>Starch</th><th scope=col>Protein</th><th scope=col>Taxa_Location_Year_Rep</th></tr></thead>\n",
       "<tbody>\n",
       "\t<tr><td>CS66_010          </td><td>2014              </td><td>SC                </td><td>1                 </td><td>14.02             </td><td>2.19              </td><td>4037.23           </td><td>71.82             </td><td>10.50             </td><td>CS66_010_SC_2014_1</td></tr>\n",
       "\t<tr><td>CS66_017          </td><td>2014              </td><td>SC                </td><td>1                 </td><td>13.69             </td><td>2.54              </td><td>4053.49           </td><td>71.10             </td><td>10.55             </td><td>CS66_017_SC_2014_1</td></tr>\n",
       "\t<tr><td>CS66_018          </td><td>2014              </td><td>SC                </td><td>1                 </td><td> 4.90             </td><td>2.61              </td><td>4126.49           </td><td>64.48             </td><td>15.09             </td><td>CS66_018_SC_2014_1</td></tr>\n",
       "\t<tr><td>CS66_020          </td><td>2014              </td><td>SC                </td><td>1                 </td><td> 7.03             </td><td>2.63              </td><td>4055.59           </td><td>69.97             </td><td>10.49             </td><td>CS66_020_SC_2014_1</td></tr>\n",
       "\t<tr><td>CS66_022          </td><td>2014              </td><td>SC                </td><td>1                 </td><td>13.16             </td><td>3.51              </td><td>4185.69           </td><td>65.69             </td><td>13.33             </td><td>CS66_022_SC_2014_1</td></tr>\n",
       "\t<tr><td>CS66_023          </td><td>2014              </td><td>SC                </td><td>1                 </td><td> 6.06             </td><td>2.46              </td><td>4071.69           </td><td>67.50             </td><td>12.23             </td><td>CS66_023_SC_2014_1</td></tr>\n",
       "</tbody>\n",
       "</table>\n"
      ],
      "text/latex": [
       "\\begin{tabular}{r|llllllllll}\n",
       " Taxa & Year & Location & Rep & Amylose & Fat & Cal.g & Starch & Protein & Taxa\\_Location\\_Year\\_Rep\\\\\n",
       "\\hline\n",
       "\t CS66\\_010                 & 2014                       & SC                         & 1                          & 14.02                      & 2.19                       & 4037.23                    & 71.82                      & 10.50                      & CS66\\_010\\_SC\\_2014\\_1\\\\\n",
       "\t CS66\\_017                 & 2014                       & SC                         & 1                          & 13.69                      & 2.54                       & 4053.49                    & 71.10                      & 10.55                      & CS66\\_017\\_SC\\_2014\\_1\\\\\n",
       "\t CS66\\_018                 & 2014                       & SC                         & 1                          &  4.90                      & 2.61                       & 4126.49                    & 64.48                      & 15.09                      & CS66\\_018\\_SC\\_2014\\_1\\\\\n",
       "\t CS66\\_020                 & 2014                       & SC                         & 1                          &  7.03                      & 2.63                       & 4055.59                    & 69.97                      & 10.49                      & CS66\\_020\\_SC\\_2014\\_1\\\\\n",
       "\t CS66\\_022                 & 2014                       & SC                         & 1                          & 13.16                      & 3.51                       & 4185.69                    & 65.69                      & 13.33                      & CS66\\_022\\_SC\\_2014\\_1\\\\\n",
       "\t CS66\\_023                 & 2014                       & SC                         & 1                          &  6.06                      & 2.46                       & 4071.69                    & 67.50                      & 12.23                      & CS66\\_023\\_SC\\_2014\\_1\\\\\n",
       "\\end{tabular}\n"
      ],
      "text/markdown": [
       "\n",
       "| Taxa | Year | Location | Rep | Amylose | Fat | Cal.g | Starch | Protein | Taxa_Location_Year_Rep |\n",
       "|---|---|---|---|---|---|---|---|---|---|\n",
       "| CS66_010           | 2014               | SC                 | 1                  | 14.02              | 2.19               | 4037.23            | 71.82              | 10.50              | CS66_010_SC_2014_1 |\n",
       "| CS66_017           | 2014               | SC                 | 1                  | 13.69              | 2.54               | 4053.49            | 71.10              | 10.55              | CS66_017_SC_2014_1 |\n",
       "| CS66_018           | 2014               | SC                 | 1                  |  4.90              | 2.61               | 4126.49            | 64.48              | 15.09              | CS66_018_SC_2014_1 |\n",
       "| CS66_020           | 2014               | SC                 | 1                  |  7.03              | 2.63               | 4055.59            | 69.97              | 10.49              | CS66_020_SC_2014_1 |\n",
       "| CS66_022           | 2014               | SC                 | 1                  | 13.16              | 3.51               | 4185.69            | 65.69              | 13.33              | CS66_022_SC_2014_1 |\n",
       "| CS66_023           | 2014               | SC                 | 1                  |  6.06              | 2.46               | 4071.69            | 67.50              | 12.23              | CS66_023_SC_2014_1 |\n",
       "\n"
      ],
      "text/plain": [
       "  Taxa     Year Location Rep Amylose Fat  Cal.g   Starch Protein\n",
       "1 CS66_010 2014 SC       1   14.02   2.19 4037.23 71.82  10.50  \n",
       "2 CS66_017 2014 SC       1   13.69   2.54 4053.49 71.10  10.55  \n",
       "3 CS66_018 2014 SC       1    4.90   2.61 4126.49 64.48  15.09  \n",
       "4 CS66_020 2014 SC       1    7.03   2.63 4055.59 69.97  10.49  \n",
       "5 CS66_022 2014 SC       1   13.16   3.51 4185.69 65.69  13.33  \n",
       "6 CS66_023 2014 SC       1    6.06   2.46 4071.69 67.50  12.23  \n",
       "  Taxa_Location_Year_Rep\n",
       "1 CS66_010_SC_2014_1    \n",
       "2 CS66_017_SC_2014_1    \n",
       "3 CS66_018_SC_2014_1    \n",
       "4 CS66_020_SC_2014_1    \n",
       "5 CS66_022_SC_2014_1    \n",
       "6 CS66_023_SC_2014_1    "
      ]
     },
     "metadata": {},
     "output_type": "display_data"
    },
    {
     "data": {
      "text/html": [
       "<table>\n",
       "<thead><tr><th scope=col>Taxa</th><th scope=col>Year</th><th scope=col>Location</th><th scope=col>Rep</th><th scope=col>r1</th><th scope=col>r2</th><th scope=col>r3</th><th scope=col>r4</th><th scope=col>r5</th><th scope=col>r6</th><th scope=col>r7</th><th scope=col>r8</th><th scope=col>Amylose</th><th scope=col>Fat</th><th scope=col>Cal.g</th><th scope=col>Starch</th><th scope=col>Protein</th></tr></thead>\n",
       "<tbody>\n",
       "\t<tr><td>CS66_001</td><td>2014    </td><td>SC      </td><td>1       </td><td>1       </td><td>0       </td><td>0       </td><td>0       </td><td>0       </td><td>0       </td><td>0       </td><td>0       </td><td> 3.69   </td><td>2.35    </td><td>4021.32 </td><td>68.67   </td><td>10.61   </td></tr>\n",
       "\t<tr><td>CS66_002</td><td>2014    </td><td>SC      </td><td>1       </td><td>1       </td><td>0       </td><td>0       </td><td>0       </td><td>0       </td><td>0       </td><td>0       </td><td>0       </td><td>13.31   </td><td>1.68    </td><td>4026.27 </td><td>71.96   </td><td>11.37   </td></tr>\n",
       "\t<tr><td>CS66_007</td><td>2014    </td><td>SC      </td><td>1       </td><td>1       </td><td>0       </td><td>0       </td><td>0       </td><td>0       </td><td>0       </td><td>0       </td><td>0       </td><td>12.32   </td><td>2.93    </td><td>4110.22 </td><td>68.14   </td><td>11.37   </td></tr>\n",
       "\t<tr><td>CS66_009</td><td>2014    </td><td>SC      </td><td>1       </td><td>1       </td><td>0       </td><td>0       </td><td>0       </td><td>0       </td><td>0       </td><td>0       </td><td>0       </td><td> 4.05   </td><td>2.50    </td><td>4055.49 </td><td>68.70   </td><td>11.72   </td></tr>\n",
       "\t<tr><td>CS66_010</td><td>2014    </td><td>SC      </td><td>1       </td><td>1       </td><td>0       </td><td>0       </td><td>0       </td><td>0       </td><td>0       </td><td>0       </td><td>0       </td><td>14.02   </td><td>2.19    </td><td>4037.23 </td><td>71.82   </td><td>10.50   </td></tr>\n",
       "\t<tr><td>CS66_011</td><td>2014    </td><td>SC      </td><td>1       </td><td>1       </td><td>0       </td><td>0       </td><td>0       </td><td>0       </td><td>0       </td><td>0       </td><td>0       </td><td>13.46   </td><td>2.89    </td><td>4125.57 </td><td>67.57   </td><td>12.52   </td></tr>\n",
       "</tbody>\n",
       "</table>\n"
      ],
      "text/latex": [
       "\\begin{tabular}{r|lllllllllllllllll}\n",
       " Taxa & Year & Location & Rep & r1 & r2 & r3 & r4 & r5 & r6 & r7 & r8 & Amylose & Fat & Cal.g & Starch & Protein\\\\\n",
       "\\hline\n",
       "\t CS66\\_001 & 2014       & SC         & 1          & 1          & 0          & 0          & 0          & 0          & 0          & 0          & 0          &  3.69      & 2.35       & 4021.32    & 68.67      & 10.61     \\\\\n",
       "\t CS66\\_002 & 2014       & SC         & 1          & 1          & 0          & 0          & 0          & 0          & 0          & 0          & 0          & 13.31      & 1.68       & 4026.27    & 71.96      & 11.37     \\\\\n",
       "\t CS66\\_007 & 2014       & SC         & 1          & 1          & 0          & 0          & 0          & 0          & 0          & 0          & 0          & 12.32      & 2.93       & 4110.22    & 68.14      & 11.37     \\\\\n",
       "\t CS66\\_009 & 2014       & SC         & 1          & 1          & 0          & 0          & 0          & 0          & 0          & 0          & 0          &  4.05      & 2.50       & 4055.49    & 68.70      & 11.72     \\\\\n",
       "\t CS66\\_010 & 2014       & SC         & 1          & 1          & 0          & 0          & 0          & 0          & 0          & 0          & 0          & 14.02      & 2.19       & 4037.23    & 71.82      & 10.50     \\\\\n",
       "\t CS66\\_011 & 2014       & SC         & 1          & 1          & 0          & 0          & 0          & 0          & 0          & 0          & 0          & 13.46      & 2.89       & 4125.57    & 67.57      & 12.52     \\\\\n",
       "\\end{tabular}\n"
      ],
      "text/markdown": [
       "\n",
       "| Taxa | Year | Location | Rep | r1 | r2 | r3 | r4 | r5 | r6 | r7 | r8 | Amylose | Fat | Cal.g | Starch | Protein |\n",
       "|---|---|---|---|---|---|---|---|---|---|---|---|---|---|---|---|---|\n",
       "| CS66_001 | 2014     | SC       | 1        | 1        | 0        | 0        | 0        | 0        | 0        | 0        | 0        |  3.69    | 2.35     | 4021.32  | 68.67    | 10.61    |\n",
       "| CS66_002 | 2014     | SC       | 1        | 1        | 0        | 0        | 0        | 0        | 0        | 0        | 0        | 13.31    | 1.68     | 4026.27  | 71.96    | 11.37    |\n",
       "| CS66_007 | 2014     | SC       | 1        | 1        | 0        | 0        | 0        | 0        | 0        | 0        | 0        | 12.32    | 2.93     | 4110.22  | 68.14    | 11.37    |\n",
       "| CS66_009 | 2014     | SC       | 1        | 1        | 0        | 0        | 0        | 0        | 0        | 0        | 0        |  4.05    | 2.50     | 4055.49  | 68.70    | 11.72    |\n",
       "| CS66_010 | 2014     | SC       | 1        | 1        | 0        | 0        | 0        | 0        | 0        | 0        | 0        | 14.02    | 2.19     | 4037.23  | 71.82    | 10.50    |\n",
       "| CS66_011 | 2014     | SC       | 1        | 1        | 0        | 0        | 0        | 0        | 0        | 0        | 0        | 13.46    | 2.89     | 4125.57  | 67.57    | 12.52    |\n",
       "\n"
      ],
      "text/plain": [
       "  Taxa     Year Location Rep r1 r2 r3 r4 r5 r6 r7 r8 Amylose Fat  Cal.g  \n",
       "1 CS66_001 2014 SC       1   1  0  0  0  0  0  0  0   3.69   2.35 4021.32\n",
       "2 CS66_002 2014 SC       1   1  0  0  0  0  0  0  0  13.31   1.68 4026.27\n",
       "3 CS66_007 2014 SC       1   1  0  0  0  0  0  0  0  12.32   2.93 4110.22\n",
       "4 CS66_009 2014 SC       1   1  0  0  0  0  0  0  0   4.05   2.50 4055.49\n",
       "5 CS66_010 2014 SC       1   1  0  0  0  0  0  0  0  14.02   2.19 4037.23\n",
       "6 CS66_011 2014 SC       1   1  0  0  0  0  0  0  0  13.46   2.89 4125.57\n",
       "  Starch Protein\n",
       "1 68.67  10.61  \n",
       "2 71.96  11.37  \n",
       "3 68.14  11.37  \n",
       "4 68.70  11.72  \n",
       "5 71.82  10.50  \n",
       "6 67.57  12.52  "
      ]
     },
     "metadata": {},
     "output_type": "display_data"
    },
    {
     "name": "stdout",
     "output_type": "stream",
     "text": [
      "'data.frame':\t2220 obs. of  17 variables:\n",
      " $ Taxa    : Factor w/ 278 levels \"CS66_001\",\"CS66_002\",..: 1 2 3 4 5 6 7 8 9 10 ...\n",
      " $ Year    : Factor w/ 2 levels \"2014\",\"2015\": 1 1 1 1 1 1 1 1 1 1 ...\n",
      " $ Location: Factor w/ 2 levels \"SC\",\"TX\": 1 1 1 1 1 1 1 1 1 1 ...\n",
      " $ Rep     : Factor w/ 2 levels \"1\",\"2\": 1 1 1 1 1 1 1 1 1 1 ...\n",
      " $ r1      : num  1 1 1 1 1 1 1 1 1 1 ...\n",
      " $ r2      : num  0 0 0 0 0 0 0 0 0 0 ...\n",
      " $ r3      : num  0 0 0 0 0 0 0 0 0 0 ...\n",
      " $ r4      : num  0 0 0 0 0 0 0 0 0 0 ...\n",
      " $ r5      : num  0 0 0 0 0 0 0 0 0 0 ...\n",
      " $ r6      : num  0 0 0 0 0 0 0 0 0 0 ...\n",
      " $ r7      : num  0 0 0 0 0 0 0 0 0 0 ...\n",
      " $ r8      : num  0 0 0 0 0 0 0 0 0 0 ...\n",
      " $ Amylose : num  3.69 13.31 12.32 4.05 14.02 ...\n",
      " $ Fat     : num  2.35 1.68 2.93 2.5 2.19 2.89 2.52 NA 2.03 2.87 ...\n",
      " $ Cal.g   : num  4021 4026 4110 4055 4037 ...\n",
      " $ Starch  : num  68.7 72 68.1 68.7 71.8 ...\n",
      " $ Protein : num  10.6 11.4 11.4 11.7 10.5 ...\n"
     ]
    }
   ],
   "source": [
    "##Merge the data frame structure with the actual phenotypic information based on taxa, year and rep combination\n",
    "pheno <- read.csv('data/P85_Yield_Quality_phenotypes.csv',header=T)\n",
    "col <- c('Pedigree2','Year','Location','Rep','Amylose','Fat','Cal.g','Starch','Protein')\n",
    "pheno <- pheno[,col]\n",
    "colnames(pheno) <- c('Taxa','Year','Location','Rep','Amylose','Fat','Cal.g','Starch','Protein')\n",
    "\n",
    "pheno <- pheno %>% mutate(Taxa_Location_Year_Rep = paste(Taxa,Location,Year,Rep,sep='_'))\n",
    "head(pheno)\n",
    "data <- df  %>% inner_join(pheno, by=\"Taxa_Location_Year_Rep\")\n",
    "data <- data[,c(1:12,18:22)]\n",
    "colnames(data) <- c('Taxa','Year','Location','Rep','r1','r2','r3','r4','r5','r6','r7','r8','Amylose','Fat','Cal.g','Starch','Protein')\n",
    "head(data)\n",
    "str(data)\n",
    "write.csv(data,\"data/P85_GrainComp_herit-pheno.csv\",row.names=FALSE)"
   ]
  },
  {
   "cell_type": "markdown",
   "metadata": {},
   "source": [
    "### Load genotypic file, make genomic relationship matrix and run heritability"
   ]
  },
  {
   "cell_type": "code",
   "execution_count": 64,
   "metadata": {},
   "outputs": [],
   "source": [
    "load('data/p85_GrainComp.RData')##load RData with genotype file (X)\n",
    "## Make the relationship matrix from the markers\n",
    "M=tcrossprod(scale(X))  # centered and scaled XX'\n",
    "G=M/mean(diag(M))\n",
    "G = as.matrix(G)\n"
   ]
  },
  {
   "cell_type": "code",
   "execution_count": 65,
   "metadata": {},
   "outputs": [
    {
     "data": {
      "text/html": [
       "<table>\n",
       "<thead><tr><th scope=col>Taxa</th><th scope=col>Anthesis</th><th scope=col>Height</th><th scope=col>Amylose</th><th scope=col>Fat</th><th scope=col>Starch</th><th scope=col>Protein</th><th scope=col>Gross_Energy</th></tr></thead>\n",
       "<tbody>\n",
       "\t<tr><td>CS66_001   </td><td> 0.6649621 </td><td> 18.963565 </td><td> 4.9240053 </td><td>-0.85787668</td><td> 1.37188196</td><td>-0.02153761</td><td>-33.67464  </td></tr>\n",
       "\t<tr><td>CS66_002   </td><td>-0.8971677 </td><td>-18.481071 </td><td> 3.4341049 </td><td>-0.01108455</td><td>-0.64041181</td><td> 0.54584838</td><td>-57.34620  </td></tr>\n",
       "\t<tr><td>CS66_007   </td><td> 3.3286528 </td><td> -1.312713 </td><td>-5.3256800 </td><td>-0.09523119</td><td> 0.83481706</td><td>-0.38584840</td><td> 11.41983  </td></tr>\n",
       "\t<tr><td>CS66_009   </td><td> 4.3480867 </td><td> 55.228411 </td><td>-1.2750855 </td><td>-0.02067087</td><td> 0.05204256</td><td> 0.15806659</td><td> 24.99772  </td></tr>\n",
       "\t<tr><td>CS66_010   </td><td>-2.9818537 </td><td>-21.345555 </td><td> 0.4151457 </td><td>-0.23785075</td><td> 0.31264250</td><td>-0.03056899</td><td>-49.19982  </td></tr>\n",
       "\t<tr><td>CS66_011   </td><td> 1.1582663 </td><td>  2.807692 </td><td> 2.7190715 </td><td> 0.50071622</td><td> 0.45454573</td><td>-1.18194701</td><td> 22.62142  </td></tr>\n",
       "</tbody>\n",
       "</table>\n"
      ],
      "text/latex": [
       "\\begin{tabular}{r|llllllll}\n",
       " Taxa & Anthesis & Height & Amylose & Fat & Starch & Protein & Gross\\_Energy\\\\\n",
       "\\hline\n",
       "\t CS66\\_001  &  0.6649621  &  18.963565  &  4.9240053  & -0.85787668 &  1.37188196 & -0.02153761 & -33.67464  \\\\\n",
       "\t CS66\\_002  & -0.8971677  & -18.481071  &  3.4341049  & -0.01108455 & -0.64041181 &  0.54584838 & -57.34620  \\\\\n",
       "\t CS66\\_007  &  3.3286528  &  -1.312713  & -5.3256800  & -0.09523119 &  0.83481706 & -0.38584840 &  11.41983  \\\\\n",
       "\t CS66\\_009  &  4.3480867  &  55.228411  & -1.2750855  & -0.02067087 &  0.05204256 &  0.15806659 &  24.99772  \\\\\n",
       "\t CS66\\_010  & -2.9818537  & -21.345555  &  0.4151457  & -0.23785075 &  0.31264250 & -0.03056899 & -49.19982  \\\\\n",
       "\t CS66\\_011  &  1.1582663  &   2.807692  &  2.7190715  &  0.50071622 &  0.45454573 & -1.18194701 &  22.62142  \\\\\n",
       "\\end{tabular}\n"
      ],
      "text/markdown": [
       "\n",
       "| Taxa | Anthesis | Height | Amylose | Fat | Starch | Protein | Gross_Energy |\n",
       "|---|---|---|---|---|---|---|---|\n",
       "| CS66_001    |  0.6649621  |  18.963565  |  4.9240053  | -0.85787668 |  1.37188196 | -0.02153761 | -33.67464   |\n",
       "| CS66_002    | -0.8971677  | -18.481071  |  3.4341049  | -0.01108455 | -0.64041181 |  0.54584838 | -57.34620   |\n",
       "| CS66_007    |  3.3286528  |  -1.312713  | -5.3256800  | -0.09523119 |  0.83481706 | -0.38584840 |  11.41983   |\n",
       "| CS66_009    |  4.3480867  |  55.228411  | -1.2750855  | -0.02067087 |  0.05204256 |  0.15806659 |  24.99772   |\n",
       "| CS66_010    | -2.9818537  | -21.345555  |  0.4151457  | -0.23785075 |  0.31264250 | -0.03056899 | -49.19982   |\n",
       "| CS66_011    |  1.1582663  |   2.807692  |  2.7190715  |  0.50071622 |  0.45454573 | -1.18194701 |  22.62142   |\n",
       "\n"
      ],
      "text/plain": [
       "  Taxa     Anthesis   Height     Amylose    Fat         Starch      Protein    \n",
       "1 CS66_001  0.6649621  18.963565  4.9240053 -0.85787668  1.37188196 -0.02153761\n",
       "2 CS66_002 -0.8971677 -18.481071  3.4341049 -0.01108455 -0.64041181  0.54584838\n",
       "3 CS66_007  3.3286528  -1.312713 -5.3256800 -0.09523119  0.83481706 -0.38584840\n",
       "4 CS66_009  4.3480867  55.228411 -1.2750855 -0.02067087  0.05204256  0.15806659\n",
       "5 CS66_010 -2.9818537 -21.345555  0.4151457 -0.23785075  0.31264250 -0.03056899\n",
       "6 CS66_011  1.1582663   2.807692  2.7190715  0.50071622  0.45454573 -1.18194701\n",
       "  Gross_Energy\n",
       "1 -33.67464   \n",
       "2 -57.34620   \n",
       "3  11.41983   \n",
       "4  24.99772   \n",
       "5 -49.19982   \n",
       "6  22.62142   "
      ]
     },
     "metadata": {},
     "output_type": "display_data"
    }
   ],
   "source": [
    "head(Y)"
   ]
  },
  {
   "cell_type": "code",
   "execution_count": 73,
   "metadata": {},
   "outputs": [
    {
     "name": "stdout",
     "output_type": "stream",
     "text": [
      "Iteration:  1 \t 1.012819 1.047886 \n",
      "Iteration:  2 \t 1.240299 1.03591 \n",
      "Iteration:  3 \t 1.364858 1.029615 \n",
      "Iteration:  4 \t 1.420048 1.026767 \n",
      "Iteration:  5 \t 1.441916 1.025603 \n",
      "Iteration:  6 \t 1.450179 1.025156 \n",
      "Iteration:  7 \t 1.453244 1.024989 \n",
      "Iteration:  8 \t 1.454373 1.024927 \n",
      "Iteration:  9 \t 1.454788 1.024905 \n"
     ]
    },
    {
     "data": {
      "text/html": [
       "<dl>\n",
       "\t<dt>$va</dt>\n",
       "\t\t<dd>1.45478776209313</dd>\n",
       "\t<dt>$ve</dt>\n",
       "\t\t<dd>1.02490450461242</dd>\n",
       "\t<dt>$h2</dt>\n",
       "\t\t<dd>0.58668076745907</dd>\n",
       "\t<dt>$conf.int1</dt>\n",
       "\t\t<dd><ol class=list-inline>\n",
       "\t<li>0.506731626178036</li>\n",
       "\t<li>0.666629908740103</li>\n",
       "</ol>\n",
       "</dd>\n",
       "\t<dt>$conf.int2</dt>\n",
       "\t\t<dd><ol class=list-inline>\n",
       "\t<li>0.50513856140712</li>\n",
       "\t<li>0.663731151468311</li>\n",
       "</ol>\n",
       "</dd>\n",
       "\t<dt>$inv.ai</dt>\n",
       "\t\t<dd><table>\n",
       "<tbody>\n",
       "\t<tr><td> 0.053526152</td><td>-0.001438715</td></tr>\n",
       "\t<tr><td>-0.001438715</td><td> 0.001131485</td></tr>\n",
       "</tbody>\n",
       "</table>\n",
       "</dd>\n",
       "\t<dt>$loglik</dt>\n",
       "\t\t<dd><table>\n",
       "<tbody>\n",
       "\t<tr><td>-1283.931</td></tr>\n",
       "</tbody>\n",
       "</table>\n",
       "</dd>\n",
       "</dl>\n"
      ],
      "text/latex": [
       "\\begin{description}\n",
       "\\item[\\$va] 1.45478776209313\n",
       "\\item[\\$ve] 1.02490450461242\n",
       "\\item[\\$h2] 0.58668076745907\n",
       "\\item[\\$conf.int1] \\begin{enumerate*}\n",
       "\\item 0.506731626178036\n",
       "\\item 0.666629908740103\n",
       "\\end{enumerate*}\n",
       "\n",
       "\\item[\\$conf.int2] \\begin{enumerate*}\n",
       "\\item 0.50513856140712\n",
       "\\item 0.663731151468311\n",
       "\\end{enumerate*}\n",
       "\n",
       "\\item[\\$inv.ai] \\begin{tabular}{ll}\n",
       "\t  0.053526152 & -0.001438715\\\\\n",
       "\t -0.001438715 &  0.001131485\\\\\n",
       "\\end{tabular}\n",
       "\n",
       "\\item[\\$loglik] \\begin{tabular}{l}\n",
       "\t -1283.931\\\\\n",
       "\\end{tabular}\n",
       "\n",
       "\\end{description}\n"
      ],
      "text/markdown": [
       "$va\n",
       ":   1.45478776209313\n",
       "$ve\n",
       ":   1.02490450461242\n",
       "$h2\n",
       ":   0.58668076745907\n",
       "$conf.int1\n",
       ":   1. 0.506731626178036\n",
       "2. 0.666629908740103\n",
       "\n",
       "\n",
       "\n",
       "$conf.int2\n",
       ":   1. 0.50513856140712\n",
       "2. 0.663731151468311\n",
       "\n",
       "\n",
       "\n",
       "$inv.ai\n",
       ":   \n",
       "|  0.053526152 | -0.001438715 |\n",
       "| -0.001438715 |  0.001131485 |\n",
       "\n",
       "\n",
       "$loglik\n",
       ":   \n",
       "| -1283.931 |\n",
       "\n",
       "\n",
       "\n",
       "\n"
      ],
      "text/plain": [
       "$va\n",
       "[1] 1.454788\n",
       "\n",
       "$ve\n",
       "[1] 1.024905\n",
       "\n",
       "$h2\n",
       "[1] 0.5866808\n",
       "\n",
       "$conf.int1\n",
       "[1] 0.5067316 0.6666299\n",
       "\n",
       "$conf.int2\n",
       "[1] 0.5051386 0.6637312\n",
       "\n",
       "$inv.ai\n",
       "             [,1]         [,2]\n",
       "[1,]  0.053526152 -0.001438715\n",
       "[2,] -0.001438715  0.001131485\n",
       "\n",
       "$loglik\n",
       "          [,1]\n",
       "[1,] -1283.931\n"
      ]
     },
     "metadata": {},
     "output_type": "display_data"
    }
   ],
   "source": [
    "## Run genomic heritability calculation\n",
    "rownames(G) <- unique(data$Taxa); colnames(G) <- unique(data$Taxa)\n",
    "out_h2 <- marker_h2(data.vector = data$Protein, geno.vector=data$Taxa, covariates = data[,5:12],max.iter =1000, K = G)\n",
    "out_h2\n",
    "#out <- marker_h2(data.vector=df.race$YPP, geno.vector=df.race$genotype,K = SNPS.race)#for individual race"
   ]
  },
  {
   "cell_type": "code",
   "execution_count": 15,
   "metadata": {},
   "outputs": [
    {
     "data": {
      "text/html": [
       "<ol class=list-inline>\n",
       "\t<li>15</li>\n",
       "\t<li>8</li>\n",
       "</ol>\n"
      ],
      "text/latex": [
       "\\begin{enumerate*}\n",
       "\\item 15\n",
       "\\item 8\n",
       "\\end{enumerate*}\n"
      ],
      "text/markdown": [
       "1. 15\n",
       "2. 8\n",
       "\n",
       "\n"
      ],
      "text/plain": [
       "[1] 15  8"
      ]
     },
     "metadata": {},
     "output_type": "display_data"
    },
    {
     "data": {
      "text/html": [
       "<ol class=list-inline>\n",
       "\t<li>10</li>\n",
       "\t<li>8</li>\n",
       "</ol>\n"
      ],
      "text/latex": [
       "\\begin{enumerate*}\n",
       "\\item 10\n",
       "\\item 8\n",
       "\\end{enumerate*}\n"
      ],
      "text/markdown": [
       "1. 10\n",
       "2. 8\n",
       "\n",
       "\n"
      ],
      "text/plain": [
       "[1] 10  8"
      ]
     },
     "metadata": {},
     "output_type": "display_data"
    },
    {
     "name": "stdout",
     "output_type": "stream",
     "text": [
      "'data.frame':\t10 obs. of  8 variables:\n",
      " $ Population: Factor w/ 3 levels \"BTx642\",\"P85\",..: 3 3 3 3 3 1 1 1 1 1\n",
      " $ Trait     : Factor w/ 5 levels \"Amylose\",\"Fat\",..: 1 2 5 4 3 1 2 5 4 3\n",
      " $ va        : num  2.052 0.179 2.889 0.894 1658.058 ...\n",
      " $ ve        : num  6.597 0.154 3.727 1.375 1124.597 ...\n",
      " $ h2        : num  0.237 0.537 0.437 0.394 0.596 ...\n",
      " $ lower_CI  : num  0.188 0.489 0.386 0.342 0.551 ...\n",
      " $ upper_CI  : num  0.287 0.585 0.487 0.446 0.641 ...\n",
      " $ SE        : num  0.0494 0.0481 0.0503 0.0523 0.0449 ...\n"
     ]
    },
    {
     "data": {
      "image/png": "[encoded data removed]",
      "text/plain": [
       "plot without title"
      ]
     },
     "metadata": {},
     "output_type": "display_data"
    }
   ],
   "source": [
    "gh = read.table('data/GenomicHeritability_all_R.txt',header=T)\n",
    "dim(gh)\n",
    "gh = gh[gh$Population !=  \"P85\",]\n",
    "dim(gh)\n",
    "str(gh)\n",
    "\n",
    "ns <- ggplot(gh,aes(x=Trait, y=h2))  + geom_bar(aes(fill=Population), position = \"dodge\", stat='identity')\n",
    "ns <- ns + geom_errorbar(aes(ymin=gh$h2-gh$SE, ymax=gh$h2+gh$SE), colour = \"black\", width=.07, position = position_dodge(0.5)) \n",
    "ns + theme_bw() + theme( text=element_text(size=10,family=\"Times New Roman\"), panel.grid.major = element_blank(), panel.grid.major.y = element_line(size=0.1,color = \"gray\"), axis.line.x = element_blank())\n"
   ]
  },
  {
   "cell_type": "code",
   "execution_count": null,
   "metadata": {},
   "outputs": [],
   "source": [
    "model <- rep(c('BRR','BayesA','BayesB','BayesC','BL'), times=5)\n",
    "trait <- rep(c('Amylose','Fat','Starch','Gross_Energy','Protein'))\n",
    "\n",
    "mt <- cbind(model,trait)\n",
    "head"
   ]
  },
  {
   "cell_type": "code",
   "execution_count": 2,
   "metadata": {},
   "outputs": [
    {
     "data": {
      "text/html": [
       "<table>\n",
       "<thead><tr><th scope=col>Taxa</th><th scope=col>Anthesis</th><th scope=col>Amylose</th><th scope=col>Fat</th><th scope=col>Starch</th><th scope=col>Protein</th><th scope=col>Gross_Energy</th></tr></thead>\n",
       "<tbody>\n",
       "\t<tr><td>CS_001    </td><td>0.3412594 </td><td> 1.4960630</td><td> 0.4064514</td><td> 0.5749230</td><td>-0.5832644</td><td>12.642840 </td></tr>\n",
       "\t<tr><td>CS_002    </td><td>0.3412594 </td><td>-0.1828995</td><td>-0.1795185</td><td> 0.4579821</td><td>-0.3655312</td><td>-6.284506 </td></tr>\n",
       "\t<tr><td>CS_004    </td><td>0.4968154 </td><td> 0.5230890</td><td>-0.1733068</td><td>-0.5026038</td><td> 0.8320012</td><td>20.556675 </td></tr>\n",
       "\t<tr><td>CS_005    </td><td>0.2871255 </td><td> 0.3224019</td><td> 0.1414191</td><td> 0.6018380</td><td>-0.5649504</td><td>13.022203 </td></tr>\n",
       "\t<tr><td>CS_006    </td><td>0.6371266 </td><td>-1.0985344</td><td> 0.6104020</td><td> 0.7159946</td><td>-1.1337020</td><td>-5.268888 </td></tr>\n",
       "\t<tr><td>CS_007    </td><td>1.3011047 </td><td>-3.0408987</td><td> 0.2149241</td><td>-1.1801184</td><td> 1.2399965</td><td>44.673200 </td></tr>\n",
       "</tbody>\n",
       "</table>\n"
      ],
      "text/latex": [
       "\\begin{tabular}{r|lllllll}\n",
       " Taxa & Anthesis & Amylose & Fat & Starch & Protein & Gross\\_Energy\\\\\n",
       "\\hline\n",
       "\t CS\\_001   & 0.3412594  &  1.4960630 &  0.4064514 &  0.5749230 & -0.5832644 & 12.642840 \\\\\n",
       "\t CS\\_002   & 0.3412594  & -0.1828995 & -0.1795185 &  0.4579821 & -0.3655312 & -6.284506 \\\\\n",
       "\t CS\\_004   & 0.4968154  &  0.5230890 & -0.1733068 & -0.5026038 &  0.8320012 & 20.556675 \\\\\n",
       "\t CS\\_005   & 0.2871255  &  0.3224019 &  0.1414191 &  0.6018380 & -0.5649504 & 13.022203 \\\\\n",
       "\t CS\\_006   & 0.6371266  & -1.0985344 &  0.6104020 &  0.7159946 & -1.1337020 & -5.268888 \\\\\n",
       "\t CS\\_007   & 1.3011047  & -3.0408987 &  0.2149241 & -1.1801184 &  1.2399965 & 44.673200 \\\\\n",
       "\\end{tabular}\n"
      ],
      "text/markdown": [
       "\n",
       "| Taxa | Anthesis | Amylose | Fat | Starch | Protein | Gross_Energy |\n",
       "|---|---|---|---|---|---|---|\n",
       "| CS_001     | 0.3412594  |  1.4960630 |  0.4064514 |  0.5749230 | -0.5832644 | 12.642840  |\n",
       "| CS_002     | 0.3412594  | -0.1828995 | -0.1795185 |  0.4579821 | -0.3655312 | -6.284506  |\n",
       "| CS_004     | 0.4968154  |  0.5230890 | -0.1733068 | -0.5026038 |  0.8320012 | 20.556675  |\n",
       "| CS_005     | 0.2871255  |  0.3224019 |  0.1414191 |  0.6018380 | -0.5649504 | 13.022203  |\n",
       "| CS_006     | 0.6371266  | -1.0985344 |  0.6104020 |  0.7159946 | -1.1337020 | -5.268888  |\n",
       "| CS_007     | 1.3011047  | -3.0408987 |  0.2149241 | -1.1801184 |  1.2399965 | 44.673200  |\n",
       "\n"
      ],
      "text/plain": [
       "  Taxa   Anthesis  Amylose    Fat        Starch     Protein    Gross_Energy\n",
       "1 CS_001 0.3412594  1.4960630  0.4064514  0.5749230 -0.5832644 12.642840   \n",
       "2 CS_002 0.3412594 -0.1828995 -0.1795185  0.4579821 -0.3655312 -6.284506   \n",
       "3 CS_004 0.4968154  0.5230890 -0.1733068 -0.5026038  0.8320012 20.556675   \n",
       "4 CS_005 0.2871255  0.3224019  0.1414191  0.6018380 -0.5649504 13.022203   \n",
       "5 CS_006 0.6371266 -1.0985344  0.6104020  0.7159946 -1.1337020 -5.268888   \n",
       "6 CS_007 1.3011047 -3.0408987  0.2149241 -1.1801184  1.2399965 44.673200   "
      ]
     },
     "metadata": {},
     "output_type": "display_data"
    }
   ],
   "source": [
    "load('data//BTx642_GrainComp.RData')\n",
    "head(Y)"
   ]
  },
  {
   "cell_type": "code",
   "execution_count": null,
   "metadata": {},
   "outputs": [],
   "source": []
  }
 ],
 "metadata": {
  "kernelspec": {
   "display_name": "R 3.6.0",
   "language": "R",
   "name": "ir360"
  },
  "language_info": {
   "codemirror_mode": "r",
   "file_extension": ".r",
   "mimetype": "text/x-r-source",
   "name": "R",
   "pygments_lexer": "r",
   "version": "3.6.0"
  }
 },
 "nbformat": 4,
 "nbformat_minor": 2
}
