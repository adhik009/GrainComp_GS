{
 "cells": [
  {
   "cell_type": "markdown",
   "metadata": {},
   "source": [
    "## Parameter Estimation using the BME function in BMTME package"
   ]
  },
  {
   "cell_type": "code",
   "execution_count": 2,
   "metadata": {},
   "outputs": [],
   "source": [
    "##Fit multi trait multi environment models using BMTME package\n",
    ".libPaths(c('/home/ssapkot/.conda/envs/r_env_360/lib', .libPaths()))\n",
    "#install.packages(\"BMTME\",repos='http://cran.us.r-project.org', dependencies = TRUE)\n",
    "library(BGLR)\n",
    "library(lme4)\n",
    "library(coda)\n",
    "library(tidyverse)\n",
    "library(ggplot2)\n",
    "library(BMTME)\n",
    "\n",
    "setwd(\"/panicle/ssapkot/git_repo/GrainComp_GS/\")"
   ]
  },
  {
   "cell_type": "markdown",
   "metadata": {},
   "source": [
    "## Population: BTx642"
   ]
  },
  {
   "cell_type": "code",
   "execution_count": 5,
   "metadata": {},
   "outputs": [
    {
     "name": "stdout",
     "output_type": "stream",
     "text": [
      "[1] \"Number of iterations in the chain:\"\n"
     ]
    },
    {
     "data": {
      "text/html": [
       "25000"
      ],
      "text/latex": [
       "25000"
      ],
      "text/markdown": [
       "25000"
      ],
      "text/plain": [
       "[1] 25000"
      ]
     },
     "metadata": {},
     "output_type": "display_data"
    },
    {
     "name": "stdout",
     "output_type": "stream",
     "text": [
      "[1] \"Number of burnIns in the chain:\"\n"
     ]
    },
    {
     "data": {
      "text/html": [
       "15000"
      ],
      "text/latex": [
       "15000"
      ],
      "text/markdown": [
       "15000"
      ],
      "text/plain": [
       "[1] 15000"
      ]
     },
     "metadata": {},
     "output_type": "display_data"
    },
    {
     "name": "stdout",
     "output_type": "stream",
     "text": [
      "[1] \"Estimated parameters:\"\n"
     ]
    },
    {
     "data": {
      "text/html": [
       "<table>\n",
       "<tbody>\n",
       "\t<tr><td>Y          </td><td>nIter      </td><td>burnIn     </td><td>thin       </td><td>dfe        </td><td>Se         </td><td>yHat       </td><td>SD.yHat    </td><td>beta       </td><td>SD.beta    </td><td>b1         </td><td>SD.b1      </td><td>vare       </td><td>SD.vare    </td><td>varTrait   </td><td>SD.varTrait</td><td>NAvalues   </td></tr>\n",
       "</tbody>\n",
       "</table>\n"
      ],
      "text/latex": [
       "\\begin{tabular}{lllllllllllllllll}\n",
       "\t Y           & nIter       & burnIn      & thin        & dfe         & Se          & yHat        & SD.yHat     & beta        & SD.beta     & b1          & SD.b1       & vare        & SD.vare     & varTrait    & SD.varTrait & NAvalues   \\\\\n",
       "\\end{tabular}\n"
      ],
      "text/markdown": [
       "\n",
       "| Y           | nIter       | burnIn      | thin        | dfe         | Se          | yHat        | SD.yHat     | beta        | SD.beta     | b1          | SD.b1       | vare        | SD.vare     | varTrait    | SD.varTrait | NAvalues    |\n",
       "\n"
      ],
      "text/plain": [
       "     [,1] [,2]  [,3]   [,4] [,5] [,6] [,7] [,8]    [,9] [,10]   [,11] [,12]\n",
       "[1,] Y    nIter burnIn thin dfe  Se   yHat SD.yHat beta SD.beta b1    SD.b1\n",
       "     [,13] [,14]   [,15]    [,16]       [,17]   \n",
       "[1,] vare  SD.vare varTrait SD.varTrait NAvalues"
      ]
     },
     "metadata": {},
     "output_type": "display_data"
    }
   ],
   "source": [
    "fm <- readRDS('results/BME/BTx642_BME_Amylose_Model.rds')\n",
    "print('Number of iterations in the chain:')\n",
    "fm$nIter\n",
    "print('Number of burnIns in the chain:')\n",
    "fm$burnIn\n",
    "print('Estimated parameters:')\n",
    "t(names(fm))"
   ]
  },
  {
   "cell_type": "markdown",
   "metadata": {},
   "source": [
    "#### Beta coefficients for each trait"
   ]
  },
  {
   "cell_type": "code",
   "execution_count": 6,
   "metadata": {},
   "outputs": [
    {
     "name": "stdout",
     "output_type": "stream",
     "text": [
      "[1] \"Estimates and SD of beta coefficients\"\n"
     ]
    },
    {
     "data": {
      "text/html": [
       "<table>\n",
       "<thead><tr><th></th><th scope=col>Trait</th><th scope=col>SC2014</th><th scope=col>SC2015</th><th scope=col>TX2014</th><th scope=col>TX2015</th></tr></thead>\n",
       "<tbody>\n",
       "\t<tr><th scope=row>value</th><td>Amylose         </td><td>-0.0608 ± 0.1402</td><td>-0.0355 ± 0.1856</td><td>-0.0605 ± 0.1447</td><td>-0.0449 ± 0.1461</td></tr>\n",
       "\t<tr><th scope=row>value</th><td>Fat             </td><td>-0.0035 ± 0.021 </td><td>-0.0021 ± 0.014 </td><td>0.0014 ± 0.0222 </td><td>0.0013 ± 0.0164 </td></tr>\n",
       "\t<tr><th scope=row>value</th><td>GrossEnergy     </td><td>-0.0903 ± 0.4558</td><td>-0.0385 ± 0.5278</td><td>-0.193 ± 0.6458 </td><td>-0.0386 ± 0.6251</td></tr>\n",
       "\t<tr><th scope=row>value</th><td>Protein         </td><td>-0.0193 ± 0.0414</td><td>-0.0052 ± 0.0363</td><td>-0.0204 ± 0.044 </td><td>-0.0189 ± 0.0364</td></tr>\n",
       "\t<tr><th scope=row>value</th><td>Starch          </td><td>0.0258 ± 0.0682 </td><td>0.0078 ± 0.0541 </td><td>0.0301 ± 0.0867 </td><td>0.0281 ± 0.0585 </td></tr>\n",
       "</tbody>\n",
       "</table>\n"
      ],
      "text/latex": [
       "\\begin{tabular}{r|lllll}\n",
       "  & Trait & SC2014 & SC2015 & TX2014 & TX2015\\\\\n",
       "\\hline\n",
       "\tvalue & Amylose          & -0.0608 ± 0.1402 & -0.0355 ± 0.1856 & -0.0605 ± 0.1447 & -0.0449 ± 0.1461\\\\\n",
       "\tvalue & Fat              & -0.0035 ± 0.021  & -0.0021 ± 0.014  & 0.0014 ± 0.0222  & 0.0013 ± 0.0164 \\\\\n",
       "\tvalue & GrossEnergy      & -0.0903 ± 0.4558 & -0.0385 ± 0.5278 & -0.193 ± 0.6458  & -0.0386 ± 0.6251\\\\\n",
       "\tvalue & Protein          & -0.0193 ± 0.0414 & -0.0052 ± 0.0363 & -0.0204 ± 0.044  & -0.0189 ± 0.0364\\\\\n",
       "\tvalue & Starch           & 0.0258 ± 0.0682  & 0.0078 ± 0.0541  & 0.0301 ± 0.0867  & 0.0281 ± 0.0585 \\\\\n",
       "\\end{tabular}\n"
      ],
      "text/markdown": [
       "\n",
       "| <!--/--> | Trait | SC2014 | SC2015 | TX2014 | TX2015 |\n",
       "|---|---|---|---|---|---|\n",
       "| value | Amylose          | -0.0608 ± 0.1402 | -0.0355 ± 0.1856 | -0.0605 ± 0.1447 | -0.0449 ± 0.1461 |\n",
       "| value | Fat              | -0.0035 ± 0.021  | -0.0021 ± 0.014  | 0.0014 ± 0.0222  | 0.0013 ± 0.0164  |\n",
       "| value | GrossEnergy      | -0.0903 ± 0.4558 | -0.0385 ± 0.5278 | -0.193 ± 0.6458  | -0.0386 ± 0.6251 |\n",
       "| value | Protein          | -0.0193 ± 0.0414 | -0.0052 ± 0.0363 | -0.0204 ± 0.044  | -0.0189 ± 0.0364 |\n",
       "| value | Starch           | 0.0258 ± 0.0682  | 0.0078 ± 0.0541  | 0.0301 ± 0.0867  | 0.0281 ± 0.0585  |\n",
       "\n"
      ],
      "text/plain": [
       "      Trait       SC2014           SC2015           TX2014          \n",
       "value Amylose     -0.0608 ± 0.1402 -0.0355 ± 0.1856 -0.0605 ± 0.1447\n",
       "value Fat         -0.0035 ± 0.021  -0.0021 ± 0.014  0.0014 ± 0.0222 \n",
       "value GrossEnergy -0.0903 ± 0.4558 -0.0385 ± 0.5278 -0.193 ± 0.6458 \n",
       "value Protein     -0.0193 ± 0.0414 -0.0052 ± 0.0363 -0.0204 ± 0.044 \n",
       "value Starch      0.0258 ± 0.0682  0.0078 ± 0.0541  0.0301 ± 0.0867 \n",
       "      TX2015          \n",
       "value -0.0449 ± 0.1461\n",
       "value 0.0013 ± 0.0164 \n",
       "value -0.0386 ± 0.6251\n",
       "value -0.0189 ± 0.0364\n",
       "value 0.0281 ± 0.0585 "
      ]
     },
     "metadata": {},
     "output_type": "display_data"
    }
   ],
   "source": [
    "setwd('results/BME/')\n",
    "Traits <- c('Amylose','Fat','GrossEnergy','Protein','Starch')\n",
    "beta <- c()\n",
    "for (i in 1:length(Traits)){\n",
    "    trait <- Traits[i]\n",
    "    fm <- readRDS(file=paste0('BTx642_BME_',trait,'_Model.rds'))\n",
    "    m.b <- fm$beta\n",
    "    sd.b <- fm$SD.beta\n",
    "    value <- c(trait,paste0(m.b,' ± ',sd.b))\n",
    "    beta <- rbind(beta, value)\n",
    "    }\n",
    "colnames(beta) <- c('Trait','SC2014','SC2015','TX2014','TX2015')\n",
    "\n",
    "print('Estimates and SD of beta coefficients')\n",
    "beta\n",
    "setwd('../../')"
   ]
  },
  {
   "cell_type": "markdown",
   "metadata": {},
   "source": [
    "### Amylose"
   ]
  },
  {
   "cell_type": "markdown",
   "metadata": {},
   "source": [
    "#### Variance-covariance for Environment"
   ]
  },
  {
   "cell_type": "code",
   "execution_count": 7,
   "metadata": {},
   "outputs": [
    {
     "name": "stdout",
     "output_type": "stream",
     "text": [
      "[1] \"Genetic Covariance between Environments\"\n"
     ]
    },
    {
     "data": {
      "text/html": [
       "<table>\n",
       "<thead><tr><th></th><th scope=col>Amylose_2014_SC</th><th scope=col>Amylose_2015_SC</th><th scope=col>Amylose_2014_TX</th><th scope=col>Amylose_2015_TX</th></tr></thead>\n",
       "<tbody>\n",
       "\t<tr><th scope=row>Amylose_2014_SC</th><td>4.1990</td><td>4.7481</td><td>4.7623</td><td>2.0455</td></tr>\n",
       "\t<tr><th scope=row>Amylose_2015_SC</th><td>4.7481</td><td>7.0191</td><td>5.9770</td><td>3.0945</td></tr>\n",
       "\t<tr><th scope=row>Amylose_2014_TX</th><td>4.7623</td><td>5.9770</td><td>5.9679</td><td>2.7707</td></tr>\n",
       "\t<tr><th scope=row>Amylose_2015_TX</th><td>2.0455</td><td>3.0945</td><td>2.7707</td><td>2.0947</td></tr>\n",
       "</tbody>\n",
       "</table>\n"
      ],
      "text/latex": [
       "\\begin{tabular}{r|llll}\n",
       "  & Amylose\\_2014\\_SC & Amylose\\_2015\\_SC & Amylose\\_2014\\_TX & Amylose\\_2015\\_TX\\\\\n",
       "\\hline\n",
       "\tAmylose\\_2014\\_SC & 4.1990 & 4.7481 & 4.7623 & 2.0455\\\\\n",
       "\tAmylose\\_2015\\_SC & 4.7481 & 7.0191 & 5.9770 & 3.0945\\\\\n",
       "\tAmylose\\_2014\\_TX & 4.7623 & 5.9770 & 5.9679 & 2.7707\\\\\n",
       "\tAmylose\\_2015\\_TX & 2.0455 & 3.0945 & 2.7707 & 2.0947\\\\\n",
       "\\end{tabular}\n"
      ],
      "text/markdown": [
       "\n",
       "| <!--/--> | Amylose_2014_SC | Amylose_2015_SC | Amylose_2014_TX | Amylose_2015_TX |\n",
       "|---|---|---|---|---|\n",
       "| Amylose_2014_SC | 4.1990 | 4.7481 | 4.7623 | 2.0455 |\n",
       "| Amylose_2015_SC | 4.7481 | 7.0191 | 5.9770 | 3.0945 |\n",
       "| Amylose_2014_TX | 4.7623 | 5.9770 | 5.9679 | 2.7707 |\n",
       "| Amylose_2015_TX | 2.0455 | 3.0945 | 2.7707 | 2.0947 |\n",
       "\n"
      ],
      "text/plain": [
       "                Amylose_2014_SC Amylose_2015_SC Amylose_2014_TX Amylose_2015_TX\n",
       "Amylose_2014_SC 4.1990          4.7481          4.7623          2.0455         \n",
       "Amylose_2015_SC 4.7481          7.0191          5.9770          3.0945         \n",
       "Amylose_2014_TX 4.7623          5.9770          5.9679          2.7707         \n",
       "Amylose_2015_TX 2.0455          3.0945          2.7707          2.0947         "
      ]
     },
     "metadata": {},
     "output_type": "display_data"
    },
    {
     "name": "stdout",
     "output_type": "stream",
     "text": [
      "[1] \"--------------------------------------\"\n",
      "[1] \"Genetic correlation between Environments\"\n"
     ]
    },
    {
     "data": {
      "text/html": [
       "<table>\n",
       "<thead><tr><th></th><th scope=col>Amylose_2014_SC</th><th scope=col>Amylose_2015_SC</th><th scope=col>Amylose_2014_TX</th><th scope=col>Amylose_2015_TX</th></tr></thead>\n",
       "<tbody>\n",
       "\t<tr><th scope=row>Amylose_2014_SC</th><td>1.0000000</td><td>0.8745934</td><td>0.9513341</td><td>0.6897086</td></tr>\n",
       "\t<tr><th scope=row>Amylose_2015_SC</th><td>0.8745934</td><td>1.0000000</td><td>0.9234891</td><td>0.8070285</td></tr>\n",
       "\t<tr><th scope=row>Amylose_2014_TX</th><td>0.9513341</td><td>0.9234891</td><td>1.0000000</td><td>0.7836422</td></tr>\n",
       "\t<tr><th scope=row>Amylose_2015_TX</th><td>0.6897086</td><td>0.8070285</td><td>0.7836422</td><td>1.0000000</td></tr>\n",
       "</tbody>\n",
       "</table>\n"
      ],
      "text/latex": [
       "\\begin{tabular}{r|llll}\n",
       "  & Amylose\\_2014\\_SC & Amylose\\_2015\\_SC & Amylose\\_2014\\_TX & Amylose\\_2015\\_TX\\\\\n",
       "\\hline\n",
       "\tAmylose\\_2014\\_SC & 1.0000000 & 0.8745934 & 0.9513341 & 0.6897086\\\\\n",
       "\tAmylose\\_2015\\_SC & 0.8745934 & 1.0000000 & 0.9234891 & 0.8070285\\\\\n",
       "\tAmylose\\_2014\\_TX & 0.9513341 & 0.9234891 & 1.0000000 & 0.7836422\\\\\n",
       "\tAmylose\\_2015\\_TX & 0.6897086 & 0.8070285 & 0.7836422 & 1.0000000\\\\\n",
       "\\end{tabular}\n"
      ],
      "text/markdown": [
       "\n",
       "| <!--/--> | Amylose_2014_SC | Amylose_2015_SC | Amylose_2014_TX | Amylose_2015_TX |\n",
       "|---|---|---|---|---|\n",
       "| Amylose_2014_SC | 1.0000000 | 0.8745934 | 0.9513341 | 0.6897086 |\n",
       "| Amylose_2015_SC | 0.8745934 | 1.0000000 | 0.9234891 | 0.8070285 |\n",
       "| Amylose_2014_TX | 0.9513341 | 0.9234891 | 1.0000000 | 0.7836422 |\n",
       "| Amylose_2015_TX | 0.6897086 | 0.8070285 | 0.7836422 | 1.0000000 |\n",
       "\n"
      ],
      "text/plain": [
       "                Amylose_2014_SC Amylose_2015_SC Amylose_2014_TX Amylose_2015_TX\n",
       "Amylose_2014_SC 1.0000000       0.8745934       0.9513341       0.6897086      \n",
       "Amylose_2015_SC 0.8745934       1.0000000       0.9234891       0.8070285      \n",
       "Amylose_2014_TX 0.9513341       0.9234891       1.0000000       0.7836422      \n",
       "Amylose_2015_TX 0.6897086       0.8070285       0.7836422       1.0000000      "
      ]
     },
     "metadata": {},
     "output_type": "display_data"
    },
    {
     "name": "stdout",
     "output_type": "stream",
     "text": [
      "[1] \"--------------------------------------\"\n"
     ]
    }
   ],
   "source": [
    "fm <- readRDS('results/BME/BTx642_BME_Amylose_Model.rds')\n",
    "\n",
    "COV_TraitGenetic <- fm$varTrait\n",
    "rownames(COV_TraitGenetic) <- colnames(COV_TraitGenetic)\n",
    "print('Genetic Covariance between Environments')\n",
    "COV_TraitGenetic\n",
    "print('--------------------------------------')\n",
    "COR_TraitGenetic <- cov2cor(COV_TraitGenetic)\n",
    "rownames(COR_TraitGenetic) <- colnames(COR_TraitGenetic)\n",
    "print('Genetic correlation between Environments')\n",
    "COR_TraitGenetic\n",
    "print('--------------------------------------')"
   ]
  },
  {
   "cell_type": "markdown",
   "metadata": {},
   "source": [
    "#### Variance-covariance for Residuals"
   ]
  },
  {
   "cell_type": "code",
   "execution_count": 8,
   "metadata": {},
   "outputs": [
    {
     "name": "stdout",
     "output_type": "stream",
     "text": [
      "[1] \"Genetic Covariance for Residuals\"\n"
     ]
    },
    {
     "data": {
      "text/html": [
       "<table>\n",
       "<thead><tr><th></th><th scope=col>Amylose_2014_SC</th><th scope=col>Amylose_2015_SC</th><th scope=col>Amylose_2014_TX</th><th scope=col>Amylose_2015_TX</th></tr></thead>\n",
       "<tbody>\n",
       "\t<tr><th scope=row>Amylose_2014_SC</th><td>3.7438</td><td>1.8786</td><td>2.8585</td><td>0.8586</td></tr>\n",
       "\t<tr><th scope=row>Amylose_2015_SC</th><td>1.8786</td><td>6.6620</td><td>2.5205</td><td>1.6026</td></tr>\n",
       "\t<tr><th scope=row>Amylose_2014_TX</th><td>2.8585</td><td>2.5205</td><td>3.9633</td><td>1.4638</td></tr>\n",
       "\t<tr><th scope=row>Amylose_2015_TX</th><td>0.8586</td><td>1.6026</td><td>1.4638</td><td>3.9677</td></tr>\n",
       "</tbody>\n",
       "</table>\n"
      ],
      "text/latex": [
       "\\begin{tabular}{r|llll}\n",
       "  & Amylose\\_2014\\_SC & Amylose\\_2015\\_SC & Amylose\\_2014\\_TX & Amylose\\_2015\\_TX\\\\\n",
       "\\hline\n",
       "\tAmylose\\_2014\\_SC & 3.7438 & 1.8786 & 2.8585 & 0.8586\\\\\n",
       "\tAmylose\\_2015\\_SC & 1.8786 & 6.6620 & 2.5205 & 1.6026\\\\\n",
       "\tAmylose\\_2014\\_TX & 2.8585 & 2.5205 & 3.9633 & 1.4638\\\\\n",
       "\tAmylose\\_2015\\_TX & 0.8586 & 1.6026 & 1.4638 & 3.9677\\\\\n",
       "\\end{tabular}\n"
      ],
      "text/markdown": [
       "\n",
       "| <!--/--> | Amylose_2014_SC | Amylose_2015_SC | Amylose_2014_TX | Amylose_2015_TX |\n",
       "|---|---|---|---|---|\n",
       "| Amylose_2014_SC | 3.7438 | 1.8786 | 2.8585 | 0.8586 |\n",
       "| Amylose_2015_SC | 1.8786 | 6.6620 | 2.5205 | 1.6026 |\n",
       "| Amylose_2014_TX | 2.8585 | 2.5205 | 3.9633 | 1.4638 |\n",
       "| Amylose_2015_TX | 0.8586 | 1.6026 | 1.4638 | 3.9677 |\n",
       "\n"
      ],
      "text/plain": [
       "                Amylose_2014_SC Amylose_2015_SC Amylose_2014_TX Amylose_2015_TX\n",
       "Amylose_2014_SC 3.7438          1.8786          2.8585          0.8586         \n",
       "Amylose_2015_SC 1.8786          6.6620          2.5205          1.6026         \n",
       "Amylose_2014_TX 2.8585          2.5205          3.9633          1.4638         \n",
       "Amylose_2015_TX 0.8586          1.6026          1.4638          3.9677         "
      ]
     },
     "metadata": {},
     "output_type": "display_data"
    },
    {
     "name": "stdout",
     "output_type": "stream",
     "text": [
      "[1] \"--------------------------------------\"\n",
      "[1] \"Genetic correlation for Residuals\"\n"
     ]
    },
    {
     "data": {
      "text/html": [
       "<table>\n",
       "<thead><tr><th></th><th scope=col>Amylose_2014_SC</th><th scope=col>Amylose_2015_SC</th><th scope=col>Amylose_2014_TX</th><th scope=col>Amylose_2015_TX</th></tr></thead>\n",
       "<tbody>\n",
       "\t<tr><th scope=row>Amylose_2014_SC</th><td>1.0000000</td><td>0.3761627</td><td>0.7420846</td><td>0.2227743</td></tr>\n",
       "\t<tr><th scope=row>Amylose_2015_SC</th><td>0.3761627</td><td>1.0000000</td><td>0.4905191</td><td>0.3117119</td></tr>\n",
       "\t<tr><th scope=row>Amylose_2014_TX</th><td>0.7420846</td><td>0.4905191</td><td>1.0000000</td><td>0.3691338</td></tr>\n",
       "\t<tr><th scope=row>Amylose_2015_TX</th><td>0.2227743</td><td>0.3117119</td><td>0.3691338</td><td>1.0000000</td></tr>\n",
       "</tbody>\n",
       "</table>\n"
      ],
      "text/latex": [
       "\\begin{tabular}{r|llll}\n",
       "  & Amylose\\_2014\\_SC & Amylose\\_2015\\_SC & Amylose\\_2014\\_TX & Amylose\\_2015\\_TX\\\\\n",
       "\\hline\n",
       "\tAmylose\\_2014\\_SC & 1.0000000 & 0.3761627 & 0.7420846 & 0.2227743\\\\\n",
       "\tAmylose\\_2015\\_SC & 0.3761627 & 1.0000000 & 0.4905191 & 0.3117119\\\\\n",
       "\tAmylose\\_2014\\_TX & 0.7420846 & 0.4905191 & 1.0000000 & 0.3691338\\\\\n",
       "\tAmylose\\_2015\\_TX & 0.2227743 & 0.3117119 & 0.3691338 & 1.0000000\\\\\n",
       "\\end{tabular}\n"
      ],
      "text/markdown": [
       "\n",
       "| <!--/--> | Amylose_2014_SC | Amylose_2015_SC | Amylose_2014_TX | Amylose_2015_TX |\n",
       "|---|---|---|---|---|\n",
       "| Amylose_2014_SC | 1.0000000 | 0.3761627 | 0.7420846 | 0.2227743 |\n",
       "| Amylose_2015_SC | 0.3761627 | 1.0000000 | 0.4905191 | 0.3117119 |\n",
       "| Amylose_2014_TX | 0.7420846 | 0.4905191 | 1.0000000 | 0.3691338 |\n",
       "| Amylose_2015_TX | 0.2227743 | 0.3117119 | 0.3691338 | 1.0000000 |\n",
       "\n"
      ],
      "text/plain": [
       "                Amylose_2014_SC Amylose_2015_SC Amylose_2014_TX Amylose_2015_TX\n",
       "Amylose_2014_SC 1.0000000       0.3761627       0.7420846       0.2227743      \n",
       "Amylose_2015_SC 0.3761627       1.0000000       0.4905191       0.3117119      \n",
       "Amylose_2014_TX 0.7420846       0.4905191       1.0000000       0.3691338      \n",
       "Amylose_2015_TX 0.2227743       0.3117119       0.3691338       1.0000000      "
      ]
     },
     "metadata": {},
     "output_type": "display_data"
    },
    {
     "name": "stdout",
     "output_type": "stream",
     "text": [
      "[1] \"--------------------------------------\"\n"
     ]
    }
   ],
   "source": [
    "COV_Residual <- fm$vare\n",
    "rownames(COV_Residual) <- colnames(COV_Residual)\n",
    "print('Genetic Covariance for Residuals')\n",
    "COV_Residual\n",
    "print('--------------------------------------')\n",
    "COR_Residual <- cov2cor(COV_Residual)\n",
    "rownames(COR_Residual) <- colnames(COR_Residual)\n",
    "print('Genetic correlation for Residuals')\n",
    "COR_Residual\n",
    "print('--------------------------------------')"
   ]
  },
  {
   "cell_type": "markdown",
   "metadata": {},
   "source": [
    "### Fat"
   ]
  },
  {
   "cell_type": "code",
   "execution_count": 9,
   "metadata": {},
   "outputs": [
    {
     "name": "stdout",
     "output_type": "stream",
     "text": [
      "[1] \"Genetic Covariance between Environments\"\n"
     ]
    },
    {
     "data": {
      "text/html": [
       "<table>\n",
       "<thead><tr><th></th><th scope=col>Fat_2014_SC</th><th scope=col>Fat_2015_SC</th><th scope=col>Fat_2014_TX</th><th scope=col>Fat_2015_TX</th></tr></thead>\n",
       "<tbody>\n",
       "\t<tr><th scope=row>Fat_2014_SC</th><td>0.0542</td><td>0.0221</td><td>0.0597</td><td>0.0392</td></tr>\n",
       "\t<tr><th scope=row>Fat_2015_SC</th><td>0.0221</td><td>0.0205</td><td>0.0280</td><td>0.0201</td></tr>\n",
       "\t<tr><th scope=row>Fat_2014_TX</th><td>0.0597</td><td>0.0280</td><td>0.0836</td><td>0.0504</td></tr>\n",
       "\t<tr><th scope=row>Fat_2015_TX</th><td>0.0392</td><td>0.0201</td><td>0.0504</td><td>0.0389</td></tr>\n",
       "</tbody>\n",
       "</table>\n"
      ],
      "text/latex": [
       "\\begin{tabular}{r|llll}\n",
       "  & Fat\\_2014\\_SC & Fat\\_2015\\_SC & Fat\\_2014\\_TX & Fat\\_2015\\_TX\\\\\n",
       "\\hline\n",
       "\tFat\\_2014\\_SC & 0.0542 & 0.0221 & 0.0597 & 0.0392\\\\\n",
       "\tFat\\_2015\\_SC & 0.0221 & 0.0205 & 0.0280 & 0.0201\\\\\n",
       "\tFat\\_2014\\_TX & 0.0597 & 0.0280 & 0.0836 & 0.0504\\\\\n",
       "\tFat\\_2015\\_TX & 0.0392 & 0.0201 & 0.0504 & 0.0389\\\\\n",
       "\\end{tabular}\n"
      ],
      "text/markdown": [
       "\n",
       "| <!--/--> | Fat_2014_SC | Fat_2015_SC | Fat_2014_TX | Fat_2015_TX |\n",
       "|---|---|---|---|---|\n",
       "| Fat_2014_SC | 0.0542 | 0.0221 | 0.0597 | 0.0392 |\n",
       "| Fat_2015_SC | 0.0221 | 0.0205 | 0.0280 | 0.0201 |\n",
       "| Fat_2014_TX | 0.0597 | 0.0280 | 0.0836 | 0.0504 |\n",
       "| Fat_2015_TX | 0.0392 | 0.0201 | 0.0504 | 0.0389 |\n",
       "\n"
      ],
      "text/plain": [
       "            Fat_2014_SC Fat_2015_SC Fat_2014_TX Fat_2015_TX\n",
       "Fat_2014_SC 0.0542      0.0221      0.0597      0.0392     \n",
       "Fat_2015_SC 0.0221      0.0205      0.0280      0.0201     \n",
       "Fat_2014_TX 0.0597      0.0280      0.0836      0.0504     \n",
       "Fat_2015_TX 0.0392      0.0201      0.0504      0.0389     "
      ]
     },
     "metadata": {},
     "output_type": "display_data"
    },
    {
     "name": "stdout",
     "output_type": "stream",
     "text": [
      "[1] \"--------------------------------------\"\n",
      "[1] \"Genetic correlation between Environments\"\n"
     ]
    },
    {
     "data": {
      "text/html": [
       "<table>\n",
       "<thead><tr><th></th><th scope=col>Fat_2014_SC</th><th scope=col>Fat_2015_SC</th><th scope=col>Fat_2014_TX</th><th scope=col>Fat_2015_TX</th></tr></thead>\n",
       "<tbody>\n",
       "\t<tr><th scope=row>Fat_2014_SC</th><td>1.0000000</td><td>0.6630033</td><td>0.8868937</td><td>0.8537125</td></tr>\n",
       "\t<tr><th scope=row>Fat_2015_SC</th><td>0.6630033</td><td>1.0000000</td><td>0.6763601</td><td>0.7117776</td></tr>\n",
       "\t<tr><th scope=row>Fat_2014_TX</th><td>0.8868937</td><td>0.6763601</td><td>1.0000000</td><td>0.8837972</td></tr>\n",
       "\t<tr><th scope=row>Fat_2015_TX</th><td>0.8537125</td><td>0.7117776</td><td>0.8837972</td><td>1.0000000</td></tr>\n",
       "</tbody>\n",
       "</table>\n"
      ],
      "text/latex": [
       "\\begin{tabular}{r|llll}\n",
       "  & Fat\\_2014\\_SC & Fat\\_2015\\_SC & Fat\\_2014\\_TX & Fat\\_2015\\_TX\\\\\n",
       "\\hline\n",
       "\tFat\\_2014\\_SC & 1.0000000 & 0.6630033 & 0.8868937 & 0.8537125\\\\\n",
       "\tFat\\_2015\\_SC & 0.6630033 & 1.0000000 & 0.6763601 & 0.7117776\\\\\n",
       "\tFat\\_2014\\_TX & 0.8868937 & 0.6763601 & 1.0000000 & 0.8837972\\\\\n",
       "\tFat\\_2015\\_TX & 0.8537125 & 0.7117776 & 0.8837972 & 1.0000000\\\\\n",
       "\\end{tabular}\n"
      ],
      "text/markdown": [
       "\n",
       "| <!--/--> | Fat_2014_SC | Fat_2015_SC | Fat_2014_TX | Fat_2015_TX |\n",
       "|---|---|---|---|---|\n",
       "| Fat_2014_SC | 1.0000000 | 0.6630033 | 0.8868937 | 0.8537125 |\n",
       "| Fat_2015_SC | 0.6630033 | 1.0000000 | 0.6763601 | 0.7117776 |\n",
       "| Fat_2014_TX | 0.8868937 | 0.6763601 | 1.0000000 | 0.8837972 |\n",
       "| Fat_2015_TX | 0.8537125 | 0.7117776 | 0.8837972 | 1.0000000 |\n",
       "\n"
      ],
      "text/plain": [
       "            Fat_2014_SC Fat_2015_SC Fat_2014_TX Fat_2015_TX\n",
       "Fat_2014_SC 1.0000000   0.6630033   0.8868937   0.8537125  \n",
       "Fat_2015_SC 0.6630033   1.0000000   0.6763601   0.7117776  \n",
       "Fat_2014_TX 0.8868937   0.6763601   1.0000000   0.8837972  \n",
       "Fat_2015_TX 0.8537125   0.7117776   0.8837972   1.0000000  "
      ]
     },
     "metadata": {},
     "output_type": "display_data"
    },
    {
     "name": "stdout",
     "output_type": "stream",
     "text": [
      "[1] \"--------------------------------------\"\n",
      "[1] \"Variance-covariance for Residuals\"\n",
      "[1] \"Genetic Covariance for Residuals\"\n"
     ]
    },
    {
     "data": {
      "text/html": [
       "<table>\n",
       "<thead><tr><th></th><th scope=col>Fat_2014_SC</th><th scope=col>Fat_2015_SC</th><th scope=col>Fat_2014_TX</th><th scope=col>Fat_2015_TX</th></tr></thead>\n",
       "<tbody>\n",
       "\t<tr><th scope=row>Fat_2014_SC</th><td>0.0847</td><td>0.0122</td><td>0.0462</td><td>0.0170</td></tr>\n",
       "\t<tr><th scope=row>Fat_2015_SC</th><td>0.0122</td><td>0.0381</td><td>0.0155</td><td>0.0112</td></tr>\n",
       "\t<tr><th scope=row>Fat_2014_TX</th><td>0.0462</td><td>0.0155</td><td>0.0963</td><td>0.0302</td></tr>\n",
       "\t<tr><th scope=row>Fat_2015_TX</th><td>0.0170</td><td>0.0112</td><td>0.0302</td><td>0.0518</td></tr>\n",
       "</tbody>\n",
       "</table>\n"
      ],
      "text/latex": [
       "\\begin{tabular}{r|llll}\n",
       "  & Fat\\_2014\\_SC & Fat\\_2015\\_SC & Fat\\_2014\\_TX & Fat\\_2015\\_TX\\\\\n",
       "\\hline\n",
       "\tFat\\_2014\\_SC & 0.0847 & 0.0122 & 0.0462 & 0.0170\\\\\n",
       "\tFat\\_2015\\_SC & 0.0122 & 0.0381 & 0.0155 & 0.0112\\\\\n",
       "\tFat\\_2014\\_TX & 0.0462 & 0.0155 & 0.0963 & 0.0302\\\\\n",
       "\tFat\\_2015\\_TX & 0.0170 & 0.0112 & 0.0302 & 0.0518\\\\\n",
       "\\end{tabular}\n"
      ],
      "text/markdown": [
       "\n",
       "| <!--/--> | Fat_2014_SC | Fat_2015_SC | Fat_2014_TX | Fat_2015_TX |\n",
       "|---|---|---|---|---|\n",
       "| Fat_2014_SC | 0.0847 | 0.0122 | 0.0462 | 0.0170 |\n",
       "| Fat_2015_SC | 0.0122 | 0.0381 | 0.0155 | 0.0112 |\n",
       "| Fat_2014_TX | 0.0462 | 0.0155 | 0.0963 | 0.0302 |\n",
       "| Fat_2015_TX | 0.0170 | 0.0112 | 0.0302 | 0.0518 |\n",
       "\n"
      ],
      "text/plain": [
       "            Fat_2014_SC Fat_2015_SC Fat_2014_TX Fat_2015_TX\n",
       "Fat_2014_SC 0.0847      0.0122      0.0462      0.0170     \n",
       "Fat_2015_SC 0.0122      0.0381      0.0155      0.0112     \n",
       "Fat_2014_TX 0.0462      0.0155      0.0963      0.0302     \n",
       "Fat_2015_TX 0.0170      0.0112      0.0302      0.0518     "
      ]
     },
     "metadata": {},
     "output_type": "display_data"
    },
    {
     "name": "stdout",
     "output_type": "stream",
     "text": [
      "[1] \"--------------------------------------\"\n",
      "[1] \"Genetic correlation for Residuals\"\n"
     ]
    },
    {
     "data": {
      "text/html": [
       "<table>\n",
       "<thead><tr><th></th><th scope=col>Fat_2014_SC</th><th scope=col>Fat_2015_SC</th><th scope=col>Fat_2014_TX</th><th scope=col>Fat_2015_TX</th></tr></thead>\n",
       "<tbody>\n",
       "\t<tr><th scope=row>Fat_2014_SC</th><td>1.0000000</td><td>0.2147611</td><td>0.5115489</td><td>0.2566506</td></tr>\n",
       "\t<tr><th scope=row>Fat_2015_SC</th><td>0.2147611</td><td>1.0000000</td><td>0.2558916</td><td>0.2521103</td></tr>\n",
       "\t<tr><th scope=row>Fat_2014_TX</th><td>0.5115489</td><td>0.2558916</td><td>1.0000000</td><td>0.4275914</td></tr>\n",
       "\t<tr><th scope=row>Fat_2015_TX</th><td>0.2566506</td><td>0.2521103</td><td>0.4275914</td><td>1.0000000</td></tr>\n",
       "</tbody>\n",
       "</table>\n"
      ],
      "text/latex": [
       "\\begin{tabular}{r|llll}\n",
       "  & Fat\\_2014\\_SC & Fat\\_2015\\_SC & Fat\\_2014\\_TX & Fat\\_2015\\_TX\\\\\n",
       "\\hline\n",
       "\tFat\\_2014\\_SC & 1.0000000 & 0.2147611 & 0.5115489 & 0.2566506\\\\\n",
       "\tFat\\_2015\\_SC & 0.2147611 & 1.0000000 & 0.2558916 & 0.2521103\\\\\n",
       "\tFat\\_2014\\_TX & 0.5115489 & 0.2558916 & 1.0000000 & 0.4275914\\\\\n",
       "\tFat\\_2015\\_TX & 0.2566506 & 0.2521103 & 0.4275914 & 1.0000000\\\\\n",
       "\\end{tabular}\n"
      ],
      "text/markdown": [
       "\n",
       "| <!--/--> | Fat_2014_SC | Fat_2015_SC | Fat_2014_TX | Fat_2015_TX |\n",
       "|---|---|---|---|---|\n",
       "| Fat_2014_SC | 1.0000000 | 0.2147611 | 0.5115489 | 0.2566506 |\n",
       "| Fat_2015_SC | 0.2147611 | 1.0000000 | 0.2558916 | 0.2521103 |\n",
       "| Fat_2014_TX | 0.5115489 | 0.2558916 | 1.0000000 | 0.4275914 |\n",
       "| Fat_2015_TX | 0.2566506 | 0.2521103 | 0.4275914 | 1.0000000 |\n",
       "\n"
      ],
      "text/plain": [
       "            Fat_2014_SC Fat_2015_SC Fat_2014_TX Fat_2015_TX\n",
       "Fat_2014_SC 1.0000000   0.2147611   0.5115489   0.2566506  \n",
       "Fat_2015_SC 0.2147611   1.0000000   0.2558916   0.2521103  \n",
       "Fat_2014_TX 0.5115489   0.2558916   1.0000000   0.4275914  \n",
       "Fat_2015_TX 0.2566506   0.2521103   0.4275914   1.0000000  "
      ]
     },
     "metadata": {},
     "output_type": "display_data"
    },
    {
     "name": "stdout",
     "output_type": "stream",
     "text": [
      "[1] \"--------------------------------------\"\n"
     ]
    }
   ],
   "source": [
    "fm <- readRDS('results/BME/BTx642_BME_Fat_Model.rds')\n",
    "COV_TraitGenetic <- fm$varTrait\n",
    "rownames(COV_TraitGenetic) <- colnames(COV_TraitGenetic)\n",
    "print('Genetic Covariance between Environments')\n",
    "COV_TraitGenetic\n",
    "print('--------------------------------------')\n",
    "COR_TraitGenetic <- cov2cor(COV_TraitGenetic)\n",
    "rownames(COR_TraitGenetic) <- colnames(COR_TraitGenetic)\n",
    "print('Genetic correlation between Environments')\n",
    "COR_TraitGenetic\n",
    "print('--------------------------------------')\n",
    "print('Variance-covariance for Residuals')\n",
    "COV_Residual <- fm$vare\n",
    "rownames(COV_Residual) <- colnames(COV_Residual)\n",
    "print('Genetic Covariance for Residuals')\n",
    "COV_Residual\n",
    "print('--------------------------------------')\n",
    "COR_Residual <- cov2cor(COV_Residual)\n",
    "rownames(COR_Residual) <- colnames(COR_Residual)\n",
    "print('Genetic correlation for Residuals')\n",
    "COR_Residual\n",
    "print('--------------------------------------')"
   ]
  },
  {
   "cell_type": "markdown",
   "metadata": {},
   "source": [
    "### Gross energy"
   ]
  },
  {
   "cell_type": "code",
   "execution_count": 10,
   "metadata": {},
   "outputs": [
    {
     "name": "stdout",
     "output_type": "stream",
     "text": [
      "[1] \"Genetic Covariance between Environments\"\n"
     ]
    },
    {
     "data": {
      "text/html": [
       "<table>\n",
       "<thead><tr><th></th><th scope=col>GrossEnergy_2014_SC</th><th scope=col>GrossEnergy_2015_SC</th><th scope=col>GrossEnergy_2014_TX</th><th scope=col>GrossEnergy_2015_TX</th></tr></thead>\n",
       "<tbody>\n",
       "\t<tr><th scope=row>GrossEnergy_2014_SC</th><td>16.5436</td><td>10.2503</td><td>13.3616</td><td>15.7017</td></tr>\n",
       "\t<tr><th scope=row>GrossEnergy_2015_SC</th><td>10.2503</td><td>18.3480</td><td>12.2609</td><td>14.6175</td></tr>\n",
       "\t<tr><th scope=row>GrossEnergy_2014_TX</th><td>13.3616</td><td>12.2609</td><td>29.7365</td><td>22.3666</td></tr>\n",
       "\t<tr><th scope=row>GrossEnergy_2015_TX</th><td>15.7017</td><td>14.6175</td><td>22.3666</td><td>34.3320</td></tr>\n",
       "</tbody>\n",
       "</table>\n"
      ],
      "text/latex": [
       "\\begin{tabular}{r|llll}\n",
       "  & GrossEnergy\\_2014\\_SC & GrossEnergy\\_2015\\_SC & GrossEnergy\\_2014\\_TX & GrossEnergy\\_2015\\_TX\\\\\n",
       "\\hline\n",
       "\tGrossEnergy\\_2014\\_SC & 16.5436 & 10.2503 & 13.3616 & 15.7017\\\\\n",
       "\tGrossEnergy\\_2015\\_SC & 10.2503 & 18.3480 & 12.2609 & 14.6175\\\\\n",
       "\tGrossEnergy\\_2014\\_TX & 13.3616 & 12.2609 & 29.7365 & 22.3666\\\\\n",
       "\tGrossEnergy\\_2015\\_TX & 15.7017 & 14.6175 & 22.3666 & 34.3320\\\\\n",
       "\\end{tabular}\n"
      ],
      "text/markdown": [
       "\n",
       "| <!--/--> | GrossEnergy_2014_SC | GrossEnergy_2015_SC | GrossEnergy_2014_TX | GrossEnergy_2015_TX |\n",
       "|---|---|---|---|---|\n",
       "| GrossEnergy_2014_SC | 16.5436 | 10.2503 | 13.3616 | 15.7017 |\n",
       "| GrossEnergy_2015_SC | 10.2503 | 18.3480 | 12.2609 | 14.6175 |\n",
       "| GrossEnergy_2014_TX | 13.3616 | 12.2609 | 29.7365 | 22.3666 |\n",
       "| GrossEnergy_2015_TX | 15.7017 | 14.6175 | 22.3666 | 34.3320 |\n",
       "\n"
      ],
      "text/plain": [
       "                    GrossEnergy_2014_SC GrossEnergy_2015_SC GrossEnergy_2014_TX\n",
       "GrossEnergy_2014_SC 16.5436             10.2503             13.3616            \n",
       "GrossEnergy_2015_SC 10.2503             18.3480             12.2609            \n",
       "GrossEnergy_2014_TX 13.3616             12.2609             29.7365            \n",
       "GrossEnergy_2015_TX 15.7017             14.6175             22.3666            \n",
       "                    GrossEnergy_2015_TX\n",
       "GrossEnergy_2014_SC 15.7017            \n",
       "GrossEnergy_2015_SC 14.6175            \n",
       "GrossEnergy_2014_TX 22.3666            \n",
       "GrossEnergy_2015_TX 34.3320            "
      ]
     },
     "metadata": {},
     "output_type": "display_data"
    },
    {
     "name": "stdout",
     "output_type": "stream",
     "text": [
      "[1] \"--------------------------------------\"\n",
      "[1] \"Genetic correlation between Environments\"\n"
     ]
    },
    {
     "data": {
      "text/html": [
       "<table>\n",
       "<thead><tr><th></th><th scope=col>GrossEnergy_2014_SC</th><th scope=col>GrossEnergy_2015_SC</th><th scope=col>GrossEnergy_2014_TX</th><th scope=col>GrossEnergy_2015_TX</th></tr></thead>\n",
       "<tbody>\n",
       "\t<tr><th scope=row>GrossEnergy_2014_SC</th><td>1.0000000</td><td>0.5883384</td><td>0.6024188</td><td>0.6588433</td></tr>\n",
       "\t<tr><th scope=row>GrossEnergy_2015_SC</th><td>0.5883384</td><td>1.0000000</td><td>0.5249078</td><td>0.5824105</td></tr>\n",
       "\t<tr><th scope=row>GrossEnergy_2014_TX</th><td>0.6024188</td><td>0.5249078</td><td>1.0000000</td><td>0.7000120</td></tr>\n",
       "\t<tr><th scope=row>GrossEnergy_2015_TX</th><td>0.6588433</td><td>0.5824105</td><td>0.7000120</td><td>1.0000000</td></tr>\n",
       "</tbody>\n",
       "</table>\n"
      ],
      "text/latex": [
       "\\begin{tabular}{r|llll}\n",
       "  & GrossEnergy\\_2014\\_SC & GrossEnergy\\_2015\\_SC & GrossEnergy\\_2014\\_TX & GrossEnergy\\_2015\\_TX\\\\\n",
       "\\hline\n",
       "\tGrossEnergy\\_2014\\_SC & 1.0000000 & 0.5883384 & 0.6024188 & 0.6588433\\\\\n",
       "\tGrossEnergy\\_2015\\_SC & 0.5883384 & 1.0000000 & 0.5249078 & 0.5824105\\\\\n",
       "\tGrossEnergy\\_2014\\_TX & 0.6024188 & 0.5249078 & 1.0000000 & 0.7000120\\\\\n",
       "\tGrossEnergy\\_2015\\_TX & 0.6588433 & 0.5824105 & 0.7000120 & 1.0000000\\\\\n",
       "\\end{tabular}\n"
      ],
      "text/markdown": [
       "\n",
       "| <!--/--> | GrossEnergy_2014_SC | GrossEnergy_2015_SC | GrossEnergy_2014_TX | GrossEnergy_2015_TX |\n",
       "|---|---|---|---|---|\n",
       "| GrossEnergy_2014_SC | 1.0000000 | 0.5883384 | 0.6024188 | 0.6588433 |\n",
       "| GrossEnergy_2015_SC | 0.5883384 | 1.0000000 | 0.5249078 | 0.5824105 |\n",
       "| GrossEnergy_2014_TX | 0.6024188 | 0.5249078 | 1.0000000 | 0.7000120 |\n",
       "| GrossEnergy_2015_TX | 0.6588433 | 0.5824105 | 0.7000120 | 1.0000000 |\n",
       "\n"
      ],
      "text/plain": [
       "                    GrossEnergy_2014_SC GrossEnergy_2015_SC GrossEnergy_2014_TX\n",
       "GrossEnergy_2014_SC 1.0000000           0.5883384           0.6024188          \n",
       "GrossEnergy_2015_SC 0.5883384           1.0000000           0.5249078          \n",
       "GrossEnergy_2014_TX 0.6024188           0.5249078           1.0000000          \n",
       "GrossEnergy_2015_TX 0.6588433           0.5824105           0.7000120          \n",
       "                    GrossEnergy_2015_TX\n",
       "GrossEnergy_2014_SC 0.6588433          \n",
       "GrossEnergy_2015_SC 0.5824105          \n",
       "GrossEnergy_2014_TX 0.7000120          \n",
       "GrossEnergy_2015_TX 1.0000000          "
      ]
     },
     "metadata": {},
     "output_type": "display_data"
    },
    {
     "name": "stdout",
     "output_type": "stream",
     "text": [
      "[1] \"--------------------------------------\"\n",
      "[1] \"Variance-covariance for Residuals\"\n",
      "[1] \"Genetic Covariance for Residuals\"\n"
     ]
    },
    {
     "data": {
      "text/html": [
       "<table>\n",
       "<thead><tr><th></th><th scope=col>GrossEnergy_2014_SC</th><th scope=col>GrossEnergy_2015_SC</th><th scope=col>GrossEnergy_2014_TX</th><th scope=col>GrossEnergy_2015_TX</th></tr></thead>\n",
       "<tbody>\n",
       "\t<tr><th scope=row>GrossEnergy_2014_SC</th><td>41.9135</td><td>11.2887</td><td>29.3319</td><td>10.5782</td></tr>\n",
       "\t<tr><th scope=row>GrossEnergy_2015_SC</th><td>11.2887</td><td>55.0881</td><td>19.1052</td><td>19.9282</td></tr>\n",
       "\t<tr><th scope=row>GrossEnergy_2014_TX</th><td>29.3319</td><td>19.1052</td><td>87.1568</td><td>30.9722</td></tr>\n",
       "\t<tr><th scope=row>GrossEnergy_2015_TX</th><td>10.5782</td><td>19.9282</td><td>30.9722</td><td>77.4394</td></tr>\n",
       "</tbody>\n",
       "</table>\n"
      ],
      "text/latex": [
       "\\begin{tabular}{r|llll}\n",
       "  & GrossEnergy\\_2014\\_SC & GrossEnergy\\_2015\\_SC & GrossEnergy\\_2014\\_TX & GrossEnergy\\_2015\\_TX\\\\\n",
       "\\hline\n",
       "\tGrossEnergy\\_2014\\_SC & 41.9135 & 11.2887 & 29.3319 & 10.5782\\\\\n",
       "\tGrossEnergy\\_2015\\_SC & 11.2887 & 55.0881 & 19.1052 & 19.9282\\\\\n",
       "\tGrossEnergy\\_2014\\_TX & 29.3319 & 19.1052 & 87.1568 & 30.9722\\\\\n",
       "\tGrossEnergy\\_2015\\_TX & 10.5782 & 19.9282 & 30.9722 & 77.4394\\\\\n",
       "\\end{tabular}\n"
      ],
      "text/markdown": [
       "\n",
       "| <!--/--> | GrossEnergy_2014_SC | GrossEnergy_2015_SC | GrossEnergy_2014_TX | GrossEnergy_2015_TX |\n",
       "|---|---|---|---|---|\n",
       "| GrossEnergy_2014_SC | 41.9135 | 11.2887 | 29.3319 | 10.5782 |\n",
       "| GrossEnergy_2015_SC | 11.2887 | 55.0881 | 19.1052 | 19.9282 |\n",
       "| GrossEnergy_2014_TX | 29.3319 | 19.1052 | 87.1568 | 30.9722 |\n",
       "| GrossEnergy_2015_TX | 10.5782 | 19.9282 | 30.9722 | 77.4394 |\n",
       "\n"
      ],
      "text/plain": [
       "                    GrossEnergy_2014_SC GrossEnergy_2015_SC GrossEnergy_2014_TX\n",
       "GrossEnergy_2014_SC 41.9135             11.2887             29.3319            \n",
       "GrossEnergy_2015_SC 11.2887             55.0881             19.1052            \n",
       "GrossEnergy_2014_TX 29.3319             19.1052             87.1568            \n",
       "GrossEnergy_2015_TX 10.5782             19.9282             30.9722            \n",
       "                    GrossEnergy_2015_TX\n",
       "GrossEnergy_2014_SC 10.5782            \n",
       "GrossEnergy_2015_SC 19.9282            \n",
       "GrossEnergy_2014_TX 30.9722            \n",
       "GrossEnergy_2015_TX 77.4394            "
      ]
     },
     "metadata": {},
     "output_type": "display_data"
    },
    {
     "name": "stdout",
     "output_type": "stream",
     "text": [
      "[1] \"--------------------------------------\"\n",
      "[1] \"Genetic correlation for Residuals\"\n"
     ]
    },
    {
     "data": {
      "text/html": [
       "<table>\n",
       "<thead><tr><th></th><th scope=col>GrossEnergy_2014_SC</th><th scope=col>GrossEnergy_2015_SC</th><th scope=col>GrossEnergy_2014_TX</th><th scope=col>GrossEnergy_2015_TX</th></tr></thead>\n",
       "<tbody>\n",
       "\t<tr><th scope=row>GrossEnergy_2014_SC</th><td>1.0000000</td><td>0.2349298</td><td>0.4853026</td><td>0.1856752</td></tr>\n",
       "\t<tr><th scope=row>GrossEnergy_2015_SC</th><td>0.2349298</td><td>1.0000000</td><td>0.2757224</td><td>0.3051112</td></tr>\n",
       "\t<tr><th scope=row>GrossEnergy_2014_TX</th><td>0.4853026</td><td>0.2757224</td><td>1.0000000</td><td>0.3769992</td></tr>\n",
       "\t<tr><th scope=row>GrossEnergy_2015_TX</th><td>0.1856752</td><td>0.3051112</td><td>0.3769992</td><td>1.0000000</td></tr>\n",
       "</tbody>\n",
       "</table>\n"
      ],
      "text/latex": [
       "\\begin{tabular}{r|llll}\n",
       "  & GrossEnergy\\_2014\\_SC & GrossEnergy\\_2015\\_SC & GrossEnergy\\_2014\\_TX & GrossEnergy\\_2015\\_TX\\\\\n",
       "\\hline\n",
       "\tGrossEnergy\\_2014\\_SC & 1.0000000 & 0.2349298 & 0.4853026 & 0.1856752\\\\\n",
       "\tGrossEnergy\\_2015\\_SC & 0.2349298 & 1.0000000 & 0.2757224 & 0.3051112\\\\\n",
       "\tGrossEnergy\\_2014\\_TX & 0.4853026 & 0.2757224 & 1.0000000 & 0.3769992\\\\\n",
       "\tGrossEnergy\\_2015\\_TX & 0.1856752 & 0.3051112 & 0.3769992 & 1.0000000\\\\\n",
       "\\end{tabular}\n"
      ],
      "text/markdown": [
       "\n",
       "| <!--/--> | GrossEnergy_2014_SC | GrossEnergy_2015_SC | GrossEnergy_2014_TX | GrossEnergy_2015_TX |\n",
       "|---|---|---|---|---|\n",
       "| GrossEnergy_2014_SC | 1.0000000 | 0.2349298 | 0.4853026 | 0.1856752 |\n",
       "| GrossEnergy_2015_SC | 0.2349298 | 1.0000000 | 0.2757224 | 0.3051112 |\n",
       "| GrossEnergy_2014_TX | 0.4853026 | 0.2757224 | 1.0000000 | 0.3769992 |\n",
       "| GrossEnergy_2015_TX | 0.1856752 | 0.3051112 | 0.3769992 | 1.0000000 |\n",
       "\n"
      ],
      "text/plain": [
       "                    GrossEnergy_2014_SC GrossEnergy_2015_SC GrossEnergy_2014_TX\n",
       "GrossEnergy_2014_SC 1.0000000           0.2349298           0.4853026          \n",
       "GrossEnergy_2015_SC 0.2349298           1.0000000           0.2757224          \n",
       "GrossEnergy_2014_TX 0.4853026           0.2757224           1.0000000          \n",
       "GrossEnergy_2015_TX 0.1856752           0.3051112           0.3769992          \n",
       "                    GrossEnergy_2015_TX\n",
       "GrossEnergy_2014_SC 0.1856752          \n",
       "GrossEnergy_2015_SC 0.3051112          \n",
       "GrossEnergy_2014_TX 0.3769992          \n",
       "GrossEnergy_2015_TX 1.0000000          "
      ]
     },
     "metadata": {},
     "output_type": "display_data"
    },
    {
     "name": "stdout",
     "output_type": "stream",
     "text": [
      "[1] \"--------------------------------------\"\n"
     ]
    }
   ],
   "source": [
    "fm <- readRDS('results/BME/BTx642_BME_GrossEnergy_Model.rds')\n",
    "COV_TraitGenetic <- fm$varTrait\n",
    "rownames(COV_TraitGenetic) <- colnames(COV_TraitGenetic)\n",
    "print('Genetic Covariance between Environments')\n",
    "COV_TraitGenetic\n",
    "print('--------------------------------------')\n",
    "COR_TraitGenetic <- cov2cor(COV_TraitGenetic)\n",
    "rownames(COR_TraitGenetic) <- colnames(COR_TraitGenetic)\n",
    "print('Genetic correlation between Environments')\n",
    "COR_TraitGenetic\n",
    "print('--------------------------------------')\n",
    "print('Variance-covariance for Residuals')\n",
    "COV_Residual <- fm$vare\n",
    "rownames(COV_Residual) <- colnames(COV_Residual)\n",
    "print('Genetic Covariance for Residuals')\n",
    "COV_Residual\n",
    "print('--------------------------------------')\n",
    "COR_Residual <- cov2cor(COV_Residual)\n",
    "rownames(COR_Residual) <- colnames(COR_Residual)\n",
    "print('Genetic correlation for Residuals')\n",
    "COR_Residual\n",
    "print('--------------------------------------')"
   ]
  },
  {
   "cell_type": "markdown",
   "metadata": {},
   "source": [
    "### Protein"
   ]
  },
  {
   "cell_type": "code",
   "execution_count": 11,
   "metadata": {},
   "outputs": [
    {
     "name": "stdout",
     "output_type": "stream",
     "text": [
      "[1] \"Genetic Covariance between Environments\"\n"
     ]
    },
    {
     "data": {
      "text/html": [
       "<table>\n",
       "<thead><tr><th></th><th scope=col>Protein_2014_SC</th><th scope=col>Protein_2015_SC</th><th scope=col>Protein_2014_TX</th><th scope=col>Protein_2015_TX</th></tr></thead>\n",
       "<tbody>\n",
       "\t<tr><th scope=row>Protein_2014_SC</th><td>0.1950</td><td>0.1730</td><td>0.1537</td><td>0.1572</td></tr>\n",
       "\t<tr><th scope=row>Protein_2015_SC</th><td>0.1730</td><td>0.2256</td><td>0.1621</td><td>0.1726</td></tr>\n",
       "\t<tr><th scope=row>Protein_2014_TX</th><td>0.1537</td><td>0.1621</td><td>0.2128</td><td>0.1753</td></tr>\n",
       "\t<tr><th scope=row>Protein_2015_TX</th><td>0.1572</td><td>0.1726</td><td>0.1753</td><td>0.2178</td></tr>\n",
       "</tbody>\n",
       "</table>\n"
      ],
      "text/latex": [
       "\\begin{tabular}{r|llll}\n",
       "  & Protein\\_2014\\_SC & Protein\\_2015\\_SC & Protein\\_2014\\_TX & Protein\\_2015\\_TX\\\\\n",
       "\\hline\n",
       "\tProtein\\_2014\\_SC & 0.1950 & 0.1730 & 0.1537 & 0.1572\\\\\n",
       "\tProtein\\_2015\\_SC & 0.1730 & 0.2256 & 0.1621 & 0.1726\\\\\n",
       "\tProtein\\_2014\\_TX & 0.1537 & 0.1621 & 0.2128 & 0.1753\\\\\n",
       "\tProtein\\_2015\\_TX & 0.1572 & 0.1726 & 0.1753 & 0.2178\\\\\n",
       "\\end{tabular}\n"
      ],
      "text/markdown": [
       "\n",
       "| <!--/--> | Protein_2014_SC | Protein_2015_SC | Protein_2014_TX | Protein_2015_TX |\n",
       "|---|---|---|---|---|\n",
       "| Protein_2014_SC | 0.1950 | 0.1730 | 0.1537 | 0.1572 |\n",
       "| Protein_2015_SC | 0.1730 | 0.2256 | 0.1621 | 0.1726 |\n",
       "| Protein_2014_TX | 0.1537 | 0.1621 | 0.2128 | 0.1753 |\n",
       "| Protein_2015_TX | 0.1572 | 0.1726 | 0.1753 | 0.2178 |\n",
       "\n"
      ],
      "text/plain": [
       "                Protein_2014_SC Protein_2015_SC Protein_2014_TX Protein_2015_TX\n",
       "Protein_2014_SC 0.1950          0.1730          0.1537          0.1572         \n",
       "Protein_2015_SC 0.1730          0.2256          0.1621          0.1726         \n",
       "Protein_2014_TX 0.1537          0.1621          0.2128          0.1753         \n",
       "Protein_2015_TX 0.1572          0.1726          0.1753          0.2178         "
      ]
     },
     "metadata": {},
     "output_type": "display_data"
    },
    {
     "name": "stdout",
     "output_type": "stream",
     "text": [
      "[1] \"--------------------------------------\"\n",
      "[1] \"Genetic correlation between Environments\"\n"
     ]
    },
    {
     "data": {
      "text/html": [
       "<table>\n",
       "<thead><tr><th></th><th scope=col>Protein_2014_SC</th><th scope=col>Protein_2015_SC</th><th scope=col>Protein_2014_TX</th><th scope=col>Protein_2015_TX</th></tr></thead>\n",
       "<tbody>\n",
       "\t<tr><th scope=row>Protein_2014_SC</th><td>1.0000000</td><td>0.8248201</td><td>0.7545200</td><td>0.7627923</td></tr>\n",
       "\t<tr><th scope=row>Protein_2015_SC</th><td>0.8248201</td><td>1.0000000</td><td>0.7398227</td><td>0.7786500</td></tr>\n",
       "\t<tr><th scope=row>Protein_2014_TX</th><td>0.7545200</td><td>0.7398227</td><td>1.0000000</td><td>0.8142676</td></tr>\n",
       "\t<tr><th scope=row>Protein_2015_TX</th><td>0.7627923</td><td>0.7786500</td><td>0.8142676</td><td>1.0000000</td></tr>\n",
       "</tbody>\n",
       "</table>\n"
      ],
      "text/latex": [
       "\\begin{tabular}{r|llll}\n",
       "  & Protein\\_2014\\_SC & Protein\\_2015\\_SC & Protein\\_2014\\_TX & Protein\\_2015\\_TX\\\\\n",
       "\\hline\n",
       "\tProtein\\_2014\\_SC & 1.0000000 & 0.8248201 & 0.7545200 & 0.7627923\\\\\n",
       "\tProtein\\_2015\\_SC & 0.8248201 & 1.0000000 & 0.7398227 & 0.7786500\\\\\n",
       "\tProtein\\_2014\\_TX & 0.7545200 & 0.7398227 & 1.0000000 & 0.8142676\\\\\n",
       "\tProtein\\_2015\\_TX & 0.7627923 & 0.7786500 & 0.8142676 & 1.0000000\\\\\n",
       "\\end{tabular}\n"
      ],
      "text/markdown": [
       "\n",
       "| <!--/--> | Protein_2014_SC | Protein_2015_SC | Protein_2014_TX | Protein_2015_TX |\n",
       "|---|---|---|---|---|\n",
       "| Protein_2014_SC | 1.0000000 | 0.8248201 | 0.7545200 | 0.7627923 |\n",
       "| Protein_2015_SC | 0.8248201 | 1.0000000 | 0.7398227 | 0.7786500 |\n",
       "| Protein_2014_TX | 0.7545200 | 0.7398227 | 1.0000000 | 0.8142676 |\n",
       "| Protein_2015_TX | 0.7627923 | 0.7786500 | 0.8142676 | 1.0000000 |\n",
       "\n"
      ],
      "text/plain": [
       "                Protein_2014_SC Protein_2015_SC Protein_2014_TX Protein_2015_TX\n",
       "Protein_2014_SC 1.0000000       0.8248201       0.7545200       0.7627923      \n",
       "Protein_2015_SC 0.8248201       1.0000000       0.7398227       0.7786500      \n",
       "Protein_2014_TX 0.7545200       0.7398227       1.0000000       0.8142676      \n",
       "Protein_2015_TX 0.7627923       0.7786500       0.8142676       1.0000000      "
      ]
     },
     "metadata": {},
     "output_type": "display_data"
    },
    {
     "name": "stdout",
     "output_type": "stream",
     "text": [
      "[1] \"--------------------------------------\"\n",
      "[1] \"Variance-covariance for Residuals\"\n",
      "[1] \"Genetic Covariance for Residuals\"\n"
     ]
    },
    {
     "data": {
      "text/html": [
       "<table>\n",
       "<thead><tr><th></th><th scope=col>Protein_2014_SC</th><th scope=col>Protein_2015_SC</th><th scope=col>Protein_2014_TX</th><th scope=col>Protein_2015_TX</th></tr></thead>\n",
       "<tbody>\n",
       "\t<tr><th scope=row>Protein_2014_SC</th><td>0.3211</td><td>0.0755</td><td>0.1886</td><td>0.1109</td></tr>\n",
       "\t<tr><th scope=row>Protein_2015_SC</th><td>0.0755</td><td>0.2506</td><td>0.1108</td><td>0.0955</td></tr>\n",
       "\t<tr><th scope=row>Protein_2014_TX</th><td>0.1886</td><td>0.1108</td><td>0.3679</td><td>0.1844</td></tr>\n",
       "\t<tr><th scope=row>Protein_2015_TX</th><td>0.1109</td><td>0.0955</td><td>0.1844</td><td>0.2574</td></tr>\n",
       "</tbody>\n",
       "</table>\n"
      ],
      "text/latex": [
       "\\begin{tabular}{r|llll}\n",
       "  & Protein\\_2014\\_SC & Protein\\_2015\\_SC & Protein\\_2014\\_TX & Protein\\_2015\\_TX\\\\\n",
       "\\hline\n",
       "\tProtein\\_2014\\_SC & 0.3211 & 0.0755 & 0.1886 & 0.1109\\\\\n",
       "\tProtein\\_2015\\_SC & 0.0755 & 0.2506 & 0.1108 & 0.0955\\\\\n",
       "\tProtein\\_2014\\_TX & 0.1886 & 0.1108 & 0.3679 & 0.1844\\\\\n",
       "\tProtein\\_2015\\_TX & 0.1109 & 0.0955 & 0.1844 & 0.2574\\\\\n",
       "\\end{tabular}\n"
      ],
      "text/markdown": [
       "\n",
       "| <!--/--> | Protein_2014_SC | Protein_2015_SC | Protein_2014_TX | Protein_2015_TX |\n",
       "|---|---|---|---|---|\n",
       "| Protein_2014_SC | 0.3211 | 0.0755 | 0.1886 | 0.1109 |\n",
       "| Protein_2015_SC | 0.0755 | 0.2506 | 0.1108 | 0.0955 |\n",
       "| Protein_2014_TX | 0.1886 | 0.1108 | 0.3679 | 0.1844 |\n",
       "| Protein_2015_TX | 0.1109 | 0.0955 | 0.1844 | 0.2574 |\n",
       "\n"
      ],
      "text/plain": [
       "                Protein_2014_SC Protein_2015_SC Protein_2014_TX Protein_2015_TX\n",
       "Protein_2014_SC 0.3211          0.0755          0.1886          0.1109         \n",
       "Protein_2015_SC 0.0755          0.2506          0.1108          0.0955         \n",
       "Protein_2014_TX 0.1886          0.1108          0.3679          0.1844         \n",
       "Protein_2015_TX 0.1109          0.0955          0.1844          0.2574         "
      ]
     },
     "metadata": {},
     "output_type": "display_data"
    },
    {
     "name": "stdout",
     "output_type": "stream",
     "text": [
      "[1] \"--------------------------------------\"\n",
      "[1] \"Genetic correlation for Residuals\"\n"
     ]
    },
    {
     "data": {
      "text/html": [
       "<table>\n",
       "<thead><tr><th></th><th scope=col>Protein_2014_SC</th><th scope=col>Protein_2015_SC</th><th scope=col>Protein_2014_TX</th><th scope=col>Protein_2015_TX</th></tr></thead>\n",
       "<tbody>\n",
       "\t<tr><th scope=row>Protein_2014_SC</th><td>1.0000000</td><td>0.2661560</td><td>0.5487274</td><td>0.3857511</td></tr>\n",
       "\t<tr><th scope=row>Protein_2015_SC</th><td>0.2661560</td><td>1.0000000</td><td>0.3649088</td><td>0.3760179</td></tr>\n",
       "\t<tr><th scope=row>Protein_2014_TX</th><td>0.5487274</td><td>0.3649088</td><td>1.0000000</td><td>0.5992275</td></tr>\n",
       "\t<tr><th scope=row>Protein_2015_TX</th><td>0.3857511</td><td>0.3760179</td><td>0.5992275</td><td>1.0000000</td></tr>\n",
       "</tbody>\n",
       "</table>\n"
      ],
      "text/latex": [
       "\\begin{tabular}{r|llll}\n",
       "  & Protein\\_2014\\_SC & Protein\\_2015\\_SC & Protein\\_2014\\_TX & Protein\\_2015\\_TX\\\\\n",
       "\\hline\n",
       "\tProtein\\_2014\\_SC & 1.0000000 & 0.2661560 & 0.5487274 & 0.3857511\\\\\n",
       "\tProtein\\_2015\\_SC & 0.2661560 & 1.0000000 & 0.3649088 & 0.3760179\\\\\n",
       "\tProtein\\_2014\\_TX & 0.5487274 & 0.3649088 & 1.0000000 & 0.5992275\\\\\n",
       "\tProtein\\_2015\\_TX & 0.3857511 & 0.3760179 & 0.5992275 & 1.0000000\\\\\n",
       "\\end{tabular}\n"
      ],
      "text/markdown": [
       "\n",
       "| <!--/--> | Protein_2014_SC | Protein_2015_SC | Protein_2014_TX | Protein_2015_TX |\n",
       "|---|---|---|---|---|\n",
       "| Protein_2014_SC | 1.0000000 | 0.2661560 | 0.5487274 | 0.3857511 |\n",
       "| Protein_2015_SC | 0.2661560 | 1.0000000 | 0.3649088 | 0.3760179 |\n",
       "| Protein_2014_TX | 0.5487274 | 0.3649088 | 1.0000000 | 0.5992275 |\n",
       "| Protein_2015_TX | 0.3857511 | 0.3760179 | 0.5992275 | 1.0000000 |\n",
       "\n"
      ],
      "text/plain": [
       "                Protein_2014_SC Protein_2015_SC Protein_2014_TX Protein_2015_TX\n",
       "Protein_2014_SC 1.0000000       0.2661560       0.5487274       0.3857511      \n",
       "Protein_2015_SC 0.2661560       1.0000000       0.3649088       0.3760179      \n",
       "Protein_2014_TX 0.5487274       0.3649088       1.0000000       0.5992275      \n",
       "Protein_2015_TX 0.3857511       0.3760179       0.5992275       1.0000000      "
      ]
     },
     "metadata": {},
     "output_type": "display_data"
    },
    {
     "name": "stdout",
     "output_type": "stream",
     "text": [
      "[1] \"--------------------------------------\"\n"
     ]
    }
   ],
   "source": [
    "fm <- readRDS('results/BME/BTx642_BME_Protein_Model.rds')\n",
    "COV_TraitGenetic <- fm$varTrait\n",
    "rownames(COV_TraitGenetic) <- colnames(COV_TraitGenetic)\n",
    "print('Genetic Covariance between Environments')\n",
    "COV_TraitGenetic\n",
    "print('--------------------------------------')\n",
    "COR_TraitGenetic <- cov2cor(COV_TraitGenetic)\n",
    "rownames(COR_TraitGenetic) <- colnames(COR_TraitGenetic)\n",
    "print('Genetic correlation between Environments')\n",
    "COR_TraitGenetic\n",
    "print('--------------------------------------')\n",
    "print('Variance-covariance for Residuals')\n",
    "COV_Residual <- fm$vare\n",
    "rownames(COV_Residual) <- colnames(COV_Residual)\n",
    "print('Genetic Covariance for Residuals')\n",
    "COV_Residual\n",
    "print('--------------------------------------')\n",
    "COR_Residual <- cov2cor(COV_Residual)\n",
    "rownames(COR_Residual) <- colnames(COR_Residual)\n",
    "print('Genetic correlation for Residuals')\n",
    "COR_Residual\n",
    "print('--------------------------------------')"
   ]
  },
  {
   "cell_type": "markdown",
   "metadata": {},
   "source": [
    "### Starch"
   ]
  },
  {
   "cell_type": "code",
   "execution_count": 12,
   "metadata": {},
   "outputs": [
    {
     "name": "stdout",
     "output_type": "stream",
     "text": [
      "[1] \"Genetic Covariance between Environments\"\n"
     ]
    },
    {
     "data": {
      "text/html": [
       "<table>\n",
       "<thead><tr><th></th><th scope=col>Starch_2014_SC</th><th scope=col>Starch_2015_SC</th><th scope=col>Starch_2014_TX</th><th scope=col>Starch_2015_TX</th></tr></thead>\n",
       "<tbody>\n",
       "\t<tr><th scope=row>Starch_2014_SC</th><td>0.4621</td><td>0.1685</td><td>0.4104</td><td>0.2186</td></tr>\n",
       "\t<tr><th scope=row>Starch_2015_SC</th><td>0.1685</td><td>0.1792</td><td>0.2080</td><td>0.1114</td></tr>\n",
       "\t<tr><th scope=row>Starch_2014_TX</th><td>0.4104</td><td>0.2080</td><td>0.5841</td><td>0.2802</td></tr>\n",
       "\t<tr><th scope=row>Starch_2015_TX</th><td>0.2186</td><td>0.1114</td><td>0.2802</td><td>0.2581</td></tr>\n",
       "</tbody>\n",
       "</table>\n"
      ],
      "text/latex": [
       "\\begin{tabular}{r|llll}\n",
       "  & Starch\\_2014\\_SC & Starch\\_2015\\_SC & Starch\\_2014\\_TX & Starch\\_2015\\_TX\\\\\n",
       "\\hline\n",
       "\tStarch\\_2014\\_SC & 0.4621 & 0.1685 & 0.4104 & 0.2186\\\\\n",
       "\tStarch\\_2015\\_SC & 0.1685 & 0.1792 & 0.2080 & 0.1114\\\\\n",
       "\tStarch\\_2014\\_TX & 0.4104 & 0.2080 & 0.5841 & 0.2802\\\\\n",
       "\tStarch\\_2015\\_TX & 0.2186 & 0.1114 & 0.2802 & 0.2581\\\\\n",
       "\\end{tabular}\n"
      ],
      "text/markdown": [
       "\n",
       "| <!--/--> | Starch_2014_SC | Starch_2015_SC | Starch_2014_TX | Starch_2015_TX |\n",
       "|---|---|---|---|---|\n",
       "| Starch_2014_SC | 0.4621 | 0.1685 | 0.4104 | 0.2186 |\n",
       "| Starch_2015_SC | 0.1685 | 0.1792 | 0.2080 | 0.1114 |\n",
       "| Starch_2014_TX | 0.4104 | 0.2080 | 0.5841 | 0.2802 |\n",
       "| Starch_2015_TX | 0.2186 | 0.1114 | 0.2802 | 0.2581 |\n",
       "\n"
      ],
      "text/plain": [
       "               Starch_2014_SC Starch_2015_SC Starch_2014_TX Starch_2015_TX\n",
       "Starch_2014_SC 0.4621         0.1685         0.4104         0.2186        \n",
       "Starch_2015_SC 0.1685         0.1792         0.2080         0.1114        \n",
       "Starch_2014_TX 0.4104         0.2080         0.5841         0.2802        \n",
       "Starch_2015_TX 0.2186         0.1114         0.2802         0.2581        "
      ]
     },
     "metadata": {},
     "output_type": "display_data"
    },
    {
     "name": "stdout",
     "output_type": "stream",
     "text": [
      "[1] \"--------------------------------------\"\n",
      "[1] \"Genetic correlation between Environments\"\n"
     ]
    },
    {
     "data": {
      "text/html": [
       "<table>\n",
       "<thead><tr><th></th><th scope=col>Starch_2014_SC</th><th scope=col>Starch_2015_SC</th><th scope=col>Starch_2014_TX</th><th scope=col>Starch_2015_TX</th></tr></thead>\n",
       "<tbody>\n",
       "\t<tr><th scope=row>Starch_2014_SC</th><td>1.0000000</td><td>0.5855486</td><td>0.7899430</td><td>0.6329774</td></tr>\n",
       "\t<tr><th scope=row>Starch_2015_SC</th><td>0.5855486</td><td>1.0000000</td><td>0.6429108</td><td>0.5179910</td></tr>\n",
       "\t<tr><th scope=row>Starch_2014_TX</th><td>0.7899430</td><td>0.6429108</td><td>1.0000000</td><td>0.7216565</td></tr>\n",
       "\t<tr><th scope=row>Starch_2015_TX</th><td>0.6329774</td><td>0.5179910</td><td>0.7216565</td><td>1.0000000</td></tr>\n",
       "</tbody>\n",
       "</table>\n"
      ],
      "text/latex": [
       "\\begin{tabular}{r|llll}\n",
       "  & Starch\\_2014\\_SC & Starch\\_2015\\_SC & Starch\\_2014\\_TX & Starch\\_2015\\_TX\\\\\n",
       "\\hline\n",
       "\tStarch\\_2014\\_SC & 1.0000000 & 0.5855486 & 0.7899430 & 0.6329774\\\\\n",
       "\tStarch\\_2015\\_SC & 0.5855486 & 1.0000000 & 0.6429108 & 0.5179910\\\\\n",
       "\tStarch\\_2014\\_TX & 0.7899430 & 0.6429108 & 1.0000000 & 0.7216565\\\\\n",
       "\tStarch\\_2015\\_TX & 0.6329774 & 0.5179910 & 0.7216565 & 1.0000000\\\\\n",
       "\\end{tabular}\n"
      ],
      "text/markdown": [
       "\n",
       "| <!--/--> | Starch_2014_SC | Starch_2015_SC | Starch_2014_TX | Starch_2015_TX |\n",
       "|---|---|---|---|---|\n",
       "| Starch_2014_SC | 1.0000000 | 0.5855486 | 0.7899430 | 0.6329774 |\n",
       "| Starch_2015_SC | 0.5855486 | 1.0000000 | 0.6429108 | 0.5179910 |\n",
       "| Starch_2014_TX | 0.7899430 | 0.6429108 | 1.0000000 | 0.7216565 |\n",
       "| Starch_2015_TX | 0.6329774 | 0.5179910 | 0.7216565 | 1.0000000 |\n",
       "\n"
      ],
      "text/plain": [
       "               Starch_2014_SC Starch_2015_SC Starch_2014_TX Starch_2015_TX\n",
       "Starch_2014_SC 1.0000000      0.5855486      0.7899430      0.6329774     \n",
       "Starch_2015_SC 0.5855486      1.0000000      0.6429108      0.5179910     \n",
       "Starch_2014_TX 0.7899430      0.6429108      1.0000000      0.7216565     \n",
       "Starch_2015_TX 0.6329774      0.5179910      0.7216565      1.0000000     "
      ]
     },
     "metadata": {},
     "output_type": "display_data"
    },
    {
     "name": "stdout",
     "output_type": "stream",
     "text": [
      "[1] \"--------------------------------------\"\n",
      "[1] \"Variance-covariance for Residuals\"\n",
      "[1] \"Genetic Covariance for Residuals\"\n"
     ]
    },
    {
     "data": {
      "text/html": [
       "<table>\n",
       "<thead><tr><th></th><th scope=col>Starch_2014_SC</th><th scope=col>Starch_2015_SC</th><th scope=col>Starch_2014_TX</th><th scope=col>Starch_2015_TX</th></tr></thead>\n",
       "<tbody>\n",
       "\t<tr><th scope=row>Starch_2014_SC</th><td>0.8956</td><td>0.2045</td><td>0.6994</td><td>0.2480</td></tr>\n",
       "\t<tr><th scope=row>Starch_2015_SC</th><td>0.2045</td><td>0.5671</td><td>0.3242</td><td>0.2544</td></tr>\n",
       "\t<tr><th scope=row>Starch_2014_TX</th><td>0.6994</td><td>0.3242</td><td>1.4162</td><td>0.4539</td></tr>\n",
       "\t<tr><th scope=row>Starch_2015_TX</th><td>0.2480</td><td>0.2544</td><td>0.4539</td><td>0.6320</td></tr>\n",
       "</tbody>\n",
       "</table>\n"
      ],
      "text/latex": [
       "\\begin{tabular}{r|llll}\n",
       "  & Starch\\_2014\\_SC & Starch\\_2015\\_SC & Starch\\_2014\\_TX & Starch\\_2015\\_TX\\\\\n",
       "\\hline\n",
       "\tStarch\\_2014\\_SC & 0.8956 & 0.2045 & 0.6994 & 0.2480\\\\\n",
       "\tStarch\\_2015\\_SC & 0.2045 & 0.5671 & 0.3242 & 0.2544\\\\\n",
       "\tStarch\\_2014\\_TX & 0.6994 & 0.3242 & 1.4162 & 0.4539\\\\\n",
       "\tStarch\\_2015\\_TX & 0.2480 & 0.2544 & 0.4539 & 0.6320\\\\\n",
       "\\end{tabular}\n"
      ],
      "text/markdown": [
       "\n",
       "| <!--/--> | Starch_2014_SC | Starch_2015_SC | Starch_2014_TX | Starch_2015_TX |\n",
       "|---|---|---|---|---|\n",
       "| Starch_2014_SC | 0.8956 | 0.2045 | 0.6994 | 0.2480 |\n",
       "| Starch_2015_SC | 0.2045 | 0.5671 | 0.3242 | 0.2544 |\n",
       "| Starch_2014_TX | 0.6994 | 0.3242 | 1.4162 | 0.4539 |\n",
       "| Starch_2015_TX | 0.2480 | 0.2544 | 0.4539 | 0.6320 |\n",
       "\n"
      ],
      "text/plain": [
       "               Starch_2014_SC Starch_2015_SC Starch_2014_TX Starch_2015_TX\n",
       "Starch_2014_SC 0.8956         0.2045         0.6994         0.2480        \n",
       "Starch_2015_SC 0.2045         0.5671         0.3242         0.2544        \n",
       "Starch_2014_TX 0.6994         0.3242         1.4162         0.4539        \n",
       "Starch_2015_TX 0.2480         0.2544         0.4539         0.6320        "
      ]
     },
     "metadata": {},
     "output_type": "display_data"
    },
    {
     "name": "stdout",
     "output_type": "stream",
     "text": [
      "[1] \"--------------------------------------\"\n",
      "[1] \"Genetic correlation for Residuals\"\n"
     ]
    },
    {
     "data": {
      "text/html": [
       "<table>\n",
       "<thead><tr><th></th><th scope=col>Starch_2014_SC</th><th scope=col>Starch_2015_SC</th><th scope=col>Starch_2014_TX</th><th scope=col>Starch_2015_TX</th></tr></thead>\n",
       "<tbody>\n",
       "\t<tr><th scope=row>Starch_2014_SC</th><td>1.0000000</td><td>0.2869501</td><td>0.6210210</td><td>0.3296371</td></tr>\n",
       "\t<tr><th scope=row>Starch_2015_SC</th><td>0.2869501</td><td>1.0000000</td><td>0.3617603</td><td>0.4249411</td></tr>\n",
       "\t<tr><th scope=row>Starch_2014_TX</th><td>0.6210210</td><td>0.3617603</td><td>1.0000000</td><td>0.4797769</td></tr>\n",
       "\t<tr><th scope=row>Starch_2015_TX</th><td>0.3296371</td><td>0.4249411</td><td>0.4797769</td><td>1.0000000</td></tr>\n",
       "</tbody>\n",
       "</table>\n"
      ],
      "text/latex": [
       "\\begin{tabular}{r|llll}\n",
       "  & Starch\\_2014\\_SC & Starch\\_2015\\_SC & Starch\\_2014\\_TX & Starch\\_2015\\_TX\\\\\n",
       "\\hline\n",
       "\tStarch\\_2014\\_SC & 1.0000000 & 0.2869501 & 0.6210210 & 0.3296371\\\\\n",
       "\tStarch\\_2015\\_SC & 0.2869501 & 1.0000000 & 0.3617603 & 0.4249411\\\\\n",
       "\tStarch\\_2014\\_TX & 0.6210210 & 0.3617603 & 1.0000000 & 0.4797769\\\\\n",
       "\tStarch\\_2015\\_TX & 0.3296371 & 0.4249411 & 0.4797769 & 1.0000000\\\\\n",
       "\\end{tabular}\n"
      ],
      "text/markdown": [
       "\n",
       "| <!--/--> | Starch_2014_SC | Starch_2015_SC | Starch_2014_TX | Starch_2015_TX |\n",
       "|---|---|---|---|---|\n",
       "| Starch_2014_SC | 1.0000000 | 0.2869501 | 0.6210210 | 0.3296371 |\n",
       "| Starch_2015_SC | 0.2869501 | 1.0000000 | 0.3617603 | 0.4249411 |\n",
       "| Starch_2014_TX | 0.6210210 | 0.3617603 | 1.0000000 | 0.4797769 |\n",
       "| Starch_2015_TX | 0.3296371 | 0.4249411 | 0.4797769 | 1.0000000 |\n",
       "\n"
      ],
      "text/plain": [
       "               Starch_2014_SC Starch_2015_SC Starch_2014_TX Starch_2015_TX\n",
       "Starch_2014_SC 1.0000000      0.2869501      0.6210210      0.3296371     \n",
       "Starch_2015_SC 0.2869501      1.0000000      0.3617603      0.4249411     \n",
       "Starch_2014_TX 0.6210210      0.3617603      1.0000000      0.4797769     \n",
       "Starch_2015_TX 0.3296371      0.4249411      0.4797769      1.0000000     "
      ]
     },
     "metadata": {},
     "output_type": "display_data"
    },
    {
     "name": "stdout",
     "output_type": "stream",
     "text": [
      "[1] \"--------------------------------------\"\n"
     ]
    }
   ],
   "source": [
    "fm <- readRDS('results/BME/BTx642_BME_Starch_Model.rds')\n",
    "COV_TraitGenetic <- fm$varTrait\n",
    "rownames(COV_TraitGenetic) <- colnames(COV_TraitGenetic)\n",
    "print('Genetic Covariance between Environments')\n",
    "COV_TraitGenetic\n",
    "print('--------------------------------------')\n",
    "COR_TraitGenetic <- cov2cor(COV_TraitGenetic)\n",
    "rownames(COR_TraitGenetic) <- colnames(COR_TraitGenetic)\n",
    "print('Genetic correlation between Environments')\n",
    "COR_TraitGenetic\n",
    "print('--------------------------------------')\n",
    "print('Variance-covariance for Residuals')\n",
    "COV_Residual <- fm$vare\n",
    "rownames(COV_Residual) <- colnames(COV_Residual)\n",
    "print('Genetic Covariance for Residuals')\n",
    "COV_Residual\n",
    "print('--------------------------------------')\n",
    "COR_Residual <- cov2cor(COV_Residual)\n",
    "rownames(COR_Residual) <- colnames(COR_Residual)\n",
    "print('Genetic correlation for Residuals')\n",
    "COR_Residual\n",
    "print('--------------------------------------')"
   ]
  },
  {
   "cell_type": "code",
   "execution_count": null,
   "metadata": {},
   "outputs": [],
   "source": []
  },
  {
   "cell_type": "code",
   "execution_count": null,
   "metadata": {},
   "outputs": [],
   "source": []
  }
 ],
 "metadata": {
  "kernelspec": {
   "display_name": "R 3.6.0",
   "language": "R",
   "name": "ir360"
  },
  "language_info": {
   "codemirror_mode": "r",
   "file_extension": ".r",
   "mimetype": "text/x-r-source",
   "name": "R",
   "pygments_lexer": "r",
   "version": "3.6.0"
  }
 },
 "nbformat": 4,
 "nbformat_minor": 2
}
