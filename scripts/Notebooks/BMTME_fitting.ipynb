{
 "cells": [
  {
   "cell_type": "code",
   "execution_count": 2,
   "metadata": {},
   "outputs": [],
   "source": [
    "##Fit multi trait multi environment models using BMTME package\n",
    "\n",
    ".libPaths(c('/home/ssapkot/.conda/envs/r_env_360/lib', .libPaths()))\n",
    "\n",
    "#install.packages(\"BMTME\",repos='http://cran.us.r-project.org', dependencies = TRUE)\n",
    "library(BGLR)\n",
    "library(lme4)\n",
    "#library(doMC)\n",
    "#library(foreach)\n",
    "library(coda)\n",
    "library(tidyverse)\n",
    "library(ggplot2)\n",
    "library(BMTME)\n",
    "\n",
    "setwd(\"/panicle/ssapkot/git_repo/GrainComp_GS/\")"
   ]
  },
  {
   "cell_type": "code",
   "execution_count": 8,
   "metadata": {},
   "outputs": [
    {
     "data": {
      "text/html": [
       "<table>\n",
       "<thead><tr><th scope=col>Taxa</th><th scope=col>Year</th><th scope=col>Location</th><th scope=col>Env</th><th scope=col>Amylose</th><th scope=col>Fat</th><th scope=col>GrossEnergy</th><th scope=col>Protein</th><th scope=col>Starch</th></tr></thead>\n",
       "<tbody>\n",
       "\t<tr><td>CS_001     </td><td>2014       </td><td>SC         </td><td>SC2014     </td><td> 1.9547130 </td><td> 0.03304815</td><td> 4.046921  </td><td> 0.01966221</td><td>0.4710340  </td></tr>\n",
       "\t<tr><td>CS_001     </td><td>2014       </td><td>TX         </td><td>TX2014     </td><td> 0.6614585 </td><td> 0.54251499</td><td>-2.651474  </td><td>-1.58389855</td><td>1.7596910  </td></tr>\n",
       "\t<tr><td>CS_001     </td><td>2015       </td><td>SC         </td><td>SC2015     </td><td> 1.7416722 </td><td> 0.45904592</td><td> 8.055000  </td><td>-0.39665278</td><td>0.1503197  </td></tr>\n",
       "\t<tr><td>CS_001     </td><td>2015       </td><td>TX         </td><td>TX2015     </td><td> 1.7382022 </td><td> 0.45950193</td><td> 8.068892  </td><td>-0.39545526</td><td>0.1476326  </td></tr>\n",
       "\t<tr><td>CS_002     </td><td>2014       </td><td>SC         </td><td>SC2014     </td><td> 1.8355414 </td><td>-0.45044256</td><td>-5.717534  </td><td>-0.81239300</td><td>1.5925011  </td></tr>\n",
       "\t<tr><td>CS_002     </td><td>2014       </td><td>TX         </td><td>TX2014     </td><td>-1.0908355 </td><td> 0.05968405</td><td> 4.710492  </td><td>-0.71413668</td><td>0.7813265  </td></tr>\n",
       "</tbody>\n",
       "</table>\n"
      ],
      "text/latex": [
       "\\begin{tabular}{r|lllllllll}\n",
       " Taxa & Year & Location & Env & Amylose & Fat & GrossEnergy & Protein & Starch\\\\\n",
       "\\hline\n",
       "\t CS\\_001    & 2014        & SC          & SC2014      &  1.9547130  &  0.03304815 &  4.046921   &  0.01966221 & 0.4710340  \\\\\n",
       "\t CS\\_001    & 2014        & TX          & TX2014      &  0.6614585  &  0.54251499 & -2.651474   & -1.58389855 & 1.7596910  \\\\\n",
       "\t CS\\_001    & 2015        & SC          & SC2015      &  1.7416722  &  0.45904592 &  8.055000   & -0.39665278 & 0.1503197  \\\\\n",
       "\t CS\\_001    & 2015        & TX          & TX2015      &  1.7382022  &  0.45950193 &  8.068892   & -0.39545526 & 0.1476326  \\\\\n",
       "\t CS\\_002    & 2014        & SC          & SC2014      &  1.8355414  & -0.45044256 & -5.717534   & -0.81239300 & 1.5925011  \\\\\n",
       "\t CS\\_002    & 2014        & TX          & TX2014      & -1.0908355  &  0.05968405 &  4.710492   & -0.71413668 & 0.7813265  \\\\\n",
       "\\end{tabular}\n"
      ],
      "text/markdown": [
       "\n",
       "| Taxa | Year | Location | Env | Amylose | Fat | GrossEnergy | Protein | Starch |\n",
       "|---|---|---|---|---|---|---|---|---|\n",
       "| CS_001      | 2014        | SC          | SC2014      |  1.9547130  |  0.03304815 |  4.046921   |  0.01966221 | 0.4710340   |\n",
       "| CS_001      | 2014        | TX          | TX2014      |  0.6614585  |  0.54251499 | -2.651474   | -1.58389855 | 1.7596910   |\n",
       "| CS_001      | 2015        | SC          | SC2015      |  1.7416722  |  0.45904592 |  8.055000   | -0.39665278 | 0.1503197   |\n",
       "| CS_001      | 2015        | TX          | TX2015      |  1.7382022  |  0.45950193 |  8.068892   | -0.39545526 | 0.1476326   |\n",
       "| CS_002      | 2014        | SC          | SC2014      |  1.8355414  | -0.45044256 | -5.717534   | -0.81239300 | 1.5925011   |\n",
       "| CS_002      | 2014        | TX          | TX2014      | -1.0908355  |  0.05968405 |  4.710492   | -0.71413668 | 0.7813265   |\n",
       "\n"
      ],
      "text/plain": [
       "  Taxa   Year Location Env    Amylose    Fat         GrossEnergy Protein    \n",
       "1 CS_001 2014 SC       SC2014  1.9547130  0.03304815  4.046921    0.01966221\n",
       "2 CS_001 2014 TX       TX2014  0.6614585  0.54251499 -2.651474   -1.58389855\n",
       "3 CS_001 2015 SC       SC2015  1.7416722  0.45904592  8.055000   -0.39665278\n",
       "4 CS_001 2015 TX       TX2015  1.7382022  0.45950193  8.068892   -0.39545526\n",
       "5 CS_002 2014 SC       SC2014  1.8355414 -0.45044256 -5.717534   -0.81239300\n",
       "6 CS_002 2014 TX       TX2014 -1.0908355  0.05968405  4.710492   -0.71413668\n",
       "  Starch   \n",
       "1 0.4710340\n",
       "2 1.7596910\n",
       "3 0.1503197\n",
       "4 0.1476326\n",
       "5 1.5925011\n",
       "6 0.7813265"
      ]
     },
     "metadata": {},
     "output_type": "display_data"
    }
   ],
   "source": [
    "load('data//BTx642_BMTME.RData')\n",
    "head(phenoBMTME)\n"
   ]
  },
  {
   "cell_type": "code",
   "execution_count": 8,
   "metadata": {},
   "outputs": [
    {
     "name": "stdout",
     "output_type": "stream",
     "text": [
      "     Amylose_2014_SC Amylose_2015_SC Amylose_2014_TX Amylose_2015_TX\n",
      "[1,]         -0.0526         -0.0479         -0.0398          -0.049\n",
      "     Fat_2014_SC Fat_2015_SC Fat_2014_TX Fat_2015_TX\n",
      "[1,]     -0.0101     -0.0013     -0.0014      -5e-04\n",
      "     GrossEnergy_2014_SC GrossEnergy_2015_SC GrossEnergy_2014_TX\n",
      "[1,]             -0.2512             -0.1164             -0.3171\n",
      "     GrossEnergy_2015_TX\n",
      "[1,]             -0.0786\n",
      "     Protein_2014_SC Protein_2015_SC Protein_2014_TX Protein_2015_TX\n",
      "[1,]         -0.0203         -0.0214          -0.025         -0.0205\n",
      "     Starch_2014_SC Starch_2015_SC Starch_2014_TX Starch_2015_TX\n",
      "[1,]         0.0425         0.0365         0.0402         0.0339\n"
     ]
    },
    {
     "data": {
      "text/html": [
       "<ol>\n",
       "\t<li><table>\n",
       "<thead><tr><th scope=col>Amylose_2014_SC</th><th scope=col>Amylose_2015_SC</th><th scope=col>Amylose_2014_TX</th><th scope=col>Amylose_2015_TX</th></tr></thead>\n",
       "<tbody>\n",
       "\t<tr><td>3.1814</td><td>0.0442</td><td>3.1340</td><td>0.0442</td></tr>\n",
       "\t<tr><td>0.0442</td><td>0.0711</td><td>0.0609</td><td>0.0710</td></tr>\n",
       "\t<tr><td>3.1340</td><td>0.0609</td><td>3.4932</td><td>0.0608</td></tr>\n",
       "\t<tr><td>0.0442</td><td>0.0710</td><td>0.0608</td><td>0.0709</td></tr>\n",
       "</tbody>\n",
       "</table>\n",
       "</li>\n",
       "\t<li><table>\n",
       "<thead><tr><th scope=col>Fat_2014_SC</th><th scope=col>Fat_2015_SC</th><th scope=col>Fat_2014_TX</th><th scope=col>Fat_2015_TX</th></tr></thead>\n",
       "<tbody>\n",
       "\t<tr><td>0.0312</td><td>0.0123</td><td>0.0250</td><td>0.0123</td></tr>\n",
       "\t<tr><td>0.0123</td><td>0.0109</td><td>0.0120</td><td>0.0109</td></tr>\n",
       "\t<tr><td>0.0250</td><td>0.0120</td><td>0.0355</td><td>0.0120</td></tr>\n",
       "\t<tr><td>0.0123</td><td>0.0109</td><td>0.0120</td><td>0.0109</td></tr>\n",
       "</tbody>\n",
       "</table>\n",
       "</li>\n",
       "\t<li><table>\n",
       "<thead><tr><th scope=col>GrossEnergy_2014_SC</th><th scope=col>GrossEnergy_2015_SC</th><th scope=col>GrossEnergy_2014_TX</th><th scope=col>GrossEnergy_2015_TX</th></tr></thead>\n",
       "<tbody>\n",
       "\t<tr><td>10.4513</td><td>0.6320 </td><td> 4.8209</td><td>0.6326 </td></tr>\n",
       "\t<tr><td> 0.6320</td><td>1.9103 </td><td> 1.1889</td><td>1.9088 </td></tr>\n",
       "\t<tr><td> 4.8209</td><td>1.1889 </td><td>16.2204</td><td>1.1903 </td></tr>\n",
       "\t<tr><td> 0.6326</td><td>1.9088 </td><td> 1.1903</td><td>1.9074 </td></tr>\n",
       "</tbody>\n",
       "</table>\n",
       "</li>\n",
       "\t<li><table>\n",
       "<thead><tr><th scope=col>Protein_2014_SC</th><th scope=col>Protein_2015_SC</th><th scope=col>Protein_2014_TX</th><th scope=col>Protein_2015_TX</th></tr></thead>\n",
       "<tbody>\n",
       "\t<tr><td>0.1008</td><td>0.0146</td><td>0.0327</td><td>0.0146</td></tr>\n",
       "\t<tr><td>0.0146</td><td>0.0146</td><td>0.0094</td><td>0.0146</td></tr>\n",
       "\t<tr><td>0.0327</td><td>0.0094</td><td>0.0746</td><td>0.0094</td></tr>\n",
       "\t<tr><td>0.0146</td><td>0.0146</td><td>0.0094</td><td>0.0146</td></tr>\n",
       "</tbody>\n",
       "</table>\n",
       "</li>\n",
       "\t<li><table>\n",
       "<thead><tr><th scope=col>Starch_2014_SC</th><th scope=col>Starch_2015_SC</th><th scope=col>Starch_2014_TX</th><th scope=col>Starch_2015_TX</th></tr></thead>\n",
       "<tbody>\n",
       "\t<tr><td>0.2925</td><td>0.0091</td><td>0.1890</td><td>0.0090</td></tr>\n",
       "\t<tr><td>0.0091</td><td>0.0196</td><td>0.0178</td><td>0.0196</td></tr>\n",
       "\t<tr><td>0.1890</td><td>0.0178</td><td>0.3034</td><td>0.0178</td></tr>\n",
       "\t<tr><td>0.0090</td><td>0.0196</td><td>0.0178</td><td>0.0196</td></tr>\n",
       "</tbody>\n",
       "</table>\n",
       "</li>\n",
       "</ol>\n"
      ],
      "text/latex": [
       "\\begin{enumerate}\n",
       "\\item \\begin{tabular}{llll}\n",
       " Amylose\\_2014\\_SC & Amylose\\_2015\\_SC & Amylose\\_2014\\_TX & Amylose\\_2015\\_TX\\\\\n",
       "\\hline\n",
       "\t 3.1814 & 0.0442 & 3.1340 & 0.0442\\\\\n",
       "\t 0.0442 & 0.0711 & 0.0609 & 0.0710\\\\\n",
       "\t 3.1340 & 0.0609 & 3.4932 & 0.0608\\\\\n",
       "\t 0.0442 & 0.0710 & 0.0608 & 0.0709\\\\\n",
       "\\end{tabular}\n",
       "\n",
       "\\item \\begin{tabular}{llll}\n",
       " Fat\\_2014\\_SC & Fat\\_2015\\_SC & Fat\\_2014\\_TX & Fat\\_2015\\_TX\\\\\n",
       "\\hline\n",
       "\t 0.0312 & 0.0123 & 0.0250 & 0.0123\\\\\n",
       "\t 0.0123 & 0.0109 & 0.0120 & 0.0109\\\\\n",
       "\t 0.0250 & 0.0120 & 0.0355 & 0.0120\\\\\n",
       "\t 0.0123 & 0.0109 & 0.0120 & 0.0109\\\\\n",
       "\\end{tabular}\n",
       "\n",
       "\\item \\begin{tabular}{llll}\n",
       " GrossEnergy\\_2014\\_SC & GrossEnergy\\_2015\\_SC & GrossEnergy\\_2014\\_TX & GrossEnergy\\_2015\\_TX\\\\\n",
       "\\hline\n",
       "\t 10.4513 & 0.6320  &  4.8209 & 0.6326 \\\\\n",
       "\t  0.6320 & 1.9103  &  1.1889 & 1.9088 \\\\\n",
       "\t  4.8209 & 1.1889  & 16.2204 & 1.1903 \\\\\n",
       "\t  0.6326 & 1.9088  &  1.1903 & 1.9074 \\\\\n",
       "\\end{tabular}\n",
       "\n",
       "\\item \\begin{tabular}{llll}\n",
       " Protein\\_2014\\_SC & Protein\\_2015\\_SC & Protein\\_2014\\_TX & Protein\\_2015\\_TX\\\\\n",
       "\\hline\n",
       "\t 0.1008 & 0.0146 & 0.0327 & 0.0146\\\\\n",
       "\t 0.0146 & 0.0146 & 0.0094 & 0.0146\\\\\n",
       "\t 0.0327 & 0.0094 & 0.0746 & 0.0094\\\\\n",
       "\t 0.0146 & 0.0146 & 0.0094 & 0.0146\\\\\n",
       "\\end{tabular}\n",
       "\n",
       "\\item \\begin{tabular}{llll}\n",
       " Starch\\_2014\\_SC & Starch\\_2015\\_SC & Starch\\_2014\\_TX & Starch\\_2015\\_TX\\\\\n",
       "\\hline\n",
       "\t 0.2925 & 0.0091 & 0.1890 & 0.0090\\\\\n",
       "\t 0.0091 & 0.0196 & 0.0178 & 0.0196\\\\\n",
       "\t 0.1890 & 0.0178 & 0.3034 & 0.0178\\\\\n",
       "\t 0.0090 & 0.0196 & 0.0178 & 0.0196\\\\\n",
       "\\end{tabular}\n",
       "\n",
       "\\end{enumerate}\n"
      ],
      "text/markdown": [
       "1. \n",
       "| Amylose_2014_SC | Amylose_2015_SC | Amylose_2014_TX | Amylose_2015_TX |\n",
       "|---|---|---|---|\n",
       "| 3.1814 | 0.0442 | 3.1340 | 0.0442 |\n",
       "| 0.0442 | 0.0711 | 0.0609 | 0.0710 |\n",
       "| 3.1340 | 0.0609 | 3.4932 | 0.0608 |\n",
       "| 0.0442 | 0.0710 | 0.0608 | 0.0709 |\n",
       "\n",
       "\n",
       "2. \n",
       "| Fat_2014_SC | Fat_2015_SC | Fat_2014_TX | Fat_2015_TX |\n",
       "|---|---|---|---|\n",
       "| 0.0312 | 0.0123 | 0.0250 | 0.0123 |\n",
       "| 0.0123 | 0.0109 | 0.0120 | 0.0109 |\n",
       "| 0.0250 | 0.0120 | 0.0355 | 0.0120 |\n",
       "| 0.0123 | 0.0109 | 0.0120 | 0.0109 |\n",
       "\n",
       "\n",
       "3. \n",
       "| GrossEnergy_2014_SC | GrossEnergy_2015_SC | GrossEnergy_2014_TX | GrossEnergy_2015_TX |\n",
       "|---|---|---|---|\n",
       "| 10.4513 | 0.6320  |  4.8209 | 0.6326  |\n",
       "|  0.6320 | 1.9103  |  1.1889 | 1.9088  |\n",
       "|  4.8209 | 1.1889  | 16.2204 | 1.1903  |\n",
       "|  0.6326 | 1.9088  |  1.1903 | 1.9074  |\n",
       "\n",
       "\n",
       "4. \n",
       "| Protein_2014_SC | Protein_2015_SC | Protein_2014_TX | Protein_2015_TX |\n",
       "|---|---|---|---|\n",
       "| 0.1008 | 0.0146 | 0.0327 | 0.0146 |\n",
       "| 0.0146 | 0.0146 | 0.0094 | 0.0146 |\n",
       "| 0.0327 | 0.0094 | 0.0746 | 0.0094 |\n",
       "| 0.0146 | 0.0146 | 0.0094 | 0.0146 |\n",
       "\n",
       "\n",
       "5. \n",
       "| Starch_2014_SC | Starch_2015_SC | Starch_2014_TX | Starch_2015_TX |\n",
       "|---|---|---|---|\n",
       "| 0.2925 | 0.0091 | 0.1890 | 0.0090 |\n",
       "| 0.0091 | 0.0196 | 0.0178 | 0.0196 |\n",
       "| 0.1890 | 0.0178 | 0.3034 | 0.0178 |\n",
       "| 0.0090 | 0.0196 | 0.0178 | 0.0196 |\n",
       "\n",
       "\n",
       "\n",
       "\n"
      ],
      "text/plain": [
       "[[1]]\n",
       "     Amylose_2014_SC Amylose_2015_SC Amylose_2014_TX Amylose_2015_TX\n",
       "[1,]          3.1814          0.0442          3.1340          0.0442\n",
       "[2,]          0.0442          0.0711          0.0609          0.0710\n",
       "[3,]          3.1340          0.0609          3.4932          0.0608\n",
       "[4,]          0.0442          0.0710          0.0608          0.0709\n",
       "\n",
       "[[2]]\n",
       "     Fat_2014_SC Fat_2015_SC Fat_2014_TX Fat_2015_TX\n",
       "[1,]      0.0312      0.0123      0.0250      0.0123\n",
       "[2,]      0.0123      0.0109      0.0120      0.0109\n",
       "[3,]      0.0250      0.0120      0.0355      0.0120\n",
       "[4,]      0.0123      0.0109      0.0120      0.0109\n",
       "\n",
       "[[3]]\n",
       "     GrossEnergy_2014_SC GrossEnergy_2015_SC GrossEnergy_2014_TX\n",
       "[1,]             10.4513              0.6320              4.8209\n",
       "[2,]              0.6320              1.9103              1.1889\n",
       "[3,]              4.8209              1.1889             16.2204\n",
       "[4,]              0.6326              1.9088              1.1903\n",
       "     GrossEnergy_2015_TX\n",
       "[1,]              0.6326\n",
       "[2,]              1.9088\n",
       "[3,]              1.1903\n",
       "[4,]              1.9074\n",
       "\n",
       "[[4]]\n",
       "     Protein_2014_SC Protein_2015_SC Protein_2014_TX Protein_2015_TX\n",
       "[1,]          0.1008          0.0146          0.0327          0.0146\n",
       "[2,]          0.0146          0.0146          0.0094          0.0146\n",
       "[3,]          0.0327          0.0094          0.0746          0.0094\n",
       "[4,]          0.0146          0.0146          0.0094          0.0146\n",
       "\n",
       "[[5]]\n",
       "     Starch_2014_SC Starch_2015_SC Starch_2014_TX Starch_2015_TX\n",
       "[1,]         0.2925         0.0091         0.1890         0.0090\n",
       "[2,]         0.0091         0.0196         0.0178         0.0196\n",
       "[3,]         0.1890         0.0178         0.3034         0.0178\n",
       "[4,]         0.0090         0.0196         0.0178         0.0196\n"
      ]
     },
     "metadata": {},
     "output_type": "display_data"
    },
    {
     "data": {
      "text/html": [
       "<ol>\n",
       "\t<li><table>\n",
       "<thead><tr><th scope=col>Amylose_2014_SC</th><th scope=col>Amylose_2015_SC</th><th scope=col>Amylose_2014_TX</th><th scope=col>Amylose_2015_TX</th></tr></thead>\n",
       "<tbody>\n",
       "\t<tr><td>4.4479</td><td>2.4435</td><td>3.8950</td><td>2.4404</td></tr>\n",
       "\t<tr><td>2.4435</td><td>6.6476</td><td>3.7472</td><td>6.6385</td></tr>\n",
       "\t<tr><td>3.8950</td><td>3.7472</td><td>5.4874</td><td>3.7422</td></tr>\n",
       "\t<tr><td>2.4404</td><td>6.6385</td><td>3.7422</td><td>6.6295</td></tr>\n",
       "</tbody>\n",
       "</table>\n",
       "</li>\n",
       "\t<li><table>\n",
       "<thead><tr><th scope=col>Fat_2014_SC</th><th scope=col>Fat_2015_SC</th><th scope=col>Fat_2014_TX</th><th scope=col>Fat_2015_TX</th></tr></thead>\n",
       "<tbody>\n",
       "\t<tr><td>0.1218</td><td>0.0633</td><td>0.0981</td><td>0.0632</td></tr>\n",
       "\t<tr><td>0.0633</td><td>0.1126</td><td>0.0953</td><td>0.1124</td></tr>\n",
       "\t<tr><td>0.0981</td><td>0.0953</td><td>0.1667</td><td>0.0952</td></tr>\n",
       "\t<tr><td>0.0632</td><td>0.1124</td><td>0.0952</td><td>0.1123</td></tr>\n",
       "</tbody>\n",
       "</table>\n",
       "</li>\n",
       "\t<li><table>\n",
       "<thead><tr><th scope=col>GrossEnergy_2014_SC</th><th scope=col>GrossEnergy_2015_SC</th><th scope=col>GrossEnergy_2014_TX</th><th scope=col>GrossEnergy_2015_TX</th></tr></thead>\n",
       "<tbody>\n",
       "\t<tr><td>50.7169 </td><td> 34.0523</td><td> 40.5324</td><td> 34.0287</td></tr>\n",
       "\t<tr><td>34.0523 </td><td>146.2841</td><td> 66.7347</td><td>146.1712</td></tr>\n",
       "\t<tr><td>40.5324 </td><td> 66.7347</td><td>101.1689</td><td> 66.6859</td></tr>\n",
       "\t<tr><td>34.0287 </td><td>146.1712</td><td> 66.6859</td><td>146.0586</td></tr>\n",
       "</tbody>\n",
       "</table>\n",
       "</li>\n",
       "\t<li><table>\n",
       "<thead><tr><th scope=col>Protein_2014_SC</th><th scope=col>Protein_2015_SC</th><th scope=col>Protein_2014_TX</th><th scope=col>Protein_2015_TX</th></tr></thead>\n",
       "<tbody>\n",
       "\t<tr><td>0.4229</td><td>0.2708</td><td>0.3235</td><td>0.2705</td></tr>\n",
       "\t<tr><td>0.2708</td><td>0.5076</td><td>0.3906</td><td>0.5072</td></tr>\n",
       "\t<tr><td>0.3235</td><td>0.3906</td><td>0.5375</td><td>0.3903</td></tr>\n",
       "\t<tr><td>0.2705</td><td>0.5072</td><td>0.3903</td><td>0.5067</td></tr>\n",
       "</tbody>\n",
       "</table>\n",
       "</li>\n",
       "\t<li><table>\n",
       "<thead><tr><th scope=col>Starch_2014_SC</th><th scope=col>Starch_2015_SC</th><th scope=col>Starch_2014_TX</th><th scope=col>Starch_2015_TX</th></tr></thead>\n",
       "<tbody>\n",
       "\t<tr><td>1.0996</td><td>0.5264</td><td>0.9691</td><td>0.5260</td></tr>\n",
       "\t<tr><td>0.5264</td><td>1.0404</td><td>0.8370</td><td>1.0396</td></tr>\n",
       "\t<tr><td>0.9691</td><td>0.8370</td><td>1.7837</td><td>0.8363</td></tr>\n",
       "\t<tr><td>0.5260</td><td>1.0396</td><td>0.8363</td><td>1.0388</td></tr>\n",
       "</tbody>\n",
       "</table>\n",
       "</li>\n",
       "</ol>\n"
      ],
      "text/latex": [
       "\\begin{enumerate}\n",
       "\\item \\begin{tabular}{llll}\n",
       " Amylose\\_2014\\_SC & Amylose\\_2015\\_SC & Amylose\\_2014\\_TX & Amylose\\_2015\\_TX\\\\\n",
       "\\hline\n",
       "\t 4.4479 & 2.4435 & 3.8950 & 2.4404\\\\\n",
       "\t 2.4435 & 6.6476 & 3.7472 & 6.6385\\\\\n",
       "\t 3.8950 & 3.7472 & 5.4874 & 3.7422\\\\\n",
       "\t 2.4404 & 6.6385 & 3.7422 & 6.6295\\\\\n",
       "\\end{tabular}\n",
       "\n",
       "\\item \\begin{tabular}{llll}\n",
       " Fat\\_2014\\_SC & Fat\\_2015\\_SC & Fat\\_2014\\_TX & Fat\\_2015\\_TX\\\\\n",
       "\\hline\n",
       "\t 0.1218 & 0.0633 & 0.0981 & 0.0632\\\\\n",
       "\t 0.0633 & 0.1126 & 0.0953 & 0.1124\\\\\n",
       "\t 0.0981 & 0.0953 & 0.1667 & 0.0952\\\\\n",
       "\t 0.0632 & 0.1124 & 0.0952 & 0.1123\\\\\n",
       "\\end{tabular}\n",
       "\n",
       "\\item \\begin{tabular}{llll}\n",
       " GrossEnergy\\_2014\\_SC & GrossEnergy\\_2015\\_SC & GrossEnergy\\_2014\\_TX & GrossEnergy\\_2015\\_TX\\\\\n",
       "\\hline\n",
       "\t 50.7169  &  34.0523 &  40.5324 &  34.0287\\\\\n",
       "\t 34.0523  & 146.2841 &  66.7347 & 146.1712\\\\\n",
       "\t 40.5324  &  66.7347 & 101.1689 &  66.6859\\\\\n",
       "\t 34.0287  & 146.1712 &  66.6859 & 146.0586\\\\\n",
       "\\end{tabular}\n",
       "\n",
       "\\item \\begin{tabular}{llll}\n",
       " Protein\\_2014\\_SC & Protein\\_2015\\_SC & Protein\\_2014\\_TX & Protein\\_2015\\_TX\\\\\n",
       "\\hline\n",
       "\t 0.4229 & 0.2708 & 0.3235 & 0.2705\\\\\n",
       "\t 0.2708 & 0.5076 & 0.3906 & 0.5072\\\\\n",
       "\t 0.3235 & 0.3906 & 0.5375 & 0.3903\\\\\n",
       "\t 0.2705 & 0.5072 & 0.3903 & 0.5067\\\\\n",
       "\\end{tabular}\n",
       "\n",
       "\\item \\begin{tabular}{llll}\n",
       " Starch\\_2014\\_SC & Starch\\_2015\\_SC & Starch\\_2014\\_TX & Starch\\_2015\\_TX\\\\\n",
       "\\hline\n",
       "\t 1.0996 & 0.5264 & 0.9691 & 0.5260\\\\\n",
       "\t 0.5264 & 1.0404 & 0.8370 & 1.0396\\\\\n",
       "\t 0.9691 & 0.8370 & 1.7837 & 0.8363\\\\\n",
       "\t 0.5260 & 1.0396 & 0.8363 & 1.0388\\\\\n",
       "\\end{tabular}\n",
       "\n",
       "\\end{enumerate}\n"
      ],
      "text/markdown": [
       "1. \n",
       "| Amylose_2014_SC | Amylose_2015_SC | Amylose_2014_TX | Amylose_2015_TX |\n",
       "|---|---|---|---|\n",
       "| 4.4479 | 2.4435 | 3.8950 | 2.4404 |\n",
       "| 2.4435 | 6.6476 | 3.7472 | 6.6385 |\n",
       "| 3.8950 | 3.7472 | 5.4874 | 3.7422 |\n",
       "| 2.4404 | 6.6385 | 3.7422 | 6.6295 |\n",
       "\n",
       "\n",
       "2. \n",
       "| Fat_2014_SC | Fat_2015_SC | Fat_2014_TX | Fat_2015_TX |\n",
       "|---|---|---|---|\n",
       "| 0.1218 | 0.0633 | 0.0981 | 0.0632 |\n",
       "| 0.0633 | 0.1126 | 0.0953 | 0.1124 |\n",
       "| 0.0981 | 0.0953 | 0.1667 | 0.0952 |\n",
       "| 0.0632 | 0.1124 | 0.0952 | 0.1123 |\n",
       "\n",
       "\n",
       "3. \n",
       "| GrossEnergy_2014_SC | GrossEnergy_2015_SC | GrossEnergy_2014_TX | GrossEnergy_2015_TX |\n",
       "|---|---|---|---|\n",
       "| 50.7169  |  34.0523 |  40.5324 |  34.0287 |\n",
       "| 34.0523  | 146.2841 |  66.7347 | 146.1712 |\n",
       "| 40.5324  |  66.7347 | 101.1689 |  66.6859 |\n",
       "| 34.0287  | 146.1712 |  66.6859 | 146.0586 |\n",
       "\n",
       "\n",
       "4. \n",
       "| Protein_2014_SC | Protein_2015_SC | Protein_2014_TX | Protein_2015_TX |\n",
       "|---|---|---|---|\n",
       "| 0.4229 | 0.2708 | 0.3235 | 0.2705 |\n",
       "| 0.2708 | 0.5076 | 0.3906 | 0.5072 |\n",
       "| 0.3235 | 0.3906 | 0.5375 | 0.3903 |\n",
       "| 0.2705 | 0.5072 | 0.3903 | 0.5067 |\n",
       "\n",
       "\n",
       "5. \n",
       "| Starch_2014_SC | Starch_2015_SC | Starch_2014_TX | Starch_2015_TX |\n",
       "|---|---|---|---|\n",
       "| 1.0996 | 0.5264 | 0.9691 | 0.5260 |\n",
       "| 0.5264 | 1.0404 | 0.8370 | 1.0396 |\n",
       "| 0.9691 | 0.8370 | 1.7837 | 0.8363 |\n",
       "| 0.5260 | 1.0396 | 0.8363 | 1.0388 |\n",
       "\n",
       "\n",
       "\n",
       "\n"
      ],
      "text/plain": [
       "[[1]]\n",
       "     Amylose_2014_SC Amylose_2015_SC Amylose_2014_TX Amylose_2015_TX\n",
       "[1,]          4.4479          2.4435          3.8950          2.4404\n",
       "[2,]          2.4435          6.6476          3.7472          6.6385\n",
       "[3,]          3.8950          3.7472          5.4874          3.7422\n",
       "[4,]          2.4404          6.6385          3.7422          6.6295\n",
       "\n",
       "[[2]]\n",
       "     Fat_2014_SC Fat_2015_SC Fat_2014_TX Fat_2015_TX\n",
       "[1,]      0.1218      0.0633      0.0981      0.0632\n",
       "[2,]      0.0633      0.1126      0.0953      0.1124\n",
       "[3,]      0.0981      0.0953      0.1667      0.0952\n",
       "[4,]      0.0632      0.1124      0.0952      0.1123\n",
       "\n",
       "[[3]]\n",
       "     GrossEnergy_2014_SC GrossEnergy_2015_SC GrossEnergy_2014_TX\n",
       "[1,]             50.7169             34.0523             40.5324\n",
       "[2,]             34.0523            146.2841             66.7347\n",
       "[3,]             40.5324             66.7347            101.1689\n",
       "[4,]             34.0287            146.1712             66.6859\n",
       "     GrossEnergy_2015_TX\n",
       "[1,]             34.0287\n",
       "[2,]            146.1712\n",
       "[3,]             66.6859\n",
       "[4,]            146.0586\n",
       "\n",
       "[[4]]\n",
       "     Protein_2014_SC Protein_2015_SC Protein_2014_TX Protein_2015_TX\n",
       "[1,]          0.4229          0.2708          0.3235          0.2705\n",
       "[2,]          0.2708          0.5076          0.3906          0.5072\n",
       "[3,]          0.3235          0.3906          0.5375          0.3903\n",
       "[4,]          0.2705          0.5072          0.3903          0.5067\n",
       "\n",
       "[[5]]\n",
       "     Starch_2014_SC Starch_2015_SC Starch_2014_TX Starch_2015_TX\n",
       "[1,]         1.0996         0.5264         0.9691         0.5260\n",
       "[2,]         0.5264         1.0404         0.8370         1.0396\n",
       "[3,]         0.9691         0.8370         1.7837         0.8363\n",
       "[4,]         0.5260         1.0396         0.8363         1.0388\n"
      ]
     },
     "metadata": {},
     "output_type": "display_data"
    }
   ],
   "source": [
    "### Compile BME / BMT model fit\n",
    "traits <- c('Amylose','Fat','GrossEnergy','Protein','Starch')\n",
    "# pops <- c('SAP','BTx642')\n",
    "\n",
    "# total <- c()\n",
    "# for (j in 1: length(pops)){\n",
    "pop <- 'BTx642' #pops[j]\n",
    "\n",
    "setwd('/scratch2/ssapkot/GrainComp/BTx642/BME/')\n",
    "COV_T <- c()\n",
    "COV_R <- c()\n",
    "for (i in 1:length(traits)){\n",
    "    covt <- c()\n",
    "    covr <- c()\n",
    "    trait <- traits[i]\n",
    "    df <- paste0(pop,'_BME_',trait,'_Model.rds')\n",
    "    if (file.exists(df))\n",
    "         pm <- readRDS(file=df)\n",
    "        print(pm$beta)\n",
    "        covt <- pm$varTrait\n",
    "        covr <- pm$vare\n",
    "        \n",
    "        COV_T[[i]] <- covt\n",
    "        COV_R[[i]] <- covr\n",
    "        }\n",
    "    COV_T\n",
    "    COV_R\n",
    "\n",
    "    \n",
    "    #write.csv(total, file=\"results/BME_complete_results.csv\", row.names=FALSE)\n",
    "\n"
   ]
  },
  {
   "cell_type": "code",
   "execution_count": null,
   "metadata": {},
   "outputs": [],
   "source": []
  },
  {
   "cell_type": "code",
   "execution_count": 20,
   "metadata": {},
   "outputs": [
    {
     "data": {
      "text/html": [
       "<table>\n",
       "<thead><tr><th scope=col>Taxa</th><th scope=col>Location</th><th scope=col>Year</th><th scope=col>Rep</th><th scope=col>DTA</th><th scope=col>PH</th><th scope=col>GNP</th><th scope=col>TGW</th><th scope=col>YPP</th><th scope=col>ADF</th><th scope=col>...</th><th scope=col>Mg</th><th scope=col>Mn</th><th scope=col>Moisture</th><th scope=col>NDF</th><th scope=col>N.mg</th><th scope=col>P</th><th scope=col>Prolamin</th><th scope=col>Protein</th><th scope=col>Starch</th><th scope=col>Zn</th></tr></thead>\n",
       "<tbody>\n",
       "\t<tr><td>PI17548 </td><td>SC      </td><td>2013    </td><td>1       </td><td>62      </td><td>240     </td><td>1269    </td><td>15.1    </td><td>21.0    </td><td>6.61    </td><td>...     </td><td>1554    </td><td>14.53   </td><td>10.89   </td><td> 9.36   </td><td> 8.82   </td><td>0.355   </td><td>4.67    </td><td>10.71   </td><td>66.7    </td><td>19.48   </td></tr>\n",
       "\t<tr><td>PI24969 </td><td>SC      </td><td>2013    </td><td>1       </td><td>71      </td><td>227     </td><td>2067    </td><td>31.5    </td><td>66.3    </td><td>3.84    </td><td>...     </td><td>1395    </td><td>14.05   </td><td>11.16   </td><td> 6.80   </td><td> 8.83   </td><td>0.331   </td><td>4.37    </td><td>11.05   </td><td>72.2    </td><td>18.24   </td></tr>\n",
       "\t<tr><td>PI34911 </td><td>SC      </td><td>2013    </td><td>1       </td><td>NA      </td><td>196     </td><td> 697    </td><td>29.8    </td><td>18.9    </td><td>5.81    </td><td>...     </td><td>1313    </td><td>12.95   </td><td>10.97   </td><td> 9.69   </td><td> 8.47   </td><td>0.312   </td><td>4.32    </td><td>10.49   </td><td>71.1    </td><td>17.00   </td></tr>\n",
       "\t<tr><td>PI35038 </td><td>SC      </td><td>2013    </td><td>1       </td><td>71      </td><td>199     </td><td>1328    </td><td>12.8    </td><td>18.8    </td><td>7.33    </td><td>...     </td><td>1541    </td><td>14.95   </td><td>10.76   </td><td>10.25   </td><td> 9.60   </td><td>0.359   </td><td>4.90    </td><td>11.55   </td><td>65.2    </td><td>20.21   </td></tr>\n",
       "\t<tr><td>PI48770 </td><td>SC      </td><td>2013    </td><td>1       </td><td>52      </td><td>158     </td><td> 481    </td><td>28.8    </td><td>14.7    </td><td>7.46    </td><td>...     </td><td>1582    </td><td>15.03   </td><td>11.07   </td><td> 6.48   </td><td>10.76   </td><td>0.378   </td><td>5.12    </td><td>13.20   </td><td>67.6    </td><td>22.68   </td></tr>\n",
       "\t<tr><td>PI152651</td><td>SC      </td><td>2013    </td><td>1       </td><td>64      </td><td>192     </td><td>1791    </td><td>23.2    </td><td>44.7    </td><td>4.01    </td><td>...     </td><td>1339    </td><td>12.83   </td><td>10.85   </td><td> 7.53   </td><td> 7.23   </td><td>0.302   </td><td>3.77    </td><td> 9.03   </td><td>73.9    </td><td>17.37   </td></tr>\n",
       "</tbody>\n",
       "</table>\n"
      ],
      "text/latex": [
       "\\begin{tabular}{r|lllllllllllllllllllllllll}\n",
       " Taxa & Location & Year & Rep & DTA & PH & GNP & TGW & YPP & ADF & ... & Mg & Mn & Moisture & NDF & N.mg & P & Prolamin & Protein & Starch & Zn\\\\\n",
       "\\hline\n",
       "\t PI17548  & SC       & 2013     & 1        & 62       & 240      & 1269     & 15.1     & 21.0     & 6.61     & ...      & 1554     & 14.53    & 10.89    &  9.36    &  8.82    & 0.355    & 4.67     & 10.71    & 66.7     & 19.48   \\\\\n",
       "\t PI24969  & SC       & 2013     & 1        & 71       & 227      & 2067     & 31.5     & 66.3     & 3.84     & ...      & 1395     & 14.05    & 11.16    &  6.80    &  8.83    & 0.331    & 4.37     & 11.05    & 72.2     & 18.24   \\\\\n",
       "\t PI34911  & SC       & 2013     & 1        & NA       & 196      &  697     & 29.8     & 18.9     & 5.81     & ...      & 1313     & 12.95    & 10.97    &  9.69    &  8.47    & 0.312    & 4.32     & 10.49    & 71.1     & 17.00   \\\\\n",
       "\t PI35038  & SC       & 2013     & 1        & 71       & 199      & 1328     & 12.8     & 18.8     & 7.33     & ...      & 1541     & 14.95    & 10.76    & 10.25    &  9.60    & 0.359    & 4.90     & 11.55    & 65.2     & 20.21   \\\\\n",
       "\t PI48770  & SC       & 2013     & 1        & 52       & 158      &  481     & 28.8     & 14.7     & 7.46     & ...      & 1582     & 15.03    & 11.07    &  6.48    & 10.76    & 0.378    & 5.12     & 13.20    & 67.6     & 22.68   \\\\\n",
       "\t PI152651 & SC       & 2013     & 1        & 64       & 192      & 1791     & 23.2     & 44.7     & 4.01     & ...      & 1339     & 12.83    & 10.85    &  7.53    &  7.23    & 0.302    & 3.77     &  9.03    & 73.9     & 17.37   \\\\\n",
       "\\end{tabular}\n"
      ],
      "text/markdown": [
       "\n",
       "| Taxa | Location | Year | Rep | DTA | PH | GNP | TGW | YPP | ADF | ... | Mg | Mn | Moisture | NDF | N.mg | P | Prolamin | Protein | Starch | Zn |\n",
       "|---|---|---|---|---|---|---|---|---|---|---|---|---|---|---|---|---|---|---|---|---|\n",
       "| PI17548  | SC       | 2013     | 1        | 62       | 240      | 1269     | 15.1     | 21.0     | 6.61     | ...      | 1554     | 14.53    | 10.89    |  9.36    |  8.82    | 0.355    | 4.67     | 10.71    | 66.7     | 19.48    |\n",
       "| PI24969  | SC       | 2013     | 1        | 71       | 227      | 2067     | 31.5     | 66.3     | 3.84     | ...      | 1395     | 14.05    | 11.16    |  6.80    |  8.83    | 0.331    | 4.37     | 11.05    | 72.2     | 18.24    |\n",
       "| PI34911  | SC       | 2013     | 1        | NA       | 196      |  697     | 29.8     | 18.9     | 5.81     | ...      | 1313     | 12.95    | 10.97    |  9.69    |  8.47    | 0.312    | 4.32     | 10.49    | 71.1     | 17.00    |\n",
       "| PI35038  | SC       | 2013     | 1        | 71       | 199      | 1328     | 12.8     | 18.8     | 7.33     | ...      | 1541     | 14.95    | 10.76    | 10.25    |  9.60    | 0.359    | 4.90     | 11.55    | 65.2     | 20.21    |\n",
       "| PI48770  | SC       | 2013     | 1        | 52       | 158      |  481     | 28.8     | 14.7     | 7.46     | ...      | 1582     | 15.03    | 11.07    |  6.48    | 10.76    | 0.378    | 5.12     | 13.20    | 67.6     | 22.68    |\n",
       "| PI152651 | SC       | 2013     | 1        | 64       | 192      | 1791     | 23.2     | 44.7     | 4.01     | ...      | 1339     | 12.83    | 10.85    |  7.53    |  7.23    | 0.302    | 3.77     |  9.03    | 73.9     | 17.37    |\n",
       "\n"
      ],
      "text/plain": [
       "  Taxa     Location Year Rep DTA PH  GNP  TGW  YPP  ADF  ... Mg   Mn   \n",
       "1 PI17548  SC       2013 1   62  240 1269 15.1 21.0 6.61 ... 1554 14.53\n",
       "2 PI24969  SC       2013 1   71  227 2067 31.5 66.3 3.84 ... 1395 14.05\n",
       "3 PI34911  SC       2013 1   NA  196  697 29.8 18.9 5.81 ... 1313 12.95\n",
       "4 PI35038  SC       2013 1   71  199 1328 12.8 18.8 7.33 ... 1541 14.95\n",
       "5 PI48770  SC       2013 1   52  158  481 28.8 14.7 7.46 ... 1582 15.03\n",
       "6 PI152651 SC       2013 1   64  192 1791 23.2 44.7 4.01 ... 1339 12.83\n",
       "  Moisture NDF   N.mg  P     Prolamin Protein Starch Zn   \n",
       "1 10.89     9.36  8.82 0.355 4.67     10.71   66.7   19.48\n",
       "2 11.16     6.80  8.83 0.331 4.37     11.05   72.2   18.24\n",
       "3 10.97     9.69  8.47 0.312 4.32     10.49   71.1   17.00\n",
       "4 10.76    10.25  9.60 0.359 4.90     11.55   65.2   20.21\n",
       "5 11.07     6.48 10.76 0.378 5.12     13.20   67.6   22.68\n",
       "6 10.85     7.53  7.23 0.302 3.77      9.03   73.9   17.37"
      ]
     },
     "metadata": {},
     "output_type": "display_data"
    },
    {
     "data": {
      "text/html": [
       "<table>\n",
       "<thead><tr><th scope=col>Taxa</th><th scope=col>Location</th><th scope=col>Year</th><th scope=col>Rep</th><th scope=col>Amylose</th><th scope=col>Protein</th><th scope=col>Starch</th><th scope=col>Fat</th><th scope=col>Gross_Energy</th></tr></thead>\n",
       "<tbody>\n",
       "\t<tr><td>PI17548 </td><td>SC      </td><td>2013    </td><td>1       </td><td>0.27029 </td><td>0.161721</td><td>1.00717 </td><td>0.058135</td><td> 62.9972</td></tr>\n",
       "\t<tr><td>PI24969 </td><td>SC      </td><td>2013    </td><td>1       </td><td>0.45360 </td><td>0.348075</td><td>2.27430 </td><td>0.074655</td><td>127.5435</td></tr>\n",
       "\t<tr><td>PI34911 </td><td>SC      </td><td>2013    </td><td>1       </td><td>0.50064 </td><td>0.312602</td><td>2.11878 </td><td>0.075990</td><td>121.4946</td></tr>\n",
       "\t<tr><td>PI35038 </td><td>SC      </td><td>2013    </td><td>1       </td><td>0.20480 </td><td>0.147840</td><td>0.83456 </td><td>0.043776</td><td> 53.2352</td></tr>\n",
       "\t<tr><td>PI48770 </td><td>SC      </td><td>2013    </td><td>1       </td><td>0.44064 </td><td>0.380160</td><td>1.94688 </td><td>0.063072</td><td>117.4752</td></tr>\n",
       "\t<tr><td>PI152651</td><td>SC      </td><td>2013    </td><td>1       </td><td>0.30160 </td><td>0.209496</td><td>1.71448 </td><td>0.056608</td><td> 93.5656</td></tr>\n",
       "</tbody>\n",
       "</table>\n"
      ],
      "text/latex": [
       "\\begin{tabular}{r|lllllllll}\n",
       " Taxa & Location & Year & Rep & Amylose & Protein & Starch & Fat & Gross\\_Energy\\\\\n",
       "\\hline\n",
       "\t PI17548  & SC       & 2013     & 1        & 0.27029  & 0.161721 & 1.00717  & 0.058135 &  62.9972\\\\\n",
       "\t PI24969  & SC       & 2013     & 1        & 0.45360  & 0.348075 & 2.27430  & 0.074655 & 127.5435\\\\\n",
       "\t PI34911  & SC       & 2013     & 1        & 0.50064  & 0.312602 & 2.11878  & 0.075990 & 121.4946\\\\\n",
       "\t PI35038  & SC       & 2013     & 1        & 0.20480  & 0.147840 & 0.83456  & 0.043776 &  53.2352\\\\\n",
       "\t PI48770  & SC       & 2013     & 1        & 0.44064  & 0.380160 & 1.94688  & 0.063072 & 117.4752\\\\\n",
       "\t PI152651 & SC       & 2013     & 1        & 0.30160  & 0.209496 & 1.71448  & 0.056608 &  93.5656\\\\\n",
       "\\end{tabular}\n"
      ],
      "text/markdown": [
       "\n",
       "| Taxa | Location | Year | Rep | Amylose | Protein | Starch | Fat | Gross_Energy |\n",
       "|---|---|---|---|---|---|---|---|---|\n",
       "| PI17548  | SC       | 2013     | 1        | 0.27029  | 0.161721 | 1.00717  | 0.058135 |  62.9972 |\n",
       "| PI24969  | SC       | 2013     | 1        | 0.45360  | 0.348075 | 2.27430  | 0.074655 | 127.5435 |\n",
       "| PI34911  | SC       | 2013     | 1        | 0.50064  | 0.312602 | 2.11878  | 0.075990 | 121.4946 |\n",
       "| PI35038  | SC       | 2013     | 1        | 0.20480  | 0.147840 | 0.83456  | 0.043776 |  53.2352 |\n",
       "| PI48770  | SC       | 2013     | 1        | 0.44064  | 0.380160 | 1.94688  | 0.063072 | 117.4752 |\n",
       "| PI152651 | SC       | 2013     | 1        | 0.30160  | 0.209496 | 1.71448  | 0.056608 |  93.5656 |\n",
       "\n"
      ],
      "text/plain": [
       "  Taxa     Location Year Rep Amylose Protein  Starch  Fat      Gross_Energy\n",
       "1 PI17548  SC       2013 1   0.27029 0.161721 1.00717 0.058135  62.9972    \n",
       "2 PI24969  SC       2013 1   0.45360 0.348075 2.27430 0.074655 127.5435    \n",
       "3 PI34911  SC       2013 1   0.50064 0.312602 2.11878 0.075990 121.4946    \n",
       "4 PI35038  SC       2013 1   0.20480 0.147840 0.83456 0.043776  53.2352    \n",
       "5 PI48770  SC       2013 1   0.44064 0.380160 1.94688 0.063072 117.4752    \n",
       "6 PI152651 SC       2013 1   0.30160 0.209496 1.71448 0.056608  93.5656    "
      ]
     },
     "metadata": {},
     "output_type": "display_data"
    }
   ],
   "source": [
    "## Convert Starch protein to per grain values\n",
    "df <- read.csv(\"data/SAP_multiyear_agronomic_composition.csv\")\n",
    "head(df)\n",
    "df2 <- df %>% transmute( Amylose = Amylose * TGW/1000, Protein = Protein * TGW/1000, Starch = Starch * TGW/1000, Fat = Fat * TGW/1000, Gross_Energy = Cal.g * TGW/1000)\n",
    "df2 <- cbind(df[,1:4],df2)\n",
    "head(df2)\n",
    "write.csv(df2, file='/panicle/ssapkot/git_repo/GrainComp_GS/data/SAP_GrainComp_PerGrain_Complete.csv',row.names=FALSE)\n"
   ]
  },
  {
   "cell_type": "code",
   "execution_count": 8,
   "metadata": {},
   "outputs": [
    {
     "data": {
      "text/html": [
       "<table>\n",
       "<thead><tr><th scope=col>Environment</th><th scope=col>Trait</th><th scope=col>Pearson</th><th scope=col>SE_Pearson</th><th scope=col>MAAPE</th><th scope=col>SE_MAAPE</th></tr></thead>\n",
       "<tbody>\n",
       "\t<tr><td>            </td><td>Amylose     </td><td>0.3098      </td><td>0.0399      </td><td>0.7563      </td><td>0.0151      </td></tr>\n",
       "\t<tr><td>            </td><td>Fat         </td><td>0.3951      </td><td>0.0700      </td><td>0.7633      </td><td>0.0252      </td></tr>\n",
       "\t<tr><td>            </td><td>Gross_Energy</td><td>0.5775      </td><td>0.0296      </td><td>0.6978      </td><td>0.0138      </td></tr>\n",
       "\t<tr><td>            </td><td>Protein     </td><td>0.4023      </td><td>0.0449      </td><td>0.7588      </td><td>0.0153      </td></tr>\n",
       "\t<tr><td>            </td><td>Starch      </td><td>0.5747      </td><td>0.0291      </td><td>0.7001      </td><td>0.0132      </td></tr>\n",
       "</tbody>\n",
       "</table>\n"
      ],
      "text/latex": [
       "\\begin{tabular}{r|llllll}\n",
       " Environment & Trait & Pearson & SE\\_Pearson & MAAPE & SE\\_MAAPE\\\\\n",
       "\\hline\n",
       "\t              & Amylose      & 0.3098       & 0.0399       & 0.7563       & 0.0151      \\\\\n",
       "\t              & Fat          & 0.3951       & 0.0700       & 0.7633       & 0.0252      \\\\\n",
       "\t                & Gross\\_Energy & 0.5775         & 0.0296         & 0.6978         & 0.0138        \\\\\n",
       "\t              & Protein      & 0.4023       & 0.0449       & 0.7588       & 0.0153      \\\\\n",
       "\t              & Starch       & 0.5747       & 0.0291       & 0.7001       & 0.0132      \\\\\n",
       "\\end{tabular}\n"
      ],
      "text/markdown": [
       "\n",
       "| Environment | Trait | Pearson | SE_Pearson | MAAPE | SE_MAAPE |\n",
       "|---|---|---|---|---|---|\n",
       "|              | Amylose      | 0.3098       | 0.0399       | 0.7563       | 0.0151       |\n",
       "|              | Fat          | 0.3951       | 0.0700       | 0.7633       | 0.0252       |\n",
       "|              | Gross_Energy | 0.5775       | 0.0296       | 0.6978       | 0.0138       |\n",
       "|              | Protein      | 0.4023       | 0.0449       | 0.7588       | 0.0153       |\n",
       "|              | Starch       | 0.5747       | 0.0291       | 0.7001       | 0.0132       |\n",
       "\n"
      ],
      "text/plain": [
       "  Environment Trait        Pearson SE_Pearson MAAPE  SE_MAAPE\n",
       "1             Amylose      0.3098  0.0399     0.7563 0.0151  \n",
       "2             Fat          0.3951  0.0700     0.7633 0.0252  \n",
       "3             Gross_Energy 0.5775  0.0296     0.6978 0.0138  \n",
       "4             Protein      0.4023  0.0449     0.7588 0.0153  \n",
       "5             Starch       0.5747  0.0291     0.7001 0.0132  "
      ]
     },
     "metadata": {},
     "output_type": "display_data"
    },
    {
     "data": {
      "text/html": [
       "<ol class=list-inline>\n",
       "\t<li>25</li>\n",
       "\t<li>5</li>\n",
       "</ol>\n"
      ],
      "text/latex": [
       "\\begin{enumerate*}\n",
       "\\item 25\n",
       "\\item 5\n",
       "\\end{enumerate*}\n"
      ],
      "text/markdown": [
       "1. 25\n",
       "2. 5\n",
       "\n",
       "\n"
      ],
      "text/plain": [
       "[1] 25  5"
      ]
     },
     "metadata": {},
     "output_type": "display_data"
    },
    {
     "data": {
      "text/html": [
       "<table>\n",
       "<thead><tr><th scope=col>Environment</th><th scope=col>Trait</th><th scope=col>Partition</th><th scope=col>Pearson</th><th scope=col>MAAPE</th></tr></thead>\n",
       "<tbody>\n",
       "\t<tr><td>       </td><td>Amylose</td><td>1      </td><td>0.2234 </td><td>0.7878 </td></tr>\n",
       "\t<tr><td>       </td><td>Amylose</td><td>2      </td><td>0.2439 </td><td>0.7741 </td></tr>\n",
       "\t<tr><td>       </td><td>Amylose</td><td>3      </td><td>0.3010 </td><td>0.7499 </td></tr>\n",
       "\t<tr><td>       </td><td>Amylose</td><td>4      </td><td>0.4492 </td><td>0.7685 </td></tr>\n",
       "\t<tr><td>       </td><td>Amylose</td><td>5      </td><td>0.3315 </td><td>0.7011 </td></tr>\n",
       "\t<tr><td>       </td><td>Fat    </td><td>1      </td><td>0.3318 </td><td>0.7374 </td></tr>\n",
       "</tbody>\n",
       "</table>\n"
      ],
      "text/latex": [
       "\\begin{tabular}{r|lllll}\n",
       " Environment & Trait & Partition & Pearson & MAAPE\\\\\n",
       "\\hline\n",
       "\t         & Amylose & 1       & 0.2234  & 0.7878 \\\\\n",
       "\t         & Amylose & 2       & 0.2439  & 0.7741 \\\\\n",
       "\t         & Amylose & 3       & 0.3010  & 0.7499 \\\\\n",
       "\t         & Amylose & 4       & 0.4492  & 0.7685 \\\\\n",
       "\t         & Amylose & 5       & 0.3315  & 0.7011 \\\\\n",
       "\t         & Fat     & 1       & 0.3318  & 0.7374 \\\\\n",
       "\\end{tabular}\n"
      ],
      "text/markdown": [
       "\n",
       "| Environment | Trait | Partition | Pearson | MAAPE |\n",
       "|---|---|---|---|---|\n",
       "|         | Amylose | 1       | 0.2234  | 0.7878  |\n",
       "|         | Amylose | 2       | 0.2439  | 0.7741  |\n",
       "|         | Amylose | 3       | 0.3010  | 0.7499  |\n",
       "|         | Amylose | 4       | 0.4492  | 0.7685  |\n",
       "|         | Amylose | 5       | 0.3315  | 0.7011  |\n",
       "|         | Fat     | 1       | 0.3318  | 0.7374  |\n",
       "\n"
      ],
      "text/plain": [
       "  Environment Trait   Partition Pearson MAAPE \n",
       "1             Amylose 1         0.2234  0.7878\n",
       "2             Amylose 2         0.2439  0.7741\n",
       "3             Amylose 3         0.3010  0.7499\n",
       "4             Amylose 4         0.4492  0.7685\n",
       "5             Amylose 5         0.3315  0.7011\n",
       "6             Fat     1         0.3318  0.7374"
      ]
     },
     "metadata": {},
     "output_type": "display_data"
    }
   ],
   "source": [
    "pm <- readRDS(file = '/panicle/ssapkot/git_repo/GrainComp_GS/results/SAP_all_multiTrait_CV5.rds')\n",
    "\n",
    "# names(phenoBME)[names(phenoBME) == \"Cal.g2013\"] <- \"Gross_Energy2013\"\n",
    "# names(phenoBME)[names(phenoBME) == \"Cal.g2014\"] <- \"Gross_Energy2014\"\n",
    "# names(phenoBME)[names(phenoBME) == \"Cal.g2017\"] <- \"Gross_Energy2017\"\n",
    "#phenoBMTME <- phenoBMTME[,c(1:4,6,9,10)]\n",
    "#phenoBME <- phenoBME[,c(1:7,11:13,20:25)]\n",
    "# head(phenoBMTME)\n",
    "# head(phenoBME)\n",
    "summary(pm)\n",
    "res <- summary(pm, information='complete')\n",
    "dim(res)\n",
    "head(res)\n",
    "# traits <- colnames(phenoBME[,-1])\n",
    "# traits\n",
    "#write.csv(res, file='/panicle/ssapkot/git_repo/GrainComp_GS/results/SAP_MTusingBLUPs.txt', row.names=FALSE)\n",
    "\n",
    "\n",
    "#save(phenoBME,phenoBMTME, geno, file='/panicle/ssapkot/git_repo/GrainComp_GS/data/SAP_BMTME.RData')"
   ]
  },
  {
   "cell_type": "code",
   "execution_count": null,
   "metadata": {},
   "outputs": [
    {
     "name": "stderr",
     "output_type": "stream",
     "text": []
    },
    {
     "name": "stderr",
     "output_type": "stream",
     "text": [
      "Estimating covariates  [>-----------]  8%;  Time elapsed:  3m - time left: 32m"
     ]
    }
   ],
   "source": [
    "pheno <- phenoBMTME\n",
    "Y <- as.matrix(pheno[, c('Amylose','Fat','GrossEnergy','Protein','Starch')])\n",
    "\n",
    "\n",
    "LG <- cholesky(geno) ##cholesky decomposition of genomic matrix for design matrices\n",
    "ZG <- model.matrix(~0 + as.factor(pheno$Taxa))\n",
    "Z.G <- ZG %*% LG\n",
    "Z.E <- model.matrix(~0 + as.factor(pheno$Env))\n",
    "#colnames(Z.E) <- c(\"2013\",\"2014\",\"2017\")\n",
    "ZEG <- model.matrix(~0 + as.factor(pheno$Taxa):as.factor(pheno$Env))\n",
    "G2 <- kronecker(diag(length(unique(pheno$Env))), data.matrix(geno))\n",
    "LG2 <- cholesky(G2)\n",
    "Z.EG <- ZEG %*% LG2\n",
    "\n",
    "ETA <- list(Env = list(X = Z.E, model = 'BRR'), Gen = list(X = Z.G, model = 'BRR'), EnvGen = list(X = Z.EG, model = 'BRR'))\n",
    "pheno2 <- data.frame(GID = pheno[, 1], Env = pheno[,4], Response = Y[,2])\n",
    "CrossV <- CV.KFold(pheno2, DataSetID='GID', K=5, set_seed = 123)\n",
    "pm1 <- BMORS(Y, ETA = ETA, nIter = 20000, burnIn = 10000, thin = 1, progressBar = TRUE, testingSet = CrossV, digits = 4)"
   ]
  },
  {
   "cell_type": "code",
   "execution_count": 4,
   "metadata": {},
   "outputs": [
    {
     "data": {
      "text/html": [
       "<table>\n",
       "<thead><tr><th scope=col>Taxa</th><th scope=col>Amylose</th><th scope=col>Gross_Energy</th><th scope=col>Fat</th><th scope=col>IVSD</th><th scope=col>Protein</th><th scope=col>Starch</th></tr></thead>\n",
       "<tbody>\n",
       "\t<tr><td>PI152651    </td><td>-0.1538549  </td><td>-38.6698124 </td><td>-0.002344321</td><td> 1.2504996  </td><td>-0.8249842  </td><td> 1.915682   </td></tr>\n",
       "\t<tr><td>PI17548     </td><td> 0.7867239  </td><td> 73.0951999 </td><td> 0.717994292</td><td>-2.9795743  </td><td>-0.3074813  </td><td>-2.365520   </td></tr>\n",
       "\t<tr><td>PI24969     </td><td>-0.9926411  </td><td>-56.8525571 </td><td>-0.215062107</td><td> 1.6950718  </td><td>-0.8688983  </td><td> 2.490460   </td></tr>\n",
       "\t<tr><td>PI329435    </td><td>-0.4490127  </td><td>  5.5069945 </td><td>-0.054850610</td><td> 1.4606610  </td><td> 1.1386032  </td><td>-1.095568   </td></tr>\n",
       "\t<tr><td>PI329440    </td><td> 0.2774078  </td><td> -0.2769026 </td><td>-0.003690636</td><td> 0.7909159  </td><td>-0.1399243  </td><td> 1.155535   </td></tr>\n",
       "\t<tr><td>PI34911     </td><td>-0.5313087  </td><td>-65.6768572 </td><td>-0.535485101</td><td>-0.7818304  </td><td>-1.3908487  </td><td> 3.090577   </td></tr>\n",
       "</tbody>\n",
       "</table>\n"
      ],
      "text/latex": [
       "\\begin{tabular}{r|lllllll}\n",
       " Taxa & Amylose & Gross\\_Energy & Fat & IVSD & Protein & Starch\\\\\n",
       "\\hline\n",
       "\t PI152651     & -0.1538549   & -38.6698124  & -0.002344321 &  1.2504996   & -0.8249842   &  1.915682   \\\\\n",
       "\t PI17548      &  0.7867239   &  73.0951999  &  0.717994292 & -2.9795743   & -0.3074813   & -2.365520   \\\\\n",
       "\t PI24969      & -0.9926411   & -56.8525571  & -0.215062107 &  1.6950718   & -0.8688983   &  2.490460   \\\\\n",
       "\t PI329435     & -0.4490127   &   5.5069945  & -0.054850610 &  1.4606610   &  1.1386032   & -1.095568   \\\\\n",
       "\t PI329440     &  0.2774078   &  -0.2769026  & -0.003690636 &  0.7909159   & -0.1399243   &  1.155535   \\\\\n",
       "\t PI34911      & -0.5313087   & -65.6768572  & -0.535485101 & -0.7818304   & -1.3908487   &  3.090577   \\\\\n",
       "\\end{tabular}\n"
      ],
      "text/markdown": [
       "\n",
       "| Taxa | Amylose | Gross_Energy | Fat | IVSD | Protein | Starch |\n",
       "|---|---|---|---|---|---|---|\n",
       "| PI152651     | -0.1538549   | -38.6698124  | -0.002344321 |  1.2504996   | -0.8249842   |  1.915682    |\n",
       "| PI17548      |  0.7867239   |  73.0951999  |  0.717994292 | -2.9795743   | -0.3074813   | -2.365520    |\n",
       "| PI24969      | -0.9926411   | -56.8525571  | -0.215062107 |  1.6950718   | -0.8688983   |  2.490460    |\n",
       "| PI329435     | -0.4490127   |   5.5069945  | -0.054850610 |  1.4606610   |  1.1386032   | -1.095568    |\n",
       "| PI329440     |  0.2774078   |  -0.2769026  | -0.003690636 |  0.7909159   | -0.1399243   |  1.155535    |\n",
       "| PI34911      | -0.5313087   | -65.6768572  | -0.535485101 | -0.7818304   | -1.3908487   |  3.090577    |\n",
       "\n"
      ],
      "text/plain": [
       "  Taxa     Amylose    Gross_Energy Fat          IVSD       Protein    Starch   \n",
       "1 PI152651 -0.1538549 -38.6698124  -0.002344321  1.2504996 -0.8249842  1.915682\n",
       "2 PI17548   0.7867239  73.0951999   0.717994292 -2.9795743 -0.3074813 -2.365520\n",
       "3 PI24969  -0.9926411 -56.8525571  -0.215062107  1.6950718 -0.8688983  2.490460\n",
       "4 PI329435 -0.4490127   5.5069945  -0.054850610  1.4606610  1.1386032 -1.095568\n",
       "5 PI329440  0.2774078  -0.2769026  -0.003690636  0.7909159 -0.1399243  1.155535\n",
       "6 PI34911  -0.5313087 -65.6768572  -0.535485101 -0.7818304 -1.3908487  3.090577"
      ]
     },
     "metadata": {},
     "output_type": "display_data"
    }
   ],
   "source": [
    "### Multi-trait results \n",
    "load('data/SAP_GrainComp.RData')\n",
    "head(Y)"
   ]
  },
  {
   "cell_type": "code",
   "execution_count": 90,
   "metadata": {},
   "outputs": [
    {
     "name": "stdout",
     "output_type": "stream",
     "text": [
      "[1] \"BTx642 Multi-Trait Model for GPS\"\n"
     ]
    },
    {
     "data": {
      "text/html": [
       "<table>\n",
       "<thead><tr><th scope=col>Environment</th><th scope=col>Trait</th><th scope=col>Pearson</th><th scope=col>SE_Pearson</th><th scope=col>MAAPE</th><th scope=col>SE_MAAPE</th></tr></thead>\n",
       "<tbody>\n",
       "\t<tr><td>            </td><td>Gross_Energy</td><td>0.6374      </td><td>0.0403      </td><td>0.6776      </td><td>0.0211      </td></tr>\n",
       "\t<tr><td>            </td><td>Protein     </td><td>0.5424      </td><td>0.0461      </td><td>0.7185      </td><td>0.0206      </td></tr>\n",
       "\t<tr><td>            </td><td>Starch      </td><td>0.5420      </td><td>0.0463      </td><td>0.7138      </td><td>0.0160      </td></tr>\n",
       "</tbody>\n",
       "</table>\n"
      ],
      "text/latex": [
       "\\begin{tabular}{r|llllll}\n",
       " Environment & Trait & Pearson & SE\\_Pearson & MAAPE & SE\\_MAAPE\\\\\n",
       "\\hline\n",
       "\t                & Gross\\_Energy & 0.6374         & 0.0403         & 0.6776         & 0.0211        \\\\\n",
       "\t              & Protein      & 0.5424       & 0.0461       & 0.7185       & 0.0206      \\\\\n",
       "\t              & Starch       & 0.5420       & 0.0463       & 0.7138       & 0.0160      \\\\\n",
       "\\end{tabular}\n"
      ],
      "text/markdown": [
       "\n",
       "| Environment | Trait | Pearson | SE_Pearson | MAAPE | SE_MAAPE |\n",
       "|---|---|---|---|---|---|\n",
       "|              | Gross_Energy | 0.6374       | 0.0403       | 0.6776       | 0.0211       |\n",
       "|              | Protein      | 0.5424       | 0.0461       | 0.7185       | 0.0206       |\n",
       "|              | Starch       | 0.5420       | 0.0463       | 0.7138       | 0.0160       |\n",
       "\n"
      ],
      "text/plain": [
       "  Environment Trait        Pearson SE_Pearson MAAPE  SE_MAAPE\n",
       "1             Gross_Energy 0.6374  0.0403     0.6776 0.0211  \n",
       "2             Protein      0.5424  0.0461     0.7185 0.0206  \n",
       "3             Starch       0.5420  0.0463     0.7138 0.0160  "
      ]
     },
     "metadata": {},
     "output_type": "display_data"
    },
    {
     "name": "stdout",
     "output_type": "stream",
     "text": [
      "[1] \"GSDP Multi-Trait Model for GPS\"\n"
     ]
    },
    {
     "data": {
      "text/html": [
       "<table>\n",
       "<thead><tr><th scope=col>Environment</th><th scope=col>Trait</th><th scope=col>Pearson</th><th scope=col>SE_Pearson</th><th scope=col>MAAPE</th><th scope=col>SE_MAAPE</th></tr></thead>\n",
       "<tbody>\n",
       "\t<tr><td>            </td><td>Gross_Energy</td><td>0.5839      </td><td>0.0287      </td><td>0.6956      </td><td>0.0140      </td></tr>\n",
       "\t<tr><td>            </td><td>Protein     </td><td>0.4112      </td><td>0.0436      </td><td>0.7543      </td><td>0.0149      </td></tr>\n",
       "\t<tr><td>            </td><td>Starch      </td><td>0.5802      </td><td>0.0257      </td><td>0.7028      </td><td>0.0116      </td></tr>\n",
       "</tbody>\n",
       "</table>\n"
      ],
      "text/latex": [
       "\\begin{tabular}{r|llllll}\n",
       " Environment & Trait & Pearson & SE\\_Pearson & MAAPE & SE\\_MAAPE\\\\\n",
       "\\hline\n",
       "\t                & Gross\\_Energy & 0.5839         & 0.0287         & 0.6956         & 0.0140        \\\\\n",
       "\t              & Protein      & 0.4112       & 0.0436       & 0.7543       & 0.0149      \\\\\n",
       "\t              & Starch       & 0.5802       & 0.0257       & 0.7028       & 0.0116      \\\\\n",
       "\\end{tabular}\n"
      ],
      "text/markdown": [
       "\n",
       "| Environment | Trait | Pearson | SE_Pearson | MAAPE | SE_MAAPE |\n",
       "|---|---|---|---|---|---|\n",
       "|              | Gross_Energy | 0.5839       | 0.0287       | 0.6956       | 0.0140       |\n",
       "|              | Protein      | 0.4112       | 0.0436       | 0.7543       | 0.0149       |\n",
       "|              | Starch       | 0.5802       | 0.0257       | 0.7028       | 0.0116       |\n",
       "\n"
      ],
      "text/plain": [
       "  Environment Trait        Pearson SE_Pearson MAAPE  SE_MAAPE\n",
       "1             Gross_Energy 0.5839  0.0287     0.6956 0.0140  \n",
       "2             Protein      0.4112  0.0436     0.7543 0.0149  \n",
       "3             Starch       0.5802  0.0257     0.7028 0.0116  "
      ]
     },
     "metadata": {},
     "output_type": "display_data"
    },
    {
     "name": "stdout",
     "output_type": "stream",
     "text": [
      "[1] \"GSDP Multi-Trait Model all\"\n"
     ]
    },
    {
     "data": {
      "text/html": [
       "<table>\n",
       "<thead><tr><th scope=col>Environment</th><th scope=col>Trait</th><th scope=col>Pearson</th><th scope=col>SE_Pearson</th><th scope=col>MAAPE</th><th scope=col>SE_MAAPE</th></tr></thead>\n",
       "<tbody>\n",
       "\t<tr><td>            </td><td>Amylose     </td><td>0.3098      </td><td>0.0399      </td><td>0.7563      </td><td>0.0151      </td></tr>\n",
       "\t<tr><td>            </td><td>Fat         </td><td>0.3951      </td><td>0.0700      </td><td>0.7633      </td><td>0.0252      </td></tr>\n",
       "\t<tr><td>            </td><td>Gross_Energy</td><td>0.5775      </td><td>0.0296      </td><td>0.6978      </td><td>0.0138      </td></tr>\n",
       "\t<tr><td>            </td><td>Protein     </td><td>0.4023      </td><td>0.0449      </td><td>0.7588      </td><td>0.0153      </td></tr>\n",
       "\t<tr><td>            </td><td>Starch      </td><td>0.5747      </td><td>0.0291      </td><td>0.7001      </td><td>0.0132      </td></tr>\n",
       "</tbody>\n",
       "</table>\n"
      ],
      "text/latex": [
       "\\begin{tabular}{r|llllll}\n",
       " Environment & Trait & Pearson & SE\\_Pearson & MAAPE & SE\\_MAAPE\\\\\n",
       "\\hline\n",
       "\t              & Amylose      & 0.3098       & 0.0399       & 0.7563       & 0.0151      \\\\\n",
       "\t              & Fat          & 0.3951       & 0.0700       & 0.7633       & 0.0252      \\\\\n",
       "\t                & Gross\\_Energy & 0.5775         & 0.0296         & 0.6978         & 0.0138        \\\\\n",
       "\t              & Protein      & 0.4023       & 0.0449       & 0.7588       & 0.0153      \\\\\n",
       "\t              & Starch       & 0.5747       & 0.0291       & 0.7001       & 0.0132      \\\\\n",
       "\\end{tabular}\n"
      ],
      "text/markdown": [
       "\n",
       "| Environment | Trait | Pearson | SE_Pearson | MAAPE | SE_MAAPE |\n",
       "|---|---|---|---|---|---|\n",
       "|              | Amylose      | 0.3098       | 0.0399       | 0.7563       | 0.0151       |\n",
       "|              | Fat          | 0.3951       | 0.0700       | 0.7633       | 0.0252       |\n",
       "|              | Gross_Energy | 0.5775       | 0.0296       | 0.6978       | 0.0138       |\n",
       "|              | Protein      | 0.4023       | 0.0449       | 0.7588       | 0.0153       |\n",
       "|              | Starch       | 0.5747       | 0.0291       | 0.7001       | 0.0132       |\n",
       "\n"
      ],
      "text/plain": [
       "  Environment Trait        Pearson SE_Pearson MAAPE  SE_MAAPE\n",
       "1             Amylose      0.3098  0.0399     0.7563 0.0151  \n",
       "2             Fat          0.3951  0.0700     0.7633 0.0252  \n",
       "3             Gross_Energy 0.5775  0.0296     0.6978 0.0138  \n",
       "4             Protein      0.4023  0.0449     0.7588 0.0153  \n",
       "5             Starch       0.5747  0.0291     0.7001 0.0132  "
      ]
     },
     "metadata": {},
     "output_type": "display_data"
    }
   ],
   "source": [
    "### MultiTrait using SPG\n",
    "setwd('/panicle/ssapkot/GrainComp/')\n",
    "print(\"BTx642 Multi-Trait Model for GPS\")\n",
    "pm <- readRDS('results/BMTME/BMT/BTx642_GPS_multiTrait_CV5.rds')\n",
    "summary(pm)\n",
    "#boxplot(pm)\n",
    "# print(\"BTx642 Multi-Trait Model for GPS\")\n",
    "# pm <- readRDS('results/BMTME/BMT/BTx642_GPS_multiTrait_CV5.rds')\n",
    "# summary(pm)\n",
    "# #boxplot(pm)\n",
    "\n",
    "print(\"GSDP Multi-Trait Model for GPS\")\n",
    "pm <- readRDS('results/BMTME/BMT/SAP_GPS_multiTrait_CV5.rds')\n",
    "summary(pm)\n",
    "#boxplot(pm)\n",
    "\n",
    "print(\"GSDP Multi-Trait Model all\")\n",
    "pm <- readRDS('results/BMTME/BMT/SAP_all_multiTrait_CV5.rds')\n",
    "summary(pm)\n",
    "#boxplot(pm)\n",
    "setwd('../../git_repo/GrainComp_GS')"
   ]
  },
  {
   "cell_type": "code",
   "execution_count": 52,
   "metadata": {},
   "outputs": [
    {
     "name": "stdout",
     "output_type": "stream",
     "text": [
      "[1] \"SAP Amylose\"\n"
     ]
    },
    {
     "data": {
      "text/plain": [
       "Fitted Bayesian Multi Environment model with: \n",
       " 20000  Iterations, burning the first  10000  and thining every  1 \n",
       " Runtime:  19544.23  seconds \n",
       "\n",
       " Predictive capacity of the model: \n",
       "   Environment        Trait  Pearson  SE_Pearson  MAAPE  SE_MAAPE\n",
       "1               Amylose2013    0.140       0.028    NaN        NA\n",
       "2               Amylose2014    0.378       0.052  0.758        NA\n",
       "3               Amylose2017    0.072       0.032    NaN        NA\n",
       "\n",
       " Use str() function to found more detailed information."
      ]
     },
     "metadata": {},
     "output_type": "display_data"
    }
   ],
   "source": [
    "### SAP Multi-Environment (BME) by traits\n",
    "print(\"SAP Amylose\")\n",
    "pm <- readRDS('/scratch2/ssapkot/GrainComp/SAP/BME/SAP_BME_CV5_Amylose.rds')\n",
    "pm\n",
    "#boxplot(pm)\n",
    "\n",
    "# print(\"SAP Protein\")\n",
    "# load('results/BMTME/BME/SAP_BME_CV5_Protein.RData')\n",
    "# summary(pm)\n",
    "\n",
    "# print(\"SAP Gross Energy\")\n",
    "# load('results/BMTME/BME/SAP_BME_CV5_Cal.g.RData')\n",
    "# summary(pm)\n",
    "# #boxplot(pm)"
   ]
  },
  {
   "cell_type": "code",
   "execution_count": 60,
   "metadata": {},
   "outputs": [
    {
     "name": "stdout",
     "output_type": "stream",
     "text": [
      " chr [1:3] \"geno\" \"phenoBME\" \"phenoBMTME\"\n"
     ]
    },
    {
     "data": {
      "text/html": [
       "<table>\n",
       "<thead><tr><th scope=col>Taxa</th><th scope=col>Year</th><th scope=col>Location</th><th scope=col>Env</th><th scope=col>Amylose</th><th scope=col>Fat</th><th scope=col>Gross_Energy</th><th scope=col>Protein</th><th scope=col>Starch</th></tr></thead>\n",
       "<tbody>\n",
       "\t<tr><td>CS_001     </td><td>2014       </td><td>SC         </td><td>SC2014     </td><td> 2.0119744 </td><td> 0.04197640</td><td>  6.064143 </td><td> 0.04101438</td><td>0.4313987  </td></tr>\n",
       "\t<tr><td>CS_001     </td><td>2014       </td><td>TX         </td><td>TX2014     </td><td> 0.7039188 </td><td> 0.54651292</td><td> -0.724332 </td><td>-1.55099355</td><td>1.7188070  </td></tr>\n",
       "\t<tr><td>CS_001     </td><td>2015       </td><td>SC         </td><td>SC2015     </td><td> 1.7839549 </td><td> 0.46063334</td><td> 27.529339 </td><td>-0.38200064</td><td>0.1120119  </td></tr>\n",
       "\t<tr><td>CS_001     </td><td>2015       </td><td>TX         </td><td>TX2015     </td><td> 1.7798816 </td><td> 0.46110133</td><td>        NA </td><td>         NA</td><td>       NA  </td></tr>\n",
       "\t<tr><td>CS_002     </td><td>2014       </td><td>SC         </td><td>SC2014     </td><td> 1.8922500 </td><td>-0.44252256</td><td>-30.812081 </td><td>-0.78770421</td><td>1.5593251  </td></tr>\n",
       "\t<tr><td>CS_002     </td><td>2014       </td><td>TX         </td><td>TX2014     </td><td>-1.0848323 </td><td> 0.06174904</td><td>  3.443291 </td><td>-0.68597324</td><td>0.7400663  </td></tr>\n",
       "</tbody>\n",
       "</table>\n"
      ],
      "text/latex": [
       "\\begin{tabular}{r|lllllllll}\n",
       " Taxa & Year & Location & Env & Amylose & Fat & Gross\\_Energy & Protein & Starch\\\\\n",
       "\\hline\n",
       "\t CS\\_001    & 2014        & SC          & SC2014      &  2.0119744  &  0.04197640 &   6.064143  &  0.04101438 & 0.4313987  \\\\\n",
       "\t CS\\_001    & 2014        & TX          & TX2014      &  0.7039188  &  0.54651292 &  -0.724332  & -1.55099355 & 1.7188070  \\\\\n",
       "\t CS\\_001    & 2015        & SC          & SC2015      &  1.7839549  &  0.46063334 &  27.529339  & -0.38200064 & 0.1120119  \\\\\n",
       "\t CS\\_001    & 2015        & TX          & TX2015      &  1.7798816  &  0.46110133 &         NA  &          NA &        NA  \\\\\n",
       "\t CS\\_002    & 2014        & SC          & SC2014      &  1.8922500  & -0.44252256 & -30.812081  & -0.78770421 & 1.5593251  \\\\\n",
       "\t CS\\_002    & 2014        & TX          & TX2014      & -1.0848323  &  0.06174904 &   3.443291  & -0.68597324 & 0.7400663  \\\\\n",
       "\\end{tabular}\n"
      ],
      "text/markdown": [
       "\n",
       "| Taxa | Year | Location | Env | Amylose | Fat | Gross_Energy | Protein | Starch |\n",
       "|---|---|---|---|---|---|---|---|---|\n",
       "| CS_001      | 2014        | SC          | SC2014      |  2.0119744  |  0.04197640 |   6.064143  |  0.04101438 | 0.4313987   |\n",
       "| CS_001      | 2014        | TX          | TX2014      |  0.7039188  |  0.54651292 |  -0.724332  | -1.55099355 | 1.7188070   |\n",
       "| CS_001      | 2015        | SC          | SC2015      |  1.7839549  |  0.46063334 |  27.529339  | -0.38200064 | 0.1120119   |\n",
       "| CS_001      | 2015        | TX          | TX2015      |  1.7798816  |  0.46110133 |         NA  |          NA |        NA   |\n",
       "| CS_002      | 2014        | SC          | SC2014      |  1.8922500  | -0.44252256 | -30.812081  | -0.78770421 | 1.5593251   |\n",
       "| CS_002      | 2014        | TX          | TX2014      | -1.0848323  |  0.06174904 |   3.443291  | -0.68597324 | 0.7400663   |\n",
       "\n"
      ],
      "text/plain": [
       "  Taxa   Year Location Env    Amylose    Fat         Gross_Energy Protein    \n",
       "1 CS_001 2014 SC       SC2014  2.0119744  0.04197640   6.064143    0.04101438\n",
       "2 CS_001 2014 TX       TX2014  0.7039188  0.54651292  -0.724332   -1.55099355\n",
       "3 CS_001 2015 SC       SC2015  1.7839549  0.46063334  27.529339   -0.38200064\n",
       "4 CS_001 2015 TX       TX2015  1.7798816  0.46110133         NA            NA\n",
       "5 CS_002 2014 SC       SC2014  1.8922500 -0.44252256 -30.812081   -0.78770421\n",
       "6 CS_002 2014 TX       TX2014 -1.0848323  0.06174904   3.443291   -0.68597324\n",
       "  Starch   \n",
       "1 0.4313987\n",
       "2 1.7188070\n",
       "3 0.1120119\n",
       "4        NA\n",
       "5 1.5593251\n",
       "6 0.7400663"
      ]
     },
     "metadata": {},
     "output_type": "display_data"
    }
   ],
   "source": [
    "df = load('data/BTx642_BMTME_GrainComp.RData')\n",
    "\n",
    "str(df)\n",
    "# cols <- grep('2014_SC', colnames(phenoBME))\n",
    "# pheno <- phenoBME[,c(1,cols)]\n",
    "# head(pheno)\n",
    "#names(phenoBMTME)[names(phenoBMTME) == \"GrossEnergy\"] <- \"Gross_Energy\"\n",
    "head(phenoBMTME)\n",
    "\n",
    "#save(geno, phenoBME, phenoBMTME, file='data/BTx642_BMTME_GrainComp.RData')"
   ]
  },
  {
   "cell_type": "markdown",
   "metadata": {},
   "source": [
    "## BMTME results for SAP"
   ]
  },
  {
   "cell_type": "code",
   "execution_count": 62,
   "metadata": {},
   "outputs": [
    {
     "data": {
      "text/html": [
       "<table>\n",
       "<thead><tr><th scope=col>Taxa</th><th scope=col>Env</th><th scope=col>Amylose</th><th scope=col>Gross_Energy</th><th scope=col>Fat</th><th scope=col>Protein</th><th scope=col>Starch</th></tr></thead>\n",
       "<tbody>\n",
       "\t<tr><td>PI152651     </td><td>2013         </td><td>-1.3060412   </td><td>-37.771799414</td><td>-0.03942292  </td><td>-1.2111684   </td><td> 2.766715    </td></tr>\n",
       "\t<tr><td>PI152651     </td><td>2014         </td><td>-0.1518703   </td><td>-74.202741707</td><td>-0.28741472  </td><td>-2.4092873   </td><td> 5.018051    </td></tr>\n",
       "\t<tr><td>PI152651     </td><td>2017         </td><td> 0.6994863   </td><td>  0.003383857</td><td> 0.29731826  </td><td> 0.9393867   </td><td>-2.674919    </td></tr>\n",
       "\t<tr><td>PI17548      </td><td>2013         </td><td> 0.6693859   </td><td> 79.014215976</td><td> 1.16385960  </td><td>-0.2071979   </td><td>-1.923487    </td></tr>\n",
       "\t<tr><td>PI17548      </td><td>2014         </td><td> 0.9697520   </td><td> 45.823305424</td><td> 0.59492514  </td><td>-0.8695028   </td><td>-1.801738    </td></tr>\n",
       "\t<tr><td>PI17548      </td><td>2017         </td><td> 1.1821377   </td><td> 72.282107274</td><td> 0.28326927  </td><td> 0.2556282   </td><td>-2.883531    </td></tr>\n",
       "</tbody>\n",
       "</table>\n"
      ],
      "text/latex": [
       "\\begin{tabular}{r|lllllll}\n",
       " Taxa & Env & Amylose & Gross\\_Energy & Fat & Protein & Starch\\\\\n",
       "\\hline\n",
       "\t PI152651      & 2013          & -1.3060412    & -37.771799414 & -0.03942292   & -1.2111684    &  2.766715    \\\\\n",
       "\t PI152651      & 2014          & -0.1518703    & -74.202741707 & -0.28741472   & -2.4092873    &  5.018051    \\\\\n",
       "\t PI152651      & 2017          &  0.6994863    &   0.003383857 &  0.29731826   &  0.9393867    & -2.674919    \\\\\n",
       "\t PI17548       & 2013          &  0.6693859    &  79.014215976 &  1.16385960   & -0.2071979    & -1.923487    \\\\\n",
       "\t PI17548       & 2014          &  0.9697520    &  45.823305424 &  0.59492514   & -0.8695028    & -1.801738    \\\\\n",
       "\t PI17548       & 2017          &  1.1821377    &  72.282107274 &  0.28326927   &  0.2556282    & -2.883531    \\\\\n",
       "\\end{tabular}\n"
      ],
      "text/markdown": [
       "\n",
       "| Taxa | Env | Amylose | Gross_Energy | Fat | Protein | Starch |\n",
       "|---|---|---|---|---|---|---|\n",
       "| PI152651      | 2013          | -1.3060412    | -37.771799414 | -0.03942292   | -1.2111684    |  2.766715     |\n",
       "| PI152651      | 2014          | -0.1518703    | -74.202741707 | -0.28741472   | -2.4092873    |  5.018051     |\n",
       "| PI152651      | 2017          |  0.6994863    |   0.003383857 |  0.29731826   |  0.9393867    | -2.674919     |\n",
       "| PI17548       | 2013          |  0.6693859    |  79.014215976 |  1.16385960   | -0.2071979    | -1.923487     |\n",
       "| PI17548       | 2014          |  0.9697520    |  45.823305424 |  0.59492514   | -0.8695028    | -1.801738     |\n",
       "| PI17548       | 2017          |  1.1821377    |  72.282107274 |  0.28326927   |  0.2556282    | -2.883531     |\n",
       "\n"
      ],
      "text/plain": [
       "  Taxa     Env  Amylose    Gross_Energy  Fat         Protein    Starch   \n",
       "1 PI152651 2013 -1.3060412 -37.771799414 -0.03942292 -1.2111684  2.766715\n",
       "2 PI152651 2014 -0.1518703 -74.202741707 -0.28741472 -2.4092873  5.018051\n",
       "3 PI152651 2017  0.6994863   0.003383857  0.29731826  0.9393867 -2.674919\n",
       "4 PI17548  2013  0.6693859  79.014215976  1.16385960 -0.2071979 -1.923487\n",
       "5 PI17548  2014  0.9697520  45.823305424  0.59492514 -0.8695028 -1.801738\n",
       "6 PI17548  2017  1.1821377  72.282107274  0.28326927  0.2556282 -2.883531"
      ]
     },
     "metadata": {},
     "output_type": "display_data"
    },
    {
     "data": {
      "text/html": [
       "<table>\n",
       "<thead><tr><th></th><th scope=col>PI152651</th><th scope=col>PI17548</th><th scope=col>PI24969</th><th scope=col>PI329435</th><th scope=col>PI329440</th></tr></thead>\n",
       "<tbody>\n",
       "\t<tr><th scope=row>PI152651</th><td>1.0505116</td><td>0.6732209</td><td>0.7492774</td><td>0.7293042</td><td>0.7481660</td></tr>\n",
       "\t<tr><th scope=row>PI17548</th><td>0.6732209</td><td>1.0505116</td><td>0.6392398</td><td>0.6503776</td><td>0.6740134</td></tr>\n",
       "\t<tr><th scope=row>PI24969</th><td>0.7492774</td><td>0.6392398</td><td>1.0305900</td><td>0.6743651</td><td>0.7078914</td></tr>\n",
       "\t<tr><th scope=row>PI329435</th><td>0.7293042</td><td>0.6503776</td><td>0.6743651</td><td>1.0263177</td><td>0.7020762</td></tr>\n",
       "\t<tr><th scope=row>PI329440</th><td>0.7481660</td><td>0.6740134</td><td>0.7078914</td><td>0.7020762</td><td>1.0221252</td></tr>\n",
       "</tbody>\n",
       "</table>\n"
      ],
      "text/latex": [
       "\\begin{tabular}{r|lllll}\n",
       "  & PI152651 & PI17548 & PI24969 & PI329435 & PI329440\\\\\n",
       "\\hline\n",
       "\tPI152651 & 1.0505116 & 0.6732209 & 0.7492774 & 0.7293042 & 0.7481660\\\\\n",
       "\tPI17548 & 0.6732209 & 1.0505116 & 0.6392398 & 0.6503776 & 0.6740134\\\\\n",
       "\tPI24969 & 0.7492774 & 0.6392398 & 1.0305900 & 0.6743651 & 0.7078914\\\\\n",
       "\tPI329435 & 0.7293042 & 0.6503776 & 0.6743651 & 1.0263177 & 0.7020762\\\\\n",
       "\tPI329440 & 0.7481660 & 0.6740134 & 0.7078914 & 0.7020762 & 1.0221252\\\\\n",
       "\\end{tabular}\n"
      ],
      "text/markdown": [
       "\n",
       "| <!--/--> | PI152651 | PI17548 | PI24969 | PI329435 | PI329440 |\n",
       "|---|---|---|---|---|---|\n",
       "| PI152651 | 1.0505116 | 0.6732209 | 0.7492774 | 0.7293042 | 0.7481660 |\n",
       "| PI17548 | 0.6732209 | 1.0505116 | 0.6392398 | 0.6503776 | 0.6740134 |\n",
       "| PI24969 | 0.7492774 | 0.6392398 | 1.0305900 | 0.6743651 | 0.7078914 |\n",
       "| PI329435 | 0.7293042 | 0.6503776 | 0.6743651 | 1.0263177 | 0.7020762 |\n",
       "| PI329440 | 0.7481660 | 0.6740134 | 0.7078914 | 0.7020762 | 1.0221252 |\n",
       "\n"
      ],
      "text/plain": [
       "         PI152651  PI17548   PI24969   PI329435  PI329440 \n",
       "PI152651 1.0505116 0.6732209 0.7492774 0.7293042 0.7481660\n",
       "PI17548  0.6732209 1.0505116 0.6392398 0.6503776 0.6740134\n",
       "PI24969  0.7492774 0.6392398 1.0305900 0.6743651 0.7078914\n",
       "PI329435 0.7293042 0.6503776 0.6743651 1.0263177 0.7020762\n",
       "PI329440 0.7481660 0.6740134 0.7078914 0.7020762 1.0221252"
      ]
     },
     "metadata": {},
     "output_type": "display_data"
    }
   ],
   "source": [
    "load('data/SAP_BMTME.RData')\n",
    "head(phenoBMTME)\n",
    "geno[1:5,1:5]"
   ]
  },
  {
   "cell_type": "code",
   "execution_count": 69,
   "metadata": {},
   "outputs": [],
   "source": []
  },
  {
   "cell_type": "code",
   "execution_count": null,
   "metadata": {},
   "outputs": [],
   "source": []
  },
  {
   "cell_type": "code",
   "execution_count": null,
   "metadata": {},
   "outputs": [],
   "source": []
  },
  {
   "cell_type": "code",
   "execution_count": 17,
   "metadata": {},
   "outputs": [],
   "source": [
    "### BMORS scripts\n",
    "pheno <- data.frame(GID = phenoBMTME[, 1], Env = phenoBMTME[, 2], Response = phenoBMTME[, 3])\n",
    "#CrossV <- CV.KFold(pheno, DataSetID = 'GID', K = 5, set_seed = 123)\n",
    "ETA <- list(Env = list(X = Z.E, model = 'BRR'), Gen = list(X = Z.G, model = 'BRR'), EnvGen = list(X = Z.EG, model = 'BRR'))\n",
    "CrossValidation <- CV.RandomPart(pheno, NPartitions = 10, PTesting = 0.2, set_seed = 123)\n",
    "#pm <- BMORS(Y, ETA = ETA, nIter = 25000, burnIn = 10000, thin = 2, progressBar = TRUE, testingSet = CrossValidation, digits = 4)"
   ]
  },
  {
   "cell_type": "code",
   "execution_count": 15,
   "metadata": {},
   "outputs": [
    {
     "name": "stdout",
     "output_type": "stream",
     "text": [
      "[1] \"BMORS SAP CV-5\"\n"
     ]
    },
    {
     "data": {
      "text/html": [
       "<table>\n",
       "<thead><tr><th scope=col>Environment</th><th scope=col>Trait</th><th scope=col>Pearson</th><th scope=col>SE_Pearson</th><th scope=col>MAAPE</th><th scope=col>SE_MAAPE</th></tr></thead>\n",
       "<tbody>\n",
       "\t<tr><td>2013        </td><td>Amylose     </td><td>0.3429      </td><td>0.0824      </td><td>   NaN      </td><td>NA          </td></tr>\n",
       "\t<tr><td>2013        </td><td>Fat         </td><td>0.6131      </td><td>0.0479      </td><td>   NaN      </td><td>NA          </td></tr>\n",
       "\t<tr><td>2013        </td><td>Gross_Energy</td><td>0.7316      </td><td>0.0250      </td><td>   NaN      </td><td>NA          </td></tr>\n",
       "\t<tr><td>2013        </td><td>Protein     </td><td>0.5741      </td><td>0.0405      </td><td>   NaN      </td><td>NA          </td></tr>\n",
       "\t<tr><td>2013        </td><td>Starch      </td><td>0.5988      </td><td>0.0417      </td><td>   NaN      </td><td>NA          </td></tr>\n",
       "\t<tr><td>2014        </td><td>Amylose     </td><td>0.4263      </td><td>0.0393      </td><td>   NaN      </td><td>NA          </td></tr>\n",
       "\t<tr><td>2014        </td><td>Fat         </td><td>0.6899      </td><td>0.0280      </td><td>   NaN      </td><td>NA          </td></tr>\n",
       "\t<tr><td>2014        </td><td>Gross_Energy</td><td>0.7747      </td><td>0.0148      </td><td>   NaN      </td><td>NA          </td></tr>\n",
       "\t<tr><td>2014        </td><td>Protein     </td><td>0.6153      </td><td>0.0182      </td><td>   NaN      </td><td>NA          </td></tr>\n",
       "\t<tr><td>2014        </td><td>Starch      </td><td>0.6518      </td><td>0.0427      </td><td>   NaN      </td><td>NA          </td></tr>\n",
       "\t<tr><td>2017        </td><td>Amylose     </td><td>0.1215      </td><td>0.0591      </td><td>0.8159      </td><td>NA          </td></tr>\n",
       "\t<tr><td>2017        </td><td>Fat         </td><td>0.5555      </td><td>0.0318      </td><td>0.7204      </td><td>NA          </td></tr>\n",
       "\t<tr><td>2017        </td><td>Gross_Energy</td><td>0.7070      </td><td>0.0278      </td><td>0.6953      </td><td>NA          </td></tr>\n",
       "\t<tr><td>2017        </td><td>Protein     </td><td>0.5564      </td><td>0.0473      </td><td>0.7853      </td><td>NA          </td></tr>\n",
       "\t<tr><td>2017        </td><td>Starch      </td><td>0.6520      </td><td>0.0502      </td><td>0.6523      </td><td>NA          </td></tr>\n",
       "</tbody>\n",
       "</table>\n"
      ],
      "text/latex": [
       "\\begin{tabular}{r|llllll}\n",
       " Environment & Trait & Pearson & SE\\_Pearson & MAAPE & SE\\_MAAPE\\\\\n",
       "\\hline\n",
       "\t 2013         & Amylose      & 0.3429       & 0.0824       &    NaN       & NA          \\\\\n",
       "\t 2013         & Fat          & 0.6131       & 0.0479       &    NaN       & NA          \\\\\n",
       "\t 2013           & Gross\\_Energy & 0.7316         & 0.0250         &    NaN         & NA            \\\\\n",
       "\t 2013         & Protein      & 0.5741       & 0.0405       &    NaN       & NA          \\\\\n",
       "\t 2013         & Starch       & 0.5988       & 0.0417       &    NaN       & NA          \\\\\n",
       "\t 2014         & Amylose      & 0.4263       & 0.0393       &    NaN       & NA          \\\\\n",
       "\t 2014         & Fat          & 0.6899       & 0.0280       &    NaN       & NA          \\\\\n",
       "\t 2014           & Gross\\_Energy & 0.7747         & 0.0148         &    NaN         & NA            \\\\\n",
       "\t 2014         & Protein      & 0.6153       & 0.0182       &    NaN       & NA          \\\\\n",
       "\t 2014         & Starch       & 0.6518       & 0.0427       &    NaN       & NA          \\\\\n",
       "\t 2017         & Amylose      & 0.1215       & 0.0591       & 0.8159       & NA          \\\\\n",
       "\t 2017         & Fat          & 0.5555       & 0.0318       & 0.7204       & NA          \\\\\n",
       "\t 2017           & Gross\\_Energy & 0.7070         & 0.0278         & 0.6953         & NA            \\\\\n",
       "\t 2017         & Protein      & 0.5564       & 0.0473       & 0.7853       & NA          \\\\\n",
       "\t 2017         & Starch       & 0.6520       & 0.0502       & 0.6523       & NA          \\\\\n",
       "\\end{tabular}\n"
      ],
      "text/markdown": [
       "\n",
       "| Environment | Trait | Pearson | SE_Pearson | MAAPE | SE_MAAPE |\n",
       "|---|---|---|---|---|---|\n",
       "| 2013         | Amylose      | 0.3429       | 0.0824       |    NaN       | NA           |\n",
       "| 2013         | Fat          | 0.6131       | 0.0479       |    NaN       | NA           |\n",
       "| 2013         | Gross_Energy | 0.7316       | 0.0250       |    NaN       | NA           |\n",
       "| 2013         | Protein      | 0.5741       | 0.0405       |    NaN       | NA           |\n",
       "| 2013         | Starch       | 0.5988       | 0.0417       |    NaN       | NA           |\n",
       "| 2014         | Amylose      | 0.4263       | 0.0393       |    NaN       | NA           |\n",
       "| 2014         | Fat          | 0.6899       | 0.0280       |    NaN       | NA           |\n",
       "| 2014         | Gross_Energy | 0.7747       | 0.0148       |    NaN       | NA           |\n",
       "| 2014         | Protein      | 0.6153       | 0.0182       |    NaN       | NA           |\n",
       "| 2014         | Starch       | 0.6518       | 0.0427       |    NaN       | NA           |\n",
       "| 2017         | Amylose      | 0.1215       | 0.0591       | 0.8159       | NA           |\n",
       "| 2017         | Fat          | 0.5555       | 0.0318       | 0.7204       | NA           |\n",
       "| 2017         | Gross_Energy | 0.7070       | 0.0278       | 0.6953       | NA           |\n",
       "| 2017         | Protein      | 0.5564       | 0.0473       | 0.7853       | NA           |\n",
       "| 2017         | Starch       | 0.6520       | 0.0502       | 0.6523       | NA           |\n",
       "\n"
      ],
      "text/plain": [
       "   Environment Trait        Pearson SE_Pearson MAAPE  SE_MAAPE\n",
       "1  2013        Amylose      0.3429  0.0824        NaN NA      \n",
       "2  2013        Fat          0.6131  0.0479        NaN NA      \n",
       "3  2013        Gross_Energy 0.7316  0.0250        NaN NA      \n",
       "4  2013        Protein      0.5741  0.0405        NaN NA      \n",
       "5  2013        Starch       0.5988  0.0417        NaN NA      \n",
       "6  2014        Amylose      0.4263  0.0393        NaN NA      \n",
       "7  2014        Fat          0.6899  0.0280        NaN NA      \n",
       "8  2014        Gross_Energy 0.7747  0.0148        NaN NA      \n",
       "9  2014        Protein      0.6153  0.0182        NaN NA      \n",
       "10 2014        Starch       0.6518  0.0427        NaN NA      \n",
       "11 2017        Amylose      0.1215  0.0591     0.8159 NA      \n",
       "12 2017        Fat          0.5555  0.0318     0.7204 NA      \n",
       "13 2017        Gross_Energy 0.7070  0.0278     0.6953 NA      \n",
       "14 2017        Protein      0.5564  0.0473     0.7853 NA      \n",
       "15 2017        Starch       0.6520  0.0502     0.6523 NA      "
      ]
     },
     "metadata": {},
     "output_type": "display_data"
    }
   ],
   "source": [
    "print(\"BMORS SAP CV-5\")\n",
    "pm = readRDS(file = '/panicle/ssapkot/GrainComp/results/BMTME/BMORS/SAP_allPheno_BMORS_CV5.rds')\n",
    "res <- summary(pm)\n",
    "res\n",
    "#write.csv(res, 'results/BMTME/Manuscript_results/SAP_allPheno_BMORS_CV5.csv')\n",
    "# df <- res %>% group_by(Trait) %>% summarize(overall_mean = mean(Pearson, na.rm=TRUE))\n",
    "# df\n",
    "# # summary(pm)\n",
    "# # boxplot(pm)\n",
    "# ggplot(res, aes(x=Trait, y=Pearson, fill=Environment)) + geom_boxplot() + theme_bw()"
   ]
  },
  {
   "cell_type": "code",
   "execution_count": 17,
   "metadata": {},
   "outputs": [
    {
     "name": "stdout",
     "output_type": "stream",
     "text": [
      "[1] \"BMORS SAP CV-5 per grain values\"\n"
     ]
    },
    {
     "data": {
      "text/html": [
       "<table>\n",
       "<thead><tr><th scope=col>Environment</th><th scope=col>Trait</th><th scope=col>Partition</th><th scope=col>Pearson</th><th scope=col>MAAPE</th></tr></thead>\n",
       "<tbody>\n",
       "\t<tr><td>2013        </td><td>Amylose     </td><td>1           </td><td>0.6684      </td><td>NA          </td></tr>\n",
       "\t<tr><td>2013        </td><td>Amylose     </td><td>2           </td><td>0.6284      </td><td>NA          </td></tr>\n",
       "\t<tr><td>2013        </td><td>Amylose     </td><td>3           </td><td>0.5960      </td><td>NA          </td></tr>\n",
       "\t<tr><td>2013        </td><td>Amylose     </td><td>4           </td><td>0.6042      </td><td>NA          </td></tr>\n",
       "\t<tr><td>2013        </td><td>Amylose     </td><td>5           </td><td>0.5937      </td><td>NA          </td></tr>\n",
       "\t<tr><td>2013        </td><td>Fat         </td><td>1           </td><td>0.6342      </td><td>NA          </td></tr>\n",
       "\t<tr><td>2013        </td><td>Fat         </td><td>2           </td><td>0.5605      </td><td>NA          </td></tr>\n",
       "\t<tr><td>2013        </td><td>Fat         </td><td>3           </td><td>0.4723      </td><td>NA          </td></tr>\n",
       "\t<tr><td>2013        </td><td>Fat         </td><td>4           </td><td>0.4394      </td><td>NA          </td></tr>\n",
       "\t<tr><td>2013        </td><td>Fat         </td><td>5           </td><td>0.5113      </td><td>NA          </td></tr>\n",
       "\t<tr><td>2013        </td><td>Gross_Energy</td><td>1           </td><td>0.7865      </td><td>NA          </td></tr>\n",
       "\t<tr><td>2013        </td><td>Gross_Energy</td><td>2           </td><td>0.7582      </td><td>NA          </td></tr>\n",
       "\t<tr><td>2013        </td><td>Gross_Energy</td><td>3           </td><td>0.7344      </td><td>NA          </td></tr>\n",
       "\t<tr><td>2013        </td><td>Gross_Energy</td><td>4           </td><td>0.7212      </td><td>NA          </td></tr>\n",
       "\t<tr><td>2013        </td><td>Gross_Energy</td><td>5           </td><td>0.7233      </td><td>NA          </td></tr>\n",
       "\t<tr><td>2013        </td><td>Protein     </td><td>1           </td><td>0.7511      </td><td>NA          </td></tr>\n",
       "\t<tr><td>2013        </td><td>Protein     </td><td>2           </td><td>0.7229      </td><td>NA          </td></tr>\n",
       "\t<tr><td>2013        </td><td>Protein     </td><td>3           </td><td>0.6930      </td><td>NA          </td></tr>\n",
       "\t<tr><td>2013        </td><td>Protein     </td><td>4           </td><td>0.6944      </td><td>NA          </td></tr>\n",
       "\t<tr><td>2013        </td><td>Protein     </td><td>5           </td><td>0.7644      </td><td>NA          </td></tr>\n",
       "\t<tr><td>2013        </td><td>Starch      </td><td>1           </td><td>0.7918      </td><td>NA          </td></tr>\n",
       "\t<tr><td>2013        </td><td>Starch      </td><td>2           </td><td>0.7582      </td><td>NA          </td></tr>\n",
       "\t<tr><td>2013        </td><td>Starch      </td><td>3           </td><td>0.7457      </td><td>NA          </td></tr>\n",
       "\t<tr><td>2013        </td><td>Starch      </td><td>4           </td><td>0.7456      </td><td>NA          </td></tr>\n",
       "\t<tr><td>2013        </td><td>Starch      </td><td>5           </td><td>0.7207      </td><td>NA          </td></tr>\n",
       "\t<tr><td>2014        </td><td>Amylose     </td><td>1           </td><td>0.6104      </td><td>NA          </td></tr>\n",
       "\t<tr><td>2014        </td><td>Amylose     </td><td>2           </td><td>0.5958      </td><td>NA          </td></tr>\n",
       "\t<tr><td>2014        </td><td>Amylose     </td><td>3           </td><td>0.6656      </td><td>NA          </td></tr>\n",
       "\t<tr><td>2014        </td><td>Amylose     </td><td>4           </td><td>0.3285      </td><td>NA          </td></tr>\n",
       "\t<tr><td>2014        </td><td>Amylose     </td><td>5           </td><td>0.5288      </td><td>NA          </td></tr>\n",
       "\t<tr><td>...</td><td>...</td><td>...</td><td>...</td><td>...</td></tr>\n",
       "\t<tr><td>2014        </td><td>Starch      </td><td>1           </td><td>0.7338      </td><td>NA          </td></tr>\n",
       "\t<tr><td>2014        </td><td>Starch      </td><td>2           </td><td>0.7244      </td><td>NA          </td></tr>\n",
       "\t<tr><td>2014        </td><td>Starch      </td><td>3           </td><td>0.6841      </td><td>NA          </td></tr>\n",
       "\t<tr><td>2014        </td><td>Starch      </td><td>4           </td><td>0.5848      </td><td>NA          </td></tr>\n",
       "\t<tr><td>2014        </td><td>Starch      </td><td>5           </td><td>0.7745      </td><td>NA          </td></tr>\n",
       "\t<tr><td>2017        </td><td>Amylose     </td><td>1           </td><td>0.5325      </td><td>NA          </td></tr>\n",
       "\t<tr><td>2017        </td><td>Amylose     </td><td>2           </td><td>0.6117      </td><td>NA          </td></tr>\n",
       "\t<tr><td>2017        </td><td>Amylose     </td><td>3           </td><td>0.6546      </td><td>NA          </td></tr>\n",
       "\t<tr><td>2017        </td><td>Amylose     </td><td>4           </td><td>0.5110      </td><td>NA          </td></tr>\n",
       "\t<tr><td>2017        </td><td>Amylose     </td><td>5           </td><td>0.5030      </td><td>NA          </td></tr>\n",
       "\t<tr><td>2017        </td><td>Fat         </td><td>1           </td><td>0.6004      </td><td>NA          </td></tr>\n",
       "\t<tr><td>2017        </td><td>Fat         </td><td>2           </td><td>0.6047      </td><td>NA          </td></tr>\n",
       "\t<tr><td>2017        </td><td>Fat         </td><td>3           </td><td>0.6569      </td><td>NA          </td></tr>\n",
       "\t<tr><td>2017        </td><td>Fat         </td><td>4           </td><td>0.6687      </td><td>NA          </td></tr>\n",
       "\t<tr><td>2017        </td><td>Fat         </td><td>5           </td><td>0.7255      </td><td>NA          </td></tr>\n",
       "\t<tr><td>2017        </td><td>Gross_Energy</td><td>1           </td><td>0.7378      </td><td>NA          </td></tr>\n",
       "\t<tr><td>2017        </td><td>Gross_Energy</td><td>2           </td><td>0.6850      </td><td>NA          </td></tr>\n",
       "\t<tr><td>2017        </td><td>Gross_Energy</td><td>3           </td><td>0.7934      </td><td>NA          </td></tr>\n",
       "\t<tr><td>2017        </td><td>Gross_Energy</td><td>4           </td><td>0.7531      </td><td>NA          </td></tr>\n",
       "\t<tr><td>2017        </td><td>Gross_Energy</td><td>5           </td><td>0.6491      </td><td>NA          </td></tr>\n",
       "\t<tr><td>2017        </td><td>Protein     </td><td>1           </td><td>0.6648      </td><td>NA          </td></tr>\n",
       "\t<tr><td>2017        </td><td>Protein     </td><td>2           </td><td>0.6616      </td><td>NA          </td></tr>\n",
       "\t<tr><td>2017        </td><td>Protein     </td><td>3           </td><td>0.7713      </td><td>NA          </td></tr>\n",
       "\t<tr><td>2017        </td><td>Protein     </td><td>4           </td><td>0.7396      </td><td>NA          </td></tr>\n",
       "\t<tr><td>2017        </td><td>Protein     </td><td>5           </td><td>0.5738      </td><td>NA          </td></tr>\n",
       "\t<tr><td>2017        </td><td>Starch      </td><td>1           </td><td>0.7470      </td><td>NA          </td></tr>\n",
       "\t<tr><td>2017        </td><td>Starch      </td><td>2           </td><td>0.6831      </td><td>NA          </td></tr>\n",
       "\t<tr><td>2017        </td><td>Starch      </td><td>3           </td><td>0.8113      </td><td>NA          </td></tr>\n",
       "\t<tr><td>2017        </td><td>Starch      </td><td>4           </td><td>0.7585      </td><td>NA          </td></tr>\n",
       "\t<tr><td>2017        </td><td>Starch      </td><td>5           </td><td>0.6554      </td><td>NA          </td></tr>\n",
       "</tbody>\n",
       "</table>\n"
      ],
      "text/latex": [
       "\\begin{tabular}{r|lllll}\n",
       " Environment & Trait & Partition & Pearson & MAAPE\\\\\n",
       "\\hline\n",
       "\t 2013         & Amylose      & 1            & 0.6684       & NA          \\\\\n",
       "\t 2013         & Amylose      & 2            & 0.6284       & NA          \\\\\n",
       "\t 2013         & Amylose      & 3            & 0.5960       & NA          \\\\\n",
       "\t 2013         & Amylose      & 4            & 0.6042       & NA          \\\\\n",
       "\t 2013         & Amylose      & 5            & 0.5937       & NA          \\\\\n",
       "\t 2013         & Fat          & 1            & 0.6342       & NA          \\\\\n",
       "\t 2013         & Fat          & 2            & 0.5605       & NA          \\\\\n",
       "\t 2013         & Fat          & 3            & 0.4723       & NA          \\\\\n",
       "\t 2013         & Fat          & 4            & 0.4394       & NA          \\\\\n",
       "\t 2013         & Fat          & 5            & 0.5113       & NA          \\\\\n",
       "\t 2013           & Gross\\_Energy & 1              & 0.7865         & NA            \\\\\n",
       "\t 2013           & Gross\\_Energy & 2              & 0.7582         & NA            \\\\\n",
       "\t 2013           & Gross\\_Energy & 3              & 0.7344         & NA            \\\\\n",
       "\t 2013           & Gross\\_Energy & 4              & 0.7212         & NA            \\\\\n",
       "\t 2013           & Gross\\_Energy & 5              & 0.7233         & NA            \\\\\n",
       "\t 2013         & Protein      & 1            & 0.7511       & NA          \\\\\n",
       "\t 2013         & Protein      & 2            & 0.7229       & NA          \\\\\n",
       "\t 2013         & Protein      & 3            & 0.6930       & NA          \\\\\n",
       "\t 2013         & Protein      & 4            & 0.6944       & NA          \\\\\n",
       "\t 2013         & Protein      & 5            & 0.7644       & NA          \\\\\n",
       "\t 2013         & Starch       & 1            & 0.7918       & NA          \\\\\n",
       "\t 2013         & Starch       & 2            & 0.7582       & NA          \\\\\n",
       "\t 2013         & Starch       & 3            & 0.7457       & NA          \\\\\n",
       "\t 2013         & Starch       & 4            & 0.7456       & NA          \\\\\n",
       "\t 2013         & Starch       & 5            & 0.7207       & NA          \\\\\n",
       "\t 2014         & Amylose      & 1            & 0.6104       & NA          \\\\\n",
       "\t 2014         & Amylose      & 2            & 0.5958       & NA          \\\\\n",
       "\t 2014         & Amylose      & 3            & 0.6656       & NA          \\\\\n",
       "\t 2014         & Amylose      & 4            & 0.3285       & NA          \\\\\n",
       "\t 2014         & Amylose      & 5            & 0.5288       & NA          \\\\\n",
       "\t ... & ... & ... & ... & ...\\\\\n",
       "\t 2014         & Starch       & 1            & 0.7338       & NA          \\\\\n",
       "\t 2014         & Starch       & 2            & 0.7244       & NA          \\\\\n",
       "\t 2014         & Starch       & 3            & 0.6841       & NA          \\\\\n",
       "\t 2014         & Starch       & 4            & 0.5848       & NA          \\\\\n",
       "\t 2014         & Starch       & 5            & 0.7745       & NA          \\\\\n",
       "\t 2017         & Amylose      & 1            & 0.5325       & NA          \\\\\n",
       "\t 2017         & Amylose      & 2            & 0.6117       & NA          \\\\\n",
       "\t 2017         & Amylose      & 3            & 0.6546       & NA          \\\\\n",
       "\t 2017         & Amylose      & 4            & 0.5110       & NA          \\\\\n",
       "\t 2017         & Amylose      & 5            & 0.5030       & NA          \\\\\n",
       "\t 2017         & Fat          & 1            & 0.6004       & NA          \\\\\n",
       "\t 2017         & Fat          & 2            & 0.6047       & NA          \\\\\n",
       "\t 2017         & Fat          & 3            & 0.6569       & NA          \\\\\n",
       "\t 2017         & Fat          & 4            & 0.6687       & NA          \\\\\n",
       "\t 2017         & Fat          & 5            & 0.7255       & NA          \\\\\n",
       "\t 2017           & Gross\\_Energy & 1              & 0.7378         & NA            \\\\\n",
       "\t 2017           & Gross\\_Energy & 2              & 0.6850         & NA            \\\\\n",
       "\t 2017           & Gross\\_Energy & 3              & 0.7934         & NA            \\\\\n",
       "\t 2017           & Gross\\_Energy & 4              & 0.7531         & NA            \\\\\n",
       "\t 2017           & Gross\\_Energy & 5              & 0.6491         & NA            \\\\\n",
       "\t 2017         & Protein      & 1            & 0.6648       & NA          \\\\\n",
       "\t 2017         & Protein      & 2            & 0.6616       & NA          \\\\\n",
       "\t 2017         & Protein      & 3            & 0.7713       & NA          \\\\\n",
       "\t 2017         & Protein      & 4            & 0.7396       & NA          \\\\\n",
       "\t 2017         & Protein      & 5            & 0.5738       & NA          \\\\\n",
       "\t 2017         & Starch       & 1            & 0.7470       & NA          \\\\\n",
       "\t 2017         & Starch       & 2            & 0.6831       & NA          \\\\\n",
       "\t 2017         & Starch       & 3            & 0.8113       & NA          \\\\\n",
       "\t 2017         & Starch       & 4            & 0.7585       & NA          \\\\\n",
       "\t 2017         & Starch       & 5            & 0.6554       & NA          \\\\\n",
       "\\end{tabular}\n"
      ],
      "text/markdown": [
       "\n",
       "| Environment | Trait | Partition | Pearson | MAAPE |\n",
       "|---|---|---|---|---|\n",
       "| 2013         | Amylose      | 1            | 0.6684       | NA           |\n",
       "| 2013         | Amylose      | 2            | 0.6284       | NA           |\n",
       "| 2013         | Amylose      | 3            | 0.5960       | NA           |\n",
       "| 2013         | Amylose      | 4            | 0.6042       | NA           |\n",
       "| 2013         | Amylose      | 5            | 0.5937       | NA           |\n",
       "| 2013         | Fat          | 1            | 0.6342       | NA           |\n",
       "| 2013         | Fat          | 2            | 0.5605       | NA           |\n",
       "| 2013         | Fat          | 3            | 0.4723       | NA           |\n",
       "| 2013         | Fat          | 4            | 0.4394       | NA           |\n",
       "| 2013         | Fat          | 5            | 0.5113       | NA           |\n",
       "| 2013         | Gross_Energy | 1            | 0.7865       | NA           |\n",
       "| 2013         | Gross_Energy | 2            | 0.7582       | NA           |\n",
       "| 2013         | Gross_Energy | 3            | 0.7344       | NA           |\n",
       "| 2013         | Gross_Energy | 4            | 0.7212       | NA           |\n",
       "| 2013         | Gross_Energy | 5            | 0.7233       | NA           |\n",
       "| 2013         | Protein      | 1            | 0.7511       | NA           |\n",
       "| 2013         | Protein      | 2            | 0.7229       | NA           |\n",
       "| 2013         | Protein      | 3            | 0.6930       | NA           |\n",
       "| 2013         | Protein      | 4            | 0.6944       | NA           |\n",
       "| 2013         | Protein      | 5            | 0.7644       | NA           |\n",
       "| 2013         | Starch       | 1            | 0.7918       | NA           |\n",
       "| 2013         | Starch       | 2            | 0.7582       | NA           |\n",
       "| 2013         | Starch       | 3            | 0.7457       | NA           |\n",
       "| 2013         | Starch       | 4            | 0.7456       | NA           |\n",
       "| 2013         | Starch       | 5            | 0.7207       | NA           |\n",
       "| 2014         | Amylose      | 1            | 0.6104       | NA           |\n",
       "| 2014         | Amylose      | 2            | 0.5958       | NA           |\n",
       "| 2014         | Amylose      | 3            | 0.6656       | NA           |\n",
       "| 2014         | Amylose      | 4            | 0.3285       | NA           |\n",
       "| 2014         | Amylose      | 5            | 0.5288       | NA           |\n",
       "| ... | ... | ... | ... | ... |\n",
       "| 2014         | Starch       | 1            | 0.7338       | NA           |\n",
       "| 2014         | Starch       | 2            | 0.7244       | NA           |\n",
       "| 2014         | Starch       | 3            | 0.6841       | NA           |\n",
       "| 2014         | Starch       | 4            | 0.5848       | NA           |\n",
       "| 2014         | Starch       | 5            | 0.7745       | NA           |\n",
       "| 2017         | Amylose      | 1            | 0.5325       | NA           |\n",
       "| 2017         | Amylose      | 2            | 0.6117       | NA           |\n",
       "| 2017         | Amylose      | 3            | 0.6546       | NA           |\n",
       "| 2017         | Amylose      | 4            | 0.5110       | NA           |\n",
       "| 2017         | Amylose      | 5            | 0.5030       | NA           |\n",
       "| 2017         | Fat          | 1            | 0.6004       | NA           |\n",
       "| 2017         | Fat          | 2            | 0.6047       | NA           |\n",
       "| 2017         | Fat          | 3            | 0.6569       | NA           |\n",
       "| 2017         | Fat          | 4            | 0.6687       | NA           |\n",
       "| 2017         | Fat          | 5            | 0.7255       | NA           |\n",
       "| 2017         | Gross_Energy | 1            | 0.7378       | NA           |\n",
       "| 2017         | Gross_Energy | 2            | 0.6850       | NA           |\n",
       "| 2017         | Gross_Energy | 3            | 0.7934       | NA           |\n",
       "| 2017         | Gross_Energy | 4            | 0.7531       | NA           |\n",
       "| 2017         | Gross_Energy | 5            | 0.6491       | NA           |\n",
       "| 2017         | Protein      | 1            | 0.6648       | NA           |\n",
       "| 2017         | Protein      | 2            | 0.6616       | NA           |\n",
       "| 2017         | Protein      | 3            | 0.7713       | NA           |\n",
       "| 2017         | Protein      | 4            | 0.7396       | NA           |\n",
       "| 2017         | Protein      | 5            | 0.5738       | NA           |\n",
       "| 2017         | Starch       | 1            | 0.7470       | NA           |\n",
       "| 2017         | Starch       | 2            | 0.6831       | NA           |\n",
       "| 2017         | Starch       | 3            | 0.8113       | NA           |\n",
       "| 2017         | Starch       | 4            | 0.7585       | NA           |\n",
       "| 2017         | Starch       | 5            | 0.6554       | NA           |\n",
       "\n"
      ],
      "text/plain": [
       "    Environment Trait        Partition Pearson MAAPE\n",
       "1   2013        Amylose      1         0.6684  NA   \n",
       "2   2013        Amylose      2         0.6284  NA   \n",
       "3   2013        Amylose      3         0.5960  NA   \n",
       "4   2013        Amylose      4         0.6042  NA   \n",
       "5   2013        Amylose      5         0.5937  NA   \n",
       "6   2013        Fat          1         0.6342  NA   \n",
       "7   2013        Fat          2         0.5605  NA   \n",
       "8   2013        Fat          3         0.4723  NA   \n",
       "9   2013        Fat          4         0.4394  NA   \n",
       "10  2013        Fat          5         0.5113  NA   \n",
       "11  2013        Gross_Energy 1         0.7865  NA   \n",
       "12  2013        Gross_Energy 2         0.7582  NA   \n",
       "13  2013        Gross_Energy 3         0.7344  NA   \n",
       "14  2013        Gross_Energy 4         0.7212  NA   \n",
       "15  2013        Gross_Energy 5         0.7233  NA   \n",
       "16  2013        Protein      1         0.7511  NA   \n",
       "17  2013        Protein      2         0.7229  NA   \n",
       "18  2013        Protein      3         0.6930  NA   \n",
       "19  2013        Protein      4         0.6944  NA   \n",
       "20  2013        Protein      5         0.7644  NA   \n",
       "21  2013        Starch       1         0.7918  NA   \n",
       "22  2013        Starch       2         0.7582  NA   \n",
       "23  2013        Starch       3         0.7457  NA   \n",
       "24  2013        Starch       4         0.7456  NA   \n",
       "25  2013        Starch       5         0.7207  NA   \n",
       "26  2014        Amylose      1         0.6104  NA   \n",
       "27  2014        Amylose      2         0.5958  NA   \n",
       "28  2014        Amylose      3         0.6656  NA   \n",
       "29  2014        Amylose      4         0.3285  NA   \n",
       "30  2014        Amylose      5         0.5288  NA   \n",
       "... ...         ...          ...       ...     ...  \n",
       "46  2014        Starch       1         0.7338  NA   \n",
       "47  2014        Starch       2         0.7244  NA   \n",
       "48  2014        Starch       3         0.6841  NA   \n",
       "49  2014        Starch       4         0.5848  NA   \n",
       "50  2014        Starch       5         0.7745  NA   \n",
       "51  2017        Amylose      1         0.5325  NA   \n",
       "52  2017        Amylose      2         0.6117  NA   \n",
       "53  2017        Amylose      3         0.6546  NA   \n",
       "54  2017        Amylose      4         0.5110  NA   \n",
       "55  2017        Amylose      5         0.5030  NA   \n",
       "56  2017        Fat          1         0.6004  NA   \n",
       "57  2017        Fat          2         0.6047  NA   \n",
       "58  2017        Fat          3         0.6569  NA   \n",
       "59  2017        Fat          4         0.6687  NA   \n",
       "60  2017        Fat          5         0.7255  NA   \n",
       "61  2017        Gross_Energy 1         0.7378  NA   \n",
       "62  2017        Gross_Energy 2         0.6850  NA   \n",
       "63  2017        Gross_Energy 3         0.7934  NA   \n",
       "64  2017        Gross_Energy 4         0.7531  NA   \n",
       "65  2017        Gross_Energy 5         0.6491  NA   \n",
       "66  2017        Protein      1         0.6648  NA   \n",
       "67  2017        Protein      2         0.6616  NA   \n",
       "68  2017        Protein      3         0.7713  NA   \n",
       "69  2017        Protein      4         0.7396  NA   \n",
       "70  2017        Protein      5         0.5738  NA   \n",
       "71  2017        Starch       1         0.7470  NA   \n",
       "72  2017        Starch       2         0.6831  NA   \n",
       "73  2017        Starch       3         0.8113  NA   \n",
       "74  2017        Starch       4         0.7585  NA   \n",
       "75  2017        Starch       5         0.6554  NA   "
      ]
     },
     "metadata": {},
     "output_type": "display_data"
    }
   ],
   "source": [
    "print(\"BMORS SAP CV-5 per grain values\")\n",
    "pm = readRDS(file = 'results/SAP_perGrain_BMORS_CV5_123.rds')\n",
    "res <- summary(pm, information='complete')\n",
    "res\n",
    "write.csv(res, 'results/SAP_perGrain_BMORS_CV5_123.csv')"
   ]
  },
  {
   "cell_type": "code",
   "execution_count": 83,
   "metadata": {},
   "outputs": [
    {
     "name": "stdout",
     "output_type": "stream",
     "text": [
      "[1] \"BMORS SAP CV Environments\"\n"
     ]
    },
    {
     "data": {
      "text/html": [
       "<table>\n",
       "<thead><tr><th scope=col>Trait</th><th scope=col>overall_mean</th></tr></thead>\n",
       "<tbody>\n",
       "\t<tr><td>Amylose     </td><td>0.2759000   </td></tr>\n",
       "\t<tr><td>Fat         </td><td>0.6337000   </td></tr>\n",
       "\t<tr><td>Gross_Energy</td><td>0.7555333   </td></tr>\n",
       "\t<tr><td>Protein     </td><td>0.5784000   </td></tr>\n",
       "\t<tr><td>Starch      </td><td>0.6268667   </td></tr>\n",
       "</tbody>\n",
       "</table>\n"
      ],
      "text/latex": [
       "\\begin{tabular}{r|ll}\n",
       " Trait & overall\\_mean\\\\\n",
       "\\hline\n",
       "\t Amylose      & 0.2759000   \\\\\n",
       "\t Fat          & 0.6337000   \\\\\n",
       "\t Gross\\_Energy & 0.7555333     \\\\\n",
       "\t Protein      & 0.5784000   \\\\\n",
       "\t Starch       & 0.6268667   \\\\\n",
       "\\end{tabular}\n"
      ],
      "text/markdown": [
       "\n",
       "| Trait | overall_mean |\n",
       "|---|---|\n",
       "| Amylose      | 0.2759000    |\n",
       "| Fat          | 0.6337000    |\n",
       "| Gross_Energy | 0.7555333    |\n",
       "| Protein      | 0.5784000    |\n",
       "| Starch       | 0.6268667    |\n",
       "\n"
      ],
      "text/plain": [
       "  Trait        overall_mean\n",
       "1 Amylose      0.2759000   \n",
       "2 Fat          0.6337000   \n",
       "3 Gross_Energy 0.7555333   \n",
       "4 Protein      0.5784000   \n",
       "5 Starch       0.6268667   "
      ]
     },
     "metadata": {},
     "output_type": "display_data"
    },
    {
     "data": {
      "image/png": "[encoded data removed]",
      "text/plain": [
       "plot without title"
      ]
     },
     "metadata": {},
     "output_type": "display_data"
    }
   ],
   "source": [
    "print(\"BMORS SAP CV Environments\")\n",
    "pm = readRDS(file = 'results/BMTME/SAP_all_BMORS_CV-ENV.rds')\n",
    "#summary(pm, information='complete')\n",
    "# summary(pm)\n",
    "# boxplot(pm)\n",
    "res <- summary(pm, information='complete')\n",
    "#write.csv(res, 'results/BMTME/Manuscript_results/SAP_allPheno_BMORS_CV-Env.csv')\n",
    "\n",
    "df <- res %>% group_by(Trait) %>% summarize(overall_mean = mean(Pearson, na.rm=TRUE))\n",
    "df\n",
    "ggplot(res, aes(x=Trait, y=Pearson, fill=Environment)) + geom_bar(stat=\"identity\", position=position_dodge()) + theme_bw()\n",
    "#ggplot(res, aes(x=Trait, y=MAAPE, fill=Environment)) + geom_bar(stat=\"identity\", position=position_dodge()) + theme_bw()"
   ]
  },
  {
   "cell_type": "code",
   "execution_count": 84,
   "metadata": {},
   "outputs": [
    {
     "name": "stdout",
     "output_type": "stream",
     "text": [
      "[1] \"BMORS BTx642 CV-5\"\n"
     ]
    },
    {
     "data": {
      "text/html": [
       "<table>\n",
       "<thead><tr><th scope=col>Trait</th><th scope=col>overall_mean</th></tr></thead>\n",
       "<tbody>\n",
       "\t<tr><td>Amylose    </td><td>0.7628000  </td></tr>\n",
       "\t<tr><td>Fat        </td><td>0.7486600  </td></tr>\n",
       "\t<tr><td>GrossEnergy</td><td>0.6696933  </td></tr>\n",
       "\t<tr><td>Protein    </td><td>0.6661200  </td></tr>\n",
       "\t<tr><td>Starch     </td><td>0.6294400  </td></tr>\n",
       "</tbody>\n",
       "</table>\n"
      ],
      "text/latex": [
       "\\begin{tabular}{r|ll}\n",
       " Trait & overall\\_mean\\\\\n",
       "\\hline\n",
       "\t Amylose     & 0.7628000  \\\\\n",
       "\t Fat         & 0.7486600  \\\\\n",
       "\t GrossEnergy & 0.6696933  \\\\\n",
       "\t Protein     & 0.6661200  \\\\\n",
       "\t Starch      & 0.6294400  \\\\\n",
       "\\end{tabular}\n"
      ],
      "text/markdown": [
       "\n",
       "| Trait | overall_mean |\n",
       "|---|---|\n",
       "| Amylose     | 0.7628000   |\n",
       "| Fat         | 0.7486600   |\n",
       "| GrossEnergy | 0.6696933   |\n",
       "| Protein     | 0.6661200   |\n",
       "| Starch      | 0.6294400   |\n",
       "\n"
      ],
      "text/plain": [
       "  Trait       overall_mean\n",
       "1 Amylose     0.7628000   \n",
       "2 Fat         0.7486600   \n",
       "3 GrossEnergy 0.6696933   \n",
       "4 Protein     0.6661200   \n",
       "5 Starch      0.6294400   "
      ]
     },
     "metadata": {},
     "output_type": "display_data"
    },
    {
     "name": "stderr",
     "output_type": "stream",
     "text": [
      "Warning message:\n",
      "“Removed 15 rows containing non-finite values (stat_boxplot).”"
     ]
    },
    {
     "data": {
      "image/png": "[encoded data removed]",
      "text/plain": [
       "plot without title"
      ]
     },
     "metadata": {},
     "output_type": "display_data"
    }
   ],
   "source": [
    "print(\"BMORS BTx642 CV-5\")\n",
    "pm = readRDS(file = 'results/BMTME/BTx642_allPheno_BMORS_CV5.rds')\n",
    "#summary(pm, information='complete')\n",
    "# summary(pm)\n",
    "# boxplot(pm)\n",
    "res <- summary(pm, information='complete')\n",
    "#write.csv(res, 'results/BMTME/Manuscript_results/BTx642_allPheno_BMORS_CV5.csv')\n",
    "\n",
    "df <- res %>% group_by(Trait) %>% summarize(overall_mean = mean(Pearson, na.rm=TRUE))\n",
    "df\n",
    "\n",
    "ggplot(res, aes(x=Trait, y=Pearson, fill=Environment)) + geom_boxplot() + theme_bw()"
   ]
  },
  {
   "cell_type": "code",
   "execution_count": 85,
   "metadata": {},
   "outputs": [
    {
     "name": "stdout",
     "output_type": "stream",
     "text": [
      "[1] \"BMORS BTx642 CV-Environments\"\n"
     ]
    },
    {
     "data": {
      "text/html": [
       "<table>\n",
       "<thead><tr><th scope=col>Trait</th><th scope=col>overall_mean</th></tr></thead>\n",
       "<tbody>\n",
       "\t<tr><td>Amylose     </td><td>0.7514250   </td></tr>\n",
       "\t<tr><td>Fat         </td><td>0.7876500   </td></tr>\n",
       "\t<tr><td>Gross_Energy</td><td>0.6808000   </td></tr>\n",
       "\t<tr><td>Protein     </td><td>0.6472333   </td></tr>\n",
       "\t<tr><td>Starch      </td><td>0.6344333   </td></tr>\n",
       "</tbody>\n",
       "</table>\n"
      ],
      "text/latex": [
       "\\begin{tabular}{r|ll}\n",
       " Trait & overall\\_mean\\\\\n",
       "\\hline\n",
       "\t Amylose      & 0.7514250   \\\\\n",
       "\t Fat          & 0.7876500   \\\\\n",
       "\t Gross\\_Energy & 0.6808000     \\\\\n",
       "\t Protein      & 0.6472333   \\\\\n",
       "\t Starch       & 0.6344333   \\\\\n",
       "\\end{tabular}\n"
      ],
      "text/markdown": [
       "\n",
       "| Trait | overall_mean |\n",
       "|---|---|\n",
       "| Amylose      | 0.7514250    |\n",
       "| Fat          | 0.7876500    |\n",
       "| Gross_Energy | 0.6808000    |\n",
       "| Protein      | 0.6472333    |\n",
       "| Starch       | 0.6344333    |\n",
       "\n"
      ],
      "text/plain": [
       "  Trait        overall_mean\n",
       "1 Amylose      0.7514250   \n",
       "2 Fat          0.7876500   \n",
       "3 Gross_Energy 0.6808000   \n",
       "4 Protein      0.6472333   \n",
       "5 Starch       0.6344333   "
      ]
     },
     "metadata": {},
     "output_type": "display_data"
    },
    {
     "name": "stderr",
     "output_type": "stream",
     "text": [
      "Warning message:\n",
      "“Removed 3 rows containing missing values (geom_bar).”"
     ]
    },
    {
     "data": {
      "image/png": "[encoded data removed]",
      "text/plain": [
       "plot without title"
      ]
     },
     "metadata": {},
     "output_type": "display_data"
    }
   ],
   "source": [
    "print(\"BMORS BTx642 CV-Environments\")\n",
    "pm = readRDS(file = 'results/BMTME/BTx642_all_BMORS_CV-ENV.rds')\n",
    "#summary(pm, information='complete')\n",
    "# summary(pm)\n",
    "# boxplot(pm)\n",
    "res <- summary(pm, information='complete')\n",
    "#write.csv(res, 'results/BMTME/Manuscript_results/BTx642_allPheno_BMORS_CV-Env.csv')\n",
    "df <- res %>% group_by(Trait) %>% summarize(overall_mean = mean(Pearson, na.rm=TRUE))\n",
    "df\n",
    "ggplot(res, aes(x=Trait, y=Pearson, fill=Environment)) + geom_bar(stat=\"identity\", position=position_dodge()) + theme_bw()\n",
    "#ggplot(res, aes(x=Trait, y=MAAPE, fill=Environment)) + geom_bar(stat=\"identity\", position=position_dodge()) + theme_bw()"
   ]
  },
  {
   "cell_type": "code",
   "execution_count": 10,
   "metadata": {},
   "outputs": [],
   "source": [
    "#fm <- readRDS('results/BMTME/SAP_allPheno_BMTME_model.rds')"
   ]
  },
  {
   "cell_type": "code",
   "execution_count": null,
   "metadata": {},
   "outputs": [],
   "source": []
  },
  {
   "cell_type": "code",
   "execution_count": null,
   "metadata": {},
   "outputs": [],
   "source": []
  },
  {
   "cell_type": "code",
   "execution_count": null,
   "metadata": {},
   "outputs": [],
   "source": []
  },
  {
   "cell_type": "code",
   "execution_count": null,
   "metadata": {},
   "outputs": [],
   "source": []
  },
  {
   "cell_type": "code",
   "execution_count": null,
   "metadata": {},
   "outputs": [],
   "source": []
  },
  {
   "cell_type": "code",
   "execution_count": null,
   "metadata": {},
   "outputs": [],
   "source": []
  },
  {
   "cell_type": "code",
   "execution_count": null,
   "metadata": {},
   "outputs": [],
   "source": []
  },
  {
   "cell_type": "code",
   "execution_count": null,
   "metadata": {},
   "outputs": [],
   "source": []
  },
  {
   "cell_type": "code",
   "execution_count": null,
   "metadata": {},
   "outputs": [],
   "source": []
  },
  {
   "cell_type": "code",
   "execution_count": null,
   "metadata": {},
   "outputs": [],
   "source": []
  },
  {
   "cell_type": "code",
   "execution_count": 87,
   "metadata": {},
   "outputs": [
    {
     "data": {
      "text/html": [
       "<table>\n",
       "<thead><tr><th scope=col>Taxa</th><th scope=col>Env</th><th scope=col>Amylose</th><th scope=col>Gross_Energy</th><th scope=col>DTA</th><th scope=col>Fat</th><th scope=col>GNP</th><th scope=col>PH</th><th scope=col>Protein</th><th scope=col>Starch</th><th scope=col>TGW</th><th scope=col>YPP</th></tr></thead>\n",
       "<tbody>\n",
       "\t<tr><td>PI152651     </td><td>2013         </td><td>-1.3060412   </td><td>-37.771799414</td><td> -1.360837   </td><td>-0.03942292  </td><td> -21.39074   </td><td> 22.051768   </td><td>-1.2111684   </td><td> 2.766715    </td><td> 1.599295    </td><td> 2.188733    </td></tr>\n",
       "\t<tr><td>PI152651     </td><td>2014         </td><td>-0.1518703   </td><td>-74.202741707</td><td> -1.004093   </td><td>-0.28741472  </td><td> 408.37601   </td><td> 31.698224   </td><td>-2.4092873   </td><td> 5.018051    </td><td>-1.372426    </td><td>11.696527    </td></tr>\n",
       "\t<tr><td>PI152651     </td><td>2017         </td><td> 0.6994863   </td><td>  0.003383857</td><td>-11.358563   </td><td> 0.29731826  </td><td>-397.10499   </td><td>  4.516994   </td><td> 0.9393867   </td><td>-2.674919    </td><td> 9.286168    </td><td>-5.385405    </td></tr>\n",
       "\t<tr><td>PI17548      </td><td>2013         </td><td> 0.6693859   </td><td> 79.014215976</td><td> -4.900773   </td><td> 1.16385960  </td><td> -28.80067   </td><td>103.499037   </td><td>-0.2071979   </td><td>-1.923487    </td><td>-5.169072    </td><td>-4.974788    </td></tr>\n",
       "\t<tr><td>PI17548      </td><td>2014         </td><td> 0.9697520   </td><td> 45.823305424</td><td> -4.397471   </td><td> 0.59492514  </td><td>  78.71922   </td><td> 85.458193   </td><td>-0.8695028   </td><td>-1.801738    </td><td>-4.464337    </td><td>-8.338880    </td></tr>\n",
       "\t<tr><td>PI17548      </td><td>2017         </td><td> 1.1821377   </td><td> 72.282107274</td><td> -5.044971   </td><td> 0.28326927  </td><td> -93.50104   </td><td> 73.257725   </td><td> 0.2556282   </td><td>-2.883531    </td><td>-4.628591    </td><td>-4.947095    </td></tr>\n",
       "</tbody>\n",
       "</table>\n"
      ],
      "text/latex": [
       "\\begin{tabular}{r|llllllllllll}\n",
       " Taxa & Env & Amylose & Gross\\_Energy & DTA & Fat & GNP & PH & Protein & Starch & TGW & YPP\\\\\n",
       "\\hline\n",
       "\t PI152651      & 2013          & -1.3060412    & -37.771799414 &  -1.360837    & -0.03942292   &  -21.39074    &  22.051768    & -1.2111684    &  2.766715     &  1.599295     &  2.188733    \\\\\n",
       "\t PI152651      & 2014          & -0.1518703    & -74.202741707 &  -1.004093    & -0.28741472   &  408.37601    &  31.698224    & -2.4092873    &  5.018051     & -1.372426     & 11.696527    \\\\\n",
       "\t PI152651      & 2017          &  0.6994863    &   0.003383857 & -11.358563    &  0.29731826   & -397.10499    &   4.516994    &  0.9393867    & -2.674919     &  9.286168     & -5.385405    \\\\\n",
       "\t PI17548       & 2013          &  0.6693859    &  79.014215976 &  -4.900773    &  1.16385960   &  -28.80067    & 103.499037    & -0.2071979    & -1.923487     & -5.169072     & -4.974788    \\\\\n",
       "\t PI17548       & 2014          &  0.9697520    &  45.823305424 &  -4.397471    &  0.59492514   &   78.71922    &  85.458193    & -0.8695028    & -1.801738     & -4.464337     & -8.338880    \\\\\n",
       "\t PI17548       & 2017          &  1.1821377    &  72.282107274 &  -5.044971    &  0.28326927   &  -93.50104    &  73.257725    &  0.2556282    & -2.883531     & -4.628591     & -4.947095    \\\\\n",
       "\\end{tabular}\n"
      ],
      "text/markdown": [
       "\n",
       "| Taxa | Env | Amylose | Gross_Energy | DTA | Fat | GNP | PH | Protein | Starch | TGW | YPP |\n",
       "|---|---|---|---|---|---|---|---|---|---|---|---|\n",
       "| PI152651      | 2013          | -1.3060412    | -37.771799414 |  -1.360837    | -0.03942292   |  -21.39074    |  22.051768    | -1.2111684    |  2.766715     |  1.599295     |  2.188733     |\n",
       "| PI152651      | 2014          | -0.1518703    | -74.202741707 |  -1.004093    | -0.28741472   |  408.37601    |  31.698224    | -2.4092873    |  5.018051     | -1.372426     | 11.696527     |\n",
       "| PI152651      | 2017          |  0.6994863    |   0.003383857 | -11.358563    |  0.29731826   | -397.10499    |   4.516994    |  0.9393867    | -2.674919     |  9.286168     | -5.385405     |\n",
       "| PI17548       | 2013          |  0.6693859    |  79.014215976 |  -4.900773    |  1.16385960   |  -28.80067    | 103.499037    | -0.2071979    | -1.923487     | -5.169072     | -4.974788     |\n",
       "| PI17548       | 2014          |  0.9697520    |  45.823305424 |  -4.397471    |  0.59492514   |   78.71922    |  85.458193    | -0.8695028    | -1.801738     | -4.464337     | -8.338880     |\n",
       "| PI17548       | 2017          |  1.1821377    |  72.282107274 |  -5.044971    |  0.28326927   |  -93.50104    |  73.257725    |  0.2556282    | -2.883531     | -4.628591     | -4.947095     |\n",
       "\n"
      ],
      "text/plain": [
       "  Taxa     Env  Amylose    Gross_Energy  DTA        Fat         GNP       \n",
       "1 PI152651 2013 -1.3060412 -37.771799414  -1.360837 -0.03942292  -21.39074\n",
       "2 PI152651 2014 -0.1518703 -74.202741707  -1.004093 -0.28741472  408.37601\n",
       "3 PI152651 2017  0.6994863   0.003383857 -11.358563  0.29731826 -397.10499\n",
       "4 PI17548  2013  0.6693859  79.014215976  -4.900773  1.16385960  -28.80067\n",
       "5 PI17548  2014  0.9697520  45.823305424  -4.397471  0.59492514   78.71922\n",
       "6 PI17548  2017  1.1821377  72.282107274  -5.044971  0.28326927  -93.50104\n",
       "  PH         Protein    Starch    TGW       YPP      \n",
       "1  22.051768 -1.2111684  2.766715  1.599295  2.188733\n",
       "2  31.698224 -2.4092873  5.018051 -1.372426 11.696527\n",
       "3   4.516994  0.9393867 -2.674919  9.286168 -5.385405\n",
       "4 103.499037 -0.2071979 -1.923487 -5.169072 -4.974788\n",
       "5  85.458193 -0.8695028 -1.801738 -4.464337 -8.338880\n",
       "6  73.257725  0.2556282 -2.883531 -4.628591 -4.947095"
      ]
     },
     "metadata": {},
     "output_type": "display_data"
    },
    {
     "name": "stderr",
     "output_type": "stream",
     "text": []
    },
    {
     "name": "stderr",
     "output_type": "stream",
     "text": [
      "Fitting the model  [================]100%;  Time elapsed: 34s - time left:  0s\n",
      "Fitting the model  [================]100%;  Time elapsed: 33s - time left:  0s\n",
      "Fitting the model  [================]100%;  Time elapsed: 33s - time left:  0s\n",
      "Fitting the model  [================]100%;  Time elapsed: 33s - time left:  0s\n",
      "Fitting the model  [================]100%;  Time elapsed: 33s - time left:  0s\n",
      "Fitting the model  [================]100%;  Time elapsed: 33s - time left:  0s\n",
      "Fitting the model  [================]100%;  Time elapsed: 33s - time left:  0s\n",
      "Fitting the model  [================]100%;  Time elapsed: 33s - time left:  0s\n",
      "Fitting the model  [================]100%;  Time elapsed: 33s - time left:  0s\n",
      "Fitting the model  [================]100%;  Time elapsed: 33s - time left:  0s\n",
      "Fitting the model  [================]100%;  Time elapsed: 33s - time left:  0s\n",
      "Fitting the model  [================]100%;  Time elapsed: 34s - time left:  0s\n",
      "Fitting the model  [================]100%;  Time elapsed: 34s - time left:  0s\n",
      "Fitting the model  [================]100%;  Time elapsed: 33s - time left:  0s\n",
      "Fitting the model  [================]100%;  Time elapsed: 33s - time left:  0s\n",
      "Fitting the model  [================]100%;  Time elapsed: 34s - time left:  0s\n",
      "Fitting the model  [================]100%;  Time elapsed: 33s - time left:  0s\n",
      "Fitting the model  [================]100%;  Time elapsed: 34s - time left:  0s\n",
      "Fitting the model  [================]100%;  Time elapsed: 34s - time left:  0s\n",
      "Fitting the model  [================]100%;  Time elapsed: 34s - time left:  0s\n",
      "Fitting the model  [================]100%;  Time elapsed: 33s - time left:  0s\n",
      "Fitting the model  [================]100%;  Time elapsed: 34s - time left:  0s\n",
      "Fitting the model  [================]100%;  Time elapsed: 34s - time left:  0s\n",
      "Fitting the model  [================]100%;  Time elapsed: 33s - time left:  0s\n",
      "Fitting the model  [================]100%;  Time elapsed: 33s - time left:  0s\n",
      "Fitting the model  [================]100%;  Time elapsed: 34s - time left:  0s\n",
      "Fitting the model  [================]100%;  Time elapsed: 34s - time left:  0s\n",
      "Fitting the model  [================]100%;  Time elapsed: 34s - time left:  0s\n",
      "Fitting the model  [================]100%;  Time elapsed: 33s - time left:  0s\n",
      "Fitting the model  [================]100%;  Time elapsed: 34s - time left:  0s\n"
     ]
    },
    {
     "data": {
      "text/html": [
       "<table>\n",
       "<thead><tr><th scope=col>seed</th><th scope=col>Environment</th><th scope=col>Trait</th><th scope=col>Partition</th><th scope=col>Pearson</th><th scope=col>MAAPE</th></tr></thead>\n",
       "<tbody>\n",
       "\t<tr><td>12345  </td><td>2013   </td><td>Amylose</td><td>1      </td><td>0.3173 </td><td>NA     </td></tr>\n",
       "\t<tr><td>12345  </td><td>2013   </td><td>Amylose</td><td>2      </td><td>0.3446 </td><td>NA     </td></tr>\n",
       "\t<tr><td>12345  </td><td>2013   </td><td>Amylose</td><td>3      </td><td>0.0995 </td><td>NA     </td></tr>\n",
       "\t<tr><td>12345  </td><td>2013   </td><td>Amylose</td><td>4      </td><td>0.4750 </td><td>NA     </td></tr>\n",
       "\t<tr><td>12345  </td><td>2013   </td><td>Amylose</td><td>5      </td><td>0.3470 </td><td>NA     </td></tr>\n",
       "\t<tr><td>12345  </td><td>2013   </td><td>Fat    </td><td>1      </td><td>0.6667 </td><td>NA     </td></tr>\n",
       "</tbody>\n",
       "</table>\n"
      ],
      "text/latex": [
       "\\begin{tabular}{r|llllll}\n",
       " seed & Environment & Trait & Partition & Pearson & MAAPE\\\\\n",
       "\\hline\n",
       "\t 12345   & 2013    & Amylose & 1       & 0.3173  & NA     \\\\\n",
       "\t 12345   & 2013    & Amylose & 2       & 0.3446  & NA     \\\\\n",
       "\t 12345   & 2013    & Amylose & 3       & 0.0995  & NA     \\\\\n",
       "\t 12345   & 2013    & Amylose & 4       & 0.4750  & NA     \\\\\n",
       "\t 12345   & 2013    & Amylose & 5       & 0.3470  & NA     \\\\\n",
       "\t 12345   & 2013    & Fat     & 1       & 0.6667  & NA     \\\\\n",
       "\\end{tabular}\n"
      ],
      "text/markdown": [
       "\n",
       "| seed | Environment | Trait | Partition | Pearson | MAAPE |\n",
       "|---|---|---|---|---|---|\n",
       "| 12345   | 2013    | Amylose | 1       | 0.3173  | NA      |\n",
       "| 12345   | 2013    | Amylose | 2       | 0.3446  | NA      |\n",
       "| 12345   | 2013    | Amylose | 3       | 0.0995  | NA      |\n",
       "| 12345   | 2013    | Amylose | 4       | 0.4750  | NA      |\n",
       "| 12345   | 2013    | Amylose | 5       | 0.3470  | NA      |\n",
       "| 12345   | 2013    | Fat     | 1       | 0.6667  | NA      |\n",
       "\n"
      ],
      "text/plain": [
       "  seed  Environment Trait   Partition Pearson MAAPE\n",
       "1 12345 2013        Amylose 1         0.3173  NA   \n",
       "2 12345 2013        Amylose 2         0.3446  NA   \n",
       "3 12345 2013        Amylose 3         0.0995  NA   \n",
       "4 12345 2013        Amylose 4         0.4750  NA   \n",
       "5 12345 2013        Amylose 5         0.3470  NA   \n",
       "6 12345 2013        Fat     1         0.6667  NA   "
      ]
     },
     "metadata": {},
     "output_type": "display_data"
    }
   ],
   "source": [
    "\n",
    "load('data/SAP_BMTME.RData')\n",
    "\n",
    "pheno = phenoBMTME\n",
    "taxa <- unique(pheno$Taxa)\n",
    "#rownames(G) = taxa\n",
    "#colnames(G) = taxa\n",
    "head(pheno)\n",
    "\n",
    "LG <- cholesky(geno) ##cholesky decomposition of genomic matrix for design matrices\n",
    "ZG <- model.matrix(~0 + as.factor(pheno$Taxa))\n",
    "Z.G <- ZG %*% LG\n",
    "Z.E <- model.matrix(~0 + as.factor(pheno$Env))\n",
    "ZEG <- model.matrix(~0 + as.factor(pheno$Taxa):as.factor(pheno$Env))\n",
    "G2 <- kronecker(diag(length(unique(pheno$Env))), data.matrix(geno))\n",
    "LG2 <- cholesky(G2)\n",
    "Z.EG <- ZEG %*% LG2\n",
    "\n",
    "Y <- as.matrix(pheno[, c('Amylose','Fat','Gross_Energy','Protein','Starch')])\n",
    "results <- c()\n",
    "ETA <- list(Env = list(X = Z.E, model = 'BRR'), Gen = list(X = Z.G, model = 'BRR'), EnvGen = list(X = Z.EG, model = 'BRR'))\n",
    "\n",
    "for (i in 12345:12374){\n",
    "        seed <- i\n",
    "        pheno2 <- data.frame(GID = pheno[, 1], Env = pheno[, 2], Response = pheno[, 4])\n",
    "        CrossV <- CV.KFold(pheno2, DataSetID='GID', K=5, set_seed = seed)\n",
    "        pm <- BMORS(Y, ETA = ETA, nIter = 150, burnIn = 50, thin = 2, progressBar = TRUE, testingSet = CrossV, digits = 4)\n",
    "        res <- cbind(seed,summary(pm, information='complete'))\n",
    "    results <- rbind(results,res)\n",
    "    }\n",
    "head(results)\n",
    "    \n",
    "\n",
    "    \n",
    "#dataset <- as.matrix(pheno[, c('Year','Amylose','Fat','Gross_Energy','Protein','Starch')])\n",
    "#colnames(dataset) <- c('Env','Amylose','Fat','Gross_Energy','Protein','Starch')\n",
    "#pm <- BMORS_Env(dataset, testingEnv = c('2014','2015'), ETA = ETA, covModel = 'BayesB', nIter = 2500, burnIn = 1000, thin = 2, progressBar = TRUE, digits = 2)\n"
   ]
  },
  {
   "cell_type": "code",
   "execution_count": 89,
   "metadata": {},
   "outputs": [
    {
     "data": {
      "text/html": [
       "<table>\n",
       "<thead><tr><th scope=col>Trait</th><th scope=col>mean</th><th scope=col>sd</th></tr></thead>\n",
       "<tbody>\n",
       "\t<tr><td>Amylose     </td><td>0.2908442   </td><td>0.18794875  </td></tr>\n",
       "\t<tr><td>Fat         </td><td>0.6230376   </td><td>0.10023872  </td></tr>\n",
       "\t<tr><td>Gross_Energy</td><td>0.7345922   </td><td>0.06216347  </td></tr>\n",
       "\t<tr><td>Protein     </td><td>0.5599084   </td><td>0.08240561  </td></tr>\n",
       "\t<tr><td>Starch      </td><td>0.6232220   </td><td>0.07819046  </td></tr>\n",
       "</tbody>\n",
       "</table>\n"
      ],
      "text/latex": [
       "\\begin{tabular}{r|lll}\n",
       " Trait & mean & sd\\\\\n",
       "\\hline\n",
       "\t Amylose      & 0.2908442    & 0.18794875  \\\\\n",
       "\t Fat          & 0.6230376    & 0.10023872  \\\\\n",
       "\t Gross\\_Energy & 0.7345922      & 0.06216347    \\\\\n",
       "\t Protein      & 0.5599084    & 0.08240561  \\\\\n",
       "\t Starch       & 0.6232220    & 0.07819046  \\\\\n",
       "\\end{tabular}\n"
      ],
      "text/markdown": [
       "\n",
       "| Trait | mean | sd |\n",
       "|---|---|---|\n",
       "| Amylose      | 0.2908442    | 0.18794875   |\n",
       "| Fat          | 0.6230376    | 0.10023872   |\n",
       "| Gross_Energy | 0.7345922    | 0.06216347   |\n",
       "| Protein      | 0.5599084    | 0.08240561   |\n",
       "| Starch       | 0.6232220    | 0.07819046   |\n",
       "\n"
      ],
      "text/plain": [
       "  Trait        mean      sd        \n",
       "1 Amylose      0.2908442 0.18794875\n",
       "2 Fat          0.6230376 0.10023872\n",
       "3 Gross_Energy 0.7345922 0.06216347\n",
       "4 Protein      0.5599084 0.08240561\n",
       "5 Starch       0.6232220 0.07819046"
      ]
     },
     "metadata": {},
     "output_type": "display_data"
    }
   ],
   "source": [
    "results %>% group_by( Trait) %>% summarize(mean= mean(Pearson), sd=sd(Pearson))"
   ]
  },
  {
   "cell_type": "code",
   "execution_count": 3,
   "metadata": {},
   "outputs": [
    {
     "name": "stderr",
     "output_type": "stream",
     "text": [
      "\n",
      "Attaching package: ‘reshape2’\n",
      "\n",
      "The following object is masked from ‘package:tidyr’:\n",
      "\n",
      "    smiths\n",
      "\n"
     ]
    },
    {
     "data": {
      "text/html": [
       "<table>\n",
       "<thead><tr><th scope=col>Environment</th><th scope=col>Trait</th><th scope=col>Pearson</th><th scope=col>SE_Pearson</th><th scope=col>MAAPE</th><th scope=col>SE_MAAPE</th></tr></thead>\n",
       "<tbody>\n",
       "\t<tr><td>         </td><td>Cal.g2013</td><td>0.5006   </td><td>0.0438   </td><td>   NaN   </td><td>NA       </td></tr>\n",
       "\t<tr><td>         </td><td>Cal.g2014</td><td>0.5561   </td><td>0.0272   </td><td>0.7301   </td><td>NA       </td></tr>\n",
       "\t<tr><td>         </td><td>Cal.g2017</td><td>0.4839   </td><td>0.0266   </td><td>   NaN   </td><td>NA       </td></tr>\n",
       "</tbody>\n",
       "</table>\n"
      ],
      "text/latex": [
       "\\begin{tabular}{r|llllll}\n",
       " Environment & Trait & Pearson & SE\\_Pearson & MAAPE & SE\\_MAAPE\\\\\n",
       "\\hline\n",
       "\t           & Cal.g2013 & 0.5006    & 0.0438    &    NaN    & NA       \\\\\n",
       "\t           & Cal.g2014 & 0.5561    & 0.0272    & 0.7301    & NA       \\\\\n",
       "\t           & Cal.g2017 & 0.4839    & 0.0266    &    NaN    & NA       \\\\\n",
       "\\end{tabular}\n"
      ],
      "text/markdown": [
       "\n",
       "| Environment | Trait | Pearson | SE_Pearson | MAAPE | SE_MAAPE |\n",
       "|---|---|---|---|---|---|\n",
       "|           | Cal.g2013 | 0.5006    | 0.0438    |    NaN    | NA        |\n",
       "|           | Cal.g2014 | 0.5561    | 0.0272    | 0.7301    | NA        |\n",
       "|           | Cal.g2017 | 0.4839    | 0.0266    |    NaN    | NA        |\n",
       "\n"
      ],
      "text/plain": [
       "  Environment Trait     Pearson SE_Pearson MAAPE  SE_MAAPE\n",
       "1             Cal.g2013 0.5006  0.0438        NaN NA      \n",
       "2             Cal.g2014 0.5561  0.0272     0.7301 NA      \n",
       "3             Cal.g2017 0.4839  0.0266        NaN NA      "
      ]
     },
     "metadata": {},
     "output_type": "display_data"
    },
    {
     "data": {
      "text/html": [
       "<table>\n",
       "<thead><tr><th scope=col>2013</th><th scope=col>2014</th><th scope=col>2017</th><th scope=col>Trait</th></tr></thead>\n",
       "<tbody>\n",
       "\t<tr><td>0.6507623</td><td>0.5924086</td><td>0.5337856</td><td>Cal.g    </td></tr>\n",
       "\t<tr><td>0.4525158</td><td>0.5263039</td><td>0.4660873</td><td>Cal.g    </td></tr>\n",
       "\t<tr><td>0.5367622</td><td>0.6456274</td><td>0.4447512</td><td>Cal.g    </td></tr>\n",
       "\t<tr><td>0.4677026</td><td>0.5046220</td><td>0.5573794</td><td>Cal.g    </td></tr>\n",
       "\t<tr><td>0.3953464</td><td>0.5115729</td><td>0.4173116</td><td>Cal.g    </td></tr>\n",
       "</tbody>\n",
       "</table>\n"
      ],
      "text/latex": [
       "\\begin{tabular}{r|llll}\n",
       " 2013 & 2014 & 2017 & Trait\\\\\n",
       "\\hline\n",
       "\t 0.6507623 & 0.5924086 & 0.5337856 & Cal.g    \\\\\n",
       "\t 0.4525158 & 0.5263039 & 0.4660873 & Cal.g    \\\\\n",
       "\t 0.5367622 & 0.6456274 & 0.4447512 & Cal.g    \\\\\n",
       "\t 0.4677026 & 0.5046220 & 0.5573794 & Cal.g    \\\\\n",
       "\t 0.3953464 & 0.5115729 & 0.4173116 & Cal.g    \\\\\n",
       "\\end{tabular}\n"
      ],
      "text/markdown": [
       "\n",
       "| 2013 | 2014 | 2017 | Trait |\n",
       "|---|---|---|---|\n",
       "| 0.6507623 | 0.5924086 | 0.5337856 | Cal.g     |\n",
       "| 0.4525158 | 0.5263039 | 0.4660873 | Cal.g     |\n",
       "| 0.5367622 | 0.6456274 | 0.4447512 | Cal.g     |\n",
       "| 0.4677026 | 0.5046220 | 0.5573794 | Cal.g     |\n",
       "| 0.3953464 | 0.5115729 | 0.4173116 | Cal.g     |\n",
       "\n"
      ],
      "text/plain": [
       "  2013      2014      2017      Trait\n",
       "1 0.6507623 0.5924086 0.5337856 Cal.g\n",
       "2 0.4525158 0.5263039 0.4660873 Cal.g\n",
       "3 0.5367622 0.6456274 0.4447512 Cal.g\n",
       "4 0.4677026 0.5046220 0.5573794 Cal.g\n",
       "5 0.3953464 0.5115729 0.4173116 Cal.g"
      ]
     },
     "metadata": {},
     "output_type": "display_data"
    },
    {
     "name": "stderr",
     "output_type": "stream",
     "text": [
      "Using Trait as id variables\n"
     ]
    },
    {
     "data": {
      "text/html": [
       "<table>\n",
       "<thead><tr><th scope=col>Trait</th><th scope=col>variable</th><th scope=col>value</th></tr></thead>\n",
       "<tbody>\n",
       "\t<tr><td>Cal.g    </td><td>2013     </td><td>0.6507623</td></tr>\n",
       "\t<tr><td>Cal.g    </td><td>2013     </td><td>0.4525158</td></tr>\n",
       "\t<tr><td>Cal.g    </td><td>2013     </td><td>0.5367622</td></tr>\n",
       "\t<tr><td>Cal.g    </td><td>2013     </td><td>0.4677026</td></tr>\n",
       "\t<tr><td>Cal.g    </td><td>2013     </td><td>0.3953464</td></tr>\n",
       "\t<tr><td>Cal.g    </td><td>2014     </td><td>0.5924086</td></tr>\n",
       "</tbody>\n",
       "</table>\n"
      ],
      "text/latex": [
       "\\begin{tabular}{r|lll}\n",
       " Trait & variable & value\\\\\n",
       "\\hline\n",
       "\t Cal.g     & 2013      & 0.6507623\\\\\n",
       "\t Cal.g     & 2013      & 0.4525158\\\\\n",
       "\t Cal.g     & 2013      & 0.5367622\\\\\n",
       "\t Cal.g     & 2013      & 0.4677026\\\\\n",
       "\t Cal.g     & 2013      & 0.3953464\\\\\n",
       "\t Cal.g     & 2014      & 0.5924086\\\\\n",
       "\\end{tabular}\n"
      ],
      "text/markdown": [
       "\n",
       "| Trait | variable | value |\n",
       "|---|---|---|\n",
       "| Cal.g     | 2013      | 0.6507623 |\n",
       "| Cal.g     | 2013      | 0.4525158 |\n",
       "| Cal.g     | 2013      | 0.5367622 |\n",
       "| Cal.g     | 2013      | 0.4677026 |\n",
       "| Cal.g     | 2013      | 0.3953464 |\n",
       "| Cal.g     | 2014      | 0.5924086 |\n",
       "\n"
      ],
      "text/plain": [
       "  Trait variable value    \n",
       "1 Cal.g 2013     0.6507623\n",
       "2 Cal.g 2013     0.4525158\n",
       "3 Cal.g 2013     0.5367622\n",
       "4 Cal.g 2013     0.4677026\n",
       "5 Cal.g 2013     0.3953464\n",
       "6 Cal.g 2014     0.5924086"
      ]
     },
     "metadata": {},
     "output_type": "display_data"
    },
    {
     "data": {
      "image/png": "[encoded data removed]",
      "text/plain": [
       "plot without title"
      ]
     },
     "metadata": {},
     "output_type": "display_data"
    },
    {
     "data": {
      "image/png": "[encoded data removed]",
      "text/plain": [
       "plot without title"
      ]
     },
     "metadata": {},
     "output_type": "display_data"
    }
   ],
   "source": [
    "###### Retriving predicted and observed to make datafile\n",
    "load('results/BMTME/BME/SAP_BME_CV5_Cal.g.RData')\n",
    "library(reshape2)\n",
    "library(ggplot2)\n",
    "summary(pm)\n",
    "boxplot(pm, ordered=TRUE)\n",
    "#boxplot(plot.y~results$Trait,col='grey',xlab='')\n",
    "results <- pm$results\n",
    "Years <- c('2013','2014','2017')\n",
    "parts <- c('1','2','3','4','5')\n",
    "\n",
    "COR <- c()\n",
    "for (i in 1:length(Years)){\n",
    "    year <- Years[i]\n",
    "    trait <- paste0('Cal.g',year)\n",
    "    df <- results[results$Trait==trait,]\n",
    "    \n",
    "    corr <- c()\n",
    "    for (j in 1: length(parts)){\n",
    "        part <- parts[j]\n",
    "        df2 <- df[df$Partition==part,]\n",
    "        corr <- rbind(corr,cor(df2$Observed,df2$Predicted, use='complete.obs'))      \n",
    "    }\n",
    "    COR[[i]] <- corr\n",
    "}\n",
    "result <- as.data.frame(COR)\n",
    "result$Trait <- 'Cal.g'\n",
    "colnames(result) <- c('2013','2014','2017','Trait')\n",
    "head(result)\n",
    "\n",
    "res.m <- melt(result)\n",
    "head(res.m)\n",
    "\n",
    "ggplot(res.m, aes(x=Trait, y=value, fill=variable)) + geom_violin() + theme_bw()\n"
   ]
  },
  {
   "cell_type": "code",
   "execution_count": 6,
   "metadata": {},
   "outputs": [
    {
     "name": "stdout",
     "output_type": "stream",
     "text": [
      "'data.frame':\t1167 obs. of  12 variables:\n",
      " $ Taxa        : Factor w/ 389 levels \"PI152651\",\"PI17548\",..: 1 1 1 2 2 2 3 3 3 4 ...\n",
      " $ Year        : Factor w/ 3 levels \"2013\",\"2014\",..: 1 2 3 1 2 3 1 2 3 1 ...\n",
      " $ Amylose     : num  -1.306 -0.152 0.699 0.669 0.97 ...\n",
      " $ Gross_Energy: num  -37.7718 -74.20274 0.00338 79.01422 45.82331 ...\n",
      " $ DTA         : num  -1.36 -1 -11.36 -4.9 -4.4 ...\n",
      " $ Fat         : num  -0.0394 -0.2874 0.2973 1.1639 0.5949 ...\n",
      " $ GNP         : num  -21.4 408.4 -397.1 -28.8 78.7 ...\n",
      " $ PH          : num  22.05 31.7 4.52 103.5 85.46 ...\n",
      " $ Protein     : num  -1.211 -2.409 0.939 -0.207 -0.87 ...\n",
      " $ Starch      : num  2.77 5.02 -2.67 -1.92 -1.8 ...\n",
      " $ TGW         : num  1.6 -1.37 9.29 -5.17 -4.46 ...\n",
      " $ YPP         : num  2.19 11.7 -5.39 -4.97 -8.34 ...\n"
     ]
    },
    {
     "name": "stderr",
     "output_type": "stream",
     "text": [
      "Using Taxa as id variables\n"
     ]
    },
    {
     "data": {
      "text/html": [
       "<table>\n",
       "<thead><tr><th scope=col>Taxa</th><th scope=col>variable</th><th scope=col>value</th></tr></thead>\n",
       "<tbody>\n",
       "\t<tr><td>PI152651   </td><td>Amylose2013</td><td>-1.3060412 </td></tr>\n",
       "\t<tr><td>PI17548    </td><td>Amylose2013</td><td> 0.6693859 </td></tr>\n",
       "\t<tr><td>PI24969    </td><td>Amylose2013</td><td>-1.2452588 </td></tr>\n",
       "\t<tr><td>PI329435   </td><td>Amylose2013</td><td>-0.7893910 </td></tr>\n",
       "\t<tr><td>PI329440   </td><td>Amylose2013</td><td> 0.6997771 </td></tr>\n",
       "\t<tr><td>PI34911    </td><td>Amylose2013</td><td>-0.1207849 </td></tr>\n",
       "</tbody>\n",
       "</table>\n"
      ],
      "text/latex": [
       "\\begin{tabular}{r|lll}\n",
       " Taxa & variable & value\\\\\n",
       "\\hline\n",
       "\t PI152651    & Amylose2013 & -1.3060412 \\\\\n",
       "\t PI17548     & Amylose2013 &  0.6693859 \\\\\n",
       "\t PI24969     & Amylose2013 & -1.2452588 \\\\\n",
       "\t PI329435    & Amylose2013 & -0.7893910 \\\\\n",
       "\t PI329440    & Amylose2013 &  0.6997771 \\\\\n",
       "\t PI34911     & Amylose2013 & -0.1207849 \\\\\n",
       "\\end{tabular}\n"
      ],
      "text/markdown": [
       "\n",
       "| Taxa | variable | value |\n",
       "|---|---|---|\n",
       "| PI152651    | Amylose2013 | -1.3060412  |\n",
       "| PI17548     | Amylose2013 |  0.6693859  |\n",
       "| PI24969     | Amylose2013 | -1.2452588  |\n",
       "| PI329435    | Amylose2013 | -0.7893910  |\n",
       "| PI329440    | Amylose2013 |  0.6997771  |\n",
       "| PI34911     | Amylose2013 | -0.1207849  |\n",
       "\n"
      ],
      "text/plain": [
       "  Taxa     variable    value     \n",
       "1 PI152651 Amylose2013 -1.3060412\n",
       "2 PI17548  Amylose2013  0.6693859\n",
       "3 PI24969  Amylose2013 -1.2452588\n",
       "4 PI329435 Amylose2013 -0.7893910\n",
       "5 PI329440 Amylose2013  0.6997771\n",
       "6 PI34911  Amylose2013 -0.1207849"
      ]
     },
     "metadata": {},
     "output_type": "display_data"
    },
    {
     "data": {
      "text/html": [
       "<table>\n",
       "<thead><tr><th></th><th scope=col>PI152651</th><th scope=col>PI17548</th><th scope=col>PI24969</th><th scope=col>PI329435</th><th scope=col>PI329440</th><th scope=col>PI34911</th><th scope=col>PI35038</th><th scope=col>PI48770</th><th scope=col>PI533750</th><th scope=col>PI533752</th><th scope=col>...</th><th scope=col>PI656116</th><th scope=col>PI656117</th><th scope=col>PI656118</th><th scope=col>PI656119</th><th scope=col>PI656120</th><th scope=col>PI656121</th><th scope=col>PI659691</th><th scope=col>PI659695</th><th scope=col>PI659696</th><th scope=col>PI659753</th></tr></thead>\n",
       "<tbody>\n",
       "\t<tr><th scope=row>PI152651</th><td>1.0505116</td><td>0.6732209</td><td>0.7492774</td><td>0.7293042</td><td>0.7481660</td><td>0.8739420</td><td>0.6683061</td><td>0.8287949</td><td>0.7663571</td><td>0.7532355</td><td>...      </td><td>0.7160560</td><td>0.8326498</td><td>0.8069646</td><td>0.7572217</td><td>0.8213431</td><td>0.7503748</td><td>0.8478114</td><td>0.8561871</td><td>0.8728400</td><td>0.8374285</td></tr>\n",
       "\t<tr><th scope=row>PI17548</th><td>0.6732209</td><td>1.0505116</td><td>0.6392398</td><td>0.6503776</td><td>0.6740134</td><td>0.7085854</td><td>0.6606808</td><td>0.7550175</td><td>0.6764380</td><td>0.6553815</td><td>...      </td><td>0.6281722</td><td>0.6981510</td><td>0.6874258</td><td>0.6778636</td><td>0.7015322</td><td>0.6660363</td><td>0.7262466</td><td>0.7214163</td><td>0.7217961</td><td>0.7345942</td></tr>\n",
       "\t<tr><th scope=row>PI24969</th><td>0.7492774</td><td>0.6392398</td><td>1.0305900</td><td>0.6743651</td><td>0.7078914</td><td>0.7612641</td><td>0.6116506</td><td>0.7421398</td><td>0.7446253</td><td>0.6851419</td><td>...      </td><td>0.6535291</td><td>0.7444611</td><td>0.7285680</td><td>0.6966362</td><td>0.7516973</td><td>0.6868818</td><td>0.7676936</td><td>0.8134551</td><td>0.7848389</td><td>0.7949310</td></tr>\n",
       "\t<tr><th scope=row>PI329435</th><td>0.7293042</td><td>0.6503776</td><td>0.6743651</td><td>1.0263177</td><td>0.7020762</td><td>0.7558148</td><td>0.6370638</td><td>0.7650440</td><td>0.6909149</td><td>0.6916324</td><td>...      </td><td>0.6539980</td><td>0.7610953</td><td>0.7402170</td><td>0.6985402</td><td>0.7569403</td><td>0.6911681</td><td>0.7614236</td><td>0.7493009</td><td>0.7734431</td><td>0.7468763</td></tr>\n",
       "\t<tr><th scope=row>PI329440</th><td>0.7481660</td><td>0.6740134</td><td>0.7078914</td><td>0.7020762</td><td>1.0221252</td><td>0.7836993</td><td>0.6621533</td><td>0.8013277</td><td>0.7113429</td><td>0.7007537</td><td>...      </td><td>0.6647373</td><td>0.7494603</td><td>0.7367420</td><td>0.7026249</td><td>0.7644437</td><td>0.6948589</td><td>0.7675154</td><td>0.7692693</td><td>0.7843887</td><td>0.7655739</td></tr>\n",
       "\t<tr><th scope=row>PI34911</th><td>0.8739420</td><td>0.7085854</td><td>0.7612641</td><td>0.7558148</td><td>0.7836993</td><td>1.0307541</td><td>0.6875430</td><td>0.8543206</td><td>0.7748547</td><td>0.8014965</td><td>...      </td><td>0.7494462</td><td>0.8714237</td><td>0.8428826</td><td>0.7778654</td><td>0.8671467</td><td>0.7800883</td><td>0.8655570</td><td>0.8636342</td><td>0.9107651</td><td>0.8525807</td></tr>\n",
       "</tbody>\n",
       "</table>\n"
      ],
      "text/latex": [
       "\\begin{tabular}{r|lllllllllllllllllllllllllllllllllllllllllllllllllllllllllllllllllllllllllllllllllllllllllllllllllllllllllllllllllllllllllllllllllllllllllllllllllllllllllllllllllllllllllllllllllllllllllllllllllllllllllllllllllllllllllllllllllllllllllllllllllllllllllllllllllllllllllllllllllllllllllllllllllllllllllllllllllllllllllllllllllllllllllllllllllllllllllllllllllllllllllllllllllllllllllllllllllllll}\n",
       "  & PI152651 & PI17548 & PI24969 & PI329435 & PI329440 & PI34911 & PI35038 & PI48770 & PI533750 & PI533752 & ... & PI656116 & PI656117 & PI656118 & PI656119 & PI656120 & PI656121 & PI659691 & PI659695 & PI659696 & PI659753\\\\\n",
       "\\hline\n",
       "\tPI152651 & 1.0505116 & 0.6732209 & 0.7492774 & 0.7293042 & 0.7481660 & 0.8739420 & 0.6683061 & 0.8287949 & 0.7663571 & 0.7532355 & ...       & 0.7160560 & 0.8326498 & 0.8069646 & 0.7572217 & 0.8213431 & 0.7503748 & 0.8478114 & 0.8561871 & 0.8728400 & 0.8374285\\\\\n",
       "\tPI17548 & 0.6732209 & 1.0505116 & 0.6392398 & 0.6503776 & 0.6740134 & 0.7085854 & 0.6606808 & 0.7550175 & 0.6764380 & 0.6553815 & ...       & 0.6281722 & 0.6981510 & 0.6874258 & 0.6778636 & 0.7015322 & 0.6660363 & 0.7262466 & 0.7214163 & 0.7217961 & 0.7345942\\\\\n",
       "\tPI24969 & 0.7492774 & 0.6392398 & 1.0305900 & 0.6743651 & 0.7078914 & 0.7612641 & 0.6116506 & 0.7421398 & 0.7446253 & 0.6851419 & ...       & 0.6535291 & 0.7444611 & 0.7285680 & 0.6966362 & 0.7516973 & 0.6868818 & 0.7676936 & 0.8134551 & 0.7848389 & 0.7949310\\\\\n",
       "\tPI329435 & 0.7293042 & 0.6503776 & 0.6743651 & 1.0263177 & 0.7020762 & 0.7558148 & 0.6370638 & 0.7650440 & 0.6909149 & 0.6916324 & ...       & 0.6539980 & 0.7610953 & 0.7402170 & 0.6985402 & 0.7569403 & 0.6911681 & 0.7614236 & 0.7493009 & 0.7734431 & 0.7468763\\\\\n",
       "\tPI329440 & 0.7481660 & 0.6740134 & 0.7078914 & 0.7020762 & 1.0221252 & 0.7836993 & 0.6621533 & 0.8013277 & 0.7113429 & 0.7007537 & ...       & 0.6647373 & 0.7494603 & 0.7367420 & 0.7026249 & 0.7644437 & 0.6948589 & 0.7675154 & 0.7692693 & 0.7843887 & 0.7655739\\\\\n",
       "\tPI34911 & 0.8739420 & 0.7085854 & 0.7612641 & 0.7558148 & 0.7836993 & 1.0307541 & 0.6875430 & 0.8543206 & 0.7748547 & 0.8014965 & ...       & 0.7494462 & 0.8714237 & 0.8428826 & 0.7778654 & 0.8671467 & 0.7800883 & 0.8655570 & 0.8636342 & 0.9107651 & 0.8525807\\\\\n",
       "\\end{tabular}\n"
      ],
      "text/markdown": [
       "\n",
       "| <!--/--> | PI152651 | PI17548 | PI24969 | PI329435 | PI329440 | PI34911 | PI35038 | PI48770 | PI533750 | PI533752 | ... | PI656116 | PI656117 | PI656118 | PI656119 | PI656120 | PI656121 | PI659691 | PI659695 | PI659696 | PI659753 |\n",
       "|---|---|---|---|---|---|---|---|---|---|---|---|---|---|---|---|---|---|---|---|---|---|\n",
       "| PI152651 | 1.0505116 | 0.6732209 | 0.7492774 | 0.7293042 | 0.7481660 | 0.8739420 | 0.6683061 | 0.8287949 | 0.7663571 | 0.7532355 | ...       | 0.7160560 | 0.8326498 | 0.8069646 | 0.7572217 | 0.8213431 | 0.7503748 | 0.8478114 | 0.8561871 | 0.8728400 | 0.8374285 |\n",
       "| PI17548 | 0.6732209 | 1.0505116 | 0.6392398 | 0.6503776 | 0.6740134 | 0.7085854 | 0.6606808 | 0.7550175 | 0.6764380 | 0.6553815 | ...       | 0.6281722 | 0.6981510 | 0.6874258 | 0.6778636 | 0.7015322 | 0.6660363 | 0.7262466 | 0.7214163 | 0.7217961 | 0.7345942 |\n",
       "| PI24969 | 0.7492774 | 0.6392398 | 1.0305900 | 0.6743651 | 0.7078914 | 0.7612641 | 0.6116506 | 0.7421398 | 0.7446253 | 0.6851419 | ...       | 0.6535291 | 0.7444611 | 0.7285680 | 0.6966362 | 0.7516973 | 0.6868818 | 0.7676936 | 0.8134551 | 0.7848389 | 0.7949310 |\n",
       "| PI329435 | 0.7293042 | 0.6503776 | 0.6743651 | 1.0263177 | 0.7020762 | 0.7558148 | 0.6370638 | 0.7650440 | 0.6909149 | 0.6916324 | ...       | 0.6539980 | 0.7610953 | 0.7402170 | 0.6985402 | 0.7569403 | 0.6911681 | 0.7614236 | 0.7493009 | 0.7734431 | 0.7468763 |\n",
       "| PI329440 | 0.7481660 | 0.6740134 | 0.7078914 | 0.7020762 | 1.0221252 | 0.7836993 | 0.6621533 | 0.8013277 | 0.7113429 | 0.7007537 | ...       | 0.6647373 | 0.7494603 | 0.7367420 | 0.7026249 | 0.7644437 | 0.6948589 | 0.7675154 | 0.7692693 | 0.7843887 | 0.7655739 |\n",
       "| PI34911 | 0.8739420 | 0.7085854 | 0.7612641 | 0.7558148 | 0.7836993 | 1.0307541 | 0.6875430 | 0.8543206 | 0.7748547 | 0.8014965 | ...       | 0.7494462 | 0.8714237 | 0.8428826 | 0.7778654 | 0.8671467 | 0.7800883 | 0.8655570 | 0.8636342 | 0.9107651 | 0.8525807 |\n",
       "\n"
      ],
      "text/plain": [
       "         PI152651  PI17548   PI24969   PI329435  PI329440  PI34911   PI35038  \n",
       "PI152651 1.0505116 0.6732209 0.7492774 0.7293042 0.7481660 0.8739420 0.6683061\n",
       "PI17548  0.6732209 1.0505116 0.6392398 0.6503776 0.6740134 0.7085854 0.6606808\n",
       "PI24969  0.7492774 0.6392398 1.0305900 0.6743651 0.7078914 0.7612641 0.6116506\n",
       "PI329435 0.7293042 0.6503776 0.6743651 1.0263177 0.7020762 0.7558148 0.6370638\n",
       "PI329440 0.7481660 0.6740134 0.7078914 0.7020762 1.0221252 0.7836993 0.6621533\n",
       "PI34911  0.8739420 0.7085854 0.7612641 0.7558148 0.7836993 1.0307541 0.6875430\n",
       "         PI48770   PI533750  PI533752  ... PI656116  PI656117  PI656118 \n",
       "PI152651 0.8287949 0.7663571 0.7532355 ... 0.7160560 0.8326498 0.8069646\n",
       "PI17548  0.7550175 0.6764380 0.6553815 ... 0.6281722 0.6981510 0.6874258\n",
       "PI24969  0.7421398 0.7446253 0.6851419 ... 0.6535291 0.7444611 0.7285680\n",
       "PI329435 0.7650440 0.6909149 0.6916324 ... 0.6539980 0.7610953 0.7402170\n",
       "PI329440 0.8013277 0.7113429 0.7007537 ... 0.6647373 0.7494603 0.7367420\n",
       "PI34911  0.8543206 0.7748547 0.8014965 ... 0.7494462 0.8714237 0.8428826\n",
       "         PI656119  PI656120  PI656121  PI659691  PI659695  PI659696  PI659753 \n",
       "PI152651 0.7572217 0.8213431 0.7503748 0.8478114 0.8561871 0.8728400 0.8374285\n",
       "PI17548  0.6778636 0.7015322 0.6660363 0.7262466 0.7214163 0.7217961 0.7345942\n",
       "PI24969  0.6966362 0.7516973 0.6868818 0.7676936 0.8134551 0.7848389 0.7949310\n",
       "PI329435 0.6985402 0.7569403 0.6911681 0.7614236 0.7493009 0.7734431 0.7468763\n",
       "PI329440 0.7026249 0.7644437 0.6948589 0.7675154 0.7692693 0.7843887 0.7655739\n",
       "PI34911  0.7778654 0.8671467 0.7800883 0.8655570 0.8636342 0.9107651 0.8525807"
      ]
     },
     "metadata": {},
     "output_type": "display_data"
    }
   ],
   "source": [
    "load('data/SAP_BMTME.RData')\n",
    "str(phenoBMTME)\n",
    "pheno <- melt(phenoBME)\n",
    "head(pheno)\n",
    "head(geno)"
   ]
  },
  {
   "cell_type": "code",
   "execution_count": 91,
   "metadata": {},
   "outputs": [
    {
     "data": {
      "text/html": [
       "<table>\n",
       "<thead><tr><th scope=col>Taxa</th><th scope=col>Trait</th><th scope=col>Year</th><th scope=col>value</th></tr></thead>\n",
       "<tbody>\n",
       "\t<tr><td>PI152651  </td><td>Amylose   </td><td>2013      </td><td>-1.3060412</td></tr>\n",
       "\t<tr><td>PI17548   </td><td>Amylose   </td><td>2013      </td><td> 0.6693859</td></tr>\n",
       "\t<tr><td>PI24969   </td><td>Amylose   </td><td>2013      </td><td>-1.2452588</td></tr>\n",
       "\t<tr><td>PI329435  </td><td>Amylose   </td><td>2013      </td><td>-0.7893910</td></tr>\n",
       "\t<tr><td>PI329440  </td><td>Amylose   </td><td>2013      </td><td> 0.6997771</td></tr>\n",
       "\t<tr><td>PI34911   </td><td>Amylose   </td><td>2013      </td><td>-0.1207849</td></tr>\n",
       "</tbody>\n",
       "</table>\n"
      ],
      "text/latex": [
       "\\begin{tabular}{r|llll}\n",
       " Taxa & Trait & Year & value\\\\\n",
       "\\hline\n",
       "\t PI152651   & Amylose    & 2013       & -1.3060412\\\\\n",
       "\t PI17548    & Amylose    & 2013       &  0.6693859\\\\\n",
       "\t PI24969    & Amylose    & 2013       & -1.2452588\\\\\n",
       "\t PI329435   & Amylose    & 2013       & -0.7893910\\\\\n",
       "\t PI329440   & Amylose    & 2013       &  0.6997771\\\\\n",
       "\t PI34911    & Amylose    & 2013       & -0.1207849\\\\\n",
       "\\end{tabular}\n"
      ],
      "text/markdown": [
       "\n",
       "| Taxa | Trait | Year | value |\n",
       "|---|---|---|---|\n",
       "| PI152651   | Amylose    | 2013       | -1.3060412 |\n",
       "| PI17548    | Amylose    | 2013       |  0.6693859 |\n",
       "| PI24969    | Amylose    | 2013       | -1.2452588 |\n",
       "| PI329435   | Amylose    | 2013       | -0.7893910 |\n",
       "| PI329440   | Amylose    | 2013       |  0.6997771 |\n",
       "| PI34911    | Amylose    | 2013       | -0.1207849 |\n",
       "\n"
      ],
      "text/plain": [
       "  Taxa     Trait   Year value     \n",
       "1 PI152651 Amylose 2013 -1.3060412\n",
       "2 PI17548  Amylose 2013  0.6693859\n",
       "3 PI24969  Amylose 2013 -1.2452588\n",
       "4 PI329435 Amylose 2013 -0.7893910\n",
       "5 PI329440 Amylose 2013  0.6997771\n",
       "6 PI34911  Amylose 2013 -0.1207849"
      ]
     },
     "metadata": {},
     "output_type": "display_data"
    },
    {
     "name": "stdout",
     "output_type": "stream",
     "text": [
      "'data.frame':\t11670 obs. of  4 variables:\n",
      " $ Taxa : Factor w/ 389 levels \"PI152651\",\"PI17548\",..: 1 2 3 4 5 6 7 8 9 10 ...\n",
      " $ Trait: Factor w/ 10 levels \"Amylose\",\"Cal.g\",..: 1 1 1 1 1 1 1 1 1 1 ...\n",
      " $ Year : Factor w/ 3 levels \"2013\",\"2014\",..: 1 1 1 1 1 1 1 1 1 1 ...\n",
      " $ value: num  -1.306 0.669 -1.245 -0.789 0.7 ...\n"
     ]
    }
   ],
   "source": [
    "library(base)\n",
    "library(stringr)\n",
    "df <- cbind(pheno[,c(1,2)],str_split_fixed(pheno$variable, \"20\", 2), pheno[,3])\n",
    "year <- paste0(\"20\",df[,4])\n",
    "df <- cbind(df[,c(1,3)],year,df[,5])\n",
    "colnames(df) <- c('Taxa','Trait','Year','value')\n",
    "head(df)\n",
    "str(df)"
   ]
  },
  {
   "cell_type": "code",
   "execution_count": 106,
   "metadata": {},
   "outputs": [
    {
     "data": {
      "text/html": [
       "<table>\n",
       "<thead><tr><th scope=col>Taxa</th><th scope=col>Year</th><th scope=col>Amylose</th><th scope=col>Cal.g</th><th scope=col>DTA</th><th scope=col>Fat</th><th scope=col>GNP</th><th scope=col>PH</th><th scope=col>Protein</th><th scope=col>Starch</th><th scope=col>TGW</th><th scope=col>YPP</th></tr></thead>\n",
       "<tbody>\n",
       "\t<tr><td>PI152651     </td><td>2013         </td><td>-1.3060412   </td><td>-37.771799414</td><td> -1.360837   </td><td>-0.03942292  </td><td> -21.39074   </td><td> 22.051768   </td><td>-1.2111684   </td><td> 2.766715    </td><td> 1.599295    </td><td> 2.188733    </td></tr>\n",
       "\t<tr><td>PI152651     </td><td>2014         </td><td>-0.1518703   </td><td>-74.202741707</td><td> -1.004093   </td><td>-0.28741472  </td><td> 408.37601   </td><td> 31.698224   </td><td>-2.4092873   </td><td> 5.018051    </td><td>-1.372426    </td><td>11.696527    </td></tr>\n",
       "\t<tr><td>PI152651     </td><td>2017         </td><td> 0.6994863   </td><td>  0.003383857</td><td>-11.358563   </td><td> 0.29731826  </td><td>-397.10499   </td><td>  4.516994   </td><td> 0.9393867   </td><td>-2.674919    </td><td> 9.286168    </td><td>-5.385405    </td></tr>\n",
       "\t<tr><td>PI17548      </td><td>2013         </td><td> 0.6693859   </td><td> 79.014215976</td><td> -4.900773   </td><td> 1.16385960  </td><td> -28.80067   </td><td>103.499037   </td><td>-0.2071979   </td><td>-1.923487    </td><td>-5.169072    </td><td>-4.974788    </td></tr>\n",
       "\t<tr><td>PI17548      </td><td>2014         </td><td> 0.9697520   </td><td> 45.823305424</td><td> -4.397471   </td><td> 0.59492514  </td><td>  78.71922   </td><td> 85.458193   </td><td>-0.8695028   </td><td>-1.801738    </td><td>-4.464337    </td><td>-8.338880    </td></tr>\n",
       "\t<tr><td>PI17548      </td><td>2017         </td><td> 1.1821377   </td><td> 72.282107274</td><td> -5.044971   </td><td> 0.28326927  </td><td> -93.50104   </td><td> 73.257725   </td><td> 0.2556282   </td><td>-2.883531    </td><td>-4.628591    </td><td>-4.947095    </td></tr>\n",
       "</tbody>\n",
       "</table>\n"
      ],
      "text/latex": [
       "\\begin{tabular}{r|llllllllllll}\n",
       " Taxa & Year & Amylose & Cal.g & DTA & Fat & GNP & PH & Protein & Starch & TGW & YPP\\\\\n",
       "\\hline\n",
       "\t PI152651      & 2013          & -1.3060412    & -37.771799414 &  -1.360837    & -0.03942292   &  -21.39074    &  22.051768    & -1.2111684    &  2.766715     &  1.599295     &  2.188733    \\\\\n",
       "\t PI152651      & 2014          & -0.1518703    & -74.202741707 &  -1.004093    & -0.28741472   &  408.37601    &  31.698224    & -2.4092873    &  5.018051     & -1.372426     & 11.696527    \\\\\n",
       "\t PI152651      & 2017          &  0.6994863    &   0.003383857 & -11.358563    &  0.29731826   & -397.10499    &   4.516994    &  0.9393867    & -2.674919     &  9.286168     & -5.385405    \\\\\n",
       "\t PI17548       & 2013          &  0.6693859    &  79.014215976 &  -4.900773    &  1.16385960   &  -28.80067    & 103.499037    & -0.2071979    & -1.923487     & -5.169072     & -4.974788    \\\\\n",
       "\t PI17548       & 2014          &  0.9697520    &  45.823305424 &  -4.397471    &  0.59492514   &   78.71922    &  85.458193    & -0.8695028    & -1.801738     & -4.464337     & -8.338880    \\\\\n",
       "\t PI17548       & 2017          &  1.1821377    &  72.282107274 &  -5.044971    &  0.28326927   &  -93.50104    &  73.257725    &  0.2556282    & -2.883531     & -4.628591     & -4.947095    \\\\\n",
       "\\end{tabular}\n"
      ],
      "text/markdown": [
       "\n",
       "| Taxa | Year | Amylose | Cal.g | DTA | Fat | GNP | PH | Protein | Starch | TGW | YPP |\n",
       "|---|---|---|---|---|---|---|---|---|---|---|---|\n",
       "| PI152651      | 2013          | -1.3060412    | -37.771799414 |  -1.360837    | -0.03942292   |  -21.39074    |  22.051768    | -1.2111684    |  2.766715     |  1.599295     |  2.188733     |\n",
       "| PI152651      | 2014          | -0.1518703    | -74.202741707 |  -1.004093    | -0.28741472   |  408.37601    |  31.698224    | -2.4092873    |  5.018051     | -1.372426     | 11.696527     |\n",
       "| PI152651      | 2017          |  0.6994863    |   0.003383857 | -11.358563    |  0.29731826   | -397.10499    |   4.516994    |  0.9393867    | -2.674919     |  9.286168     | -5.385405     |\n",
       "| PI17548       | 2013          |  0.6693859    |  79.014215976 |  -4.900773    |  1.16385960   |  -28.80067    | 103.499037    | -0.2071979    | -1.923487     | -5.169072     | -4.974788     |\n",
       "| PI17548       | 2014          |  0.9697520    |  45.823305424 |  -4.397471    |  0.59492514   |   78.71922    |  85.458193    | -0.8695028    | -1.801738     | -4.464337     | -8.338880     |\n",
       "| PI17548       | 2017          |  1.1821377    |  72.282107274 |  -5.044971    |  0.28326927   |  -93.50104    |  73.257725    |  0.2556282    | -2.883531     | -4.628591     | -4.947095     |\n",
       "\n"
      ],
      "text/plain": [
       "  Taxa     Year Amylose    Cal.g         DTA        Fat         GNP       \n",
       "1 PI152651 2013 -1.3060412 -37.771799414  -1.360837 -0.03942292  -21.39074\n",
       "2 PI152651 2014 -0.1518703 -74.202741707  -1.004093 -0.28741472  408.37601\n",
       "3 PI152651 2017  0.6994863   0.003383857 -11.358563  0.29731826 -397.10499\n",
       "4 PI17548  2013  0.6693859  79.014215976  -4.900773  1.16385960  -28.80067\n",
       "5 PI17548  2014  0.9697520  45.823305424  -4.397471  0.59492514   78.71922\n",
       "6 PI17548  2017  1.1821377  72.282107274  -5.044971  0.28326927  -93.50104\n",
       "  PH         Protein    Starch    TGW       YPP      \n",
       "1  22.051768 -1.2111684  2.766715  1.599295  2.188733\n",
       "2  31.698224 -2.4092873  5.018051 -1.372426 11.696527\n",
       "3   4.516994  0.9393867 -2.674919  9.286168 -5.385405\n",
       "4 103.499037 -0.2071979 -1.923487 -5.169072 -4.974788\n",
       "5  85.458193 -0.8695028 -1.801738 -4.464337 -8.338880\n",
       "6  73.257725  0.2556282 -2.883531 -4.628591 -4.947095"
      ]
     },
     "metadata": {},
     "output_type": "display_data"
    },
    {
     "name": "stdout",
     "output_type": "stream",
     "text": [
      "'data.frame':\t1167 obs. of  12 variables:\n",
      " $ Taxa   : Factor w/ 389 levels \"PI152651\",\"PI17548\",..: 1 1 1 2 2 2 3 3 3 4 ...\n",
      " $ Year   : Factor w/ 3 levels \"2013\",\"2014\",..: 1 2 3 1 2 3 1 2 3 1 ...\n",
      " $ Amylose: num  -1.306 -0.152 0.699 0.669 0.97 ...\n",
      " $ Cal.g  : num  -37.7718 -74.20274 0.00338 79.01422 45.82331 ...\n",
      " $ DTA    : num  -1.36 -1 -11.36 -4.9 -4.4 ...\n",
      " $ Fat    : num  -0.0394 -0.2874 0.2973 1.1639 0.5949 ...\n",
      " $ GNP    : num  -21.4 408.4 -397.1 -28.8 78.7 ...\n",
      " $ PH     : num  22.05 31.7 4.52 103.5 85.46 ...\n",
      " $ Protein: num  -1.211 -2.409 0.939 -0.207 -0.87 ...\n",
      " $ Starch : num  2.77 5.02 -2.67 -1.92 -1.8 ...\n",
      " $ TGW    : num  1.6 -1.37 9.29 -5.17 -4.46 ...\n",
      " $ YPP    : num  2.19 11.7 -5.39 -4.97 -8.34 ...\n"
     ]
    },
    {
     "data": {
      "text/html": [
       "<table>\n",
       "<thead><tr><th scope=col>Taxa</th><th scope=col>Year</th><th scope=col>Amylose</th><th scope=col>Gross_Energy</th><th scope=col>DTA</th><th scope=col>Fat</th><th scope=col>GNP</th><th scope=col>PH</th><th scope=col>Protein</th><th scope=col>Starch</th><th scope=col>TGW</th><th scope=col>YPP</th></tr></thead>\n",
       "<tbody>\n",
       "\t<tr><td>PI152651     </td><td>2013         </td><td>-1.3060412   </td><td>-37.771799414</td><td> -1.360837   </td><td>-0.03942292  </td><td> -21.39074   </td><td> 22.051768   </td><td>-1.2111684   </td><td> 2.766715    </td><td> 1.599295    </td><td> 2.188733    </td></tr>\n",
       "\t<tr><td>PI152651     </td><td>2014         </td><td>-0.1518703   </td><td>-74.202741707</td><td> -1.004093   </td><td>-0.28741472  </td><td> 408.37601   </td><td> 31.698224   </td><td>-2.4092873   </td><td> 5.018051    </td><td>-1.372426    </td><td>11.696527    </td></tr>\n",
       "\t<tr><td>PI152651     </td><td>2017         </td><td> 0.6994863   </td><td>  0.003383857</td><td>-11.358563   </td><td> 0.29731826  </td><td>-397.10499   </td><td>  4.516994   </td><td> 0.9393867   </td><td>-2.674919    </td><td> 9.286168    </td><td>-5.385405    </td></tr>\n",
       "\t<tr><td>PI17548      </td><td>2013         </td><td> 0.6693859   </td><td> 79.014215976</td><td> -4.900773   </td><td> 1.16385960  </td><td> -28.80067   </td><td>103.499037   </td><td>-0.2071979   </td><td>-1.923487    </td><td>-5.169072    </td><td>-4.974788    </td></tr>\n",
       "\t<tr><td>PI17548      </td><td>2014         </td><td> 0.9697520   </td><td> 45.823305424</td><td> -4.397471   </td><td> 0.59492514  </td><td>  78.71922   </td><td> 85.458193   </td><td>-0.8695028   </td><td>-1.801738    </td><td>-4.464337    </td><td>-8.338880    </td></tr>\n",
       "\t<tr><td>PI17548      </td><td>2017         </td><td> 1.1821377   </td><td> 72.282107274</td><td> -5.044971   </td><td> 0.28326927  </td><td> -93.50104   </td><td> 73.257725   </td><td> 0.2556282   </td><td>-2.883531    </td><td>-4.628591    </td><td>-4.947095    </td></tr>\n",
       "</tbody>\n",
       "</table>\n"
      ],
      "text/latex": [
       "\\begin{tabular}{r|llllllllllll}\n",
       " Taxa & Year & Amylose & Gross\\_Energy & DTA & Fat & GNP & PH & Protein & Starch & TGW & YPP\\\\\n",
       "\\hline\n",
       "\t PI152651      & 2013          & -1.3060412    & -37.771799414 &  -1.360837    & -0.03942292   &  -21.39074    &  22.051768    & -1.2111684    &  2.766715     &  1.599295     &  2.188733    \\\\\n",
       "\t PI152651      & 2014          & -0.1518703    & -74.202741707 &  -1.004093    & -0.28741472   &  408.37601    &  31.698224    & -2.4092873    &  5.018051     & -1.372426     & 11.696527    \\\\\n",
       "\t PI152651      & 2017          &  0.6994863    &   0.003383857 & -11.358563    &  0.29731826   & -397.10499    &   4.516994    &  0.9393867    & -2.674919     &  9.286168     & -5.385405    \\\\\n",
       "\t PI17548       & 2013          &  0.6693859    &  79.014215976 &  -4.900773    &  1.16385960   &  -28.80067    & 103.499037    & -0.2071979    & -1.923487     & -5.169072     & -4.974788    \\\\\n",
       "\t PI17548       & 2014          &  0.9697520    &  45.823305424 &  -4.397471    &  0.59492514   &   78.71922    &  85.458193    & -0.8695028    & -1.801738     & -4.464337     & -8.338880    \\\\\n",
       "\t PI17548       & 2017          &  1.1821377    &  72.282107274 &  -5.044971    &  0.28326927   &  -93.50104    &  73.257725    &  0.2556282    & -2.883531     & -4.628591     & -4.947095    \\\\\n",
       "\\end{tabular}\n"
      ],
      "text/markdown": [
       "\n",
       "| Taxa | Year | Amylose | Gross_Energy | DTA | Fat | GNP | PH | Protein | Starch | TGW | YPP |\n",
       "|---|---|---|---|---|---|---|---|---|---|---|---|\n",
       "| PI152651      | 2013          | -1.3060412    | -37.771799414 |  -1.360837    | -0.03942292   |  -21.39074    |  22.051768    | -1.2111684    |  2.766715     |  1.599295     |  2.188733     |\n",
       "| PI152651      | 2014          | -0.1518703    | -74.202741707 |  -1.004093    | -0.28741472   |  408.37601    |  31.698224    | -2.4092873    |  5.018051     | -1.372426     | 11.696527     |\n",
       "| PI152651      | 2017          |  0.6994863    |   0.003383857 | -11.358563    |  0.29731826   | -397.10499    |   4.516994    |  0.9393867    | -2.674919     |  9.286168     | -5.385405     |\n",
       "| PI17548       | 2013          |  0.6693859    |  79.014215976 |  -4.900773    |  1.16385960   |  -28.80067    | 103.499037    | -0.2071979    | -1.923487     | -5.169072     | -4.974788     |\n",
       "| PI17548       | 2014          |  0.9697520    |  45.823305424 |  -4.397471    |  0.59492514   |   78.71922    |  85.458193    | -0.8695028    | -1.801738     | -4.464337     | -8.338880     |\n",
       "| PI17548       | 2017          |  1.1821377    |  72.282107274 |  -5.044971    |  0.28326927   |  -93.50104    |  73.257725    |  0.2556282    | -2.883531     | -4.628591     | -4.947095     |\n",
       "\n"
      ],
      "text/plain": [
       "  Taxa     Year Amylose    Gross_Energy  DTA        Fat         GNP       \n",
       "1 PI152651 2013 -1.3060412 -37.771799414  -1.360837 -0.03942292  -21.39074\n",
       "2 PI152651 2014 -0.1518703 -74.202741707  -1.004093 -0.28741472  408.37601\n",
       "3 PI152651 2017  0.6994863   0.003383857 -11.358563  0.29731826 -397.10499\n",
       "4 PI17548  2013  0.6693859  79.014215976  -4.900773  1.16385960  -28.80067\n",
       "5 PI17548  2014  0.9697520  45.823305424  -4.397471  0.59492514   78.71922\n",
       "6 PI17548  2017  1.1821377  72.282107274  -5.044971  0.28326927  -93.50104\n",
       "  PH         Protein    Starch    TGW       YPP      \n",
       "1  22.051768 -1.2111684  2.766715  1.599295  2.188733\n",
       "2  31.698224 -2.4092873  5.018051 -1.372426 11.696527\n",
       "3   4.516994  0.9393867 -2.674919  9.286168 -5.385405\n",
       "4 103.499037 -0.2071979 -1.923487 -5.169072 -4.974788\n",
       "5  85.458193 -0.8695028 -1.801738 -4.464337 -8.338880\n",
       "6  73.257725  0.2556282 -2.883531 -4.628591 -4.947095"
      ]
     },
     "metadata": {},
     "output_type": "display_data"
    }
   ],
   "source": [
    "#phenoBMTME <- df %>% spread(Trait, value)\n",
    "head(phenoBMTME)\n",
    "str(phenoBMTME)\n",
    "geno <- genoBME\n",
    "names(phenoBMTME)[names(phenoBMTME) == \"Cal.g\"] <- \"Gross_Energy\"\n",
    "head(phenoBMTME)"
   ]
  },
  {
   "cell_type": "code",
   "execution_count": 107,
   "metadata": {},
   "outputs": [],
   "source": [
    "save(phenoBME,phenoBMTME,geno,file='data/SAP_BMTME.RData')"
   ]
  },
  {
   "cell_type": "code",
   "execution_count": null,
   "metadata": {},
   "outputs": [],
   "source": []
  }
 ],
 "metadata": {
  "kernelspec": {
   "display_name": "R 3.6.0",
   "language": "R",
   "name": "ir360"
  },
  "language_info": {
   "codemirror_mode": "r",
   "file_extension": ".r",
   "mimetype": "text/x-r-source",
   "name": "R",
   "pygments_lexer": "r",
   "version": "3.6.0"
  }
 },
 "nbformat": 4,
 "nbformat_minor": 2
}
