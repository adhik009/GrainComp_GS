{
 "cells": [
  {
   "cell_type": "code",
   "execution_count": 41,
   "metadata": {},
   "outputs": [],
   "source": [
    ".libPaths(c('/home/ssapkot/.conda/envs/r_env_360/lib', .libPaths()))\n",
    "\n",
    "library(tidyverse)\n",
    "library(ggplot2)\n",
    "library(BMTME)\n",
    "setwd('/panicle/ssapkot/git_repo/GrainComp_GS/')"
   ]
  },
  {
   "cell_type": "markdown",
   "metadata": {},
   "source": [
    "## Means of each values\n",
    "### GSDP\n"
   ]
  },
  {
   "cell_type": "code",
   "execution_count": 3,
   "metadata": {},
   "outputs": [
    {
     "name": "stdout",
     "output_type": "stream",
     "text": [
      "[1] \"-------------STSE-------------\"\n"
     ]
    },
    {
     "data": {
      "text/html": [
       "<table>\n",
       "<thead><tr><th scope=col>Method</th><th scope=col>Trt_Env</th><th scope=col>Trait</th><th scope=col>Env</th><th scope=col>iter</th><th scope=col>r</th></tr></thead>\n",
       "<tbody>\n",
       "\t<tr><td>STSE       </td><td>Amylose2013</td><td>Amylose    </td><td>2013       </td><td>123        </td><td>0.1500014  </td></tr>\n",
       "\t<tr><td>STSE       </td><td>Amylose2013</td><td>Amylose    </td><td>2013       </td><td>123        </td><td>0.1350531  </td></tr>\n",
       "\t<tr><td>STSE       </td><td>Amylose2013</td><td>Amylose    </td><td>2013       </td><td>123        </td><td>0.3217240  </td></tr>\n",
       "\t<tr><td>STSE       </td><td>Amylose2013</td><td>Amylose    </td><td>2013       </td><td>123        </td><td>0.3254827  </td></tr>\n",
       "\t<tr><td>STSE       </td><td>Amylose2013</td><td>Amylose    </td><td>2013       </td><td>123        </td><td>0.1773646  </td></tr>\n",
       "\t<tr><td>STSE       </td><td>Amylose2013</td><td>Amylose    </td><td>2013       </td><td>124        </td><td>0.2266738  </td></tr>\n",
       "</tbody>\n",
       "</table>\n"
      ],
      "text/latex": [
       "\\begin{tabular}{r|llllll}\n",
       " Method & Trt\\_Env & Trait & Env & iter & r\\\\\n",
       "\\hline\n",
       "\t STSE        & Amylose2013 & Amylose     & 2013        & 123         & 0.1500014  \\\\\n",
       "\t STSE        & Amylose2013 & Amylose     & 2013        & 123         & 0.1350531  \\\\\n",
       "\t STSE        & Amylose2013 & Amylose     & 2013        & 123         & 0.3217240  \\\\\n",
       "\t STSE        & Amylose2013 & Amylose     & 2013        & 123         & 0.3254827  \\\\\n",
       "\t STSE        & Amylose2013 & Amylose     & 2013        & 123         & 0.1773646  \\\\\n",
       "\t STSE        & Amylose2013 & Amylose     & 2013        & 124         & 0.2266738  \\\\\n",
       "\\end{tabular}\n"
      ],
      "text/markdown": [
       "\n",
       "| Method | Trt_Env | Trait | Env | iter | r |\n",
       "|---|---|---|---|---|---|\n",
       "| STSE        | Amylose2013 | Amylose     | 2013        | 123         | 0.1500014   |\n",
       "| STSE        | Amylose2013 | Amylose     | 2013        | 123         | 0.1350531   |\n",
       "| STSE        | Amylose2013 | Amylose     | 2013        | 123         | 0.3217240   |\n",
       "| STSE        | Amylose2013 | Amylose     | 2013        | 123         | 0.3254827   |\n",
       "| STSE        | Amylose2013 | Amylose     | 2013        | 123         | 0.1773646   |\n",
       "| STSE        | Amylose2013 | Amylose     | 2013        | 124         | 0.2266738   |\n",
       "\n"
      ],
      "text/plain": [
       "  Method Trt_Env     Trait   Env  iter r        \n",
       "1 STSE   Amylose2013 Amylose 2013 123  0.1500014\n",
       "2 STSE   Amylose2013 Amylose 2013 123  0.1350531\n",
       "3 STSE   Amylose2013 Amylose 2013 123  0.3217240\n",
       "4 STSE   Amylose2013 Amylose 2013 123  0.3254827\n",
       "5 STSE   Amylose2013 Amylose 2013 123  0.1773646\n",
       "6 STSE   Amylose2013 Amylose 2013 124  0.2266738"
      ]
     },
     "metadata": {},
     "output_type": "display_data"
    },
    {
     "data": {
      "text/html": [
       "<table>\n",
       "<thead><tr><th scope=col>Method</th><th scope=col>Trt_Env</th><th scope=col>Trait</th><th scope=col>Env</th><th scope=col>iter</th><th scope=col>r</th><th scope=col>method</th><th scope=col>pop</th></tr></thead>\n",
       "<tbody>\n",
       "\t<tr><td>STSE       </td><td>Amylose2013</td><td>Amylose    </td><td>2013       </td><td>123        </td><td>0.1500014  </td><td>STSE       </td><td>GSDP       </td></tr>\n",
       "\t<tr><td>STSE       </td><td>Amylose2013</td><td>Amylose    </td><td>2013       </td><td>123        </td><td>0.1350531  </td><td>STSE       </td><td>GSDP       </td></tr>\n",
       "\t<tr><td>STSE       </td><td>Amylose2013</td><td>Amylose    </td><td>2013       </td><td>123        </td><td>0.3217240  </td><td>STSE       </td><td>GSDP       </td></tr>\n",
       "\t<tr><td>STSE       </td><td>Amylose2013</td><td>Amylose    </td><td>2013       </td><td>123        </td><td>0.3254827  </td><td>STSE       </td><td>GSDP       </td></tr>\n",
       "\t<tr><td>STSE       </td><td>Amylose2013</td><td>Amylose    </td><td>2013       </td><td>123        </td><td>0.1773646  </td><td>STSE       </td><td>GSDP       </td></tr>\n",
       "\t<tr><td>STSE       </td><td>Amylose2013</td><td>Amylose    </td><td>2013       </td><td>124        </td><td>0.2266738  </td><td>STSE       </td><td>GSDP       </td></tr>\n",
       "</tbody>\n",
       "</table>\n"
      ],
      "text/latex": [
       "\\begin{tabular}{r|llllllll}\n",
       " Method & Trt\\_Env & Trait & Env & iter & r & method & pop\\\\\n",
       "\\hline\n",
       "\t STSE        & Amylose2013 & Amylose     & 2013        & 123         & 0.1500014   & STSE        & GSDP       \\\\\n",
       "\t STSE        & Amylose2013 & Amylose     & 2013        & 123         & 0.1350531   & STSE        & GSDP       \\\\\n",
       "\t STSE        & Amylose2013 & Amylose     & 2013        & 123         & 0.3217240   & STSE        & GSDP       \\\\\n",
       "\t STSE        & Amylose2013 & Amylose     & 2013        & 123         & 0.3254827   & STSE        & GSDP       \\\\\n",
       "\t STSE        & Amylose2013 & Amylose     & 2013        & 123         & 0.1773646   & STSE        & GSDP       \\\\\n",
       "\t STSE        & Amylose2013 & Amylose     & 2013        & 124         & 0.2266738   & STSE        & GSDP       \\\\\n",
       "\\end{tabular}\n"
      ],
      "text/markdown": [
       "\n",
       "| Method | Trt_Env | Trait | Env | iter | r | method | pop |\n",
       "|---|---|---|---|---|---|---|---|\n",
       "| STSE        | Amylose2013 | Amylose     | 2013        | 123         | 0.1500014   | STSE        | GSDP        |\n",
       "| STSE        | Amylose2013 | Amylose     | 2013        | 123         | 0.1350531   | STSE        | GSDP        |\n",
       "| STSE        | Amylose2013 | Amylose     | 2013        | 123         | 0.3217240   | STSE        | GSDP        |\n",
       "| STSE        | Amylose2013 | Amylose     | 2013        | 123         | 0.3254827   | STSE        | GSDP        |\n",
       "| STSE        | Amylose2013 | Amylose     | 2013        | 123         | 0.1773646   | STSE        | GSDP        |\n",
       "| STSE        | Amylose2013 | Amylose     | 2013        | 124         | 0.2266738   | STSE        | GSDP        |\n",
       "\n"
      ],
      "text/plain": [
       "  Method Trt_Env     Trait   Env  iter r         method pop \n",
       "1 STSE   Amylose2013 Amylose 2013 123  0.1500014 STSE   GSDP\n",
       "2 STSE   Amylose2013 Amylose 2013 123  0.1350531 STSE   GSDP\n",
       "3 STSE   Amylose2013 Amylose 2013 123  0.3217240 STSE   GSDP\n",
       "4 STSE   Amylose2013 Amylose 2013 123  0.3254827 STSE   GSDP\n",
       "5 STSE   Amylose2013 Amylose 2013 123  0.1773646 STSE   GSDP\n",
       "6 STSE   Amylose2013 Amylose 2013 124  0.2266738 STSE   GSDP"
      ]
     },
     "metadata": {},
     "output_type": "display_data"
    },
    {
     "data": {
      "text/html": [
       "<table>\n",
       "<thead><tr><th></th><th scope=col>Trt_Env</th><th scope=col>Trait</th><th scope=col>Env</th><th scope=col>iter</th><th scope=col>r</th><th scope=col>method</th><th scope=col>pop</th></tr></thead>\n",
       "<tbody>\n",
       "\t<tr><th scope=row>745</th><td>Starch2017</td><td>Starch    </td><td>2017      </td><td>131       </td><td>0.6415705 </td><td>STSE      </td><td>GSDP      </td></tr>\n",
       "\t<tr><th scope=row>746</th><td>Starch2017</td><td>Starch    </td><td>2017      </td><td>132       </td><td>0.5876158 </td><td>STSE      </td><td>GSDP      </td></tr>\n",
       "\t<tr><th scope=row>747</th><td>Starch2017</td><td>Starch    </td><td>2017      </td><td>132       </td><td>0.6495125 </td><td>STSE      </td><td>GSDP      </td></tr>\n",
       "\t<tr><th scope=row>748</th><td>Starch2017</td><td>Starch    </td><td>2017      </td><td>132       </td><td>0.3865078 </td><td>STSE      </td><td>GSDP      </td></tr>\n",
       "\t<tr><th scope=row>749</th><td>Starch2017</td><td>Starch    </td><td>2017      </td><td>132       </td><td>0.5703614 </td><td>STSE      </td><td>GSDP      </td></tr>\n",
       "\t<tr><th scope=row>750</th><td>Starch2017</td><td>Starch    </td><td>2017      </td><td>132       </td><td>0.5664204 </td><td>STSE      </td><td>GSDP      </td></tr>\n",
       "</tbody>\n",
       "</table>\n"
      ],
      "text/latex": [
       "\\begin{tabular}{r|lllllll}\n",
       "  & Trt\\_Env & Trait & Env & iter & r & method & pop\\\\\n",
       "\\hline\n",
       "\t745 & Starch2017 & Starch     & 2017       & 131        & 0.6415705  & STSE       & GSDP      \\\\\n",
       "\t746 & Starch2017 & Starch     & 2017       & 132        & 0.5876158  & STSE       & GSDP      \\\\\n",
       "\t747 & Starch2017 & Starch     & 2017       & 132        & 0.6495125  & STSE       & GSDP      \\\\\n",
       "\t748 & Starch2017 & Starch     & 2017       & 132        & 0.3865078  & STSE       & GSDP      \\\\\n",
       "\t749 & Starch2017 & Starch     & 2017       & 132        & 0.5703614  & STSE       & GSDP      \\\\\n",
       "\t750 & Starch2017 & Starch     & 2017       & 132        & 0.5664204  & STSE       & GSDP      \\\\\n",
       "\\end{tabular}\n"
      ],
      "text/markdown": [
       "\n",
       "| <!--/--> | Trt_Env | Trait | Env | iter | r | method | pop |\n",
       "|---|---|---|---|---|---|---|---|\n",
       "| 745 | Starch2017 | Starch     | 2017       | 131        | 0.6415705  | STSE       | GSDP       |\n",
       "| 746 | Starch2017 | Starch     | 2017       | 132        | 0.5876158  | STSE       | GSDP       |\n",
       "| 747 | Starch2017 | Starch     | 2017       | 132        | 0.6495125  | STSE       | GSDP       |\n",
       "| 748 | Starch2017 | Starch     | 2017       | 132        | 0.3865078  | STSE       | GSDP       |\n",
       "| 749 | Starch2017 | Starch     | 2017       | 132        | 0.5703614  | STSE       | GSDP       |\n",
       "| 750 | Starch2017 | Starch     | 2017       | 132        | 0.5664204  | STSE       | GSDP       |\n",
       "\n"
      ],
      "text/plain": [
       "    Trt_Env    Trait  Env  iter r         method pop \n",
       "745 Starch2017 Starch 2017 131  0.6415705 STSE   GSDP\n",
       "746 Starch2017 Starch 2017 132  0.5876158 STSE   GSDP\n",
       "747 Starch2017 Starch 2017 132  0.6495125 STSE   GSDP\n",
       "748 Starch2017 Starch 2017 132  0.3865078 STSE   GSDP\n",
       "749 Starch2017 Starch 2017 132  0.5703614 STSE   GSDP\n",
       "750 Starch2017 Starch 2017 132  0.5664204 STSE   GSDP"
      ]
     },
     "metadata": {},
     "output_type": "display_data"
    },
    {
     "data": {
      "text/html": [
       "<table>\n",
       "<thead><tr><th scope=col>Trt_Env</th><th scope=col>Trait</th><th scope=col>Env</th><th scope=col>mean</th><th scope=col>sd</th><th scope=col>method</th><th scope=col>pop</th></tr></thead>\n",
       "<tbody>\n",
       "\t<tr><td>Protein2013</td><td>Protein    </td><td>2013       </td><td>0.3783106  </td><td>0.11404112 </td><td>STSE       </td><td>GSDP       </td></tr>\n",
       "\t<tr><td>Protein2014</td><td>Protein    </td><td>2014       </td><td>0.3851532  </td><td>0.10601575 </td><td>STSE       </td><td>GSDP       </td></tr>\n",
       "\t<tr><td>Protein2017</td><td>Protein    </td><td>2017       </td><td>0.3519186  </td><td>0.08510609 </td><td>STSE       </td><td>GSDP       </td></tr>\n",
       "\t<tr><td>Starch2013 </td><td>Starch     </td><td>2013       </td><td>0.4451772  </td><td>0.09456522 </td><td>STSE       </td><td>GSDP       </td></tr>\n",
       "\t<tr><td>Starch2014 </td><td>Starch     </td><td>2014       </td><td>0.4679503  </td><td>0.08914985 </td><td>STSE       </td><td>GSDP       </td></tr>\n",
       "\t<tr><td>Starch2017 </td><td>Starch     </td><td>2017       </td><td>0.5527536  </td><td>0.09726344 </td><td>STSE       </td><td>GSDP       </td></tr>\n",
       "</tbody>\n",
       "</table>\n"
      ],
      "text/latex": [
       "\\begin{tabular}{r|lllllll}\n",
       " Trt\\_Env & Trait & Env & mean & sd & method & pop\\\\\n",
       "\\hline\n",
       "\t Protein2013 & Protein     & 2013        & 0.3783106   & 0.11404112  & STSE        & GSDP       \\\\\n",
       "\t Protein2014 & Protein     & 2014        & 0.3851532   & 0.10601575  & STSE        & GSDP       \\\\\n",
       "\t Protein2017 & Protein     & 2017        & 0.3519186   & 0.08510609  & STSE        & GSDP       \\\\\n",
       "\t Starch2013  & Starch      & 2013        & 0.4451772   & 0.09456522  & STSE        & GSDP       \\\\\n",
       "\t Starch2014  & Starch      & 2014        & 0.4679503   & 0.08914985  & STSE        & GSDP       \\\\\n",
       "\t Starch2017  & Starch      & 2017        & 0.5527536   & 0.09726344  & STSE        & GSDP       \\\\\n",
       "\\end{tabular}\n"
      ],
      "text/markdown": [
       "\n",
       "| Trt_Env | Trait | Env | mean | sd | method | pop |\n",
       "|---|---|---|---|---|---|---|\n",
       "| Protein2013 | Protein     | 2013        | 0.3783106   | 0.11404112  | STSE        | GSDP        |\n",
       "| Protein2014 | Protein     | 2014        | 0.3851532   | 0.10601575  | STSE        | GSDP        |\n",
       "| Protein2017 | Protein     | 2017        | 0.3519186   | 0.08510609  | STSE        | GSDP        |\n",
       "| Starch2013  | Starch      | 2013        | 0.4451772   | 0.09456522  | STSE        | GSDP        |\n",
       "| Starch2014  | Starch      | 2014        | 0.4679503   | 0.08914985  | STSE        | GSDP        |\n",
       "| Starch2017  | Starch      | 2017        | 0.5527536   | 0.09726344  | STSE        | GSDP        |\n",
       "\n"
      ],
      "text/plain": [
       "  Trt_Env     Trait   Env  mean      sd         method pop \n",
       "1 Protein2013 Protein 2013 0.3783106 0.11404112 STSE   GSDP\n",
       "2 Protein2014 Protein 2014 0.3851532 0.10601575 STSE   GSDP\n",
       "3 Protein2017 Protein 2017 0.3519186 0.08510609 STSE   GSDP\n",
       "4 Starch2013  Starch  2013 0.4451772 0.09456522 STSE   GSDP\n",
       "5 Starch2014  Starch  2014 0.4679503 0.08914985 STSE   GSDP\n",
       "6 Starch2017  Starch  2017 0.5527536 0.09726344 STSE   GSDP"
      ]
     },
     "metadata": {},
     "output_type": "display_data"
    },
    {
     "name": "stdout",
     "output_type": "stream",
     "text": [
      "[1] \"------------------------------\"\n"
     ]
    }
   ],
   "source": [
    "pop <- 'GSDP'\n",
    "method <- 'STSE'\n",
    "Total <- c()\n",
    "Mean <- c()\n",
    "print(\"-------------STSE-------------\")\n",
    "df <- read.csv('results/STSE/SAP_CV5_STSE_DryBasis.csv')\n",
    "head(df)\n",
    "df2 <- df %>% group_by(Trt_Env,Trait, Env) %>% summarize(mean = mean(r, na.rm=T), sd  = sd(r, na.rm=T)) %>% mutate(method = method, pop=pop)\n",
    "df3 <- df %>% mutate(method=method, pop=pop)\n",
    "head(df3)\n",
    "df3 <- df3[,-1]\n",
    "colnames(df3) <- c('Trt_Env','Trait','Env','iter','r','method','pop')\n",
    "Mean <- rbind(Mean, df2)\n",
    "Total <- rbind(Total, df3)\n",
    "tail(Total)\n",
    "tail(Mean)\n",
    "print(\"------------------------------\")"
   ]
  },
  {
   "cell_type": "code",
   "execution_count": 4,
   "metadata": {},
   "outputs": [
    {
     "name": "stdout",
     "output_type": "stream",
     "text": [
      "[1] \"-------------BME-------------\"\n"
     ]
    },
    {
     "data": {
      "text/html": [
       "<table>\n",
       "<thead><tr><th scope=col>Trt_Env</th><th scope=col>Trait</th><th scope=col>Env</th><th scope=col>iter</th><th scope=col>r</th><th scope=col>method</th><th scope=col>pop</th></tr></thead>\n",
       "<tbody>\n",
       "\t<tr><td>Amylose2013</td><td>Amylose    </td><td>2013       </td><td>123        </td><td>0.1077     </td><td>BME        </td><td>GSDP       </td></tr>\n",
       "\t<tr><td>Amylose2013</td><td>Amylose    </td><td>2013       </td><td>123        </td><td>0.1719     </td><td>BME        </td><td>GSDP       </td></tr>\n",
       "\t<tr><td>Amylose2013</td><td>Amylose    </td><td>2013       </td><td>123        </td><td>0.1100     </td><td>BME        </td><td>GSDP       </td></tr>\n",
       "\t<tr><td>Amylose2013</td><td>Amylose    </td><td>2013       </td><td>123        </td><td>0.3219     </td><td>BME        </td><td>GSDP       </td></tr>\n",
       "\t<tr><td>Amylose2013</td><td>Amylose    </td><td>2013       </td><td>123        </td><td>0.1833     </td><td>BME        </td><td>GSDP       </td></tr>\n",
       "\t<tr><td>Amylose2014</td><td>Amylose    </td><td>2014       </td><td>123        </td><td>0.3378     </td><td>BME        </td><td>GSDP       </td></tr>\n",
       "</tbody>\n",
       "</table>\n"
      ],
      "text/latex": [
       "\\begin{tabular}{r|lllllll}\n",
       " Trt\\_Env & Trait & Env & iter & r & method & pop\\\\\n",
       "\\hline\n",
       "\t Amylose2013 & Amylose     & 2013        & 123         & 0.1077      & BME         & GSDP       \\\\\n",
       "\t Amylose2013 & Amylose     & 2013        & 123         & 0.1719      & BME         & GSDP       \\\\\n",
       "\t Amylose2013 & Amylose     & 2013        & 123         & 0.1100      & BME         & GSDP       \\\\\n",
       "\t Amylose2013 & Amylose     & 2013        & 123         & 0.3219      & BME         & GSDP       \\\\\n",
       "\t Amylose2013 & Amylose     & 2013        & 123         & 0.1833      & BME         & GSDP       \\\\\n",
       "\t Amylose2014 & Amylose     & 2014        & 123         & 0.3378      & BME         & GSDP       \\\\\n",
       "\\end{tabular}\n"
      ],
      "text/markdown": [
       "\n",
       "| Trt_Env | Trait | Env | iter | r | method | pop |\n",
       "|---|---|---|---|---|---|---|\n",
       "| Amylose2013 | Amylose     | 2013        | 123         | 0.1077      | BME         | GSDP        |\n",
       "| Amylose2013 | Amylose     | 2013        | 123         | 0.1719      | BME         | GSDP        |\n",
       "| Amylose2013 | Amylose     | 2013        | 123         | 0.1100      | BME         | GSDP        |\n",
       "| Amylose2013 | Amylose     | 2013        | 123         | 0.3219      | BME         | GSDP        |\n",
       "| Amylose2013 | Amylose     | 2013        | 123         | 0.1833      | BME         | GSDP        |\n",
       "| Amylose2014 | Amylose     | 2014        | 123         | 0.3378      | BME         | GSDP        |\n",
       "\n"
      ],
      "text/plain": [
       "  Trt_Env     Trait   Env  iter r      method pop \n",
       "1 Amylose2013 Amylose 2013 123  0.1077 BME    GSDP\n",
       "2 Amylose2013 Amylose 2013 123  0.1719 BME    GSDP\n",
       "3 Amylose2013 Amylose 2013 123  0.1100 BME    GSDP\n",
       "4 Amylose2013 Amylose 2013 123  0.3219 BME    GSDP\n",
       "5 Amylose2013 Amylose 2013 123  0.1833 BME    GSDP\n",
       "6 Amylose2014 Amylose 2014 123  0.3378 BME    GSDP"
      ]
     },
     "metadata": {},
     "output_type": "display_data"
    },
    {
     "data": {
      "text/html": [
       "<table>\n",
       "<thead><tr><th></th><th scope=col>Trt_Env</th><th scope=col>Trait</th><th scope=col>Env</th><th scope=col>iter</th><th scope=col>r</th><th scope=col>method</th><th scope=col>pop</th></tr></thead>\n",
       "<tbody>\n",
       "\t<tr><th scope=row>1495</th><td>Starch2014</td><td>Starch    </td><td>2014      </td><td>132       </td><td>0.4544    </td><td>BME       </td><td>GSDP      </td></tr>\n",
       "\t<tr><th scope=row>1496</th><td>Starch2017</td><td>Starch    </td><td>2017      </td><td>132       </td><td>0.6518    </td><td>BME       </td><td>GSDP      </td></tr>\n",
       "\t<tr><th scope=row>1497</th><td>Starch2017</td><td>Starch    </td><td>2017      </td><td>132       </td><td>0.6352    </td><td>BME       </td><td>GSDP      </td></tr>\n",
       "\t<tr><th scope=row>1498</th><td>Starch2017</td><td>Starch    </td><td>2017      </td><td>132       </td><td>0.4775    </td><td>BME       </td><td>GSDP      </td></tr>\n",
       "\t<tr><th scope=row>1499</th><td>Starch2017</td><td>Starch    </td><td>2017      </td><td>132       </td><td>0.5584    </td><td>BME       </td><td>GSDP      </td></tr>\n",
       "\t<tr><th scope=row>1500</th><td>Starch2017</td><td>Starch    </td><td>2017      </td><td>132       </td><td>0.4674    </td><td>BME       </td><td>GSDP      </td></tr>\n",
       "</tbody>\n",
       "</table>\n"
      ],
      "text/latex": [
       "\\begin{tabular}{r|lllllll}\n",
       "  & Trt\\_Env & Trait & Env & iter & r & method & pop\\\\\n",
       "\\hline\n",
       "\t1495 & Starch2014 & Starch     & 2014       & 132        & 0.4544     & BME        & GSDP      \\\\\n",
       "\t1496 & Starch2017 & Starch     & 2017       & 132        & 0.6518     & BME        & GSDP      \\\\\n",
       "\t1497 & Starch2017 & Starch     & 2017       & 132        & 0.6352     & BME        & GSDP      \\\\\n",
       "\t1498 & Starch2017 & Starch     & 2017       & 132        & 0.4775     & BME        & GSDP      \\\\\n",
       "\t1499 & Starch2017 & Starch     & 2017       & 132        & 0.5584     & BME        & GSDP      \\\\\n",
       "\t1500 & Starch2017 & Starch     & 2017       & 132        & 0.4674     & BME        & GSDP      \\\\\n",
       "\\end{tabular}\n"
      ],
      "text/markdown": [
       "\n",
       "| <!--/--> | Trt_Env | Trait | Env | iter | r | method | pop |\n",
       "|---|---|---|---|---|---|---|---|\n",
       "| 1495 | Starch2014 | Starch     | 2014       | 132        | 0.4544     | BME        | GSDP       |\n",
       "| 1496 | Starch2017 | Starch     | 2017       | 132        | 0.6518     | BME        | GSDP       |\n",
       "| 1497 | Starch2017 | Starch     | 2017       | 132        | 0.6352     | BME        | GSDP       |\n",
       "| 1498 | Starch2017 | Starch     | 2017       | 132        | 0.4775     | BME        | GSDP       |\n",
       "| 1499 | Starch2017 | Starch     | 2017       | 132        | 0.5584     | BME        | GSDP       |\n",
       "| 1500 | Starch2017 | Starch     | 2017       | 132        | 0.4674     | BME        | GSDP       |\n",
       "\n"
      ],
      "text/plain": [
       "     Trt_Env    Trait  Env  iter r      method pop \n",
       "1495 Starch2014 Starch 2014 132  0.4544 BME    GSDP\n",
       "1496 Starch2017 Starch 2017 132  0.6518 BME    GSDP\n",
       "1497 Starch2017 Starch 2017 132  0.6352 BME    GSDP\n",
       "1498 Starch2017 Starch 2017 132  0.4775 BME    GSDP\n",
       "1499 Starch2017 Starch 2017 132  0.5584 BME    GSDP\n",
       "1500 Starch2017 Starch 2017 132  0.4674 BME    GSDP"
      ]
     },
     "metadata": {},
     "output_type": "display_data"
    },
    {
     "data": {
      "text/html": [
       "<table>\n",
       "<thead><tr><th scope=col>Trt_Env</th><th scope=col>Trait</th><th scope=col>Env</th><th scope=col>mean</th><th scope=col>sd</th><th scope=col>method</th><th scope=col>pop</th></tr></thead>\n",
       "<tbody>\n",
       "\t<tr><td>Protein2013</td><td>Protein    </td><td>2013       </td><td>0.366036   </td><td>0.09502778 </td><td>BME        </td><td>GSDP       </td></tr>\n",
       "\t<tr><td>Protein2014</td><td>Protein    </td><td>2014       </td><td>0.381560   </td><td>0.10324155 </td><td>BME        </td><td>GSDP       </td></tr>\n",
       "\t<tr><td>Protein2017</td><td>Protein    </td><td>2017       </td><td>0.322078   </td><td>0.06897200 </td><td>BME        </td><td>GSDP       </td></tr>\n",
       "\t<tr><td>Starch2013 </td><td>Starch     </td><td>2013       </td><td>0.460848   </td><td>0.07305246 </td><td>BME        </td><td>GSDP       </td></tr>\n",
       "\t<tr><td>Starch2014 </td><td>Starch     </td><td>2014       </td><td>0.456266   </td><td>0.09226776 </td><td>BME        </td><td>GSDP       </td></tr>\n",
       "\t<tr><td>Starch2017 </td><td>Starch     </td><td>2017       </td><td>0.557304   </td><td>0.09764379 </td><td>BME        </td><td>GSDP       </td></tr>\n",
       "</tbody>\n",
       "</table>\n"
      ],
      "text/latex": [
       "\\begin{tabular}{r|lllllll}\n",
       " Trt\\_Env & Trait & Env & mean & sd & method & pop\\\\\n",
       "\\hline\n",
       "\t Protein2013 & Protein     & 2013        & 0.366036    & 0.09502778  & BME         & GSDP       \\\\\n",
       "\t Protein2014 & Protein     & 2014        & 0.381560    & 0.10324155  & BME         & GSDP       \\\\\n",
       "\t Protein2017 & Protein     & 2017        & 0.322078    & 0.06897200  & BME         & GSDP       \\\\\n",
       "\t Starch2013  & Starch      & 2013        & 0.460848    & 0.07305246  & BME         & GSDP       \\\\\n",
       "\t Starch2014  & Starch      & 2014        & 0.456266    & 0.09226776  & BME         & GSDP       \\\\\n",
       "\t Starch2017  & Starch      & 2017        & 0.557304    & 0.09764379  & BME         & GSDP       \\\\\n",
       "\\end{tabular}\n"
      ],
      "text/markdown": [
       "\n",
       "| Trt_Env | Trait | Env | mean | sd | method | pop |\n",
       "|---|---|---|---|---|---|---|\n",
       "| Protein2013 | Protein     | 2013        | 0.366036    | 0.09502778  | BME         | GSDP        |\n",
       "| Protein2014 | Protein     | 2014        | 0.381560    | 0.10324155  | BME         | GSDP        |\n",
       "| Protein2017 | Protein     | 2017        | 0.322078    | 0.06897200  | BME         | GSDP        |\n",
       "| Starch2013  | Starch      | 2013        | 0.460848    | 0.07305246  | BME         | GSDP        |\n",
       "| Starch2014  | Starch      | 2014        | 0.456266    | 0.09226776  | BME         | GSDP        |\n",
       "| Starch2017  | Starch      | 2017        | 0.557304    | 0.09764379  | BME         | GSDP        |\n",
       "\n"
      ],
      "text/plain": [
       "  Trt_Env     Trait   Env  mean     sd         method pop \n",
       "1 Protein2013 Protein 2013 0.366036 0.09502778 BME    GSDP\n",
       "2 Protein2014 Protein 2014 0.381560 0.10324155 BME    GSDP\n",
       "3 Protein2017 Protein 2017 0.322078 0.06897200 BME    GSDP\n",
       "4 Starch2013  Starch  2013 0.460848 0.07305246 BME    GSDP\n",
       "5 Starch2014  Starch  2014 0.456266 0.09226776 BME    GSDP\n",
       "6 Starch2017  Starch  2017 0.557304 0.09764379 BME    GSDP"
      ]
     },
     "metadata": {},
     "output_type": "display_data"
    },
    {
     "data": {
      "text/html": [
       "<ol class=list-inline>\n",
       "\t<li>1500</li>\n",
       "\t<li>7</li>\n",
       "</ol>\n"
      ],
      "text/latex": [
       "\\begin{enumerate*}\n",
       "\\item 1500\n",
       "\\item 7\n",
       "\\end{enumerate*}\n"
      ],
      "text/markdown": [
       "1. 1500\n",
       "2. 7\n",
       "\n",
       "\n"
      ],
      "text/plain": [
       "[1] 1500    7"
      ]
     },
     "metadata": {},
     "output_type": "display_data"
    },
    {
     "data": {
      "text/html": [
       "<ol class=list-inline>\n",
       "\t<li>30</li>\n",
       "\t<li>7</li>\n",
       "</ol>\n"
      ],
      "text/latex": [
       "\\begin{enumerate*}\n",
       "\\item 30\n",
       "\\item 7\n",
       "\\end{enumerate*}\n"
      ],
      "text/markdown": [
       "1. 30\n",
       "2. 7\n",
       "\n",
       "\n"
      ],
      "text/plain": [
       "[1] 30  7"
      ]
     },
     "metadata": {},
     "output_type": "display_data"
    },
    {
     "name": "stdout",
     "output_type": "stream",
     "text": [
      "[1] \"------------------------------\"\n"
     ]
    }
   ],
   "source": [
    "pop <- 'GSDP'\n",
    "method <- 'BME'\n",
    "print(\"-------------BME-------------\")\n",
    "df <- read.csv('results/BME/SAP_BME_CV5_complete.csv')\n",
    "df2 <- df %>% group_by(Trt_Env,Trait, Env) %>% summarize(mean = mean(Pearson, na.rm=T), sd  = sd(Pearson, na.rm=T)) %>% mutate(method = method, pop=pop)\n",
    "df3 <- df %>% mutate(method=method, pop=pop)\n",
    "\n",
    "df3 <- df3[,c(4,2,5,3,6,8,9)]\n",
    "colnames(df3) <- c('Trt_Env','Trait','Env','iter','r','method','pop')\n",
    "head(df3)\n",
    "Mean <- rbind(Mean, df2)\n",
    "Total <- rbind(Total, df3)\n",
    "tail(Total)\n",
    "tail(Mean)\n",
    "dim(Total)\n",
    "dim(Mean)\n",
    "print(\"------------------------------\")"
   ]
  },
  {
   "cell_type": "code",
   "execution_count": 5,
   "metadata": {},
   "outputs": [
    {
     "name": "stdout",
     "output_type": "stream",
     "text": [
      "[1] \"-------------BMORS-------------\"\n"
     ]
    },
    {
     "data": {
      "text/html": [
       "<table>\n",
       "<thead><tr><th scope=col>Trt_Env</th><th scope=col>Trait</th><th scope=col>Env</th><th scope=col>Partition</th><th scope=col>Pearson</th><th scope=col>MAAPE</th></tr></thead>\n",
       "<tbody>\n",
       "\t<tr><td>Amylose2013</td><td>Amylose    </td><td>2013       </td><td>1          </td><td>0.4483     </td><td>NA         </td></tr>\n",
       "\t<tr><td>Amylose2013</td><td>Amylose    </td><td>2013       </td><td>2          </td><td>0.1254     </td><td>NA         </td></tr>\n",
       "\t<tr><td>Amylose2013</td><td>Amylose    </td><td>2013       </td><td>3          </td><td>0.3658     </td><td>NA         </td></tr>\n",
       "\t<tr><td>Amylose2013</td><td>Amylose    </td><td>2013       </td><td>4          </td><td>0.6049     </td><td>NA         </td></tr>\n",
       "\t<tr><td>Amylose2013</td><td>Amylose    </td><td>2013       </td><td>5          </td><td>0.1825     </td><td>NA         </td></tr>\n",
       "\t<tr><td>Fat2013    </td><td>Fat        </td><td>2013       </td><td>1          </td><td>0.7217     </td><td>NA         </td></tr>\n",
       "</tbody>\n",
       "</table>\n"
      ],
      "text/latex": [
       "\\begin{tabular}{r|llllll}\n",
       " Trt\\_Env & Trait & Env & Partition & Pearson & MAAPE\\\\\n",
       "\\hline\n",
       "\t Amylose2013 & Amylose     & 2013        & 1           & 0.4483      & NA         \\\\\n",
       "\t Amylose2013 & Amylose     & 2013        & 2           & 0.1254      & NA         \\\\\n",
       "\t Amylose2013 & Amylose     & 2013        & 3           & 0.3658      & NA         \\\\\n",
       "\t Amylose2013 & Amylose     & 2013        & 4           & 0.6049      & NA         \\\\\n",
       "\t Amylose2013 & Amylose     & 2013        & 5           & 0.1825      & NA         \\\\\n",
       "\t Fat2013     & Fat         & 2013        & 1           & 0.7217      & NA         \\\\\n",
       "\\end{tabular}\n"
      ],
      "text/markdown": [
       "\n",
       "| Trt_Env | Trait | Env | Partition | Pearson | MAAPE |\n",
       "|---|---|---|---|---|---|\n",
       "| Amylose2013 | Amylose     | 2013        | 1           | 0.4483      | NA          |\n",
       "| Amylose2013 | Amylose     | 2013        | 2           | 0.1254      | NA          |\n",
       "| Amylose2013 | Amylose     | 2013        | 3           | 0.3658      | NA          |\n",
       "| Amylose2013 | Amylose     | 2013        | 4           | 0.6049      | NA          |\n",
       "| Amylose2013 | Amylose     | 2013        | 5           | 0.1825      | NA          |\n",
       "| Fat2013     | Fat         | 2013        | 1           | 0.7217      | NA          |\n",
       "\n"
      ],
      "text/plain": [
       "  Trt_Env     Trait   Env  Partition Pearson MAAPE\n",
       "1 Amylose2013 Amylose 2013 1         0.4483  NA   \n",
       "2 Amylose2013 Amylose 2013 2         0.1254  NA   \n",
       "3 Amylose2013 Amylose 2013 3         0.3658  NA   \n",
       "4 Amylose2013 Amylose 2013 4         0.6049  NA   \n",
       "5 Amylose2013 Amylose 2013 5         0.1825  NA   \n",
       "6 Fat2013     Fat     2013 1         0.7217  NA   "
      ]
     },
     "metadata": {},
     "output_type": "display_data"
    },
    {
     "data": {
      "text/html": [
       "<table>\n",
       "<thead><tr><th scope=col>Trt_Env</th><th scope=col>Trait</th><th scope=col>Env</th><th scope=col>Partition</th><th scope=col>Pearson</th><th scope=col>MAAPE</th><th scope=col>method</th><th scope=col>pop</th></tr></thead>\n",
       "<tbody>\n",
       "\t<tr><td>Amylose2013</td><td>Amylose    </td><td>2013       </td><td>1          </td><td>0.4483     </td><td>NA         </td><td>BMORS      </td><td>GSDP       </td></tr>\n",
       "\t<tr><td>Amylose2013</td><td>Amylose    </td><td>2013       </td><td>2          </td><td>0.1254     </td><td>NA         </td><td>BMORS      </td><td>GSDP       </td></tr>\n",
       "\t<tr><td>Amylose2013</td><td>Amylose    </td><td>2013       </td><td>3          </td><td>0.3658     </td><td>NA         </td><td>BMORS      </td><td>GSDP       </td></tr>\n",
       "\t<tr><td>Amylose2013</td><td>Amylose    </td><td>2013       </td><td>4          </td><td>0.6049     </td><td>NA         </td><td>BMORS      </td><td>GSDP       </td></tr>\n",
       "\t<tr><td>Amylose2013</td><td>Amylose    </td><td>2013       </td><td>5          </td><td>0.1825     </td><td>NA         </td><td>BMORS      </td><td>GSDP       </td></tr>\n",
       "\t<tr><td>Fat2013    </td><td>Fat        </td><td>2013       </td><td>1          </td><td>0.7217     </td><td>NA         </td><td>BMORS      </td><td>GSDP       </td></tr>\n",
       "</tbody>\n",
       "</table>\n"
      ],
      "text/latex": [
       "\\begin{tabular}{r|llllllll}\n",
       " Trt\\_Env & Trait & Env & Partition & Pearson & MAAPE & method & pop\\\\\n",
       "\\hline\n",
       "\t Amylose2013 & Amylose     & 2013        & 1           & 0.4483      & NA          & BMORS       & GSDP       \\\\\n",
       "\t Amylose2013 & Amylose     & 2013        & 2           & 0.1254      & NA          & BMORS       & GSDP       \\\\\n",
       "\t Amylose2013 & Amylose     & 2013        & 3           & 0.3658      & NA          & BMORS       & GSDP       \\\\\n",
       "\t Amylose2013 & Amylose     & 2013        & 4           & 0.6049      & NA          & BMORS       & GSDP       \\\\\n",
       "\t Amylose2013 & Amylose     & 2013        & 5           & 0.1825      & NA          & BMORS       & GSDP       \\\\\n",
       "\t Fat2013     & Fat         & 2013        & 1           & 0.7217      & NA          & BMORS       & GSDP       \\\\\n",
       "\\end{tabular}\n"
      ],
      "text/markdown": [
       "\n",
       "| Trt_Env | Trait | Env | Partition | Pearson | MAAPE | method | pop |\n",
       "|---|---|---|---|---|---|---|---|\n",
       "| Amylose2013 | Amylose     | 2013        | 1           | 0.4483      | NA          | BMORS       | GSDP        |\n",
       "| Amylose2013 | Amylose     | 2013        | 2           | 0.1254      | NA          | BMORS       | GSDP        |\n",
       "| Amylose2013 | Amylose     | 2013        | 3           | 0.3658      | NA          | BMORS       | GSDP        |\n",
       "| Amylose2013 | Amylose     | 2013        | 4           | 0.6049      | NA          | BMORS       | GSDP        |\n",
       "| Amylose2013 | Amylose     | 2013        | 5           | 0.1825      | NA          | BMORS       | GSDP        |\n",
       "| Fat2013     | Fat         | 2013        | 1           | 0.7217      | NA          | BMORS       | GSDP        |\n",
       "\n"
      ],
      "text/plain": [
       "  Trt_Env     Trait   Env  Partition Pearson MAAPE method pop \n",
       "1 Amylose2013 Amylose 2013 1         0.4483  NA    BMORS  GSDP\n",
       "2 Amylose2013 Amylose 2013 2         0.1254  NA    BMORS  GSDP\n",
       "3 Amylose2013 Amylose 2013 3         0.3658  NA    BMORS  GSDP\n",
       "4 Amylose2013 Amylose 2013 4         0.6049  NA    BMORS  GSDP\n",
       "5 Amylose2013 Amylose 2013 5         0.1825  NA    BMORS  GSDP\n",
       "6 Fat2013     Fat     2013 1         0.7217  NA    BMORS  GSDP"
      ]
     },
     "metadata": {},
     "output_type": "display_data"
    },
    {
     "name": "stderr",
     "output_type": "stream",
     "text": [
      "Warning message in bind_rows_(x, .id):\n",
      "“binding factor and character vector, coercing into character vector”Warning message in bind_rows_(x, .id):\n",
      "“binding character and factor vector, coercing into character vector”"
     ]
    },
    {
     "data": {
      "text/html": [
       "<table>\n",
       "<thead><tr><th></th><th scope=col>Trt_Env</th><th scope=col>Trait</th><th scope=col>Env</th><th scope=col>iter</th><th scope=col>r</th><th scope=col>method</th><th scope=col>pop</th></tr></thead>\n",
       "<tbody>\n",
       "\t<tr><th scope=row>2245</th><td>Protein2017</td><td>Protein    </td><td>2017       </td><td>5          </td><td>0.4838     </td><td>BMORS      </td><td>GSDP       </td></tr>\n",
       "\t<tr><th scope=row>2246</th><td>Starch2017 </td><td>Starch     </td><td>2017       </td><td>1          </td><td>0.6813     </td><td>BMORS      </td><td>GSDP       </td></tr>\n",
       "\t<tr><th scope=row>2247</th><td>Starch2017 </td><td>Starch     </td><td>2017       </td><td>2          </td><td>0.5778     </td><td>BMORS      </td><td>GSDP       </td></tr>\n",
       "\t<tr><th scope=row>2248</th><td>Starch2017 </td><td>Starch     </td><td>2017       </td><td>3          </td><td>0.7630     </td><td>BMORS      </td><td>GSDP       </td></tr>\n",
       "\t<tr><th scope=row>2249</th><td>Starch2017 </td><td>Starch     </td><td>2017       </td><td>4          </td><td>0.6986     </td><td>BMORS      </td><td>GSDP       </td></tr>\n",
       "\t<tr><th scope=row>2250</th><td>Starch2017 </td><td>Starch     </td><td>2017       </td><td>5          </td><td>0.5247     </td><td>BMORS      </td><td>GSDP       </td></tr>\n",
       "</tbody>\n",
       "</table>\n"
      ],
      "text/latex": [
       "\\begin{tabular}{r|lllllll}\n",
       "  & Trt\\_Env & Trait & Env & iter & r & method & pop\\\\\n",
       "\\hline\n",
       "\t2245 & Protein2017 & Protein     & 2017        & 5           & 0.4838      & BMORS       & GSDP       \\\\\n",
       "\t2246 & Starch2017  & Starch      & 2017        & 1           & 0.6813      & BMORS       & GSDP       \\\\\n",
       "\t2247 & Starch2017  & Starch      & 2017        & 2           & 0.5778      & BMORS       & GSDP       \\\\\n",
       "\t2248 & Starch2017  & Starch      & 2017        & 3           & 0.7630      & BMORS       & GSDP       \\\\\n",
       "\t2249 & Starch2017  & Starch      & 2017        & 4           & 0.6986      & BMORS       & GSDP       \\\\\n",
       "\t2250 & Starch2017  & Starch      & 2017        & 5           & 0.5247      & BMORS       & GSDP       \\\\\n",
       "\\end{tabular}\n"
      ],
      "text/markdown": [
       "\n",
       "| <!--/--> | Trt_Env | Trait | Env | iter | r | method | pop |\n",
       "|---|---|---|---|---|---|---|---|\n",
       "| 2245 | Protein2017 | Protein     | 2017        | 5           | 0.4838      | BMORS       | GSDP        |\n",
       "| 2246 | Starch2017  | Starch      | 2017        | 1           | 0.6813      | BMORS       | GSDP        |\n",
       "| 2247 | Starch2017  | Starch      | 2017        | 2           | 0.5778      | BMORS       | GSDP        |\n",
       "| 2248 | Starch2017  | Starch      | 2017        | 3           | 0.7630      | BMORS       | GSDP        |\n",
       "| 2249 | Starch2017  | Starch      | 2017        | 4           | 0.6986      | BMORS       | GSDP        |\n",
       "| 2250 | Starch2017  | Starch      | 2017        | 5           | 0.5247      | BMORS       | GSDP        |\n",
       "\n"
      ],
      "text/plain": [
       "     Trt_Env     Trait   Env  iter r      method pop \n",
       "2245 Protein2017 Protein 2017 5    0.4838 BMORS  GSDP\n",
       "2246 Starch2017  Starch  2017 1    0.6813 BMORS  GSDP\n",
       "2247 Starch2017  Starch  2017 2    0.5778 BMORS  GSDP\n",
       "2248 Starch2017  Starch  2017 3    0.7630 BMORS  GSDP\n",
       "2249 Starch2017  Starch  2017 4    0.6986 BMORS  GSDP\n",
       "2250 Starch2017  Starch  2017 5    0.5247 BMORS  GSDP"
      ]
     },
     "metadata": {},
     "output_type": "display_data"
    },
    {
     "data": {
      "text/html": [
       "<table>\n",
       "<thead><tr><th scope=col>Trt_Env</th><th scope=col>Trait</th><th scope=col>Env</th><th scope=col>mean</th><th scope=col>sd</th><th scope=col>method</th><th scope=col>pop</th></tr></thead>\n",
       "<tbody>\n",
       "\t<tr><td>Protein2013</td><td>Protein    </td><td>2013       </td><td>0.589318   </td><td>0.08036075 </td><td>BMORS      </td><td>GSDP       </td></tr>\n",
       "\t<tr><td>Protein2014</td><td>Protein    </td><td>2014       </td><td>0.595846   </td><td>0.07252157 </td><td>BMORS      </td><td>GSDP       </td></tr>\n",
       "\t<tr><td>Protein2017</td><td>Protein    </td><td>2017       </td><td>0.535888   </td><td>0.07492940 </td><td>BMORS      </td><td>GSDP       </td></tr>\n",
       "\t<tr><td>Starch2013 </td><td>Starch     </td><td>2013       </td><td>0.609576   </td><td>0.06859110 </td><td>BMORS      </td><td>GSDP       </td></tr>\n",
       "\t<tr><td>Starch2014 </td><td>Starch     </td><td>2014       </td><td>0.643474   </td><td>0.08344464 </td><td>BMORS      </td><td>GSDP       </td></tr>\n",
       "\t<tr><td>Starch2017 </td><td>Starch     </td><td>2017       </td><td>0.644112   </td><td>0.07933876 </td><td>BMORS      </td><td>GSDP       </td></tr>\n",
       "</tbody>\n",
       "</table>\n"
      ],
      "text/latex": [
       "\\begin{tabular}{r|lllllll}\n",
       " Trt\\_Env & Trait & Env & mean & sd & method & pop\\\\\n",
       "\\hline\n",
       "\t Protein2013 & Protein     & 2013        & 0.589318    & 0.08036075  & BMORS       & GSDP       \\\\\n",
       "\t Protein2014 & Protein     & 2014        & 0.595846    & 0.07252157  & BMORS       & GSDP       \\\\\n",
       "\t Protein2017 & Protein     & 2017        & 0.535888    & 0.07492940  & BMORS       & GSDP       \\\\\n",
       "\t Starch2013  & Starch      & 2013        & 0.609576    & 0.06859110  & BMORS       & GSDP       \\\\\n",
       "\t Starch2014  & Starch      & 2014        & 0.643474    & 0.08344464  & BMORS       & GSDP       \\\\\n",
       "\t Starch2017  & Starch      & 2017        & 0.644112    & 0.07933876  & BMORS       & GSDP       \\\\\n",
       "\\end{tabular}\n"
      ],
      "text/markdown": [
       "\n",
       "| Trt_Env | Trait | Env | mean | sd | method | pop |\n",
       "|---|---|---|---|---|---|---|\n",
       "| Protein2013 | Protein     | 2013        | 0.589318    | 0.08036075  | BMORS       | GSDP        |\n",
       "| Protein2014 | Protein     | 2014        | 0.595846    | 0.07252157  | BMORS       | GSDP        |\n",
       "| Protein2017 | Protein     | 2017        | 0.535888    | 0.07492940  | BMORS       | GSDP        |\n",
       "| Starch2013  | Starch      | 2013        | 0.609576    | 0.06859110  | BMORS       | GSDP        |\n",
       "| Starch2014  | Starch      | 2014        | 0.643474    | 0.08344464  | BMORS       | GSDP        |\n",
       "| Starch2017  | Starch      | 2017        | 0.644112    | 0.07933876  | BMORS       | GSDP        |\n",
       "\n"
      ],
      "text/plain": [
       "  Trt_Env     Trait   Env  mean     sd         method pop \n",
       "1 Protein2013 Protein 2013 0.589318 0.08036075 BMORS  GSDP\n",
       "2 Protein2014 Protein 2014 0.595846 0.07252157 BMORS  GSDP\n",
       "3 Protein2017 Protein 2017 0.535888 0.07492940 BMORS  GSDP\n",
       "4 Starch2013  Starch  2013 0.609576 0.06859110 BMORS  GSDP\n",
       "5 Starch2014  Starch  2014 0.643474 0.08344464 BMORS  GSDP\n",
       "6 Starch2017  Starch  2017 0.644112 0.07933876 BMORS  GSDP"
      ]
     },
     "metadata": {},
     "output_type": "display_data"
    },
    {
     "data": {
      "text/html": [
       "<ol class=list-inline>\n",
       "\t<li>2250</li>\n",
       "\t<li>7</li>\n",
       "</ol>\n"
      ],
      "text/latex": [
       "\\begin{enumerate*}\n",
       "\\item 2250\n",
       "\\item 7\n",
       "\\end{enumerate*}\n"
      ],
      "text/markdown": [
       "1. 2250\n",
       "2. 7\n",
       "\n",
       "\n"
      ],
      "text/plain": [
       "[1] 2250    7"
      ]
     },
     "metadata": {},
     "output_type": "display_data"
    },
    {
     "data": {
      "text/html": [
       "<ol class=list-inline>\n",
       "\t<li>45</li>\n",
       "\t<li>7</li>\n",
       "</ol>\n"
      ],
      "text/latex": [
       "\\begin{enumerate*}\n",
       "\\item 45\n",
       "\\item 7\n",
       "\\end{enumerate*}\n"
      ],
      "text/markdown": [
       "1. 45\n",
       "2. 7\n",
       "\n",
       "\n"
      ],
      "text/plain": [
       "[1] 45  7"
      ]
     },
     "metadata": {},
     "output_type": "display_data"
    },
    {
     "name": "stdout",
     "output_type": "stream",
     "text": [
      "[1] \"------------------------------\"\n"
     ]
    }
   ],
   "source": [
    "pop <- 'GSDP'\n",
    "method <- 'BMORS'\n",
    "print(\"-------------BMORS-------------\")\n",
    "df <- read.csv('results/BMORS/SAP_BMORS_CV5.csv')\n",
    "df$Env <- df$Environment\n",
    "df$Trt_Env <- paste0(df$Trait,df$Env)\n",
    "df <- df[,c(8,3,7,4,5,6)]\n",
    "head(df)\n",
    "df2 <- df %>% group_by(Trt_Env,Trait, Env) %>% summarize(mean = mean(Pearson, na.rm=T), sd  = sd(Pearson, na.rm=T)) %>% mutate(method = method, pop=pop)\n",
    "df3 <- df %>% mutate(method=method, pop=pop)\n",
    "head(df3)\n",
    "\n",
    "df3 <- df3[,-6]\n",
    "colnames(df3) <- c('Trt_Env','Trait','Env','iter','r','method','pop')\n",
    "Mean <- rbind(Mean, df2)\n",
    "Total <- rbind(Total, df3)\n",
    "tail(Total)\n",
    "tail(Mean)\n",
    "dim(Total)\n",
    "dim(Mean)\n",
    "print(\"------------------------------\")"
   ]
  },
  {
   "cell_type": "code",
   "execution_count": 6,
   "metadata": {},
   "outputs": [
    {
     "name": "stdout",
     "output_type": "stream",
     "text": [
      "'data.frame':\t2250 obs. of  7 variables:\n",
      " $ Trt_Env: Factor w/ 15 levels \"Amylose2013\",..: 1 1 1 1 1 1 1 1 1 1 ...\n",
      " $ Trait  : Factor w/ 5 levels \"Amylose\",\"Fat\",..: 1 1 1 1 1 1 1 1 1 1 ...\n",
      " $ Env    : Factor w/ 3 levels \"2013\",\"2014\",..: 1 1 1 1 1 1 1 1 1 1 ...\n",
      " $ iter   : int  123 123 123 123 123 124 124 124 124 124 ...\n",
      " $ r      : num  0.15 0.135 0.322 0.325 0.177 ...\n",
      " $ method : chr  \"STSE\" \"STSE\" \"STSE\" \"STSE\" ...\n",
      " $ pop    : chr  \"GSDP\" \"GSDP\" \"GSDP\" \"GSDP\" ...\n",
      "Classes ‘grouped_df’, ‘tbl_df’, ‘tbl’ and 'data.frame':\t45 obs. of  7 variables:\n",
      " $ Trt_Env: chr  \"Amylose2013\" \"Amylose2014\" \"Amylose2017\" \"Fat2013\" ...\n",
      " $ Trait  : Factor w/ 5 levels \"Amylose\",\"Fat\",..: 1 1 1 2 2 2 3 3 3 4 ...\n",
      " $ Env    : Factor w/ 3 levels \"2013\",\"2014\",..: 1 2 3 1 2 3 1 2 3 1 ...\n",
      " $ mean   : num  0.22 0.398 0.137 0.421 0.469 ...\n",
      " $ sd     : num  0.1076 0.0775 0.087 0.0936 0.0922 ...\n",
      " $ method : chr  \"STSE\" \"STSE\" \"STSE\" \"STSE\" ...\n",
      " $ pop    : chr  \"GSDP\" \"GSDP\" \"GSDP\" \"GSDP\" ...\n",
      " - attr(*, \"groups\")=Classes ‘tbl_df’, ‘tbl’ and 'data.frame':\t15 obs. of  3 variables:\n",
      "  ..$ Trt_Env: chr  \"Amylose2013\" \"Amylose2014\" \"Amylose2017\" \"Fat2013\" ...\n",
      "  ..$ Trait  : Factor w/ 5 levels \"Amylose\",\"Fat\",..: 1 1 1 2 2 2 3 3 3 4 ...\n",
      "  ..$ .rows  :List of 15\n",
      "  .. ..$ : int  1 16 31\n",
      "  .. ..$ : int  2 17 32\n",
      "  .. ..$ : int  3 18 33\n",
      "  .. ..$ : int  4 19 34\n",
      "  .. ..$ : int  5 20 35\n",
      "  .. ..$ : int  6 21 36\n",
      "  .. ..$ : int  7 22 37\n",
      "  .. ..$ : int  8 23 38\n",
      "  .. ..$ : int  9 24 39\n",
      "  .. ..$ : int  10 25 40\n",
      "  .. ..$ : int  11 26 41\n",
      "  .. ..$ : int  12 27 42\n",
      "  .. ..$ : int  13 28 43\n",
      "  .. ..$ : int  14 29 44\n",
      "  .. ..$ : int  15 30 45\n",
      "  ..- attr(*, \".drop\")= logi TRUE\n"
     ]
    }
   ],
   "source": [
    "Total$Env <- as.factor(Total$Env)\n",
    "Mean$Env <- as.factor(Mean$Env)\n",
    "str(Total)\n",
    "str(Mean)"
   ]
  },
  {
   "cell_type": "markdown",
   "metadata": {},
   "source": [
    "### BTx642"
   ]
  },
  {
   "cell_type": "code",
   "execution_count": 7,
   "metadata": {},
   "outputs": [
    {
     "name": "stdout",
     "output_type": "stream",
     "text": [
      "[1] \"-------------STSE-------------\"\n"
     ]
    },
    {
     "data": {
      "text/html": [
       "<table>\n",
       "<thead><tr><th scope=col>Trt_Env</th><th scope=col>Trait</th><th scope=col>Env</th><th scope=col>mean</th><th scope=col>sd</th><th scope=col>method</th><th scope=col>pop</th></tr></thead>\n",
       "<tbody>\n",
       "\t<tr><td>Amylose_2014_SC</td><td>Amylose        </td><td>SC2014         </td><td>0.6249732      </td><td>0.08252417     </td><td>STSE           </td><td>RILs           </td></tr>\n",
       "\t<tr><td>Amylose_2014_TX</td><td>Amylose        </td><td>TX2014         </td><td>0.6936433      </td><td>0.07549285     </td><td>STSE           </td><td>RILs           </td></tr>\n",
       "\t<tr><td>Amylose_2015_SC</td><td>Amylose        </td><td>SC2015         </td><td>0.6008331      </td><td>0.07290417     </td><td>STSE           </td><td>RILs           </td></tr>\n",
       "\t<tr><td>Amylose_2015_TX</td><td>Amylose        </td><td>TX2015         </td><td>0.4298725      </td><td>0.13538181     </td><td>STSE           </td><td>RILs           </td></tr>\n",
       "\t<tr><td>Fat_2014_SC    </td><td>Fat            </td><td>SC2014         </td><td>0.4783133      </td><td>0.12185349     </td><td>STSE           </td><td>RILs           </td></tr>\n",
       "\t<tr><td>Fat_2014_TX    </td><td>Fat            </td><td>TX2014         </td><td>0.6235523      </td><td>0.09874833     </td><td>STSE           </td><td>RILs           </td></tr>\n",
       "</tbody>\n",
       "</table>\n"
      ],
      "text/latex": [
       "\\begin{tabular}{r|lllllll}\n",
       " Trt\\_Env & Trait & Env & mean & sd & method & pop\\\\\n",
       "\\hline\n",
       "\t Amylose\\_2014\\_SC & Amylose             & SC2014              & 0.6249732           & 0.08252417          & STSE                & RILs               \\\\\n",
       "\t Amylose\\_2014\\_TX & Amylose             & TX2014              & 0.6936433           & 0.07549285          & STSE                & RILs               \\\\\n",
       "\t Amylose\\_2015\\_SC & Amylose             & SC2015              & 0.6008331           & 0.07290417          & STSE                & RILs               \\\\\n",
       "\t Amylose\\_2015\\_TX & Amylose             & TX2015              & 0.4298725           & 0.13538181          & STSE                & RILs               \\\\\n",
       "\t Fat\\_2014\\_SC     & Fat                 & SC2014              & 0.4783133           & 0.12185349          & STSE                & RILs               \\\\\n",
       "\t Fat\\_2014\\_TX     & Fat                 & TX2014              & 0.6235523           & 0.09874833          & STSE                & RILs               \\\\\n",
       "\\end{tabular}\n"
      ],
      "text/markdown": [
       "\n",
       "| Trt_Env | Trait | Env | mean | sd | method | pop |\n",
       "|---|---|---|---|---|---|---|\n",
       "| Amylose_2014_SC | Amylose         | SC2014          | 0.6249732       | 0.08252417      | STSE            | RILs            |\n",
       "| Amylose_2014_TX | Amylose         | TX2014          | 0.6936433       | 0.07549285      | STSE            | RILs            |\n",
       "| Amylose_2015_SC | Amylose         | SC2015          | 0.6008331       | 0.07290417      | STSE            | RILs            |\n",
       "| Amylose_2015_TX | Amylose         | TX2015          | 0.4298725       | 0.13538181      | STSE            | RILs            |\n",
       "| Fat_2014_SC     | Fat             | SC2014          | 0.4783133       | 0.12185349      | STSE            | RILs            |\n",
       "| Fat_2014_TX     | Fat             | TX2014          | 0.6235523       | 0.09874833      | STSE            | RILs            |\n",
       "\n"
      ],
      "text/plain": [
       "  Trt_Env         Trait   Env    mean      sd         method pop \n",
       "1 Amylose_2014_SC Amylose SC2014 0.6249732 0.08252417 STSE   RILs\n",
       "2 Amylose_2014_TX Amylose TX2014 0.6936433 0.07549285 STSE   RILs\n",
       "3 Amylose_2015_SC Amylose SC2015 0.6008331 0.07290417 STSE   RILs\n",
       "4 Amylose_2015_TX Amylose TX2015 0.4298725 0.13538181 STSE   RILs\n",
       "5 Fat_2014_SC     Fat     SC2014 0.4783133 0.12185349 STSE   RILs\n",
       "6 Fat_2014_TX     Fat     TX2014 0.6235523 0.09874833 STSE   RILs"
      ]
     },
     "metadata": {},
     "output_type": "display_data"
    },
    {
     "data": {
      "text/html": [
       "<table>\n",
       "<thead><tr><th scope=col>Method</th><th scope=col>Trt_Env</th><th scope=col>Trait</th><th scope=col>Env</th><th scope=col>iter</th><th scope=col>r</th><th scope=col>method</th><th scope=col>pop</th></tr></thead>\n",
       "<tbody>\n",
       "\t<tr><td>STSE           </td><td>Amylose_2014_SC</td><td>Amylose        </td><td>SC2014         </td><td>123            </td><td>0.7016083      </td><td>STSE           </td><td>RILs           </td></tr>\n",
       "\t<tr><td>STSE           </td><td>Amylose_2014_SC</td><td>Amylose        </td><td>SC2014         </td><td>123            </td><td>0.6191129      </td><td>STSE           </td><td>RILs           </td></tr>\n",
       "\t<tr><td>STSE           </td><td>Amylose_2014_SC</td><td>Amylose        </td><td>SC2014         </td><td>123            </td><td>0.6777885      </td><td>STSE           </td><td>RILs           </td></tr>\n",
       "\t<tr><td>STSE           </td><td>Amylose_2014_SC</td><td>Amylose        </td><td>SC2014         </td><td>123            </td><td>0.5922830      </td><td>STSE           </td><td>RILs           </td></tr>\n",
       "\t<tr><td>STSE           </td><td>Amylose_2014_SC</td><td>Amylose        </td><td>SC2014         </td><td>123            </td><td>0.6388825      </td><td>STSE           </td><td>RILs           </td></tr>\n",
       "\t<tr><td>STSE           </td><td>Amylose_2014_SC</td><td>Amylose        </td><td>SC2014         </td><td>124            </td><td>0.5627731      </td><td>STSE           </td><td>RILs           </td></tr>\n",
       "</tbody>\n",
       "</table>\n"
      ],
      "text/latex": [
       "\\begin{tabular}{r|llllllll}\n",
       " Method & Trt\\_Env & Trait & Env & iter & r & method & pop\\\\\n",
       "\\hline\n",
       "\t STSE                & Amylose\\_2014\\_SC & Amylose             & SC2014              & 123                 & 0.7016083           & STSE                & RILs               \\\\\n",
       "\t STSE                & Amylose\\_2014\\_SC & Amylose             & SC2014              & 123                 & 0.6191129           & STSE                & RILs               \\\\\n",
       "\t STSE                & Amylose\\_2014\\_SC & Amylose             & SC2014              & 123                 & 0.6777885           & STSE                & RILs               \\\\\n",
       "\t STSE                & Amylose\\_2014\\_SC & Amylose             & SC2014              & 123                 & 0.5922830           & STSE                & RILs               \\\\\n",
       "\t STSE                & Amylose\\_2014\\_SC & Amylose             & SC2014              & 123                 & 0.6388825           & STSE                & RILs               \\\\\n",
       "\t STSE                & Amylose\\_2014\\_SC & Amylose             & SC2014              & 124                 & 0.5627731           & STSE                & RILs               \\\\\n",
       "\\end{tabular}\n"
      ],
      "text/markdown": [
       "\n",
       "| Method | Trt_Env | Trait | Env | iter | r | method | pop |\n",
       "|---|---|---|---|---|---|---|---|\n",
       "| STSE            | Amylose_2014_SC | Amylose         | SC2014          | 123             | 0.7016083       | STSE            | RILs            |\n",
       "| STSE            | Amylose_2014_SC | Amylose         | SC2014          | 123             | 0.6191129       | STSE            | RILs            |\n",
       "| STSE            | Amylose_2014_SC | Amylose         | SC2014          | 123             | 0.6777885       | STSE            | RILs            |\n",
       "| STSE            | Amylose_2014_SC | Amylose         | SC2014          | 123             | 0.5922830       | STSE            | RILs            |\n",
       "| STSE            | Amylose_2014_SC | Amylose         | SC2014          | 123             | 0.6388825       | STSE            | RILs            |\n",
       "| STSE            | Amylose_2014_SC | Amylose         | SC2014          | 124             | 0.5627731       | STSE            | RILs            |\n",
       "\n"
      ],
      "text/plain": [
       "  Method Trt_Env         Trait   Env    iter r         method pop \n",
       "1 STSE   Amylose_2014_SC Amylose SC2014 123  0.7016083 STSE   RILs\n",
       "2 STSE   Amylose_2014_SC Amylose SC2014 123  0.6191129 STSE   RILs\n",
       "3 STSE   Amylose_2014_SC Amylose SC2014 123  0.6777885 STSE   RILs\n",
       "4 STSE   Amylose_2014_SC Amylose SC2014 123  0.5922830 STSE   RILs\n",
       "5 STSE   Amylose_2014_SC Amylose SC2014 123  0.6388825 STSE   RILs\n",
       "6 STSE   Amylose_2014_SC Amylose SC2014 124  0.5627731 STSE   RILs"
      ]
     },
     "metadata": {},
     "output_type": "display_data"
    },
    {
     "name": "stderr",
     "output_type": "stream",
     "text": [
      "Warning message in bind_rows_(x, .id):\n",
      "“binding character and factor vector, coercing into character vector”Warning message in bind_rows_(x, .id):\n",
      "“Unequal factor levels: coercing to character”Warning message in bind_rows_(x, .id):\n",
      "“binding character and factor vector, coercing into character vector”Warning message in bind_rows_(x, .id):\n",
      "“binding character and factor vector, coercing into character vector”Warning message in bind_rows_(x, .id):\n",
      "“Unequal factor levels: coercing to character”Warning message in bind_rows_(x, .id):\n",
      "“binding character and factor vector, coercing into character vector”Warning message in bind_rows_(x, .id):\n",
      "“binding character and factor vector, coercing into character vector”"
     ]
    },
    {
     "data": {
      "text/html": [
       "<table>\n",
       "<thead><tr><th></th><th scope=col>Trt_Env</th><th scope=col>Trait</th><th scope=col>Env</th><th scope=col>iter</th><th scope=col>r</th><th scope=col>method</th><th scope=col>pop</th></tr></thead>\n",
       "<tbody>\n",
       "\t<tr><th scope=row>3245</th><td>Starch_2015_TX</td><td>Starch        </td><td>TX2015        </td><td>131           </td><td>0.4241567     </td><td>STSE          </td><td>RILs          </td></tr>\n",
       "\t<tr><th scope=row>3246</th><td>Starch_2015_TX</td><td>Starch        </td><td>TX2015        </td><td>132           </td><td>0.5303479     </td><td>STSE          </td><td>RILs          </td></tr>\n",
       "\t<tr><th scope=row>3247</th><td>Starch_2015_TX</td><td>Starch        </td><td>TX2015        </td><td>132           </td><td>0.4793256     </td><td>STSE          </td><td>RILs          </td></tr>\n",
       "\t<tr><th scope=row>3248</th><td>Starch_2015_TX</td><td>Starch        </td><td>TX2015        </td><td>132           </td><td>0.3995639     </td><td>STSE          </td><td>RILs          </td></tr>\n",
       "\t<tr><th scope=row>3249</th><td>Starch_2015_TX</td><td>Starch        </td><td>TX2015        </td><td>132           </td><td>0.4816534     </td><td>STSE          </td><td>RILs          </td></tr>\n",
       "\t<tr><th scope=row>3250</th><td>Starch_2015_TX</td><td>Starch        </td><td>TX2015        </td><td>132           </td><td>0.5917289     </td><td>STSE          </td><td>RILs          </td></tr>\n",
       "</tbody>\n",
       "</table>\n"
      ],
      "text/latex": [
       "\\begin{tabular}{r|lllllll}\n",
       "  & Trt\\_Env & Trait & Env & iter & r & method & pop\\\\\n",
       "\\hline\n",
       "\t3245 & Starch\\_2015\\_TX & Starch             & TX2015             & 131                & 0.4241567          & STSE               & RILs              \\\\\n",
       "\t3246 & Starch\\_2015\\_TX & Starch             & TX2015             & 132                & 0.5303479          & STSE               & RILs              \\\\\n",
       "\t3247 & Starch\\_2015\\_TX & Starch             & TX2015             & 132                & 0.4793256          & STSE               & RILs              \\\\\n",
       "\t3248 & Starch\\_2015\\_TX & Starch             & TX2015             & 132                & 0.3995639          & STSE               & RILs              \\\\\n",
       "\t3249 & Starch\\_2015\\_TX & Starch             & TX2015             & 132                & 0.4816534          & STSE               & RILs              \\\\\n",
       "\t3250 & Starch\\_2015\\_TX & Starch             & TX2015             & 132                & 0.5917289          & STSE               & RILs              \\\\\n",
       "\\end{tabular}\n"
      ],
      "text/markdown": [
       "\n",
       "| <!--/--> | Trt_Env | Trait | Env | iter | r | method | pop |\n",
       "|---|---|---|---|---|---|---|---|\n",
       "| 3245 | Starch_2015_TX | Starch         | TX2015         | 131            | 0.4241567      | STSE           | RILs           |\n",
       "| 3246 | Starch_2015_TX | Starch         | TX2015         | 132            | 0.5303479      | STSE           | RILs           |\n",
       "| 3247 | Starch_2015_TX | Starch         | TX2015         | 132            | 0.4793256      | STSE           | RILs           |\n",
       "| 3248 | Starch_2015_TX | Starch         | TX2015         | 132            | 0.3995639      | STSE           | RILs           |\n",
       "| 3249 | Starch_2015_TX | Starch         | TX2015         | 132            | 0.4816534      | STSE           | RILs           |\n",
       "| 3250 | Starch_2015_TX | Starch         | TX2015         | 132            | 0.5917289      | STSE           | RILs           |\n",
       "\n"
      ],
      "text/plain": [
       "     Trt_Env        Trait  Env    iter r         method pop \n",
       "3245 Starch_2015_TX Starch TX2015 131  0.4241567 STSE   RILs\n",
       "3246 Starch_2015_TX Starch TX2015 132  0.5303479 STSE   RILs\n",
       "3247 Starch_2015_TX Starch TX2015 132  0.4793256 STSE   RILs\n",
       "3248 Starch_2015_TX Starch TX2015 132  0.3995639 STSE   RILs\n",
       "3249 Starch_2015_TX Starch TX2015 132  0.4816534 STSE   RILs\n",
       "3250 Starch_2015_TX Starch TX2015 132  0.5917289 STSE   RILs"
      ]
     },
     "metadata": {},
     "output_type": "display_data"
    },
    {
     "data": {
      "text/html": [
       "<table>\n",
       "<thead><tr><th scope=col>Trt_Env</th><th scope=col>Trait</th><th scope=col>Env</th><th scope=col>mean</th><th scope=col>sd</th><th scope=col>method</th><th scope=col>pop</th></tr></thead>\n",
       "<tbody>\n",
       "\t<tr><td>Protein_2015_SC</td><td>Protein        </td><td>SC2015         </td><td>0.5460296      </td><td>0.09128949     </td><td>STSE           </td><td>RILs           </td></tr>\n",
       "\t<tr><td>Protein_2015_TX</td><td>Protein        </td><td>TX2015         </td><td>0.5416776      </td><td>0.10667813     </td><td>STSE           </td><td>RILs           </td></tr>\n",
       "\t<tr><td>Starch_2014_SC </td><td>Starch         </td><td>SC2014         </td><td>0.4864653      </td><td>0.12267370     </td><td>STSE           </td><td>RILs           </td></tr>\n",
       "\t<tr><td>Starch_2014_TX </td><td>Starch         </td><td>TX2014         </td><td>0.4111379      </td><td>0.12081320     </td><td>STSE           </td><td>RILs           </td></tr>\n",
       "\t<tr><td>Starch_2015_SC </td><td>Starch         </td><td>SC2015         </td><td>0.3618569      </td><td>0.11660322     </td><td>STSE           </td><td>RILs           </td></tr>\n",
       "\t<tr><td>Starch_2015_TX </td><td>Starch         </td><td>TX2015         </td><td>0.4640375      </td><td>0.11491060     </td><td>STSE           </td><td>RILs           </td></tr>\n",
       "</tbody>\n",
       "</table>\n"
      ],
      "text/latex": [
       "\\begin{tabular}{r|lllllll}\n",
       " Trt\\_Env & Trait & Env & mean & sd & method & pop\\\\\n",
       "\\hline\n",
       "\t Protein\\_2015\\_SC & Protein             & SC2015              & 0.5460296           & 0.09128949          & STSE                & RILs               \\\\\n",
       "\t Protein\\_2015\\_TX & Protein             & TX2015              & 0.5416776           & 0.10667813          & STSE                & RILs               \\\\\n",
       "\t Starch\\_2014\\_SC  & Starch              & SC2014              & 0.4864653           & 0.12267370          & STSE                & RILs               \\\\\n",
       "\t Starch\\_2014\\_TX  & Starch              & TX2014              & 0.4111379           & 0.12081320          & STSE                & RILs               \\\\\n",
       "\t Starch\\_2015\\_SC  & Starch              & SC2015              & 0.3618569           & 0.11660322          & STSE                & RILs               \\\\\n",
       "\t Starch\\_2015\\_TX  & Starch              & TX2015              & 0.4640375           & 0.11491060          & STSE                & RILs               \\\\\n",
       "\\end{tabular}\n"
      ],
      "text/markdown": [
       "\n",
       "| Trt_Env | Trait | Env | mean | sd | method | pop |\n",
       "|---|---|---|---|---|---|---|\n",
       "| Protein_2015_SC | Protein         | SC2015          | 0.5460296       | 0.09128949      | STSE            | RILs            |\n",
       "| Protein_2015_TX | Protein         | TX2015          | 0.5416776       | 0.10667813      | STSE            | RILs            |\n",
       "| Starch_2014_SC  | Starch          | SC2014          | 0.4864653       | 0.12267370      | STSE            | RILs            |\n",
       "| Starch_2014_TX  | Starch          | TX2014          | 0.4111379       | 0.12081320      | STSE            | RILs            |\n",
       "| Starch_2015_SC  | Starch          | SC2015          | 0.3618569       | 0.11660322      | STSE            | RILs            |\n",
       "| Starch_2015_TX  | Starch          | TX2015          | 0.4640375       | 0.11491060      | STSE            | RILs            |\n",
       "\n"
      ],
      "text/plain": [
       "  Trt_Env         Trait   Env    mean      sd         method pop \n",
       "1 Protein_2015_SC Protein SC2015 0.5460296 0.09128949 STSE   RILs\n",
       "2 Protein_2015_TX Protein TX2015 0.5416776 0.10667813 STSE   RILs\n",
       "3 Starch_2014_SC  Starch  SC2014 0.4864653 0.12267370 STSE   RILs\n",
       "4 Starch_2014_TX  Starch  TX2014 0.4111379 0.12081320 STSE   RILs\n",
       "5 Starch_2015_SC  Starch  SC2015 0.3618569 0.11660322 STSE   RILs\n",
       "6 Starch_2015_TX  Starch  TX2015 0.4640375 0.11491060 STSE   RILs"
      ]
     },
     "metadata": {},
     "output_type": "display_data"
    },
    {
     "data": {
      "text/html": [
       "<ol class=list-inline>\n",
       "\t<li>65</li>\n",
       "\t<li>7</li>\n",
       "</ol>\n"
      ],
      "text/latex": [
       "\\begin{enumerate*}\n",
       "\\item 65\n",
       "\\item 7\n",
       "\\end{enumerate*}\n"
      ],
      "text/markdown": [
       "1. 65\n",
       "2. 7\n",
       "\n",
       "\n"
      ],
      "text/plain": [
       "[1] 65  7"
      ]
     },
     "metadata": {},
     "output_type": "display_data"
    },
    {
     "name": "stdout",
     "output_type": "stream",
     "text": [
      "[1] \"------------------------------\"\n"
     ]
    }
   ],
   "source": [
    "pop <- 'RILs'\n",
    "method <- 'STSE'\n",
    "print(\"-------------STSE-------------\")\n",
    "df <- read.csv('results/STSE/BTx642_STSE_CV5.csv')\n",
    "df2 <- df %>% group_by(Trt_Env,Trait, Env) %>% summarize(mean = mean(r, na.rm=T), sd  = sd(r, na.rm=T)) %>% mutate(method = method, pop=pop)\n",
    "head(df2)\n",
    "df3 <- df %>% mutate(method=method, pop=pop)\n",
    "head(df3)\n",
    "df3 <- df3[,c(2,3,4,5,6,7,8)]\n",
    "colnames(df3) <- c('Trt_Env','Trait','Env','iter','r','method','pop')\n",
    "Mean <- rbind(Mean, df2)\n",
    "Total <- rbind(Total, df3)\n",
    "tail(Total)\n",
    "tail(Mean)\n",
    "dim(Mean)\n",
    "print(\"------------------------------\")"
   ]
  },
  {
   "cell_type": "code",
   "execution_count": 8,
   "metadata": {},
   "outputs": [
    {
     "name": "stdout",
     "output_type": "stream",
     "text": [
      "[1] \"-------------BME-------------\"\n"
     ]
    },
    {
     "data": {
      "text/html": [
       "<table>\n",
       "<thead><tr><th scope=col>Trt_Env</th><th scope=col>Trait</th><th scope=col>Env</th><th scope=col>mean</th><th scope=col>sd</th><th scope=col>method</th><th scope=col>pop</th></tr></thead>\n",
       "<tbody>\n",
       "\t<tr><td>Amylose_2014_SC</td><td>Amylose        </td><td>SC2014         </td><td>0.635140       </td><td>0.08088200     </td><td>BME            </td><td>RILs           </td></tr>\n",
       "\t<tr><td>Amylose_2014_TX</td><td>Amylose        </td><td>TX2014         </td><td>0.683134       </td><td>0.07665743     </td><td>BME            </td><td>RILs           </td></tr>\n",
       "\t<tr><td>Amylose_2015_SC</td><td>Amylose        </td><td>SC2015         </td><td>0.595918       </td><td>0.09706977     </td><td>BME            </td><td>RILs           </td></tr>\n",
       "\t<tr><td>Amylose_2015_TX</td><td>Amylose        </td><td>TX2015         </td><td>0.481038       </td><td>0.10567555     </td><td>BME            </td><td>RILs           </td></tr>\n",
       "\t<tr><td>Fat_2014_SC    </td><td>Fat            </td><td>SC2014         </td><td>0.502046       </td><td>0.11479603     </td><td>BME            </td><td>RILs           </td></tr>\n",
       "\t<tr><td>Fat_2014_TX    </td><td>Fat            </td><td>TX2014         </td><td>0.631272       </td><td>0.09762935     </td><td>BME            </td><td>RILs           </td></tr>\n",
       "</tbody>\n",
       "</table>\n"
      ],
      "text/latex": [
       "\\begin{tabular}{r|lllllll}\n",
       " Trt\\_Env & Trait & Env & mean & sd & method & pop\\\\\n",
       "\\hline\n",
       "\t Amylose\\_2014\\_SC & Amylose             & SC2014              & 0.635140            & 0.08088200          & BME                 & RILs               \\\\\n",
       "\t Amylose\\_2014\\_TX & Amylose             & TX2014              & 0.683134            & 0.07665743          & BME                 & RILs               \\\\\n",
       "\t Amylose\\_2015\\_SC & Amylose             & SC2015              & 0.595918            & 0.09706977          & BME                 & RILs               \\\\\n",
       "\t Amylose\\_2015\\_TX & Amylose             & TX2015              & 0.481038            & 0.10567555          & BME                 & RILs               \\\\\n",
       "\t Fat\\_2014\\_SC     & Fat                 & SC2014              & 0.502046            & 0.11479603          & BME                 & RILs               \\\\\n",
       "\t Fat\\_2014\\_TX     & Fat                 & TX2014              & 0.631272            & 0.09762935          & BME                 & RILs               \\\\\n",
       "\\end{tabular}\n"
      ],
      "text/markdown": [
       "\n",
       "| Trt_Env | Trait | Env | mean | sd | method | pop |\n",
       "|---|---|---|---|---|---|---|\n",
       "| Amylose_2014_SC | Amylose         | SC2014          | 0.635140        | 0.08088200      | BME             | RILs            |\n",
       "| Amylose_2014_TX | Amylose         | TX2014          | 0.683134        | 0.07665743      | BME             | RILs            |\n",
       "| Amylose_2015_SC | Amylose         | SC2015          | 0.595918        | 0.09706977      | BME             | RILs            |\n",
       "| Amylose_2015_TX | Amylose         | TX2015          | 0.481038        | 0.10567555      | BME             | RILs            |\n",
       "| Fat_2014_SC     | Fat             | SC2014          | 0.502046        | 0.11479603      | BME             | RILs            |\n",
       "| Fat_2014_TX     | Fat             | TX2014          | 0.631272        | 0.09762935      | BME             | RILs            |\n",
       "\n"
      ],
      "text/plain": [
       "  Trt_Env         Trait   Env    mean     sd         method pop \n",
       "1 Amylose_2014_SC Amylose SC2014 0.635140 0.08088200 BME    RILs\n",
       "2 Amylose_2014_TX Amylose TX2014 0.683134 0.07665743 BME    RILs\n",
       "3 Amylose_2015_SC Amylose SC2015 0.595918 0.09706977 BME    RILs\n",
       "4 Amylose_2015_TX Amylose TX2015 0.481038 0.10567555 BME    RILs\n",
       "5 Fat_2014_SC     Fat     SC2014 0.502046 0.11479603 BME    RILs\n",
       "6 Fat_2014_TX     Fat     TX2014 0.631272 0.09762935 BME    RILs"
      ]
     },
     "metadata": {},
     "output_type": "display_data"
    },
    {
     "data": {
      "text/html": [
       "<table>\n",
       "<thead><tr><th scope=col>Method</th><th scope=col>Trait</th><th scope=col>Seed</th><th scope=col>Trt_Env</th><th scope=col>Env</th><th scope=col>Pearson</th><th scope=col>MAAPE</th><th scope=col>method</th><th scope=col>pop</th></tr></thead>\n",
       "<tbody>\n",
       "\t<tr><td>BME            </td><td>Amylose        </td><td>123            </td><td>Amylose_2014_SC</td><td>SC2014         </td><td>0.5093         </td><td>0.6472         </td><td>BME            </td><td>RILs           </td></tr>\n",
       "\t<tr><td>BME            </td><td>Amylose        </td><td>123            </td><td>Amylose_2014_SC</td><td>SC2014         </td><td>0.7280         </td><td>0.6400         </td><td>BME            </td><td>RILs           </td></tr>\n",
       "\t<tr><td>BME            </td><td>Amylose        </td><td>123            </td><td>Amylose_2014_SC</td><td>SC2014         </td><td>0.5294         </td><td>0.6812         </td><td>BME            </td><td>RILs           </td></tr>\n",
       "\t<tr><td>BME            </td><td>Amylose        </td><td>123            </td><td>Amylose_2014_SC</td><td>SC2014         </td><td>0.6406         </td><td>0.6424         </td><td>BME            </td><td>RILs           </td></tr>\n",
       "\t<tr><td>BME            </td><td>Amylose        </td><td>123            </td><td>Amylose_2014_SC</td><td>SC2014         </td><td>0.7210         </td><td>0.5947         </td><td>BME            </td><td>RILs           </td></tr>\n",
       "\t<tr><td>BME            </td><td>Amylose        </td><td>123            </td><td>Amylose_2014_TX</td><td>TX2014         </td><td>0.5316         </td><td>0.6573         </td><td>BME            </td><td>RILs           </td></tr>\n",
       "</tbody>\n",
       "</table>\n"
      ],
      "text/latex": [
       "\\begin{tabular}{r|lllllllll}\n",
       " Method & Trait & Seed & Trt\\_Env & Env & Pearson & MAAPE & method & pop\\\\\n",
       "\\hline\n",
       "\t BME                 & Amylose             & 123                 & Amylose\\_2014\\_SC & SC2014              & 0.5093              & 0.6472              & BME                 & RILs               \\\\\n",
       "\t BME                 & Amylose             & 123                 & Amylose\\_2014\\_SC & SC2014              & 0.7280              & 0.6400              & BME                 & RILs               \\\\\n",
       "\t BME                 & Amylose             & 123                 & Amylose\\_2014\\_SC & SC2014              & 0.5294              & 0.6812              & BME                 & RILs               \\\\\n",
       "\t BME                 & Amylose             & 123                 & Amylose\\_2014\\_SC & SC2014              & 0.6406              & 0.6424              & BME                 & RILs               \\\\\n",
       "\t BME                 & Amylose             & 123                 & Amylose\\_2014\\_SC & SC2014              & 0.7210              & 0.5947              & BME                 & RILs               \\\\\n",
       "\t BME                 & Amylose             & 123                 & Amylose\\_2014\\_TX & TX2014              & 0.5316              & 0.6573              & BME                 & RILs               \\\\\n",
       "\\end{tabular}\n"
      ],
      "text/markdown": [
       "\n",
       "| Method | Trait | Seed | Trt_Env | Env | Pearson | MAAPE | method | pop |\n",
       "|---|---|---|---|---|---|---|---|---|\n",
       "| BME             | Amylose         | 123             | Amylose_2014_SC | SC2014          | 0.5093          | 0.6472          | BME             | RILs            |\n",
       "| BME             | Amylose         | 123             | Amylose_2014_SC | SC2014          | 0.7280          | 0.6400          | BME             | RILs            |\n",
       "| BME             | Amylose         | 123             | Amylose_2014_SC | SC2014          | 0.5294          | 0.6812          | BME             | RILs            |\n",
       "| BME             | Amylose         | 123             | Amylose_2014_SC | SC2014          | 0.6406          | 0.6424          | BME             | RILs            |\n",
       "| BME             | Amylose         | 123             | Amylose_2014_SC | SC2014          | 0.7210          | 0.5947          | BME             | RILs            |\n",
       "| BME             | Amylose         | 123             | Amylose_2014_TX | TX2014          | 0.5316          | 0.6573          | BME             | RILs            |\n",
       "\n"
      ],
      "text/plain": [
       "  Method Trait   Seed Trt_Env         Env    Pearson MAAPE  method pop \n",
       "1 BME    Amylose 123  Amylose_2014_SC SC2014 0.5093  0.6472 BME    RILs\n",
       "2 BME    Amylose 123  Amylose_2014_SC SC2014 0.7280  0.6400 BME    RILs\n",
       "3 BME    Amylose 123  Amylose_2014_SC SC2014 0.5294  0.6812 BME    RILs\n",
       "4 BME    Amylose 123  Amylose_2014_SC SC2014 0.6406  0.6424 BME    RILs\n",
       "5 BME    Amylose 123  Amylose_2014_SC SC2014 0.7210  0.5947 BME    RILs\n",
       "6 BME    Amylose 123  Amylose_2014_TX TX2014 0.5316  0.6573 BME    RILs"
      ]
     },
     "metadata": {},
     "output_type": "display_data"
    },
    {
     "name": "stderr",
     "output_type": "stream",
     "text": [
      "Warning message in bind_rows_(x, .id):\n",
      "“binding character and factor vector, coercing into character vector”Warning message in bind_rows_(x, .id):\n",
      "“binding character and factor vector, coercing into character vector”Warning message in bind_rows_(x, .id):\n",
      "“binding character and factor vector, coercing into character vector”"
     ]
    },
    {
     "data": {
      "text/html": [
       "<table>\n",
       "<thead><tr><th></th><th scope=col>Trt_Env</th><th scope=col>Trait</th><th scope=col>Env</th><th scope=col>iter</th><th scope=col>r</th><th scope=col>method</th><th scope=col>pop</th></tr></thead>\n",
       "<tbody>\n",
       "\t<tr><th scope=row>4245</th><td>Starch_2015_SC</td><td>Starch        </td><td>SC2015        </td><td>132           </td><td>0.3535        </td><td>BME           </td><td>RILs          </td></tr>\n",
       "\t<tr><th scope=row>4246</th><td>Starch_2015_TX</td><td>Starch        </td><td>TX2015        </td><td>132           </td><td>0.4472        </td><td>BME           </td><td>RILs          </td></tr>\n",
       "\t<tr><th scope=row>4247</th><td>Starch_2015_TX</td><td>Starch        </td><td>TX2015        </td><td>132           </td><td>0.4889        </td><td>BME           </td><td>RILs          </td></tr>\n",
       "\t<tr><th scope=row>4248</th><td>Starch_2015_TX</td><td>Starch        </td><td>TX2015        </td><td>132           </td><td>0.6473        </td><td>BME           </td><td>RILs          </td></tr>\n",
       "\t<tr><th scope=row>4249</th><td>Starch_2015_TX</td><td>Starch        </td><td>TX2015        </td><td>132           </td><td>0.4135        </td><td>BME           </td><td>RILs          </td></tr>\n",
       "\t<tr><th scope=row>4250</th><td>Starch_2015_TX</td><td>Starch        </td><td>TX2015        </td><td>132           </td><td>0.5471        </td><td>BME           </td><td>RILs          </td></tr>\n",
       "</tbody>\n",
       "</table>\n"
      ],
      "text/latex": [
       "\\begin{tabular}{r|lllllll}\n",
       "  & Trt\\_Env & Trait & Env & iter & r & method & pop\\\\\n",
       "\\hline\n",
       "\t4245 & Starch\\_2015\\_SC & Starch             & SC2015             & 132                & 0.3535             & BME                & RILs              \\\\\n",
       "\t4246 & Starch\\_2015\\_TX & Starch             & TX2015             & 132                & 0.4472             & BME                & RILs              \\\\\n",
       "\t4247 & Starch\\_2015\\_TX & Starch             & TX2015             & 132                & 0.4889             & BME                & RILs              \\\\\n",
       "\t4248 & Starch\\_2015\\_TX & Starch             & TX2015             & 132                & 0.6473             & BME                & RILs              \\\\\n",
       "\t4249 & Starch\\_2015\\_TX & Starch             & TX2015             & 132                & 0.4135             & BME                & RILs              \\\\\n",
       "\t4250 & Starch\\_2015\\_TX & Starch             & TX2015             & 132                & 0.5471             & BME                & RILs              \\\\\n",
       "\\end{tabular}\n"
      ],
      "text/markdown": [
       "\n",
       "| <!--/--> | Trt_Env | Trait | Env | iter | r | method | pop |\n",
       "|---|---|---|---|---|---|---|---|\n",
       "| 4245 | Starch_2015_SC | Starch         | SC2015         | 132            | 0.3535         | BME            | RILs           |\n",
       "| 4246 | Starch_2015_TX | Starch         | TX2015         | 132            | 0.4472         | BME            | RILs           |\n",
       "| 4247 | Starch_2015_TX | Starch         | TX2015         | 132            | 0.4889         | BME            | RILs           |\n",
       "| 4248 | Starch_2015_TX | Starch         | TX2015         | 132            | 0.6473         | BME            | RILs           |\n",
       "| 4249 | Starch_2015_TX | Starch         | TX2015         | 132            | 0.4135         | BME            | RILs           |\n",
       "| 4250 | Starch_2015_TX | Starch         | TX2015         | 132            | 0.5471         | BME            | RILs           |\n",
       "\n"
      ],
      "text/plain": [
       "     Trt_Env        Trait  Env    iter r      method pop \n",
       "4245 Starch_2015_SC Starch SC2015 132  0.3535 BME    RILs\n",
       "4246 Starch_2015_TX Starch TX2015 132  0.4472 BME    RILs\n",
       "4247 Starch_2015_TX Starch TX2015 132  0.4889 BME    RILs\n",
       "4248 Starch_2015_TX Starch TX2015 132  0.6473 BME    RILs\n",
       "4249 Starch_2015_TX Starch TX2015 132  0.4135 BME    RILs\n",
       "4250 Starch_2015_TX Starch TX2015 132  0.5471 BME    RILs"
      ]
     },
     "metadata": {},
     "output_type": "display_data"
    },
    {
     "data": {
      "text/html": [
       "<table>\n",
       "<thead><tr><th scope=col>Trt_Env</th><th scope=col>Trait</th><th scope=col>Env</th><th scope=col>mean</th><th scope=col>sd</th><th scope=col>method</th><th scope=col>pop</th></tr></thead>\n",
       "<tbody>\n",
       "\t<tr><td>Protein_2015_SC</td><td>Protein        </td><td>SC2015         </td><td>0.546416       </td><td>0.09369903     </td><td>BME            </td><td>RILs           </td></tr>\n",
       "\t<tr><td>Protein_2015_TX</td><td>Protein        </td><td>TX2015         </td><td>0.517384       </td><td>0.08944672     </td><td>BME            </td><td>RILs           </td></tr>\n",
       "\t<tr><td>Starch_2014_SC </td><td>Starch         </td><td>SC2014         </td><td>0.508504       </td><td>0.10010714     </td><td>BME            </td><td>RILs           </td></tr>\n",
       "\t<tr><td>Starch_2014_TX </td><td>Starch         </td><td>TX2014         </td><td>0.436076       </td><td>0.13119834     </td><td>BME            </td><td>RILs           </td></tr>\n",
       "\t<tr><td>Starch_2015_SC </td><td>Starch         </td><td>SC2015         </td><td>0.345086       </td><td>0.12271944     </td><td>BME            </td><td>RILs           </td></tr>\n",
       "\t<tr><td>Starch_2015_TX </td><td>Starch         </td><td>TX2015         </td><td>0.482510       </td><td>0.10917001     </td><td>BME            </td><td>RILs           </td></tr>\n",
       "</tbody>\n",
       "</table>\n"
      ],
      "text/latex": [
       "\\begin{tabular}{r|lllllll}\n",
       " Trt\\_Env & Trait & Env & mean & sd & method & pop\\\\\n",
       "\\hline\n",
       "\t Protein\\_2015\\_SC & Protein             & SC2015              & 0.546416            & 0.09369903          & BME                 & RILs               \\\\\n",
       "\t Protein\\_2015\\_TX & Protein             & TX2015              & 0.517384            & 0.08944672          & BME                 & RILs               \\\\\n",
       "\t Starch\\_2014\\_SC  & Starch              & SC2014              & 0.508504            & 0.10010714          & BME                 & RILs               \\\\\n",
       "\t Starch\\_2014\\_TX  & Starch              & TX2014              & 0.436076            & 0.13119834          & BME                 & RILs               \\\\\n",
       "\t Starch\\_2015\\_SC  & Starch              & SC2015              & 0.345086            & 0.12271944          & BME                 & RILs               \\\\\n",
       "\t Starch\\_2015\\_TX  & Starch              & TX2015              & 0.482510            & 0.10917001          & BME                 & RILs               \\\\\n",
       "\\end{tabular}\n"
      ],
      "text/markdown": [
       "\n",
       "| Trt_Env | Trait | Env | mean | sd | method | pop |\n",
       "|---|---|---|---|---|---|---|\n",
       "| Protein_2015_SC | Protein         | SC2015          | 0.546416        | 0.09369903      | BME             | RILs            |\n",
       "| Protein_2015_TX | Protein         | TX2015          | 0.517384        | 0.08944672      | BME             | RILs            |\n",
       "| Starch_2014_SC  | Starch          | SC2014          | 0.508504        | 0.10010714      | BME             | RILs            |\n",
       "| Starch_2014_TX  | Starch          | TX2014          | 0.436076        | 0.13119834      | BME             | RILs            |\n",
       "| Starch_2015_SC  | Starch          | SC2015          | 0.345086        | 0.12271944      | BME             | RILs            |\n",
       "| Starch_2015_TX  | Starch          | TX2015          | 0.482510        | 0.10917001      | BME             | RILs            |\n",
       "\n"
      ],
      "text/plain": [
       "  Trt_Env         Trait   Env    mean     sd         method pop \n",
       "1 Protein_2015_SC Protein SC2015 0.546416 0.09369903 BME    RILs\n",
       "2 Protein_2015_TX Protein TX2015 0.517384 0.08944672 BME    RILs\n",
       "3 Starch_2014_SC  Starch  SC2014 0.508504 0.10010714 BME    RILs\n",
       "4 Starch_2014_TX  Starch  TX2014 0.436076 0.13119834 BME    RILs\n",
       "5 Starch_2015_SC  Starch  SC2015 0.345086 0.12271944 BME    RILs\n",
       "6 Starch_2015_TX  Starch  TX2015 0.482510 0.10917001 BME    RILs"
      ]
     },
     "metadata": {},
     "output_type": "display_data"
    },
    {
     "data": {
      "text/html": [
       "<ol class=list-inline>\n",
       "\t<li>85</li>\n",
       "\t<li>7</li>\n",
       "</ol>\n"
      ],
      "text/latex": [
       "\\begin{enumerate*}\n",
       "\\item 85\n",
       "\\item 7\n",
       "\\end{enumerate*}\n"
      ],
      "text/markdown": [
       "1. 85\n",
       "2. 7\n",
       "\n",
       "\n"
      ],
      "text/plain": [
       "[1] 85  7"
      ]
     },
     "metadata": {},
     "output_type": "display_data"
    },
    {
     "name": "stdout",
     "output_type": "stream",
     "text": [
      "[1] \"------------------------------\"\n"
     ]
    }
   ],
   "source": [
    "pop <- 'RILs'\n",
    "method <- 'BME'\n",
    "\n",
    "print(\"-------------BME-------------\")\n",
    "df <- read.csv('results/BME/BTx642_BME_CV5_complete.csv')\n",
    "df2 <- df %>% group_by(Trt_Env,Trait, Env) %>% summarize(mean = mean(Pearson, na.rm=T), sd  = sd(Pearson, na.rm=T)) %>% mutate(method = method, pop=pop)\n",
    "head(df2)\n",
    "df3 <- df %>% mutate(method=method, pop=pop)\n",
    "head(df3)\n",
    "df3 <- df3[,c(4,2,5,3,6,8,9)]\n",
    "colnames(df3) <- c('Trt_Env','Trait','Env','iter','r','method','pop')\n",
    "Mean <- rbind(Mean, df2)\n",
    "Total <- rbind(Total, df3)\n",
    "tail(Total)\n",
    "tail(Mean)\n",
    "dim(Mean)\n",
    "print(\"------------------------------\")"
   ]
  },
  {
   "cell_type": "code",
   "execution_count": 10,
   "metadata": {},
   "outputs": [
    {
     "name": "stdout",
     "output_type": "stream",
     "text": [
      "[1] \"-------------BMORS-------------\"\n"
     ]
    },
    {
     "data": {
      "text/html": [
       "<table>\n",
       "<thead><tr><th scope=col>Trt_Env</th><th scope=col>Trait</th><th scope=col>Env</th><th scope=col>Partition</th><th scope=col>Pearson</th><th scope=col>MAAPE</th></tr></thead>\n",
       "<tbody>\n",
       "\t<tr><td>AmyloseSC2014</td><td>Amylose      </td><td>SC2014       </td><td>1            </td><td>0.6543       </td><td>0.6416       </td></tr>\n",
       "\t<tr><td>AmyloseSC2014</td><td>Amylose      </td><td>SC2014       </td><td>2            </td><td>0.8546       </td><td>0.6031       </td></tr>\n",
       "\t<tr><td>AmyloseSC2014</td><td>Amylose      </td><td>SC2014       </td><td>3            </td><td>0.9042       </td><td>0.5401       </td></tr>\n",
       "\t<tr><td>AmyloseSC2014</td><td>Amylose      </td><td>SC2014       </td><td>4            </td><td>0.8312       </td><td>0.5000       </td></tr>\n",
       "\t<tr><td>AmyloseSC2014</td><td>Amylose      </td><td>SC2014       </td><td>5            </td><td>0.8084       </td><td>0.4472       </td></tr>\n",
       "\t<tr><td>FatSC2014    </td><td>Fat          </td><td>SC2014       </td><td>1            </td><td>0.5807       </td><td>0.6632       </td></tr>\n",
       "</tbody>\n",
       "</table>\n"
      ],
      "text/latex": [
       "\\begin{tabular}{r|llllll}\n",
       " Trt\\_Env & Trait & Env & Partition & Pearson & MAAPE\\\\\n",
       "\\hline\n",
       "\t AmyloseSC2014 & Amylose       & SC2014        & 1             & 0.6543        & 0.6416       \\\\\n",
       "\t AmyloseSC2014 & Amylose       & SC2014        & 2             & 0.8546        & 0.6031       \\\\\n",
       "\t AmyloseSC2014 & Amylose       & SC2014        & 3             & 0.9042        & 0.5401       \\\\\n",
       "\t AmyloseSC2014 & Amylose       & SC2014        & 4             & 0.8312        & 0.5000       \\\\\n",
       "\t AmyloseSC2014 & Amylose       & SC2014        & 5             & 0.8084        & 0.4472       \\\\\n",
       "\t FatSC2014     & Fat           & SC2014        & 1             & 0.5807        & 0.6632       \\\\\n",
       "\\end{tabular}\n"
      ],
      "text/markdown": [
       "\n",
       "| Trt_Env | Trait | Env | Partition | Pearson | MAAPE |\n",
       "|---|---|---|---|---|---|\n",
       "| AmyloseSC2014 | Amylose       | SC2014        | 1             | 0.6543        | 0.6416        |\n",
       "| AmyloseSC2014 | Amylose       | SC2014        | 2             | 0.8546        | 0.6031        |\n",
       "| AmyloseSC2014 | Amylose       | SC2014        | 3             | 0.9042        | 0.5401        |\n",
       "| AmyloseSC2014 | Amylose       | SC2014        | 4             | 0.8312        | 0.5000        |\n",
       "| AmyloseSC2014 | Amylose       | SC2014        | 5             | 0.8084        | 0.4472        |\n",
       "| FatSC2014     | Fat           | SC2014        | 1             | 0.5807        | 0.6632        |\n",
       "\n"
      ],
      "text/plain": [
       "  Trt_Env       Trait   Env    Partition Pearson MAAPE \n",
       "1 AmyloseSC2014 Amylose SC2014 1         0.6543  0.6416\n",
       "2 AmyloseSC2014 Amylose SC2014 2         0.8546  0.6031\n",
       "3 AmyloseSC2014 Amylose SC2014 3         0.9042  0.5401\n",
       "4 AmyloseSC2014 Amylose SC2014 4         0.8312  0.5000\n",
       "5 AmyloseSC2014 Amylose SC2014 5         0.8084  0.4472\n",
       "6 FatSC2014     Fat     SC2014 1         0.5807  0.6632"
      ]
     },
     "metadata": {},
     "output_type": "display_data"
    },
    {
     "data": {
      "text/html": [
       "<table>\n",
       "<thead><tr><th scope=col>Trt_Env</th><th scope=col>Trait</th><th scope=col>Env</th><th scope=col>mean</th><th scope=col>sd</th><th scope=col>method</th><th scope=col>pop</th></tr></thead>\n",
       "<tbody>\n",
       "\t<tr><td>AmyloseSC2014</td><td>Amylose      </td><td>SC2014       </td><td>0.797620     </td><td>0.06399390   </td><td>BMORS        </td><td>RILs         </td></tr>\n",
       "\t<tr><td>AmyloseSC2015</td><td>Amylose      </td><td>SC2015       </td><td>0.763256     </td><td>0.05016324   </td><td>BMORS        </td><td>RILs         </td></tr>\n",
       "\t<tr><td>AmyloseTX2014</td><td>Amylose      </td><td>TX2014       </td><td>0.864620     </td><td>0.03631785   </td><td>BMORS        </td><td>RILs         </td></tr>\n",
       "\t<tr><td>AmyloseTX2015</td><td>Amylose      </td><td>TX2015       </td><td>0.613468     </td><td>0.13824039   </td><td>BMORS        </td><td>RILs         </td></tr>\n",
       "\t<tr><td>FatSC2014    </td><td>Fat          </td><td>SC2014       </td><td>0.634744     </td><td>0.07122454   </td><td>BMORS        </td><td>RILs         </td></tr>\n",
       "\t<tr><td>FatSC2015    </td><td>Fat          </td><td>SC2015       </td><td>0.511574     </td><td>0.10213975   </td><td>BMORS        </td><td>RILs         </td></tr>\n",
       "</tbody>\n",
       "</table>\n"
      ],
      "text/latex": [
       "\\begin{tabular}{r|lllllll}\n",
       " Trt\\_Env & Trait & Env & mean & sd & method & pop\\\\\n",
       "\\hline\n",
       "\t AmyloseSC2014 & Amylose       & SC2014        & 0.797620      & 0.06399390    & BMORS         & RILs         \\\\\n",
       "\t AmyloseSC2015 & Amylose       & SC2015        & 0.763256      & 0.05016324    & BMORS         & RILs         \\\\\n",
       "\t AmyloseTX2014 & Amylose       & TX2014        & 0.864620      & 0.03631785    & BMORS         & RILs         \\\\\n",
       "\t AmyloseTX2015 & Amylose       & TX2015        & 0.613468      & 0.13824039    & BMORS         & RILs         \\\\\n",
       "\t FatSC2014     & Fat           & SC2014        & 0.634744      & 0.07122454    & BMORS         & RILs         \\\\\n",
       "\t FatSC2015     & Fat           & SC2015        & 0.511574      & 0.10213975    & BMORS         & RILs         \\\\\n",
       "\\end{tabular}\n"
      ],
      "text/markdown": [
       "\n",
       "| Trt_Env | Trait | Env | mean | sd | method | pop |\n",
       "|---|---|---|---|---|---|---|\n",
       "| AmyloseSC2014 | Amylose       | SC2014        | 0.797620      | 0.06399390    | BMORS         | RILs          |\n",
       "| AmyloseSC2015 | Amylose       | SC2015        | 0.763256      | 0.05016324    | BMORS         | RILs          |\n",
       "| AmyloseTX2014 | Amylose       | TX2014        | 0.864620      | 0.03631785    | BMORS         | RILs          |\n",
       "| AmyloseTX2015 | Amylose       | TX2015        | 0.613468      | 0.13824039    | BMORS         | RILs          |\n",
       "| FatSC2014     | Fat           | SC2014        | 0.634744      | 0.07122454    | BMORS         | RILs          |\n",
       "| FatSC2015     | Fat           | SC2015        | 0.511574      | 0.10213975    | BMORS         | RILs          |\n",
       "\n"
      ],
      "text/plain": [
       "  Trt_Env       Trait   Env    mean     sd         method pop \n",
       "1 AmyloseSC2014 Amylose SC2014 0.797620 0.06399390 BMORS  RILs\n",
       "2 AmyloseSC2015 Amylose SC2015 0.763256 0.05016324 BMORS  RILs\n",
       "3 AmyloseTX2014 Amylose TX2014 0.864620 0.03631785 BMORS  RILs\n",
       "4 AmyloseTX2015 Amylose TX2015 0.613468 0.13824039 BMORS  RILs\n",
       "5 FatSC2014     Fat     SC2014 0.634744 0.07122454 BMORS  RILs\n",
       "6 FatSC2015     Fat     SC2015 0.511574 0.10213975 BMORS  RILs"
      ]
     },
     "metadata": {},
     "output_type": "display_data"
    },
    {
     "data": {
      "text/html": [
       "<table>\n",
       "<thead><tr><th scope=col>Trt_Env</th><th scope=col>Trait</th><th scope=col>Env</th><th scope=col>Partition</th><th scope=col>Pearson</th><th scope=col>MAAPE</th><th scope=col>method</th><th scope=col>pop</th></tr></thead>\n",
       "<tbody>\n",
       "\t<tr><td>AmyloseSC2014</td><td>Amylose      </td><td>SC2014       </td><td>1            </td><td>0.6543       </td><td>0.6416       </td><td>BMORS        </td><td>RILs         </td></tr>\n",
       "\t<tr><td>AmyloseSC2014</td><td>Amylose      </td><td>SC2014       </td><td>2            </td><td>0.8546       </td><td>0.6031       </td><td>BMORS        </td><td>RILs         </td></tr>\n",
       "\t<tr><td>AmyloseSC2014</td><td>Amylose      </td><td>SC2014       </td><td>3            </td><td>0.9042       </td><td>0.5401       </td><td>BMORS        </td><td>RILs         </td></tr>\n",
       "\t<tr><td>AmyloseSC2014</td><td>Amylose      </td><td>SC2014       </td><td>4            </td><td>0.8312       </td><td>0.5000       </td><td>BMORS        </td><td>RILs         </td></tr>\n",
       "\t<tr><td>AmyloseSC2014</td><td>Amylose      </td><td>SC2014       </td><td>5            </td><td>0.8084       </td><td>0.4472       </td><td>BMORS        </td><td>RILs         </td></tr>\n",
       "\t<tr><td>FatSC2014    </td><td>Fat          </td><td>SC2014       </td><td>1            </td><td>0.5807       </td><td>0.6632       </td><td>BMORS        </td><td>RILs         </td></tr>\n",
       "</tbody>\n",
       "</table>\n"
      ],
      "text/latex": [
       "\\begin{tabular}{r|llllllll}\n",
       " Trt\\_Env & Trait & Env & Partition & Pearson & MAAPE & method & pop\\\\\n",
       "\\hline\n",
       "\t AmyloseSC2014 & Amylose       & SC2014        & 1             & 0.6543        & 0.6416        & BMORS         & RILs         \\\\\n",
       "\t AmyloseSC2014 & Amylose       & SC2014        & 2             & 0.8546        & 0.6031        & BMORS         & RILs         \\\\\n",
       "\t AmyloseSC2014 & Amylose       & SC2014        & 3             & 0.9042        & 0.5401        & BMORS         & RILs         \\\\\n",
       "\t AmyloseSC2014 & Amylose       & SC2014        & 4             & 0.8312        & 0.5000        & BMORS         & RILs         \\\\\n",
       "\t AmyloseSC2014 & Amylose       & SC2014        & 5             & 0.8084        & 0.4472        & BMORS         & RILs         \\\\\n",
       "\t FatSC2014     & Fat           & SC2014        & 1             & 0.5807        & 0.6632        & BMORS         & RILs         \\\\\n",
       "\\end{tabular}\n"
      ],
      "text/markdown": [
       "\n",
       "| Trt_Env | Trait | Env | Partition | Pearson | MAAPE | method | pop |\n",
       "|---|---|---|---|---|---|---|---|\n",
       "| AmyloseSC2014 | Amylose       | SC2014        | 1             | 0.6543        | 0.6416        | BMORS         | RILs          |\n",
       "| AmyloseSC2014 | Amylose       | SC2014        | 2             | 0.8546        | 0.6031        | BMORS         | RILs          |\n",
       "| AmyloseSC2014 | Amylose       | SC2014        | 3             | 0.9042        | 0.5401        | BMORS         | RILs          |\n",
       "| AmyloseSC2014 | Amylose       | SC2014        | 4             | 0.8312        | 0.5000        | BMORS         | RILs          |\n",
       "| AmyloseSC2014 | Amylose       | SC2014        | 5             | 0.8084        | 0.4472        | BMORS         | RILs          |\n",
       "| FatSC2014     | Fat           | SC2014        | 1             | 0.5807        | 0.6632        | BMORS         | RILs          |\n",
       "\n"
      ],
      "text/plain": [
       "  Trt_Env       Trait   Env    Partition Pearson MAAPE  method pop \n",
       "1 AmyloseSC2014 Amylose SC2014 1         0.6543  0.6416 BMORS  RILs\n",
       "2 AmyloseSC2014 Amylose SC2014 2         0.8546  0.6031 BMORS  RILs\n",
       "3 AmyloseSC2014 Amylose SC2014 3         0.9042  0.5401 BMORS  RILs\n",
       "4 AmyloseSC2014 Amylose SC2014 4         0.8312  0.5000 BMORS  RILs\n",
       "5 AmyloseSC2014 Amylose SC2014 5         0.8084  0.4472 BMORS  RILs\n",
       "6 FatSC2014     Fat     SC2014 1         0.5807  0.6632 BMORS  RILs"
      ]
     },
     "metadata": {},
     "output_type": "display_data"
    },
    {
     "name": "stderr",
     "output_type": "stream",
     "text": [
      "Warning message in bind_rows_(x, .id):\n",
      "“binding character and factor vector, coercing into character vector”Warning message in bind_rows_(x, .id):\n",
      "“binding character and factor vector, coercing into character vector”"
     ]
    },
    {
     "data": {
      "text/html": [
       "<table>\n",
       "<thead><tr><th></th><th scope=col>Trt_Env</th><th scope=col>Trait</th><th scope=col>Env</th><th scope=col>iter</th><th scope=col>r</th><th scope=col>method</th><th scope=col>pop</th></tr></thead>\n",
       "<tbody>\n",
       "\t<tr><th scope=row>5245</th><td>ProteinTX2015</td><td>Protein      </td><td>TX2015       </td><td>5            </td><td>0.6986       </td><td>BMORS        </td><td>RILs         </td></tr>\n",
       "\t<tr><th scope=row>5246</th><td>StarchTX2015 </td><td>Starch       </td><td>TX2015       </td><td>1            </td><td>0.7187       </td><td>BMORS        </td><td>RILs         </td></tr>\n",
       "\t<tr><th scope=row>5247</th><td>StarchTX2015 </td><td>Starch       </td><td>TX2015       </td><td>2            </td><td>0.5522       </td><td>BMORS        </td><td>RILs         </td></tr>\n",
       "\t<tr><th scope=row>5248</th><td>StarchTX2015 </td><td>Starch       </td><td>TX2015       </td><td>3            </td><td>0.5939       </td><td>BMORS        </td><td>RILs         </td></tr>\n",
       "\t<tr><th scope=row>5249</th><td>StarchTX2015 </td><td>Starch       </td><td>TX2015       </td><td>4            </td><td>0.7679       </td><td>BMORS        </td><td>RILs         </td></tr>\n",
       "\t<tr><th scope=row>5250</th><td>StarchTX2015 </td><td>Starch       </td><td>TX2015       </td><td>5            </td><td>0.5164       </td><td>BMORS        </td><td>RILs         </td></tr>\n",
       "</tbody>\n",
       "</table>\n"
      ],
      "text/latex": [
       "\\begin{tabular}{r|lllllll}\n",
       "  & Trt\\_Env & Trait & Env & iter & r & method & pop\\\\\n",
       "\\hline\n",
       "\t5245 & ProteinTX2015 & Protein       & TX2015        & 5             & 0.6986        & BMORS         & RILs         \\\\\n",
       "\t5246 & StarchTX2015  & Starch        & TX2015        & 1             & 0.7187        & BMORS         & RILs         \\\\\n",
       "\t5247 & StarchTX2015  & Starch        & TX2015        & 2             & 0.5522        & BMORS         & RILs         \\\\\n",
       "\t5248 & StarchTX2015  & Starch        & TX2015        & 3             & 0.5939        & BMORS         & RILs         \\\\\n",
       "\t5249 & StarchTX2015  & Starch        & TX2015        & 4             & 0.7679        & BMORS         & RILs         \\\\\n",
       "\t5250 & StarchTX2015  & Starch        & TX2015        & 5             & 0.5164        & BMORS         & RILs         \\\\\n",
       "\\end{tabular}\n"
      ],
      "text/markdown": [
       "\n",
       "| <!--/--> | Trt_Env | Trait | Env | iter | r | method | pop |\n",
       "|---|---|---|---|---|---|---|---|\n",
       "| 5245 | ProteinTX2015 | Protein       | TX2015        | 5             | 0.6986        | BMORS         | RILs          |\n",
       "| 5246 | StarchTX2015  | Starch        | TX2015        | 1             | 0.7187        | BMORS         | RILs          |\n",
       "| 5247 | StarchTX2015  | Starch        | TX2015        | 2             | 0.5522        | BMORS         | RILs          |\n",
       "| 5248 | StarchTX2015  | Starch        | TX2015        | 3             | 0.5939        | BMORS         | RILs          |\n",
       "| 5249 | StarchTX2015  | Starch        | TX2015        | 4             | 0.7679        | BMORS         | RILs          |\n",
       "| 5250 | StarchTX2015  | Starch        | TX2015        | 5             | 0.5164        | BMORS         | RILs          |\n",
       "\n"
      ],
      "text/plain": [
       "     Trt_Env       Trait   Env    iter r      method pop \n",
       "5245 ProteinTX2015 Protein TX2015 5    0.6986 BMORS  RILs\n",
       "5246 StarchTX2015  Starch  TX2015 1    0.7187 BMORS  RILs\n",
       "5247 StarchTX2015  Starch  TX2015 2    0.5522 BMORS  RILs\n",
       "5248 StarchTX2015  Starch  TX2015 3    0.5939 BMORS  RILs\n",
       "5249 StarchTX2015  Starch  TX2015 4    0.7679 BMORS  RILs\n",
       "5250 StarchTX2015  Starch  TX2015 5    0.5164 BMORS  RILs"
      ]
     },
     "metadata": {},
     "output_type": "display_data"
    },
    {
     "data": {
      "text/html": [
       "<table>\n",
       "<thead><tr><th scope=col>Trt_Env</th><th scope=col>Trait</th><th scope=col>Env</th><th scope=col>mean</th><th scope=col>sd</th><th scope=col>method</th><th scope=col>pop</th></tr></thead>\n",
       "<tbody>\n",
       "\t<tr><td>ProteinTX2014</td><td>Protein      </td><td>TX2014       </td><td>0.702908     </td><td>0.07150793   </td><td>BMORS        </td><td>RILs         </td></tr>\n",
       "\t<tr><td>ProteinTX2015</td><td>Protein      </td><td>TX2015       </td><td>0.719070     </td><td>0.07618016   </td><td>BMORS        </td><td>RILs         </td></tr>\n",
       "\t<tr><td>StarchSC2014 </td><td>Starch       </td><td>SC2014       </td><td>0.660566     </td><td>0.09630887   </td><td>BMORS        </td><td>RILs         </td></tr>\n",
       "\t<tr><td>StarchSC2015 </td><td>Starch       </td><td>SC2015       </td><td>0.504092     </td><td>0.13262747   </td><td>BMORS        </td><td>RILs         </td></tr>\n",
       "\t<tr><td>StarchTX2014 </td><td>Starch       </td><td>TX2014       </td><td>0.632114     </td><td>0.08573546   </td><td>BMORS        </td><td>RILs         </td></tr>\n",
       "\t<tr><td>StarchTX2015 </td><td>Starch       </td><td>TX2015       </td><td>0.635332     </td><td>0.08452811   </td><td>BMORS        </td><td>RILs         </td></tr>\n",
       "</tbody>\n",
       "</table>\n"
      ],
      "text/latex": [
       "\\begin{tabular}{r|lllllll}\n",
       " Trt\\_Env & Trait & Env & mean & sd & method & pop\\\\\n",
       "\\hline\n",
       "\t ProteinTX2014 & Protein       & TX2014        & 0.702908      & 0.07150793    & BMORS         & RILs         \\\\\n",
       "\t ProteinTX2015 & Protein       & TX2015        & 0.719070      & 0.07618016    & BMORS         & RILs         \\\\\n",
       "\t StarchSC2014  & Starch        & SC2014        & 0.660566      & 0.09630887    & BMORS         & RILs         \\\\\n",
       "\t StarchSC2015  & Starch        & SC2015        & 0.504092      & 0.13262747    & BMORS         & RILs         \\\\\n",
       "\t StarchTX2014  & Starch        & TX2014        & 0.632114      & 0.08573546    & BMORS         & RILs         \\\\\n",
       "\t StarchTX2015  & Starch        & TX2015        & 0.635332      & 0.08452811    & BMORS         & RILs         \\\\\n",
       "\\end{tabular}\n"
      ],
      "text/markdown": [
       "\n",
       "| Trt_Env | Trait | Env | mean | sd | method | pop |\n",
       "|---|---|---|---|---|---|---|\n",
       "| ProteinTX2014 | Protein       | TX2014        | 0.702908      | 0.07150793    | BMORS         | RILs          |\n",
       "| ProteinTX2015 | Protein       | TX2015        | 0.719070      | 0.07618016    | BMORS         | RILs          |\n",
       "| StarchSC2014  | Starch        | SC2014        | 0.660566      | 0.09630887    | BMORS         | RILs          |\n",
       "| StarchSC2015  | Starch        | SC2015        | 0.504092      | 0.13262747    | BMORS         | RILs          |\n",
       "| StarchTX2014  | Starch        | TX2014        | 0.632114      | 0.08573546    | BMORS         | RILs          |\n",
       "| StarchTX2015  | Starch        | TX2015        | 0.635332      | 0.08452811    | BMORS         | RILs          |\n",
       "\n"
      ],
      "text/plain": [
       "  Trt_Env       Trait   Env    mean     sd         method pop \n",
       "1 ProteinTX2014 Protein TX2014 0.702908 0.07150793 BMORS  RILs\n",
       "2 ProteinTX2015 Protein TX2015 0.719070 0.07618016 BMORS  RILs\n",
       "3 StarchSC2014  Starch  SC2014 0.660566 0.09630887 BMORS  RILs\n",
       "4 StarchSC2015  Starch  SC2015 0.504092 0.13262747 BMORS  RILs\n",
       "5 StarchTX2014  Starch  TX2014 0.632114 0.08573546 BMORS  RILs\n",
       "6 StarchTX2015  Starch  TX2015 0.635332 0.08452811 BMORS  RILs"
      ]
     },
     "metadata": {},
     "output_type": "display_data"
    },
    {
     "data": {
      "text/html": [
       "<ol class=list-inline>\n",
       "\t<li>105</li>\n",
       "\t<li>7</li>\n",
       "</ol>\n"
      ],
      "text/latex": [
       "\\begin{enumerate*}\n",
       "\\item 105\n",
       "\\item 7\n",
       "\\end{enumerate*}\n"
      ],
      "text/markdown": [
       "1. 105\n",
       "2. 7\n",
       "\n",
       "\n"
      ],
      "text/plain": [
       "[1] 105   7"
      ]
     },
     "metadata": {},
     "output_type": "display_data"
    },
    {
     "name": "stdout",
     "output_type": "stream",
     "text": [
      "[1] \"------------------------------\"\n"
     ]
    }
   ],
   "source": [
    "pop <- 'RILs'\n",
    "method <- 'BMORS'\n",
    "\n",
    "print(\"-------------BMORS-------------\")\n",
    "df <- read.csv('results/BMORS/BTx642_BMORS_CV5.csv')\n",
    "df$Env <- df$Environment\n",
    "df$Trt_Env <- paste0(df$Trait,df$Env)\n",
    "df <- df[,c(8,3,7,4,5,6)]\n",
    "head(df)\n",
    "df2 <- df %>% group_by(Trt_Env,Trait, Env) %>% summarize(mean = mean(Pearson, na.rm=T), sd  = sd(Pearson, na.rm=T)) %>% mutate(method = method, pop=pop)\n",
    "head(df2)\n",
    "df3 <- df %>% mutate(method=method, pop=pop)\n",
    "head(df3)\n",
    "df3 <- df3[,-6]\n",
    "colnames(df3) <- c('Trt_Env','Trait','Env','iter','r','method','pop')\n",
    "Mean <- rbind(Mean, df2)\n",
    "Total <- rbind(Total, df3)\n",
    "tail(Total)\n",
    "tail(Mean)\n",
    "dim(Mean)\n",
    "print(\"------------------------------\")"
   ]
  },
  {
   "cell_type": "code",
   "execution_count": 12,
   "metadata": {},
   "outputs": [],
   "source": [
    "write.csv(Total, 'results/PredAcc_total_Trait_Method_Pop.csv',row.names=F)"
   ]
  },
  {
   "cell_type": "code",
   "execution_count": 13,
   "metadata": {},
   "outputs": [
    {
     "data": {
      "text/html": [
       "<table>\n",
       "<thead><tr><th scope=col>Trt_Env</th><th scope=col>Trait</th><th scope=col>Env</th><th scope=col>mean</th><th scope=col>sd</th><th scope=col>method</th><th scope=col>pop</th></tr></thead>\n",
       "<tbody>\n",
       "\t<tr><td>Amylose2013</td><td>Amylose    </td><td>2013       </td><td>0.2204198  </td><td>0.10763093 </td><td>STSE       </td><td>GSDP       </td></tr>\n",
       "\t<tr><td>Amylose2014</td><td>Amylose    </td><td>2014       </td><td>0.3984635  </td><td>0.07749696 </td><td>STSE       </td><td>GSDP       </td></tr>\n",
       "\t<tr><td>Amylose2017</td><td>Amylose    </td><td>2017       </td><td>0.1366606  </td><td>0.08703574 </td><td>STSE       </td><td>GSDP       </td></tr>\n",
       "\t<tr><td>Fat2013    </td><td>Fat        </td><td>2013       </td><td>0.4209378  </td><td>0.09363131 </td><td>STSE       </td><td>GSDP       </td></tr>\n",
       "\t<tr><td>Fat2014    </td><td>Fat        </td><td>2014       </td><td>0.4694945  </td><td>0.09218827 </td><td>STSE       </td><td>GSDP       </td></tr>\n",
       "\t<tr><td>Fat2017    </td><td>Fat        </td><td>2017       </td><td>0.3702257  </td><td>0.07960210 </td><td>STSE       </td><td>GSDP       </td></tr>\n",
       "</tbody>\n",
       "</table>\n"
      ],
      "text/latex": [
       "\\begin{tabular}{r|lllllll}\n",
       " Trt\\_Env & Trait & Env & mean & sd & method & pop\\\\\n",
       "\\hline\n",
       "\t Amylose2013 & Amylose     & 2013        & 0.2204198   & 0.10763093  & STSE        & GSDP       \\\\\n",
       "\t Amylose2014 & Amylose     & 2014        & 0.3984635   & 0.07749696  & STSE        & GSDP       \\\\\n",
       "\t Amylose2017 & Amylose     & 2017        & 0.1366606   & 0.08703574  & STSE        & GSDP       \\\\\n",
       "\t Fat2013     & Fat         & 2013        & 0.4209378   & 0.09363131  & STSE        & GSDP       \\\\\n",
       "\t Fat2014     & Fat         & 2014        & 0.4694945   & 0.09218827  & STSE        & GSDP       \\\\\n",
       "\t Fat2017     & Fat         & 2017        & 0.3702257   & 0.07960210  & STSE        & GSDP       \\\\\n",
       "\\end{tabular}\n"
      ],
      "text/markdown": [
       "\n",
       "| Trt_Env | Trait | Env | mean | sd | method | pop |\n",
       "|---|---|---|---|---|---|---|\n",
       "| Amylose2013 | Amylose     | 2013        | 0.2204198   | 0.10763093  | STSE        | GSDP        |\n",
       "| Amylose2014 | Amylose     | 2014        | 0.3984635   | 0.07749696  | STSE        | GSDP        |\n",
       "| Amylose2017 | Amylose     | 2017        | 0.1366606   | 0.08703574  | STSE        | GSDP        |\n",
       "| Fat2013     | Fat         | 2013        | 0.4209378   | 0.09363131  | STSE        | GSDP        |\n",
       "| Fat2014     | Fat         | 2014        | 0.4694945   | 0.09218827  | STSE        | GSDP        |\n",
       "| Fat2017     | Fat         | 2017        | 0.3702257   | 0.07960210  | STSE        | GSDP        |\n",
       "\n"
      ],
      "text/plain": [
       "  Trt_Env     Trait   Env  mean      sd         method pop \n",
       "1 Amylose2013 Amylose 2013 0.2204198 0.10763093 STSE   GSDP\n",
       "2 Amylose2014 Amylose 2014 0.3984635 0.07749696 STSE   GSDP\n",
       "3 Amylose2017 Amylose 2017 0.1366606 0.08703574 STSE   GSDP\n",
       "4 Fat2013     Fat     2013 0.4209378 0.09363131 STSE   GSDP\n",
       "5 Fat2014     Fat     2014 0.4694945 0.09218827 STSE   GSDP\n",
       "6 Fat2017     Fat     2017 0.3702257 0.07960210 STSE   GSDP"
      ]
     },
     "metadata": {},
     "output_type": "display_data"
    },
    {
     "data": {
      "text/html": [
       "<table>\n",
       "<thead><tr><th scope=col>Trt_Env</th><th scope=col>Trait</th><th scope=col>Env</th><th scope=col>mean</th><th scope=col>sd</th><th scope=col>method</th><th scope=col>pop</th></tr></thead>\n",
       "<tbody>\n",
       "\t<tr><td>Amylose2013       </td><td>Amylose           </td><td>2013              </td><td>0.220419794793572 </td><td>0.107630928229273 </td><td>STSE              </td><td>GSDP              </td></tr>\n",
       "\t<tr><td>Amylose2014       </td><td>Amylose           </td><td>2014              </td><td>0.398463516249474 </td><td>0.0774969611017481</td><td>STSE              </td><td>GSDP              </td></tr>\n",
       "\t<tr><td>Amylose2017       </td><td>Amylose           </td><td>2017              </td><td>0.136660586753491 </td><td>0.0870357367054163</td><td>STSE              </td><td>GSDP              </td></tr>\n",
       "\t<tr><td>Fat2013           </td><td>Fat               </td><td>2013              </td><td>0.420937789102337 </td><td>0.093631309496376 </td><td>STSE              </td><td>GSDP              </td></tr>\n",
       "\t<tr><td>Fat2014           </td><td>Fat               </td><td>2014              </td><td>0.469494514367065 </td><td>0.0921882670461213</td><td>STSE              </td><td>GSDP              </td></tr>\n",
       "\t<tr><td>Fat2017           </td><td>Fat               </td><td>2017              </td><td>0.370225669942705 </td><td>0.0796020966107544</td><td>STSE              </td><td>GSDP              </td></tr>\n",
       "</tbody>\n",
       "</table>\n"
      ],
      "text/latex": [
       "\\begin{tabular}{r|lllllll}\n",
       " Trt\\_Env & Trait & Env & mean & sd & method & pop\\\\\n",
       "\\hline\n",
       "\t Amylose2013        & Amylose            & 2013               & 0.220419794793572  & 0.107630928229273  & STSE               & GSDP              \\\\\n",
       "\t Amylose2014        & Amylose            & 2014               & 0.398463516249474  & 0.0774969611017481 & STSE               & GSDP              \\\\\n",
       "\t Amylose2017        & Amylose            & 2017               & 0.136660586753491  & 0.0870357367054163 & STSE               & GSDP              \\\\\n",
       "\t Fat2013            & Fat                & 2013               & 0.420937789102337  & 0.093631309496376  & STSE               & GSDP              \\\\\n",
       "\t Fat2014            & Fat                & 2014               & 0.469494514367065  & 0.0921882670461213 & STSE               & GSDP              \\\\\n",
       "\t Fat2017            & Fat                & 2017               & 0.370225669942705  & 0.0796020966107544 & STSE               & GSDP              \\\\\n",
       "\\end{tabular}\n"
      ],
      "text/markdown": [
       "\n",
       "| Trt_Env | Trait | Env | mean | sd | method | pop |\n",
       "|---|---|---|---|---|---|---|\n",
       "| Amylose2013        | Amylose            | 2013               | 0.220419794793572  | 0.107630928229273  | STSE               | GSDP               |\n",
       "| Amylose2014        | Amylose            | 2014               | 0.398463516249474  | 0.0774969611017481 | STSE               | GSDP               |\n",
       "| Amylose2017        | Amylose            | 2017               | 0.136660586753491  | 0.0870357367054163 | STSE               | GSDP               |\n",
       "| Fat2013            | Fat                | 2013               | 0.420937789102337  | 0.093631309496376  | STSE               | GSDP               |\n",
       "| Fat2014            | Fat                | 2014               | 0.469494514367065  | 0.0921882670461213 | STSE               | GSDP               |\n",
       "| Fat2017            | Fat                | 2017               | 0.370225669942705  | 0.0796020966107544 | STSE               | GSDP               |\n",
       "\n"
      ],
      "text/plain": [
       "  Trt_Env     Trait   Env  mean              sd                 method pop \n",
       "1 Amylose2013 Amylose 2013 0.220419794793572 0.107630928229273  STSE   GSDP\n",
       "2 Amylose2014 Amylose 2014 0.398463516249474 0.0774969611017481 STSE   GSDP\n",
       "3 Amylose2017 Amylose 2017 0.136660586753491 0.0870357367054163 STSE   GSDP\n",
       "4 Fat2013     Fat     2013 0.420937789102337 0.093631309496376  STSE   GSDP\n",
       "5 Fat2014     Fat     2014 0.469494514367065 0.0921882670461213 STSE   GSDP\n",
       "6 Fat2017     Fat     2017 0.370225669942705 0.0796020966107544 STSE   GSDP"
      ]
     },
     "metadata": {},
     "output_type": "display_data"
    }
   ],
   "source": [
    "head(Mean)\n",
    "df <- as.data.frame(Mean)\n",
    "df2 <- as.data.frame( sapply(df, function(x) {\n",
    "    gsub('GrossEnergy','Gross energy', x) }))\n",
    "# df2$r <- as.numeric(levels(df2$r))[df2$r]\n",
    "head(df2)\n",
    "# str(df2)"
   ]
  },
  {
   "cell_type": "code",
   "execution_count": 43,
   "metadata": {},
   "outputs": [
    {
     "name": "stdout",
     "output_type": "stream",
     "text": [
      "'data.frame':\t5250 obs. of  7 variables:\n",
      " $ Trt_Env: Factor w/ 55 levels \"Amylose_2014_SC\",..: 5 5 5 5 5 5 5 5 5 5 ...\n",
      " $ Trait  : Factor w/ 5 levels \"Amylose\",\"Fat\",..: 1 1 1 1 1 1 1 1 1 1 ...\n",
      " $ Env    : Factor w/ 7 levels \"2013\",\"2014\",..: 1 1 1 1 1 1 1 1 1 1 ...\n",
      " $ iter   : Factor w/ 15 levels \"1\",\"123\",\"124\",..: 2 2 2 2 2 3 3 3 3 3 ...\n",
      " $ r      : num  0.15 0.135 0.322 0.325 0.177 ...\n",
      " $ method : Factor w/ 3 levels \"BME\",\"BMORS\",..: 3 3 3 3 3 3 3 3 3 3 ...\n",
      " $ pop    : Factor w/ 2 levels \"GSDP\",\"RILs\": 1 1 1 1 1 1 1 1 1 1 ...\n"
     ]
    },
    {
     "data": {
      "text/html": [
       "<table>\n",
       "<thead><tr><th scope=col>Trt_Env</th><th scope=col>Trait</th><th scope=col>Env</th><th scope=col>iter</th><th scope=col>r</th><th scope=col>method</th><th scope=col>pop</th></tr></thead>\n",
       "<tbody>\n",
       "\t<tr><td>Amylose2013</td><td>Amylose    </td><td>2013       </td><td>123        </td><td>0.1500014  </td><td>STSE       </td><td>GSDP       </td></tr>\n",
       "\t<tr><td>Amylose2013</td><td>Amylose    </td><td>2013       </td><td>123        </td><td>0.1350531  </td><td>STSE       </td><td>GSDP       </td></tr>\n",
       "\t<tr><td>Amylose2013</td><td>Amylose    </td><td>2013       </td><td>123        </td><td>0.3217240  </td><td>STSE       </td><td>GSDP       </td></tr>\n",
       "\t<tr><td>Amylose2013</td><td>Amylose    </td><td>2013       </td><td>123        </td><td>0.3254827  </td><td>STSE       </td><td>GSDP       </td></tr>\n",
       "\t<tr><td>Amylose2013</td><td>Amylose    </td><td>2013       </td><td>123        </td><td>0.1773646  </td><td>STSE       </td><td>GSDP       </td></tr>\n",
       "\t<tr><td>Amylose2013</td><td>Amylose    </td><td>2013       </td><td>124        </td><td>0.2266738  </td><td>STSE       </td><td>GSDP       </td></tr>\n",
       "</tbody>\n",
       "</table>\n"
      ],
      "text/latex": [
       "\\begin{tabular}{r|lllllll}\n",
       " Trt\\_Env & Trait & Env & iter & r & method & pop\\\\\n",
       "\\hline\n",
       "\t Amylose2013 & Amylose     & 2013        & 123         & 0.1500014   & STSE        & GSDP       \\\\\n",
       "\t Amylose2013 & Amylose     & 2013        & 123         & 0.1350531   & STSE        & GSDP       \\\\\n",
       "\t Amylose2013 & Amylose     & 2013        & 123         & 0.3217240   & STSE        & GSDP       \\\\\n",
       "\t Amylose2013 & Amylose     & 2013        & 123         & 0.3254827   & STSE        & GSDP       \\\\\n",
       "\t Amylose2013 & Amylose     & 2013        & 123         & 0.1773646   & STSE        & GSDP       \\\\\n",
       "\t Amylose2013 & Amylose     & 2013        & 124         & 0.2266738   & STSE        & GSDP       \\\\\n",
       "\\end{tabular}\n"
      ],
      "text/markdown": [
       "\n",
       "| Trt_Env | Trait | Env | iter | r | method | pop |\n",
       "|---|---|---|---|---|---|---|\n",
       "| Amylose2013 | Amylose     | 2013        | 123         | 0.1500014   | STSE        | GSDP        |\n",
       "| Amylose2013 | Amylose     | 2013        | 123         | 0.1350531   | STSE        | GSDP        |\n",
       "| Amylose2013 | Amylose     | 2013        | 123         | 0.3217240   | STSE        | GSDP        |\n",
       "| Amylose2013 | Amylose     | 2013        | 123         | 0.3254827   | STSE        | GSDP        |\n",
       "| Amylose2013 | Amylose     | 2013        | 123         | 0.1773646   | STSE        | GSDP        |\n",
       "| Amylose2013 | Amylose     | 2013        | 124         | 0.2266738   | STSE        | GSDP        |\n",
       "\n"
      ],
      "text/plain": [
       "  Trt_Env     Trait   Env  iter r         method pop \n",
       "1 Amylose2013 Amylose 2013 123  0.1500014 STSE   GSDP\n",
       "2 Amylose2013 Amylose 2013 123  0.1350531 STSE   GSDP\n",
       "3 Amylose2013 Amylose 2013 123  0.3217240 STSE   GSDP\n",
       "4 Amylose2013 Amylose 2013 123  0.3254827 STSE   GSDP\n",
       "5 Amylose2013 Amylose 2013 123  0.1773646 STSE   GSDP\n",
       "6 Amylose2013 Amylose 2013 124  0.2266738 STSE   GSDP"
      ]
     },
     "metadata": {},
     "output_type": "display_data"
    }
   ],
   "source": [
    "#df$r <- as.numeric(levels(df$r))[df$r]\n",
    "# df$sd <- as.numeric(levels(df$sd))[df$sd]\n",
    "#write.csv(df2,'results/PredAcc_mean_Trait_Method_Pop.csv',row.names=FALSE)\n",
    "#df = read.csv('results/PredAcc_total_Trait_Method_Pop.csv')\n",
    "df2 <- as.data.frame( sapply(df2, function(x) {\n",
    "    gsub('Gross_Energy','Gross energy', x) }))\n",
    "df2$r <- as.numeric(levels(df2$r))[df2$r]\n",
    "str(df2)\n",
    "head(df2)\n",
    "df_sap <- df2[df2$pop =='GSDP',]\n",
    "df_rils <- df2[df2$pop =='RILs',]"
   ]
  },
  {
   "cell_type": "code",
   "execution_count": 47,
   "metadata": {},
   "outputs": [
    {
     "data": {
      "text/html": [
       "<strong>png:</strong> 2"
      ],
      "text/latex": [
       "\\textbf{png:} 2"
      ],
      "text/markdown": [
       "**png:** 2"
      ],
      "text/plain": [
       "png \n",
       "  2 "
      ]
     },
     "metadata": {},
     "output_type": "display_data"
    }
   ],
   "source": [
    "png('results/Method_Summary_Env_GSDP.png', width=1500,height=1600, res=300)\n",
    "ns <- ggplot(df_sap,aes(x=Env,y=r,fill=method)) + geom_boxplot()  + \n",
    "    #stat_summary(fun.y=mean, geom=\"point\", shape=17, size=2, color=\"darkorchid1\", fill=\"red\") +\n",
    "    theme_bw() + labs(x='',y='Prediction accuracy') + facet_wrap(Trait~.,ncol=2) + \n",
    "    theme(legend.key.size = unit(1,\"line\"), legend.title = element_blank(), legend.position=c(.8,.15))\n",
    "\n",
    "ns  + ylim(c(-0.2,1))\n",
    "\n",
    "dev.off()\n"
   ]
  },
  {
   "cell_type": "markdown",
   "metadata": {},
   "source": [
    "### percent change in BME and BMORS over STSE"
   ]
  },
  {
   "cell_type": "code",
   "execution_count": 40,
   "metadata": {},
   "outputs": [
    {
     "data": {
      "text/html": [
       "<table>\n",
       "<thead><tr><th scope=col>Trait</th><th scope=col>Env</th><th scope=col>BME</th><th scope=col>BMORS</th><th scope=col>STSE</th><th scope=col>Inc_BME</th><th scope=col>Inc_BMORS</th></tr></thead>\n",
       "<tbody>\n",
       "\t<tr><td>Amylose  </td><td>2013     </td><td>0.196522 </td><td>0.366980 </td><td>0.2204198</td><td>-10      </td><td> 67      </td></tr>\n",
       "\t<tr><td>Amylose  </td><td>2014     </td><td>0.377926 </td><td>0.442928 </td><td>0.3984635</td><td> -5      </td><td> 12      </td></tr>\n",
       "\t<tr><td>Amylose  </td><td>2017     </td><td>0.119016 </td><td>0.119440 </td><td>0.1366606</td><td>-12      </td><td>-12      </td></tr>\n",
       "\t<tr><td>Fat      </td><td>2013     </td><td>0.320702 </td><td>0.619072 </td><td>0.4209378</td><td>-23      </td><td> 48      </td></tr>\n",
       "\t<tr><td>Fat      </td><td>2014     </td><td>0.414436 </td><td>0.692466 </td><td>0.4694945</td><td>-11      </td><td> 48      </td></tr>\n",
       "\t<tr><td>Fat      </td><td>2017     </td><td>0.268994 </td><td>0.585074 </td><td>0.3702257</td><td>-27      </td><td> 59      </td></tr>\n",
       "</tbody>\n",
       "</table>\n"
      ],
      "text/latex": [
       "\\begin{tabular}{r|lllllll}\n",
       " Trait & Env & BME & BMORS & STSE & Inc\\_BME & Inc\\_BMORS\\\\\n",
       "\\hline\n",
       "\t Amylose   & 2013      & 0.196522  & 0.366980  & 0.2204198 & -10       &  67      \\\\\n",
       "\t Amylose   & 2014      & 0.377926  & 0.442928  & 0.3984635 &  -5       &  12      \\\\\n",
       "\t Amylose   & 2017      & 0.119016  & 0.119440  & 0.1366606 & -12       & -12      \\\\\n",
       "\t Fat       & 2013      & 0.320702  & 0.619072  & 0.4209378 & -23       &  48      \\\\\n",
       "\t Fat       & 2014      & 0.414436  & 0.692466  & 0.4694945 & -11       &  48      \\\\\n",
       "\t Fat       & 2017      & 0.268994  & 0.585074  & 0.3702257 & -27       &  59      \\\\\n",
       "\\end{tabular}\n"
      ],
      "text/markdown": [
       "\n",
       "| Trait | Env | BME | BMORS | STSE | Inc_BME | Inc_BMORS |\n",
       "|---|---|---|---|---|---|---|\n",
       "| Amylose   | 2013      | 0.196522  | 0.366980  | 0.2204198 | -10       |  67       |\n",
       "| Amylose   | 2014      | 0.377926  | 0.442928  | 0.3984635 |  -5       |  12       |\n",
       "| Amylose   | 2017      | 0.119016  | 0.119440  | 0.1366606 | -12       | -12       |\n",
       "| Fat       | 2013      | 0.320702  | 0.619072  | 0.4209378 | -23       |  48       |\n",
       "| Fat       | 2014      | 0.414436  | 0.692466  | 0.4694945 | -11       |  48       |\n",
       "| Fat       | 2017      | 0.268994  | 0.585074  | 0.3702257 | -27       |  59       |\n",
       "\n"
      ],
      "text/plain": [
       "  Trait   Env  BME      BMORS    STSE      Inc_BME Inc_BMORS\n",
       "1 Amylose 2013 0.196522 0.366980 0.2204198 -10      67      \n",
       "2 Amylose 2014 0.377926 0.442928 0.3984635  -5      12      \n",
       "3 Amylose 2017 0.119016 0.119440 0.1366606 -12     -12      \n",
       "4 Fat     2013 0.320702 0.619072 0.4209378 -23      48      \n",
       "5 Fat     2014 0.414436 0.692466 0.4694945 -11      48      \n",
       "6 Fat     2017 0.268994 0.585074 0.3702257 -27      59      "
      ]
     },
     "metadata": {},
     "output_type": "display_data"
    },
    {
     "data": {
      "text/html": [
       "<table>\n",
       "<thead><tr><th scope=col>Trait</th><th scope=col>Env</th><th scope=col>BME</th><th scope=col>BMORS</th><th scope=col>STSE</th><th scope=col>Inc_BME</th><th scope=col>Inc_BMORS</th></tr></thead>\n",
       "<tbody>\n",
       "\t<tr><td>Amylose  </td><td>SC2014   </td><td>0.635140 </td><td>0.797620 </td><td>0.6249732</td><td> 2       </td><td>28       </td></tr>\n",
       "\t<tr><td>Amylose  </td><td>SC2015   </td><td>0.595918 </td><td>0.763256 </td><td>0.6008331</td><td> 0       </td><td>28       </td></tr>\n",
       "\t<tr><td>Amylose  </td><td>TX2014   </td><td>0.683134 </td><td>0.864620 </td><td>0.6936433</td><td>-1       </td><td>25       </td></tr>\n",
       "\t<tr><td>Amylose  </td><td>TX2015   </td><td>0.481038 </td><td>0.613468 </td><td>0.4298725</td><td>12       </td><td>43       </td></tr>\n",
       "\t<tr><td>Fat      </td><td>SC2014   </td><td>0.502046 </td><td>0.634744 </td><td>0.4783133</td><td> 5       </td><td>33       </td></tr>\n",
       "\t<tr><td>Fat      </td><td>SC2015   </td><td>0.449320 </td><td>0.511574 </td><td>0.4455863</td><td> 1       </td><td>15       </td></tr>\n",
       "</tbody>\n",
       "</table>\n"
      ],
      "text/latex": [
       "\\begin{tabular}{r|lllllll}\n",
       " Trait & Env & BME & BMORS & STSE & Inc\\_BME & Inc\\_BMORS\\\\\n",
       "\\hline\n",
       "\t Amylose   & SC2014    & 0.635140  & 0.797620  & 0.6249732 &  2        & 28       \\\\\n",
       "\t Amylose   & SC2015    & 0.595918  & 0.763256  & 0.6008331 &  0        & 28       \\\\\n",
       "\t Amylose   & TX2014    & 0.683134  & 0.864620  & 0.6936433 & -1        & 25       \\\\\n",
       "\t Amylose   & TX2015    & 0.481038  & 0.613468  & 0.4298725 & 12        & 43       \\\\\n",
       "\t Fat       & SC2014    & 0.502046  & 0.634744  & 0.4783133 &  5        & 33       \\\\\n",
       "\t Fat       & SC2015    & 0.449320  & 0.511574  & 0.4455863 &  1        & 15       \\\\\n",
       "\\end{tabular}\n"
      ],
      "text/markdown": [
       "\n",
       "| Trait | Env | BME | BMORS | STSE | Inc_BME | Inc_BMORS |\n",
       "|---|---|---|---|---|---|---|\n",
       "| Amylose   | SC2014    | 0.635140  | 0.797620  | 0.6249732 |  2        | 28        |\n",
       "| Amylose   | SC2015    | 0.595918  | 0.763256  | 0.6008331 |  0        | 28        |\n",
       "| Amylose   | TX2014    | 0.683134  | 0.864620  | 0.6936433 | -1        | 25        |\n",
       "| Amylose   | TX2015    | 0.481038  | 0.613468  | 0.4298725 | 12        | 43        |\n",
       "| Fat       | SC2014    | 0.502046  | 0.634744  | 0.4783133 |  5        | 33        |\n",
       "| Fat       | SC2015    | 0.449320  | 0.511574  | 0.4455863 |  1        | 15        |\n",
       "\n"
      ],
      "text/plain": [
       "  Trait   Env    BME      BMORS    STSE      Inc_BME Inc_BMORS\n",
       "1 Amylose SC2014 0.635140 0.797620 0.6249732  2      28       \n",
       "2 Amylose SC2015 0.595918 0.763256 0.6008331  0      28       \n",
       "3 Amylose TX2014 0.683134 0.864620 0.6936433 -1      25       \n",
       "4 Amylose TX2015 0.481038 0.613468 0.4298725 12      43       \n",
       "5 Fat     SC2014 0.502046 0.634744 0.4783133  5      33       \n",
       "6 Fat     SC2015 0.449320 0.511574 0.4455863  1      15       "
      ]
     },
     "metadata": {},
     "output_type": "display_data"
    }
   ],
   "source": [
    "gsdp <- df2 %>% filter(pop=='GSDP') \n",
    "gsdp <- gsdp %>% group_by(Trait,Env,method) %>% summarize(mean=mean(r, na.rm=T))\n",
    "gsdp<- gsdp %>% spread(method,mean)\n",
    "gsdp <- gsdp %>% mutate(Inc_BME = ceiling(100*((BME-STSE)/STSE)), Inc_BMORS = ceiling(100*((BMORS-STSE)/STSE)))\n",
    "head(gsdp)\n",
    "rils <- df2 %>% filter(pop=='RILs') \n",
    "rils <- rils %>% group_by(Trait,Env,method) %>% summarize(mean=mean(r, na.rm=T))\n",
    "rils <- rils %>% spread(method,mean) \n",
    "rils <- rils %>% mutate(Inc_BME = ceiling(100*((BME-STSE)/STSE)), Inc_BMORS = ceiling(100*((BMORS-STSE)/STSE)))\n",
    "head(rils)\n",
    "\n",
    "write.csv(gsdp, 'results/GSDP_Percent_Change_Accuracy.csv',row.names=F)\n",
    "write.csv(rils, 'results/RILs_Percent_Change_Accuracy.csv',row.names=F)"
   ]
  },
  {
   "cell_type": "code",
   "execution_count": null,
   "metadata": {},
   "outputs": [],
   "source": []
  },
  {
   "cell_type": "code",
   "execution_count": null,
   "metadata": {},
   "outputs": [],
   "source": []
  }
 ],
 "metadata": {
  "kernelspec": {
   "display_name": "R 3.6.0",
   "language": "R",
   "name": "ir360"
  },
  "language_info": {
   "codemirror_mode": "r",
   "file_extension": ".r",
   "mimetype": "text/x-r-source",
   "name": "R",
   "pygments_lexer": "r",
   "version": "3.6.0"
  }
 },
 "nbformat": 4,
 "nbformat_minor": 2
}
