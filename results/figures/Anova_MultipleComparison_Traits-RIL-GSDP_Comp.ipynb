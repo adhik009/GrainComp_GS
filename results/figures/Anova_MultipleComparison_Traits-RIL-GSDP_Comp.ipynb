{
 "cells": [
  {
   "cell_type": "code",
   "execution_count": 2,
   "metadata": {},
   "outputs": [],
   "source": [
    ".libPaths(c('/home/ssapkot/.conda/envs/r_env_360/lib', .libPaths()))\n",
    "\n",
    "#install.packages(\"adegenet\",repos='http://cran.us.r-project.org', dependencies = TRUE)\n",
    "library(BGLR)\n",
    "#library(coda)\n",
    "library(tidyverse)\n",
    "library(ggplot2)\n",
    "#library(BMTME)\n",
    "library(reshape2)\n",
    "library(PerformanceAnalytics)\n",
    "\n",
    "setwd(\"/panicle/ssapkot/GrainComp/\")"
   ]
  },
  {
   "cell_type": "markdown",
   "metadata": {},
   "source": [
    "### GSDP and BTx642 RIL  population mean comparison for traits"
   ]
  },
  {
   "cell_type": "code",
   "execution_count": null,
   "metadata": {},
   "outputs": [],
   "source": []
  },
  {
   "cell_type": "code",
   "execution_count": 15,
   "metadata": {},
   "outputs": [
    {
     "name": "stderr",
     "output_type": "stream",
     "text": [
      "Using Pedigree2, Year, Location, Rep, Population as id variables\n"
     ]
    },
    {
     "data": {
      "text/html": [
       "<ol class=list-inline>\n",
       "\t<li>15990</li>\n",
       "\t<li>7</li>\n",
       "</ol>\n"
      ],
      "text/latex": [
       "\\begin{enumerate*}\n",
       "\\item 15990\n",
       "\\item 7\n",
       "\\end{enumerate*}\n"
      ],
      "text/markdown": [
       "1. 15990\n",
       "2. 7\n",
       "\n",
       "\n"
      ],
      "text/plain": [
       "[1] 15990     7"
      ]
     },
     "metadata": {},
     "output_type": "display_data"
    },
    {
     "name": "stderr",
     "output_type": "stream",
     "text": [
      "Using Taxa, Year, Location, Rep, Population as id variables\n"
     ]
    },
    {
     "data": {
      "text/html": [
       "<ol class=list-inline>\n",
       "\t<li>12010</li>\n",
       "\t<li>7</li>\n",
       "</ol>\n"
      ],
      "text/latex": [
       "\\begin{enumerate*}\n",
       "\\item 12010\n",
       "\\item 7\n",
       "\\end{enumerate*}\n"
      ],
      "text/markdown": [
       "1. 12010\n",
       "2. 7\n",
       "\n",
       "\n"
      ],
      "text/plain": [
       "[1] 12010     7"
      ]
     },
     "metadata": {},
     "output_type": "display_data"
    },
    {
     "data": {
      "text/html": [
       "<table>\n",
       "<thead><tr><th scope=col>Taxa</th><th scope=col>Year</th><th scope=col>Location</th><th scope=col>Rep</th><th scope=col>Population</th><th scope=col>variable</th><th scope=col>value</th></tr></thead>\n",
       "<tbody>\n",
       "\t<tr><td>BTx642  </td><td>2014    </td><td>SC      </td><td>1       </td><td>RILs    </td><td>Anthesis</td><td>76      </td></tr>\n",
       "\t<tr><td>BTxARG-1</td><td>2014    </td><td>SC      </td><td>1       </td><td>RILs    </td><td>Anthesis</td><td>78      </td></tr>\n",
       "\t<tr><td>CS_001  </td><td>2014    </td><td>SC      </td><td>1       </td><td>RILs    </td><td>Anthesis</td><td>70      </td></tr>\n",
       "\t<tr><td>CS_002  </td><td>2014    </td><td>SC      </td><td>1       </td><td>RILs    </td><td>Anthesis</td><td>77      </td></tr>\n",
       "\t<tr><td>CS_004  </td><td>2014    </td><td>SC      </td><td>1       </td><td>RILs    </td><td>Anthesis</td><td>76      </td></tr>\n",
       "\t<tr><td>CS_005  </td><td>2014    </td><td>SC      </td><td>1       </td><td>RILs    </td><td>Anthesis</td><td>72      </td></tr>\n",
       "</tbody>\n",
       "</table>\n"
      ],
      "text/latex": [
       "\\begin{tabular}{r|lllllll}\n",
       " Taxa & Year & Location & Rep & Population & variable & value\\\\\n",
       "\\hline\n",
       "\t BTx642   & 2014     & SC       & 1        & RILs     & Anthesis & 76      \\\\\n",
       "\t BTxARG-1 & 2014     & SC       & 1        & RILs     & Anthesis & 78      \\\\\n",
       "\t CS\\_001   & 2014       & SC         & 1          & RILs       & Anthesis   & 70        \\\\\n",
       "\t CS\\_002   & 2014       & SC         & 1          & RILs       & Anthesis   & 77        \\\\\n",
       "\t CS\\_004   & 2014       & SC         & 1          & RILs       & Anthesis   & 76        \\\\\n",
       "\t CS\\_005   & 2014       & SC         & 1          & RILs       & Anthesis   & 72        \\\\\n",
       "\\end{tabular}\n"
      ],
      "text/markdown": [
       "\n",
       "| Taxa | Year | Location | Rep | Population | variable | value |\n",
       "|---|---|---|---|---|---|---|\n",
       "| BTx642   | 2014     | SC       | 1        | RILs     | Anthesis | 76       |\n",
       "| BTxARG-1 | 2014     | SC       | 1        | RILs     | Anthesis | 78       |\n",
       "| CS_001   | 2014     | SC       | 1        | RILs     | Anthesis | 70       |\n",
       "| CS_002   | 2014     | SC       | 1        | RILs     | Anthesis | 77       |\n",
       "| CS_004   | 2014     | SC       | 1        | RILs     | Anthesis | 76       |\n",
       "| CS_005   | 2014     | SC       | 1        | RILs     | Anthesis | 72       |\n",
       "\n"
      ],
      "text/plain": [
       "  Taxa     Year Location Rep Population variable value\n",
       "1 BTx642   2014 SC       1   RILs       Anthesis 76   \n",
       "2 BTxARG-1 2014 SC       1   RILs       Anthesis 78   \n",
       "3 CS_001   2014 SC       1   RILs       Anthesis 70   \n",
       "4 CS_002   2014 SC       1   RILs       Anthesis 77   \n",
       "5 CS_004   2014 SC       1   RILs       Anthesis 76   \n",
       "6 CS_005   2014 SC       1   RILs       Anthesis 72   "
      ]
     },
     "metadata": {},
     "output_type": "display_data"
    },
    {
     "data": {
      "text/html": [
       "<ol class=list-inline>\n",
       "\t<li>28000</li>\n",
       "\t<li>7</li>\n",
       "</ol>\n"
      ],
      "text/latex": [
       "\\begin{enumerate*}\n",
       "\\item 28000\n",
       "\\item 7\n",
       "\\end{enumerate*}\n"
      ],
      "text/markdown": [
       "1. 28000\n",
       "2. 7\n",
       "\n",
       "\n"
      ],
      "text/plain": [
       "[1] 28000     7"
      ]
     },
     "metadata": {},
     "output_type": "display_data"
    }
   ],
   "source": [
    "### Load RILs phenotypes\n",
    "RIL = read.csv(\"data/BTx_Yield_Quality_Phenotypes.csv\")\n",
    "RIL$Year <- as.factor(RIL$Year)\n",
    "RIL$Rep <- as.factor(RIL$Rep)\n",
    "RIL$Population <- 'RILs'\n",
    "df_r = melt(RIL)\n",
    "colnames(df_r) <- c('Taxa','Year','Location','Rep','Population','variable','value')\n",
    "#df <- df[,c(1,2,)]\n",
    "dim(df_r)\n",
    "\n",
    "### Load GSDP phenotypes\n",
    "GSDP = read.csv(\"data/SAP_multiyear_agronomic_composition.csv\")\n",
    "GSDP <- GSDP[,c('Taxa','Year','Location','Rep','Amylose','Fat','Cal.g','Protein','Starch')]\n",
    "#colnames(GSDP) <- c('Taxa','Year','Location','Rep','Amylose','Fat','Gross Energy','Protein','Starch')\n",
    "GSDP$Year <- as.factor(GSDP$Year)\n",
    "GSDP$Rep <- as.factor(GSDP$Rep)\n",
    "GSDP$Population <- 'GSDP'\n",
    "df_d = melt(GSDP)\n",
    "dim(df_d)\n",
    "\n",
    "### Merge the two datasets into one data frame\n",
    "df = rbind(df_r,df_d)\n",
    "head(df)\n",
    "dim(df)"
   ]
  },
  {
   "cell_type": "markdown",
   "metadata": {},
   "source": [
    "#### Amylose"
   ]
  },
  {
   "cell_type": "code",
   "execution_count": 16,
   "metadata": {},
   "outputs": [
    {
     "data": {
      "text/plain": [
       "              Df Sum Sq Mean Sq F value Pr(>F)    \n",
       "Population     1   5425    5425   384.9 <2e-16 ***\n",
       "Residuals   3782  53312      14                   \n",
       "---\n",
       "Signif. codes:  0 ‘***’ 0.001 ‘**’ 0.01 ‘*’ 0.05 ‘.’ 0.1 ‘ ’ 1\n",
       "217 observations deleted due to missingness"
      ]
     },
     "metadata": {},
     "output_type": "display_data"
    },
    {
     "data": {
      "text/plain": [
       "  Tukey multiple comparisons of means\n",
       "    95% family-wise confidence level\n",
       "\n",
       "Fit: aov(formula = value ~ Population, data = ams)\n",
       "\n",
       "$Population\n",
       "               diff       lwr      upr p adj\n",
       "RILs-GSDP -2.434594 -2.677907 -2.19128     0\n"
      ]
     },
     "metadata": {},
     "output_type": "display_data"
    }
   ],
   "source": [
    "ams = df %>% filter(variable==\"Amylose\")\n",
    "\n",
    "ams_aov = aov(value~Population, data=ams)\n",
    "summary(ams_aov)\n",
    "\n",
    "TukeyHSD(ams_aov)"
   ]
  },
  {
   "cell_type": "markdown",
   "metadata": {},
   "source": []
  },
  {
   "cell_type": "markdown",
   "metadata": {},
   "source": [
    "#### Starch"
   ]
  },
  {
   "cell_type": "code",
   "execution_count": 17,
   "metadata": {},
   "outputs": [
    {
     "data": {
      "text/html": [
       "<ol class=list-inline>\n",
       "\t<li>4001</li>\n",
       "\t<li>7</li>\n",
       "</ol>\n"
      ],
      "text/latex": [
       "\\begin{enumerate*}\n",
       "\\item 4001\n",
       "\\item 7\n",
       "\\end{enumerate*}\n"
      ],
      "text/markdown": [
       "1. 4001\n",
       "2. 7\n",
       "\n",
       "\n"
      ],
      "text/plain": [
       "[1] 4001    7"
      ]
     },
     "metadata": {},
     "output_type": "display_data"
    },
    {
     "data": {
      "text/html": [
       "<table>\n",
       "<thead><tr><th scope=col>Taxa</th><th scope=col>Year</th><th scope=col>Location</th><th scope=col>Rep</th><th scope=col>Population</th><th scope=col>variable</th><th scope=col>value</th></tr></thead>\n",
       "<tbody>\n",
       "\t<tr><td>BTx642  </td><td>2014    </td><td>SC      </td><td>1       </td><td>RILs    </td><td>Starch  </td><td>67.77   </td></tr>\n",
       "\t<tr><td>BTxARG-1</td><td>2014    </td><td>SC      </td><td>1       </td><td>RILs    </td><td>Starch  </td><td>66.54   </td></tr>\n",
       "\t<tr><td>CS_001  </td><td>2014    </td><td>SC      </td><td>1       </td><td>RILs    </td><td>Starch  </td><td>70.06   </td></tr>\n",
       "\t<tr><td>CS_002  </td><td>2014    </td><td>SC      </td><td>1       </td><td>RILs    </td><td>Starch  </td><td>71.24   </td></tr>\n",
       "\t<tr><td>CS_004  </td><td>2014    </td><td>SC      </td><td>1       </td><td>RILs    </td><td>Starch  </td><td>69.19   </td></tr>\n",
       "\t<tr><td>CS_005  </td><td>2014    </td><td>SC      </td><td>1       </td><td>RILs    </td><td>Starch  </td><td>69.62   </td></tr>\n",
       "</tbody>\n",
       "</table>\n"
      ],
      "text/latex": [
       "\\begin{tabular}{r|lllllll}\n",
       " Taxa & Year & Location & Rep & Population & variable & value\\\\\n",
       "\\hline\n",
       "\t BTx642   & 2014     & SC       & 1        & RILs     & Starch   & 67.77   \\\\\n",
       "\t BTxARG-1 & 2014     & SC       & 1        & RILs     & Starch   & 66.54   \\\\\n",
       "\t CS\\_001   & 2014       & SC         & 1          & RILs       & Starch     & 70.06     \\\\\n",
       "\t CS\\_002   & 2014       & SC         & 1          & RILs       & Starch     & 71.24     \\\\\n",
       "\t CS\\_004   & 2014       & SC         & 1          & RILs       & Starch     & 69.19     \\\\\n",
       "\t CS\\_005   & 2014       & SC         & 1          & RILs       & Starch     & 69.62     \\\\\n",
       "\\end{tabular}\n"
      ],
      "text/markdown": [
       "\n",
       "| Taxa | Year | Location | Rep | Population | variable | value |\n",
       "|---|---|---|---|---|---|---|\n",
       "| BTx642   | 2014     | SC       | 1        | RILs     | Starch   | 67.77    |\n",
       "| BTxARG-1 | 2014     | SC       | 1        | RILs     | Starch   | 66.54    |\n",
       "| CS_001   | 2014     | SC       | 1        | RILs     | Starch   | 70.06    |\n",
       "| CS_002   | 2014     | SC       | 1        | RILs     | Starch   | 71.24    |\n",
       "| CS_004   | 2014     | SC       | 1        | RILs     | Starch   | 69.19    |\n",
       "| CS_005   | 2014     | SC       | 1        | RILs     | Starch   | 69.62    |\n",
       "\n"
      ],
      "text/plain": [
       "  Taxa     Year Location Rep Population variable value\n",
       "1 BTx642   2014 SC       1   RILs       Starch   67.77\n",
       "2 BTxARG-1 2014 SC       1   RILs       Starch   66.54\n",
       "3 CS_001   2014 SC       1   RILs       Starch   70.06\n",
       "4 CS_002   2014 SC       1   RILs       Starch   71.24\n",
       "5 CS_004   2014 SC       1   RILs       Starch   69.19\n",
       "6 CS_005   2014 SC       1   RILs       Starch   69.62"
      ]
     },
     "metadata": {},
     "output_type": "display_data"
    },
    {
     "data": {
      "text/plain": [
       "              Df Sum Sq Mean Sq F value Pr(>F)\n",
       "Population     1      2   1.842   0.323   0.57\n",
       "Residuals   3782  21576   5.705               \n",
       "217 observations deleted due to missingness"
      ]
     },
     "metadata": {},
     "output_type": "display_data"
    },
    {
     "data": {
      "text/plain": [
       "  Tukey multiple comparisons of means\n",
       "    95% family-wise confidence level\n",
       "\n",
       "Fit: aov(formula = value ~ Population, data = sta)\n",
       "\n",
       "$Population\n",
       "                diff        lwr       upr     p adj\n",
       "RILs-GSDP 0.04486173 -0.1099253 0.1996487 0.5699085\n"
      ]
     },
     "metadata": {},
     "output_type": "display_data"
    }
   ],
   "source": [
    "sta = df %>% filter(variable==\"Starch\")\n",
    "dim(sta)\n",
    "head(sta)\n",
    "\n",
    "sta_aov = aov(value~Population, data=sta)\n",
    "summary(sta_aov)\n",
    "\n",
    "TukeyHSD(sta_aov)"
   ]
  },
  {
   "cell_type": "markdown",
   "metadata": {},
   "source": []
  },
  {
   "cell_type": "markdown",
   "metadata": {},
   "source": [
    "### Fat"
   ]
  },
  {
   "cell_type": "code",
   "execution_count": 18,
   "metadata": {},
   "outputs": [
    {
     "data": {
      "text/html": [
       "<ol class=list-inline>\n",
       "\t<li>4001</li>\n",
       "\t<li>7</li>\n",
       "</ol>\n"
      ],
      "text/latex": [
       "\\begin{enumerate*}\n",
       "\\item 4001\n",
       "\\item 7\n",
       "\\end{enumerate*}\n"
      ],
      "text/markdown": [
       "1. 4001\n",
       "2. 7\n",
       "\n",
       "\n"
      ],
      "text/plain": [
       "[1] 4001    7"
      ]
     },
     "metadata": {},
     "output_type": "display_data"
    },
    {
     "data": {
      "text/html": [
       "<table>\n",
       "<thead><tr><th scope=col>Taxa</th><th scope=col>Year</th><th scope=col>Location</th><th scope=col>Rep</th><th scope=col>Population</th><th scope=col>variable</th><th scope=col>value</th></tr></thead>\n",
       "<tbody>\n",
       "\t<tr><td>BTx642  </td><td>2014    </td><td>SC      </td><td>1       </td><td>RILs    </td><td>Fat     </td><td>3.72    </td></tr>\n",
       "\t<tr><td>BTxARG-1</td><td>2014    </td><td>SC      </td><td>1       </td><td>RILs    </td><td>Fat     </td><td>3.42    </td></tr>\n",
       "\t<tr><td>CS_001  </td><td>2014    </td><td>SC      </td><td>1       </td><td>RILs    </td><td>Fat     </td><td>2.96    </td></tr>\n",
       "\t<tr><td>CS_002  </td><td>2014    </td><td>SC      </td><td>1       </td><td>RILs    </td><td>Fat     </td><td>2.65    </td></tr>\n",
       "\t<tr><td>CS_004  </td><td>2014    </td><td>SC      </td><td>1       </td><td>RILs    </td><td>Fat     </td><td>3.39    </td></tr>\n",
       "\t<tr><td>CS_005  </td><td>2014    </td><td>SC      </td><td>1       </td><td>RILs    </td><td>Fat     </td><td>3.09    </td></tr>\n",
       "</tbody>\n",
       "</table>\n"
      ],
      "text/latex": [
       "\\begin{tabular}{r|lllllll}\n",
       " Taxa & Year & Location & Rep & Population & variable & value\\\\\n",
       "\\hline\n",
       "\t BTx642   & 2014     & SC       & 1        & RILs     & Fat      & 3.72    \\\\\n",
       "\t BTxARG-1 & 2014     & SC       & 1        & RILs     & Fat      & 3.42    \\\\\n",
       "\t CS\\_001   & 2014       & SC         & 1          & RILs       & Fat        & 2.96      \\\\\n",
       "\t CS\\_002   & 2014       & SC         & 1          & RILs       & Fat        & 2.65      \\\\\n",
       "\t CS\\_004   & 2014       & SC         & 1          & RILs       & Fat        & 3.39      \\\\\n",
       "\t CS\\_005   & 2014       & SC         & 1          & RILs       & Fat        & 3.09      \\\\\n",
       "\\end{tabular}\n"
      ],
      "text/markdown": [
       "\n",
       "| Taxa | Year | Location | Rep | Population | variable | value |\n",
       "|---|---|---|---|---|---|---|\n",
       "| BTx642   | 2014     | SC       | 1        | RILs     | Fat      | 3.72     |\n",
       "| BTxARG-1 | 2014     | SC       | 1        | RILs     | Fat      | 3.42     |\n",
       "| CS_001   | 2014     | SC       | 1        | RILs     | Fat      | 2.96     |\n",
       "| CS_002   | 2014     | SC       | 1        | RILs     | Fat      | 2.65     |\n",
       "| CS_004   | 2014     | SC       | 1        | RILs     | Fat      | 3.39     |\n",
       "| CS_005   | 2014     | SC       | 1        | RILs     | Fat      | 3.09     |\n",
       "\n"
      ],
      "text/plain": [
       "  Taxa     Year Location Rep Population variable value\n",
       "1 BTx642   2014 SC       1   RILs       Fat      3.72 \n",
       "2 BTxARG-1 2014 SC       1   RILs       Fat      3.42 \n",
       "3 CS_001   2014 SC       1   RILs       Fat      2.96 \n",
       "4 CS_002   2014 SC       1   RILs       Fat      2.65 \n",
       "5 CS_004   2014 SC       1   RILs       Fat      3.39 \n",
       "6 CS_005   2014 SC       1   RILs       Fat      3.09 "
      ]
     },
     "metadata": {},
     "output_type": "display_data"
    },
    {
     "data": {
      "text/plain": [
       "              Df Sum Sq Mean Sq F value Pr(>F)    \n",
       "Population     1    266   266.0   656.9 <2e-16 ***\n",
       "Residuals   3782   1531     0.4                   \n",
       "---\n",
       "Signif. codes:  0 ‘***’ 0.001 ‘**’ 0.01 ‘*’ 0.05 ‘.’ 0.1 ‘ ’ 1\n",
       "217 observations deleted due to missingness"
      ]
     },
     "metadata": {},
     "output_type": "display_data"
    },
    {
     "data": {
      "text/plain": [
       "  Tukey multiple comparisons of means\n",
       "    95% family-wise confidence level\n",
       "\n",
       "Fit: aov(formula = value ~ Population, data = trait)\n",
       "\n",
       "$Population\n",
       "               diff       lwr       upr p adj\n",
       "RILs-GSDP 0.5391095 0.4978711 0.5803478     0\n"
      ]
     },
     "metadata": {},
     "output_type": "display_data"
    }
   ],
   "source": [
    "trait = df %>% filter(variable==\"Fat\")\n",
    "dim(trait)\n",
    "head(trait)\n",
    "\n",
    "ano = aov(value~Population, data=trait)\n",
    "summary(ano)\n",
    "TukeyHSD(ano)"
   ]
  },
  {
   "cell_type": "markdown",
   "metadata": {},
   "source": []
  },
  {
   "cell_type": "markdown",
   "metadata": {},
   "source": [
    "### Protein"
   ]
  },
  {
   "cell_type": "code",
   "execution_count": 19,
   "metadata": {},
   "outputs": [
    {
     "data": {
      "text/html": [
       "<ol class=list-inline>\n",
       "\t<li>4001</li>\n",
       "\t<li>7</li>\n",
       "</ol>\n"
      ],
      "text/latex": [
       "\\begin{enumerate*}\n",
       "\\item 4001\n",
       "\\item 7\n",
       "\\end{enumerate*}\n"
      ],
      "text/markdown": [
       "1. 4001\n",
       "2. 7\n",
       "\n",
       "\n"
      ],
      "text/plain": [
       "[1] 4001    7"
      ]
     },
     "metadata": {},
     "output_type": "display_data"
    },
    {
     "data": {
      "text/html": [
       "<table>\n",
       "<thead><tr><th scope=col>Taxa</th><th scope=col>Year</th><th scope=col>Location</th><th scope=col>Rep</th><th scope=col>Population</th><th scope=col>variable</th><th scope=col>value</th></tr></thead>\n",
       "<tbody>\n",
       "\t<tr><td>BTx642  </td><td>2014    </td><td>SC      </td><td>1       </td><td>RILs    </td><td>Protein </td><td>11.53   </td></tr>\n",
       "\t<tr><td>BTxARG-1</td><td>2014    </td><td>SC      </td><td>1       </td><td>RILs    </td><td>Protein </td><td>11.85   </td></tr>\n",
       "\t<tr><td>CS_001  </td><td>2014    </td><td>SC      </td><td>1       </td><td>RILs    </td><td>Protein </td><td>11.84   </td></tr>\n",
       "\t<tr><td>CS_002  </td><td>2014    </td><td>SC      </td><td>1       </td><td>RILs    </td><td>Protein </td><td>10.62   </td></tr>\n",
       "\t<tr><td>CS_004  </td><td>2014    </td><td>SC      </td><td>1       </td><td>RILs    </td><td>Protein </td><td>11.32   </td></tr>\n",
       "\t<tr><td>CS_005  </td><td>2014    </td><td>SC      </td><td>1       </td><td>RILs    </td><td>Protein </td><td>11.01   </td></tr>\n",
       "</tbody>\n",
       "</table>\n"
      ],
      "text/latex": [
       "\\begin{tabular}{r|lllllll}\n",
       " Taxa & Year & Location & Rep & Population & variable & value\\\\\n",
       "\\hline\n",
       "\t BTx642   & 2014     & SC       & 1        & RILs     & Protein  & 11.53   \\\\\n",
       "\t BTxARG-1 & 2014     & SC       & 1        & RILs     & Protein  & 11.85   \\\\\n",
       "\t CS\\_001   & 2014       & SC         & 1          & RILs       & Protein    & 11.84     \\\\\n",
       "\t CS\\_002   & 2014       & SC         & 1          & RILs       & Protein    & 10.62     \\\\\n",
       "\t CS\\_004   & 2014       & SC         & 1          & RILs       & Protein    & 11.32     \\\\\n",
       "\t CS\\_005   & 2014       & SC         & 1          & RILs       & Protein    & 11.01     \\\\\n",
       "\\end{tabular}\n"
      ],
      "text/markdown": [
       "\n",
       "| Taxa | Year | Location | Rep | Population | variable | value |\n",
       "|---|---|---|---|---|---|---|\n",
       "| BTx642   | 2014     | SC       | 1        | RILs     | Protein  | 11.53    |\n",
       "| BTxARG-1 | 2014     | SC       | 1        | RILs     | Protein  | 11.85    |\n",
       "| CS_001   | 2014     | SC       | 1        | RILs     | Protein  | 11.84    |\n",
       "| CS_002   | 2014     | SC       | 1        | RILs     | Protein  | 10.62    |\n",
       "| CS_004   | 2014     | SC       | 1        | RILs     | Protein  | 11.32    |\n",
       "| CS_005   | 2014     | SC       | 1        | RILs     | Protein  | 11.01    |\n",
       "\n"
      ],
      "text/plain": [
       "  Taxa     Year Location Rep Population variable value\n",
       "1 BTx642   2014 SC       1   RILs       Protein  11.53\n",
       "2 BTxARG-1 2014 SC       1   RILs       Protein  11.85\n",
       "3 CS_001   2014 SC       1   RILs       Protein  11.84\n",
       "4 CS_002   2014 SC       1   RILs       Protein  10.62\n",
       "5 CS_004   2014 SC       1   RILs       Protein  11.32\n",
       "6 CS_005   2014 SC       1   RILs       Protein  11.01"
      ]
     },
     "metadata": {},
     "output_type": "display_data"
    },
    {
     "data": {
      "text/plain": [
       "              Df Sum Sq Mean Sq F value Pr(>F)    \n",
       "Population     1    309  309.22   153.7 <2e-16 ***\n",
       "Residuals   3782   7610    2.01                   \n",
       "---\n",
       "Signif. codes:  0 ‘***’ 0.001 ‘**’ 0.01 ‘*’ 0.05 ‘.’ 0.1 ‘ ’ 1\n",
       "217 observations deleted due to missingness"
      ]
     },
     "metadata": {},
     "output_type": "display_data"
    },
    {
     "data": {
      "text/plain": [
       "  Tukey multiple comparisons of means\n",
       "    95% family-wise confidence level\n",
       "\n",
       "Fit: aov(formula = value ~ Population, data = trait)\n",
       "\n",
       "$Population\n",
       "                diff        lwr        upr p adj\n",
       "RILs-GSDP -0.5812436 -0.6731716 -0.4893157     0\n"
      ]
     },
     "metadata": {},
     "output_type": "display_data"
    }
   ],
   "source": [
    "trait = df %>% filter(variable==\"Protein\")\n",
    "dim(trait)\n",
    "head(trait)\n",
    "\n",
    "ano = aov(value~Population, data=trait)\n",
    "summary(ano)\n",
    "TukeyHSD(ano)"
   ]
  },
  {
   "cell_type": "markdown",
   "metadata": {},
   "source": []
  },
  {
   "cell_type": "markdown",
   "metadata": {},
   "source": [
    "### Gross Energy (Cal/g)"
   ]
  },
  {
   "cell_type": "code",
   "execution_count": 20,
   "metadata": {},
   "outputs": [
    {
     "data": {
      "text/html": [
       "<ol class=list-inline>\n",
       "\t<li>4001</li>\n",
       "\t<li>7</li>\n",
       "</ol>\n"
      ],
      "text/latex": [
       "\\begin{enumerate*}\n",
       "\\item 4001\n",
       "\\item 7\n",
       "\\end{enumerate*}\n"
      ],
      "text/markdown": [
       "1. 4001\n",
       "2. 7\n",
       "\n",
       "\n"
      ],
      "text/plain": [
       "[1] 4001    7"
      ]
     },
     "metadata": {},
     "output_type": "display_data"
    },
    {
     "data": {
      "text/html": [
       "<table>\n",
       "<thead><tr><th scope=col>Taxa</th><th scope=col>Year</th><th scope=col>Location</th><th scope=col>Rep</th><th scope=col>Population</th><th scope=col>variable</th><th scope=col>value</th></tr></thead>\n",
       "<tbody>\n",
       "\t<tr><td>BTx642  </td><td>2014    </td><td>SC      </td><td>1       </td><td>RILs    </td><td>Cal.g   </td><td>4171.34 </td></tr>\n",
       "\t<tr><td>BTxARG-1</td><td>2014    </td><td>SC      </td><td>1       </td><td>RILs    </td><td>Cal.g   </td><td>4109.92 </td></tr>\n",
       "\t<tr><td>CS_001  </td><td>2014    </td><td>SC      </td><td>1       </td><td>RILs    </td><td>Cal.g   </td><td>4119.23 </td></tr>\n",
       "\t<tr><td>CS_002  </td><td>2014    </td><td>SC      </td><td>1       </td><td>RILs    </td><td>Cal.g   </td><td>4077.12 </td></tr>\n",
       "\t<tr><td>CS_004  </td><td>2014    </td><td>SC      </td><td>1       </td><td>RILs    </td><td>Cal.g   </td><td>4151.21 </td></tr>\n",
       "\t<tr><td>CS_005  </td><td>2014    </td><td>SC      </td><td>1       </td><td>RILs    </td><td>Cal.g   </td><td>4131.94 </td></tr>\n",
       "</tbody>\n",
       "</table>\n"
      ],
      "text/latex": [
       "\\begin{tabular}{r|lllllll}\n",
       " Taxa & Year & Location & Rep & Population & variable & value\\\\\n",
       "\\hline\n",
       "\t BTx642   & 2014     & SC       & 1        & RILs     & Cal.g    & 4171.34 \\\\\n",
       "\t BTxARG-1 & 2014     & SC       & 1        & RILs     & Cal.g    & 4109.92 \\\\\n",
       "\t CS\\_001   & 2014       & SC         & 1          & RILs       & Cal.g      & 4119.23   \\\\\n",
       "\t CS\\_002   & 2014       & SC         & 1          & RILs       & Cal.g      & 4077.12   \\\\\n",
       "\t CS\\_004   & 2014       & SC         & 1          & RILs       & Cal.g      & 4151.21   \\\\\n",
       "\t CS\\_005   & 2014       & SC         & 1          & RILs       & Cal.g      & 4131.94   \\\\\n",
       "\\end{tabular}\n"
      ],
      "text/markdown": [
       "\n",
       "| Taxa | Year | Location | Rep | Population | variable | value |\n",
       "|---|---|---|---|---|---|---|\n",
       "| BTx642   | 2014     | SC       | 1        | RILs     | Cal.g    | 4171.34  |\n",
       "| BTxARG-1 | 2014     | SC       | 1        | RILs     | Cal.g    | 4109.92  |\n",
       "| CS_001   | 2014     | SC       | 1        | RILs     | Cal.g    | 4119.23  |\n",
       "| CS_002   | 2014     | SC       | 1        | RILs     | Cal.g    | 4077.12  |\n",
       "| CS_004   | 2014     | SC       | 1        | RILs     | Cal.g    | 4151.21  |\n",
       "| CS_005   | 2014     | SC       | 1        | RILs     | Cal.g    | 4131.94  |\n",
       "\n"
      ],
      "text/plain": [
       "  Taxa     Year Location Rep Population variable value  \n",
       "1 BTx642   2014 SC       1   RILs       Cal.g    4171.34\n",
       "2 BTxARG-1 2014 SC       1   RILs       Cal.g    4109.92\n",
       "3 CS_001   2014 SC       1   RILs       Cal.g    4119.23\n",
       "4 CS_002   2014 SC       1   RILs       Cal.g    4077.12\n",
       "5 CS_004   2014 SC       1   RILs       Cal.g    4151.21\n",
       "6 CS_005   2014 SC       1   RILs       Cal.g    4131.94"
      ]
     },
     "metadata": {},
     "output_type": "display_data"
    },
    {
     "data": {
      "text/plain": [
       "              Df  Sum Sq Mean Sq F value Pr(>F)    \n",
       "Population     1  211360  211360   73.74 <2e-16 ***\n",
       "Residuals   3395 9730625    2866                   \n",
       "---\n",
       "Signif. codes:  0 ‘***’ 0.001 ‘**’ 0.01 ‘*’ 0.05 ‘.’ 0.1 ‘ ’ 1\n",
       "604 observations deleted due to missingness"
      ]
     },
     "metadata": {},
     "output_type": "display_data"
    },
    {
     "data": {
      "text/plain": [
       "  Tukey multiple comparisons of means\n",
       "    95% family-wise confidence level\n",
       "\n",
       "Fit: aov(formula = value ~ Population, data = trait)\n",
       "\n",
       "$Population\n",
       "              diff      lwr      upr p adj\n",
       "RILs-GSDP 16.62027 12.82554 20.41499     0\n"
      ]
     },
     "metadata": {},
     "output_type": "display_data"
    }
   ],
   "source": [
    "trait = df %>% filter(variable==\"Cal.g\")\n",
    "dim(trait)\n",
    "head(trait)\n",
    "\n",
    "ano = aov(value~Population, data=trait)\n",
    "summary(ano)\n",
    "TukeyHSD(ano)"
   ]
  },
  {
   "cell_type": "markdown",
   "metadata": {},
   "source": []
  },
  {
   "cell_type": "code",
   "execution_count": null,
   "metadata": {},
   "outputs": [],
   "source": []
  }
 ],
 "metadata": {
  "kernelspec": {
   "display_name": "R 3.6.0",
   "language": "R",
   "name": "ir360"
  },
  "language_info": {
   "codemirror_mode": "r",
   "file_extension": ".r",
   "mimetype": "text/x-r-source",
   "name": "R",
   "pygments_lexer": "r",
   "version": "3.6.0"
  }
 },
 "nbformat": 4,
 "nbformat_minor": 2
}
