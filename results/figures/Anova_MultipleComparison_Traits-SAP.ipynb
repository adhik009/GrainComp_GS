{
 "cells": [
  {
   "cell_type": "code",
   "execution_count": 2,
   "metadata": {},
   "outputs": [],
   "source": [
    ".libPaths(c('/home/ssapkot/.conda/envs/r_env_360/lib', .libPaths()))\n",
    "\n",
    "#install.packages(\"adegenet\",repos='http://cran.us.r-project.org', dependencies = TRUE)\n",
    "library(BGLR)\n",
    "#library(coda)\n",
    "library(tidyverse)\n",
    "library(ggplot2)\n",
    "#library(BMTME)\n",
    "library(reshape2)\n",
    "library(PerformanceAnalytics)\n",
    "\n",
    "setwd(\"/panicle/ssapkot/GrainComp/\")"
   ]
  },
  {
   "cell_type": "code",
   "execution_count": 27,
   "metadata": {},
   "outputs": [
    {
     "data": {
      "text/html": [
       "<table>\n",
       "<thead><tr><th scope=col>Trait</th><th scope=col>Model</th><th scope=col>Seed</th><th scope=col>r</th></tr></thead>\n",
       "<tbody>\n",
       "\t<tr><td>Amylose  </td><td>BRR      </td><td>12345    </td><td>0.3063746</td></tr>\n",
       "\t<tr><td>Amylose  </td><td>BRR      </td><td>12346    </td><td>0.2803957</td></tr>\n",
       "\t<tr><td>Amylose  </td><td>BRR      </td><td>12347    </td><td>0.3252473</td></tr>\n",
       "\t<tr><td>Amylose  </td><td>BRR      </td><td>12348    </td><td>0.3168352</td></tr>\n",
       "\t<tr><td>Amylose  </td><td>BRR      </td><td>12349    </td><td>0.2617919</td></tr>\n",
       "\t<tr><td>Amylose  </td><td>BRR      </td><td>12350    </td><td>0.1962646</td></tr>\n",
       "</tbody>\n",
       "</table>\n"
      ],
      "text/latex": [
       "\\begin{tabular}{r|llll}\n",
       " Trait & Model & Seed & r\\\\\n",
       "\\hline\n",
       "\t Amylose   & BRR       & 12345     & 0.3063746\\\\\n",
       "\t Amylose   & BRR       & 12346     & 0.2803957\\\\\n",
       "\t Amylose   & BRR       & 12347     & 0.3252473\\\\\n",
       "\t Amylose   & BRR       & 12348     & 0.3168352\\\\\n",
       "\t Amylose   & BRR       & 12349     & 0.2617919\\\\\n",
       "\t Amylose   & BRR       & 12350     & 0.1962646\\\\\n",
       "\\end{tabular}\n"
      ],
      "text/markdown": [
       "\n",
       "| Trait | Model | Seed | r |\n",
       "|---|---|---|---|\n",
       "| Amylose   | BRR       | 12345     | 0.3063746 |\n",
       "| Amylose   | BRR       | 12346     | 0.2803957 |\n",
       "| Amylose   | BRR       | 12347     | 0.3252473 |\n",
       "| Amylose   | BRR       | 12348     | 0.3168352 |\n",
       "| Amylose   | BRR       | 12349     | 0.2617919 |\n",
       "| Amylose   | BRR       | 12350     | 0.1962646 |\n",
       "\n"
      ],
      "text/plain": [
       "  Trait   Model Seed  r        \n",
       "1 Amylose BRR   12345 0.3063746\n",
       "2 Amylose BRR   12346 0.2803957\n",
       "3 Amylose BRR   12347 0.3252473\n",
       "4 Amylose BRR   12348 0.3168352\n",
       "5 Amylose BRR   12349 0.2617919\n",
       "6 Amylose BRR   12350 0.1962646"
      ]
     },
     "metadata": {},
     "output_type": "display_data"
    },
    {
     "name": "stderr",
     "output_type": "stream",
     "text": [
      "Using Model as id variables\n"
     ]
    },
    {
     "data": {
      "text/html": [
       "<table>\n",
       "<thead><tr><th scope=col>Model</th><th scope=col>variable</th><th scope=col>value</th></tr></thead>\n",
       "<tbody>\n",
       "\t<tr><td>BayesA   </td><td>Cal.g    </td><td>0.6056280</td></tr>\n",
       "\t<tr><td>BayesA   </td><td>Cal.g    </td><td>0.5581892</td></tr>\n",
       "\t<tr><td>BayesA   </td><td>Cal.g    </td><td>0.5662301</td></tr>\n",
       "\t<tr><td>BayesA   </td><td>Cal.g    </td><td>0.6155079</td></tr>\n",
       "\t<tr><td>BayesA   </td><td>Cal.g    </td><td>0.6229429</td></tr>\n",
       "\t<tr><td>BayesA   </td><td>Cal.g    </td><td>0.5751210</td></tr>\n",
       "</tbody>\n",
       "</table>\n"
      ],
      "text/latex": [
       "\\begin{tabular}{r|lll}\n",
       " Model & variable & value\\\\\n",
       "\\hline\n",
       "\t BayesA    & Cal.g     & 0.6056280\\\\\n",
       "\t BayesA    & Cal.g     & 0.5581892\\\\\n",
       "\t BayesA    & Cal.g     & 0.5662301\\\\\n",
       "\t BayesA    & Cal.g     & 0.6155079\\\\\n",
       "\t BayesA    & Cal.g     & 0.6229429\\\\\n",
       "\t BayesA    & Cal.g     & 0.5751210\\\\\n",
       "\\end{tabular}\n"
      ],
      "text/markdown": [
       "\n",
       "| Model | variable | value |\n",
       "|---|---|---|\n",
       "| BayesA    | Cal.g     | 0.6056280 |\n",
       "| BayesA    | Cal.g     | 0.5581892 |\n",
       "| BayesA    | Cal.g     | 0.5662301 |\n",
       "| BayesA    | Cal.g     | 0.6155079 |\n",
       "| BayesA    | Cal.g     | 0.6229429 |\n",
       "| BayesA    | Cal.g     | 0.5751210 |\n",
       "\n"
      ],
      "text/plain": [
       "  Model  variable value    \n",
       "1 BayesA Cal.g    0.6056280\n",
       "2 BayesA Cal.g    0.5581892\n",
       "3 BayesA Cal.g    0.5662301\n",
       "4 BayesA Cal.g    0.6155079\n",
       "5 BayesA Cal.g    0.6229429\n",
       "6 BayesA Cal.g    0.5751210"
      ]
     },
     "metadata": {},
     "output_type": "display_data"
    }
   ],
   "source": [
    "pred <- read.csv('results/Predictability_SAP_IndivFolds_accuracy.csv')\n",
    "head(pred)\n",
    "pred2 <- dcast(pred, Model + Seed ~ Trait, value.var=\"r\")\n",
    "\n",
    "pred2 <- pred2[,c(1,4,6,7)]\n",
    "\n",
    "pred2 <- melt(pred2)\n",
    "head(pred2)\n",
    "write.csv(pred2,'results/Predictability_SAP_IndivFolds_accuracy_SPG.csv')"
   ]
  },
  {
   "cell_type": "markdown",
   "metadata": {},
   "source": [
    "### GSDP population Comparison By Year, Rep and Trait"
   ]
  },
  {
   "cell_type": "code",
   "execution_count": 9,
   "metadata": {},
   "outputs": [
    {
     "data": {
      "text/html": [
       "<table>\n",
       "<thead><tr><th scope=col>Taxa</th><th scope=col>Year</th><th scope=col>Amylose</th><th scope=col>Fat</th><th scope=col>Gross_Energy</th><th scope=col>Protein</th><th scope=col>Starch</th></tr></thead>\n",
       "<tbody>\n",
       "\t<tr><td>PI152651</td><td>2013    </td><td>14.000  </td><td>2.620   </td><td>4060.500</td><td>10.120  </td><td>72.600  </td></tr>\n",
       "\t<tr><td>PI152651</td><td>2014    </td><td>12.105  </td><td>2.365   </td><td>4052.550</td><td> 9.625  </td><td>74.410  </td></tr>\n",
       "\t<tr><td>PI152651</td><td>2017    </td><td>14.765  </td><td>2.620   </td><td>4081.625</td><td>13.100  </td><td>64.990  </td></tr>\n",
       "\t<tr><td>PI17548 </td><td>2013    </td><td>17.250  </td><td>4.100   </td><td>4208.500</td><td>11.545  </td><td>65.250  </td></tr>\n",
       "\t<tr><td>PI17548 </td><td>2014    </td><td>13.575  </td><td>3.405   </td><td>4189.950</td><td>11.685  </td><td>65.995  </td></tr>\n",
       "\t<tr><td>PI17548 </td><td>2017    </td><td>16.910  </td><td>2.680   </td><td>4199.630</td><td>12.230  </td><td>63.740  </td></tr>\n",
       "</tbody>\n",
       "</table>\n"
      ],
      "text/latex": [
       "\\begin{tabular}{r|lllllll}\n",
       " Taxa & Year & Amylose & Fat & Gross\\_Energy & Protein & Starch\\\\\n",
       "\\hline\n",
       "\t PI152651 & 2013     & 14.000   & 2.620    & 4060.500 & 10.120   & 72.600  \\\\\n",
       "\t PI152651 & 2014     & 12.105   & 2.365    & 4052.550 &  9.625   & 74.410  \\\\\n",
       "\t PI152651 & 2017     & 14.765   & 2.620    & 4081.625 & 13.100   & 64.990  \\\\\n",
       "\t PI17548  & 2013     & 17.250   & 4.100    & 4208.500 & 11.545   & 65.250  \\\\\n",
       "\t PI17548  & 2014     & 13.575   & 3.405    & 4189.950 & 11.685   & 65.995  \\\\\n",
       "\t PI17548  & 2017     & 16.910   & 2.680    & 4199.630 & 12.230   & 63.740  \\\\\n",
       "\\end{tabular}\n"
      ],
      "text/markdown": [
       "\n",
       "| Taxa | Year | Amylose | Fat | Gross_Energy | Protein | Starch |\n",
       "|---|---|---|---|---|---|---|\n",
       "| PI152651 | 2013     | 14.000   | 2.620    | 4060.500 | 10.120   | 72.600   |\n",
       "| PI152651 | 2014     | 12.105   | 2.365    | 4052.550 |  9.625   | 74.410   |\n",
       "| PI152651 | 2017     | 14.765   | 2.620    | 4081.625 | 13.100   | 64.990   |\n",
       "| PI17548  | 2013     | 17.250   | 4.100    | 4208.500 | 11.545   | 65.250   |\n",
       "| PI17548  | 2014     | 13.575   | 3.405    | 4189.950 | 11.685   | 65.995   |\n",
       "| PI17548  | 2017     | 16.910   | 2.680    | 4199.630 | 12.230   | 63.740   |\n",
       "\n"
      ],
      "text/plain": [
       "  Taxa     Year Amylose Fat   Gross_Energy Protein Starch\n",
       "1 PI152651 2013 14.000  2.620 4060.500     10.120  72.600\n",
       "2 PI152651 2014 12.105  2.365 4052.550      9.625  74.410\n",
       "3 PI152651 2017 14.765  2.620 4081.625     13.100  64.990\n",
       "4 PI17548  2013 17.250  4.100 4208.500     11.545  65.250\n",
       "5 PI17548  2014 13.575  3.405 4189.950     11.685  65.995\n",
       "6 PI17548  2017 16.910  2.680 4199.630     12.230  63.740"
      ]
     },
     "metadata": {},
     "output_type": "display_data"
    },
    {
     "name": "stderr",
     "output_type": "stream",
     "text": [
      "Using Taxa, Year as id variables\n"
     ]
    },
    {
     "data": {
      "text/html": [
       "13.8735994150907"
      ],
      "text/latex": [
       "13.8735994150907"
      ],
      "text/markdown": [
       "13.8735994150907"
      ],
      "text/plain": [
       "[1] 13.8736"
      ]
     },
     "metadata": {},
     "output_type": "display_data"
    },
    {
     "data": {
      "text/html": [
       "2.98573975501461"
      ],
      "text/latex": [
       "2.98573975501461"
      ],
      "text/markdown": [
       "2.98573975501461"
      ],
      "text/plain": [
       "[1] 2.98574"
      ]
     },
     "metadata": {},
     "output_type": "display_data"
    },
    {
     "data": {
      "text/html": [
       "2.52872239675091"
      ],
      "text/latex": [
       "2.52872239675091"
      ],
      "text/markdown": [
       "2.52872239675091"
      ],
      "text/plain": [
       "[1] 2.528722"
      ]
     },
     "metadata": {},
     "output_type": "display_data"
    },
    {
     "data": {
      "text/html": [
       "0.572911993125448"
      ],
      "text/latex": [
       "0.572911993125448"
      ],
      "text/markdown": [
       "0.572911993125448"
      ],
      "text/plain": [
       "[1] 0.572912"
      ]
     },
     "metadata": {},
     "output_type": "display_data"
    },
    {
     "data": {
      "text/html": [
       "4108.32848290745"
      ],
      "text/latex": [
       "4108.32848290745"
      ],
      "text/markdown": [
       "4108.32848290745"
      ],
      "text/plain": [
       "[1] 4108.328"
      ]
     },
     "metadata": {},
     "output_type": "display_data"
    },
    {
     "data": {
      "text/html": [
       "55.1553777271959"
      ],
      "text/latex": [
       "55.1553777271959"
      ],
      "text/markdown": [
       "55.1553777271959"
      ],
      "text/plain": [
       "[1] 55.15538"
      ]
     },
     "metadata": {},
     "output_type": "display_data"
    },
    {
     "data": {
      "text/html": [
       "12.0183573494333"
      ],
      "text/latex": [
       "12.0183573494333"
      ],
      "text/markdown": [
       "12.0183573494333"
      ],
      "text/plain": [
       "[1] 12.01836"
      ]
     },
     "metadata": {},
     "output_type": "display_data"
    },
    {
     "data": {
      "text/html": [
       "1.44899555256291"
      ],
      "text/latex": [
       "1.44899555256291"
      ],
      "text/markdown": [
       "1.44899555256291"
      ],
      "text/plain": [
       "[1] 1.448996"
      ]
     },
     "metadata": {},
     "output_type": "display_data"
    },
    {
     "data": {
      "text/html": [
       "68.3025428249222"
      ],
      "text/latex": [
       "68.3025428249222"
      ],
      "text/markdown": [
       "68.3025428249222"
      ],
      "text/plain": [
       "[1] 68.30254"
      ]
     },
     "metadata": {},
     "output_type": "display_data"
    },
    {
     "data": {
      "text/html": [
       "2.43961655543277"
      ],
      "text/latex": [
       "2.43961655543277"
      ],
      "text/markdown": [
       "2.43961655543277"
      ],
      "text/plain": [
       "[1] 2.439617"
      ]
     },
     "metadata": {},
     "output_type": "display_data"
    }
   ],
   "source": [
    "### Load phenotypic file and melt\n",
    "pheno = read.csv(\"data/GrainQuality_YearMeans.csv\")\n",
    "pheno = pheno[,c(1,2,6,5,8,4,3)]\n",
    "colnames(pheno) = c('Taxa','Year','Amylose','Fat','Gross_Energy','Protein','Starch')\n",
    "head(pheno)\n",
    "\n",
    "pheno$Year <- as.factor(pheno$Year)\n",
    "# pheno$Rep <- as.factor(pheno$Rep)\n",
    "df = melt(pheno)\n",
    "\n",
    "mean(pheno$Amylose, na.rm=T); sd(pheno$Amylose, na.rm=T)\n",
    "mean(pheno$Fat, na.rm=T); sd(pheno$Fat, na.rm=T)\n",
    "mean(pheno$Gross_Energy, na.rm=T); sd(pheno$Gross_Energy, na.rm=T)\n",
    "mean(pheno$Protein, na.rm=T); sd(pheno$Protein, na.rm=T)\n",
    "mean(pheno$Starch, na.rm=T); sd(pheno$Starch, na.rm=T)"
   ]
  },
  {
   "cell_type": "code",
   "execution_count": 12,
   "metadata": {},
   "outputs": [
    {
     "name": "stderr",
     "output_type": "stream",
     "text": [
      "Warning message:\n",
      "“Removed 585 rows containing non-finite values (stat_boxplot).”"
     ]
    },
    {
     "data": {
      "text/html": [
       "<strong>png:</strong> 2"
      ],
      "text/latex": [
       "\\textbf{png:} 2"
      ],
      "text/markdown": [
       "**png:** 2"
      ],
      "text/plain": [
       "png \n",
       "  2 "
      ]
     },
     "metadata": {},
     "output_type": "display_data"
    }
   ],
   "source": [
    "### GSDP boxplot for means\n",
    "png('/panicle/ssapkot/git_repo/GrainComp_GS/results/figures/SAP_Year_boxplot.png', units='in', width=5, height=5, res=500)\n",
    "ns <- ggplot(df,aes(x=Year, y=value)) + geom_boxplot()  + facet_wrap(df$variable~., scale='free')\n",
    "ns + theme_bw() + labs(y = '', x = '')\n",
    "dev.off()"
   ]
  },
  {
   "cell_type": "code",
   "execution_count": null,
   "metadata": {},
   "outputs": [],
   "source": []
  },
  {
   "cell_type": "markdown",
   "metadata": {},
   "source": [
    "#### Amylose"
   ]
  },
  {
   "cell_type": "code",
   "execution_count": 13,
   "metadata": {},
   "outputs": [
    {
     "data": {
      "text/html": [
       "<ol class=list-inline>\n",
       "\t<li>1195</li>\n",
       "\t<li>4</li>\n",
       "</ol>\n"
      ],
      "text/latex": [
       "\\begin{enumerate*}\n",
       "\\item 1195\n",
       "\\item 4\n",
       "\\end{enumerate*}\n"
      ],
      "text/markdown": [
       "1. 1195\n",
       "2. 4\n",
       "\n",
       "\n"
      ],
      "text/plain": [
       "[1] 1195    4"
      ]
     },
     "metadata": {},
     "output_type": "display_data"
    },
    {
     "data": {
      "text/html": [
       "<table>\n",
       "<thead><tr><th scope=col>Taxa</th><th scope=col>Year</th><th scope=col>variable</th><th scope=col>value</th></tr></thead>\n",
       "<tbody>\n",
       "\t<tr><td>PI152651</td><td>2013    </td><td>Amylose </td><td>14.000  </td></tr>\n",
       "\t<tr><td>PI152651</td><td>2014    </td><td>Amylose </td><td>12.105  </td></tr>\n",
       "\t<tr><td>PI152651</td><td>2017    </td><td>Amylose </td><td>14.765  </td></tr>\n",
       "\t<tr><td>PI17548 </td><td>2013    </td><td>Amylose </td><td>17.250  </td></tr>\n",
       "\t<tr><td>PI17548 </td><td>2014    </td><td>Amylose </td><td>13.575  </td></tr>\n",
       "\t<tr><td>PI17548 </td><td>2017    </td><td>Amylose </td><td>16.910  </td></tr>\n",
       "</tbody>\n",
       "</table>\n"
      ],
      "text/latex": [
       "\\begin{tabular}{r|llll}\n",
       " Taxa & Year & variable & value\\\\\n",
       "\\hline\n",
       "\t PI152651 & 2013     & Amylose  & 14.000  \\\\\n",
       "\t PI152651 & 2014     & Amylose  & 12.105  \\\\\n",
       "\t PI152651 & 2017     & Amylose  & 14.765  \\\\\n",
       "\t PI17548  & 2013     & Amylose  & 17.250  \\\\\n",
       "\t PI17548  & 2014     & Amylose  & 13.575  \\\\\n",
       "\t PI17548  & 2017     & Amylose  & 16.910  \\\\\n",
       "\\end{tabular}\n"
      ],
      "text/markdown": [
       "\n",
       "| Taxa | Year | variable | value |\n",
       "|---|---|---|---|\n",
       "| PI152651 | 2013     | Amylose  | 14.000   |\n",
       "| PI152651 | 2014     | Amylose  | 12.105   |\n",
       "| PI152651 | 2017     | Amylose  | 14.765   |\n",
       "| PI17548  | 2013     | Amylose  | 17.250   |\n",
       "| PI17548  | 2014     | Amylose  | 13.575   |\n",
       "| PI17548  | 2017     | Amylose  | 16.910   |\n",
       "\n"
      ],
      "text/plain": [
       "  Taxa     Year variable value \n",
       "1 PI152651 2013 Amylose  14.000\n",
       "2 PI152651 2014 Amylose  12.105\n",
       "3 PI152651 2017 Amylose  14.765\n",
       "4 PI17548  2013 Amylose  17.250\n",
       "5 PI17548  2014 Amylose  13.575\n",
       "6 PI17548  2017 Amylose  16.910"
      ]
     },
     "metadata": {},
     "output_type": "display_data"
    },
    {
     "data": {
      "text/plain": [
       "              Df Sum Sq Mean Sq F value Pr(>F)    \n",
       "Year           2   2675  1337.6   207.6 <2e-16 ***\n",
       "Residuals   1075   6926     6.4                   \n",
       "---\n",
       "Signif. codes:  0 ‘***’ 0.001 ‘**’ 0.01 ‘*’ 0.05 ‘.’ 0.1 ‘ ’ 1\n",
       "117 observations deleted due to missingness"
      ]
     },
     "metadata": {},
     "output_type": "display_data"
    },
    {
     "data": {
      "text/plain": [
       "  Tukey multiple comparisons of means\n",
       "    95% family-wise confidence level\n",
       "\n",
       "Fit: aov(formula = value ~ Year, data = trait)\n",
       "\n",
       "$Year\n",
       "               diff        lwr       upr p adj\n",
       "2014-2013 -3.827620 -4.2798991 -3.375341     0\n",
       "2017-2013 -2.723184 -3.1691771 -2.277192     0\n",
       "2017-2014  1.104436  0.6674431  1.541429     0\n"
      ]
     },
     "metadata": {},
     "output_type": "display_data"
    }
   ],
   "source": [
    "trait = df %>% filter(variable==\"Amylose\")\n",
    "dim(trait)\n",
    "head(trait)\n",
    "\n",
    "ano = aov(value~Year, data=trait)\n",
    "summary(ano)\n",
    "\n",
    "TukeyHSD(ano)"
   ]
  },
  {
   "cell_type": "markdown",
   "metadata": {},
   "source": [
    "#### Key Points\n",
    "Means for all years were significantly different from each other"
   ]
  },
  {
   "cell_type": "markdown",
   "metadata": {},
   "source": [
    "#### Starch"
   ]
  },
  {
   "cell_type": "code",
   "execution_count": 14,
   "metadata": {},
   "outputs": [
    {
     "data": {
      "text/html": [
       "<ol class=list-inline>\n",
       "\t<li>1195</li>\n",
       "\t<li>4</li>\n",
       "</ol>\n"
      ],
      "text/latex": [
       "\\begin{enumerate*}\n",
       "\\item 1195\n",
       "\\item 4\n",
       "\\end{enumerate*}\n"
      ],
      "text/markdown": [
       "1. 1195\n",
       "2. 4\n",
       "\n",
       "\n"
      ],
      "text/plain": [
       "[1] 1195    4"
      ]
     },
     "metadata": {},
     "output_type": "display_data"
    },
    {
     "data": {
      "text/html": [
       "<table>\n",
       "<thead><tr><th scope=col>Taxa</th><th scope=col>Year</th><th scope=col>variable</th><th scope=col>value</th></tr></thead>\n",
       "<tbody>\n",
       "\t<tr><td>PI152651</td><td>2013    </td><td>Starch  </td><td>72.600  </td></tr>\n",
       "\t<tr><td>PI152651</td><td>2014    </td><td>Starch  </td><td>74.410  </td></tr>\n",
       "\t<tr><td>PI152651</td><td>2017    </td><td>Starch  </td><td>64.990  </td></tr>\n",
       "\t<tr><td>PI17548 </td><td>2013    </td><td>Starch  </td><td>65.250  </td></tr>\n",
       "\t<tr><td>PI17548 </td><td>2014    </td><td>Starch  </td><td>65.995  </td></tr>\n",
       "\t<tr><td>PI17548 </td><td>2017    </td><td>Starch  </td><td>63.740  </td></tr>\n",
       "</tbody>\n",
       "</table>\n"
      ],
      "text/latex": [
       "\\begin{tabular}{r|llll}\n",
       " Taxa & Year & variable & value\\\\\n",
       "\\hline\n",
       "\t PI152651 & 2013     & Starch   & 72.600  \\\\\n",
       "\t PI152651 & 2014     & Starch   & 74.410  \\\\\n",
       "\t PI152651 & 2017     & Starch   & 64.990  \\\\\n",
       "\t PI17548  & 2013     & Starch   & 65.250  \\\\\n",
       "\t PI17548  & 2014     & Starch   & 65.995  \\\\\n",
       "\t PI17548  & 2017     & Starch   & 63.740  \\\\\n",
       "\\end{tabular}\n"
      ],
      "text/markdown": [
       "\n",
       "| Taxa | Year | variable | value |\n",
       "|---|---|---|---|\n",
       "| PI152651 | 2013     | Starch   | 72.600   |\n",
       "| PI152651 | 2014     | Starch   | 74.410   |\n",
       "| PI152651 | 2017     | Starch   | 64.990   |\n",
       "| PI17548  | 2013     | Starch   | 65.250   |\n",
       "| PI17548  | 2014     | Starch   | 65.995   |\n",
       "| PI17548  | 2017     | Starch   | 63.740   |\n",
       "\n"
      ],
      "text/plain": [
       "  Taxa     Year variable value \n",
       "1 PI152651 2013 Starch   72.600\n",
       "2 PI152651 2014 Starch   74.410\n",
       "3 PI152651 2017 Starch   64.990\n",
       "4 PI17548  2013 Starch   65.250\n",
       "5 PI17548  2014 Starch   65.995\n",
       "6 PI17548  2017 Starch   63.740"
      ]
     },
     "metadata": {},
     "output_type": "display_data"
    },
    {
     "data": {
      "text/plain": [
       "              Df Sum Sq Mean Sq F value Pr(>F)\n",
       "Year           2      8   4.011   0.673   0.51\n",
       "Residuals   1075   6402   5.955               \n",
       "117 observations deleted due to missingness"
      ]
     },
     "metadata": {},
     "output_type": "display_data"
    },
    {
     "data": {
      "text/plain": [
       "  Tukey multiple comparisons of means\n",
       "    95% family-wise confidence level\n",
       "\n",
       "Fit: aov(formula = value ~ Year, data = sta)\n",
       "\n",
       "$Year\n",
       "                diff        lwr       upr     p adj\n",
       "2014-2013 -0.1073872 -0.5422218 0.3274473 0.8310603\n",
       "2017-2013  0.1003702 -0.3284206 0.5291610 0.8468232\n",
       "2017-2014  0.2077575 -0.2123805 0.6278955 0.4771121\n"
      ]
     },
     "metadata": {},
     "output_type": "display_data"
    }
   ],
   "source": [
    "sta = df %>% filter(variable==\"Starch\") \n",
    "dim(sta)\n",
    "head(sta)\n",
    "\n",
    "sta_aov = aov(value~Year, data=sta)\n",
    "summary(sta_aov)\n",
    "\n",
    "TukeyHSD(sta_aov)"
   ]
  },
  {
   "cell_type": "markdown",
   "metadata": {},
   "source": [
    "#### Key points\n",
    "1. No significant difference in mean between the years"
   ]
  },
  {
   "cell_type": "markdown",
   "metadata": {},
   "source": [
    "### Fat"
   ]
  },
  {
   "cell_type": "code",
   "execution_count": 15,
   "metadata": {},
   "outputs": [
    {
     "data": {
      "text/html": [
       "<ol class=list-inline>\n",
       "\t<li>1195</li>\n",
       "\t<li>4</li>\n",
       "</ol>\n"
      ],
      "text/latex": [
       "\\begin{enumerate*}\n",
       "\\item 1195\n",
       "\\item 4\n",
       "\\end{enumerate*}\n"
      ],
      "text/markdown": [
       "1. 1195\n",
       "2. 4\n",
       "\n",
       "\n"
      ],
      "text/plain": [
       "[1] 1195    4"
      ]
     },
     "metadata": {},
     "output_type": "display_data"
    },
    {
     "data": {
      "text/html": [
       "<table>\n",
       "<thead><tr><th scope=col>Taxa</th><th scope=col>Year</th><th scope=col>variable</th><th scope=col>value</th></tr></thead>\n",
       "<tbody>\n",
       "\t<tr><td>PI152651</td><td>2013    </td><td>Fat     </td><td>2.620   </td></tr>\n",
       "\t<tr><td>PI152651</td><td>2014    </td><td>Fat     </td><td>2.365   </td></tr>\n",
       "\t<tr><td>PI152651</td><td>2017    </td><td>Fat     </td><td>2.620   </td></tr>\n",
       "\t<tr><td>PI17548 </td><td>2013    </td><td>Fat     </td><td>4.100   </td></tr>\n",
       "\t<tr><td>PI17548 </td><td>2014    </td><td>Fat     </td><td>3.405   </td></tr>\n",
       "\t<tr><td>PI17548 </td><td>2017    </td><td>Fat     </td><td>2.680   </td></tr>\n",
       "</tbody>\n",
       "</table>\n"
      ],
      "text/latex": [
       "\\begin{tabular}{r|llll}\n",
       " Taxa & Year & variable & value\\\\\n",
       "\\hline\n",
       "\t PI152651 & 2013     & Fat      & 2.620   \\\\\n",
       "\t PI152651 & 2014     & Fat      & 2.365   \\\\\n",
       "\t PI152651 & 2017     & Fat      & 2.620   \\\\\n",
       "\t PI17548  & 2013     & Fat      & 4.100   \\\\\n",
       "\t PI17548  & 2014     & Fat      & 3.405   \\\\\n",
       "\t PI17548  & 2017     & Fat      & 2.680   \\\\\n",
       "\\end{tabular}\n"
      ],
      "text/markdown": [
       "\n",
       "| Taxa | Year | variable | value |\n",
       "|---|---|---|---|\n",
       "| PI152651 | 2013     | Fat      | 2.620    |\n",
       "| PI152651 | 2014     | Fat      | 2.365    |\n",
       "| PI152651 | 2017     | Fat      | 2.620    |\n",
       "| PI17548  | 2013     | Fat      | 4.100    |\n",
       "| PI17548  | 2014     | Fat      | 3.405    |\n",
       "| PI17548  | 2017     | Fat      | 2.680    |\n",
       "\n"
      ],
      "text/plain": [
       "  Taxa     Year variable value\n",
       "1 PI152651 2013 Fat      2.620\n",
       "2 PI152651 2014 Fat      2.365\n",
       "3 PI152651 2017 Fat      2.620\n",
       "4 PI17548  2013 Fat      4.100\n",
       "5 PI17548  2014 Fat      3.405\n",
       "6 PI17548  2017 Fat      2.680"
      ]
     },
     "metadata": {},
     "output_type": "display_data"
    },
    {
     "data": {
      "text/plain": [
       "              Df Sum Sq Mean Sq F value Pr(>F)    \n",
       "Year           2  48.94  24.472   86.38 <2e-16 ***\n",
       "Residuals   1075 304.56   0.283                   \n",
       "---\n",
       "Signif. codes:  0 ‘***’ 0.001 ‘**’ 0.01 ‘*’ 0.05 ‘.’ 0.1 ‘ ’ 1\n",
       "117 observations deleted due to missingness"
      ]
     },
     "metadata": {},
     "output_type": "display_data"
    },
    {
     "data": {
      "text/plain": [
       "  Tukey multiple comparisons of means\n",
       "    95% family-wise confidence level\n",
       "\n",
       "Fit: aov(formula = value ~ Year, data = trait)\n",
       "\n",
       "$Year\n",
       "                diff         lwr        upr     p adj\n",
       "2014-2013  0.0246870 -0.07015512  0.1195291 0.8141943\n",
       "2017-2013 -0.4319092 -0.52543306 -0.3383853 0.0000000\n",
       "2017-2014 -0.4565962 -0.54823279 -0.3649595 0.0000000\n"
      ]
     },
     "metadata": {},
     "output_type": "display_data"
    }
   ],
   "source": [
    "trait = df %>% filter(variable==\"Fat\")\n",
    "dim(trait)\n",
    "head(trait)\n",
    "\n",
    "ano = aov(value~Year, data=trait)\n",
    "summary(ano)\n",
    "TukeyHSD(ano)"
   ]
  },
  {
   "cell_type": "markdown",
   "metadata": {},
   "source": [
    "#### Key points\n",
    "1. 2013 and 2014 were not different.\n",
    "2. 2017 was different from 2013 and 2014."
   ]
  },
  {
   "cell_type": "markdown",
   "metadata": {},
   "source": [
    "### Protein"
   ]
  },
  {
   "cell_type": "code",
   "execution_count": 16,
   "metadata": {},
   "outputs": [
    {
     "data": {
      "text/html": [
       "<ol class=list-inline>\n",
       "\t<li>1195</li>\n",
       "\t<li>4</li>\n",
       "</ol>\n"
      ],
      "text/latex": [
       "\\begin{enumerate*}\n",
       "\\item 1195\n",
       "\\item 4\n",
       "\\end{enumerate*}\n"
      ],
      "text/markdown": [
       "1. 1195\n",
       "2. 4\n",
       "\n",
       "\n"
      ],
      "text/plain": [
       "[1] 1195    4"
      ]
     },
     "metadata": {},
     "output_type": "display_data"
    },
    {
     "data": {
      "text/html": [
       "<table>\n",
       "<thead><tr><th scope=col>Taxa</th><th scope=col>Year</th><th scope=col>variable</th><th scope=col>value</th></tr></thead>\n",
       "<tbody>\n",
       "\t<tr><td>PI152651</td><td>2013    </td><td>Protein </td><td>10.120  </td></tr>\n",
       "\t<tr><td>PI152651</td><td>2014    </td><td>Protein </td><td> 9.625  </td></tr>\n",
       "\t<tr><td>PI152651</td><td>2017    </td><td>Protein </td><td>13.100  </td></tr>\n",
       "\t<tr><td>PI17548 </td><td>2013    </td><td>Protein </td><td>11.545  </td></tr>\n",
       "\t<tr><td>PI17548 </td><td>2014    </td><td>Protein </td><td>11.685  </td></tr>\n",
       "\t<tr><td>PI17548 </td><td>2017    </td><td>Protein </td><td>12.230  </td></tr>\n",
       "</tbody>\n",
       "</table>\n"
      ],
      "text/latex": [
       "\\begin{tabular}{r|llll}\n",
       " Taxa & Year & variable & value\\\\\n",
       "\\hline\n",
       "\t PI152651 & 2013     & Protein  & 10.120  \\\\\n",
       "\t PI152651 & 2014     & Protein  &  9.625  \\\\\n",
       "\t PI152651 & 2017     & Protein  & 13.100  \\\\\n",
       "\t PI17548  & 2013     & Protein  & 11.545  \\\\\n",
       "\t PI17548  & 2014     & Protein  & 11.685  \\\\\n",
       "\t PI17548  & 2017     & Protein  & 12.230  \\\\\n",
       "\\end{tabular}\n"
      ],
      "text/markdown": [
       "\n",
       "| Taxa | Year | variable | value |\n",
       "|---|---|---|---|\n",
       "| PI152651 | 2013     | Protein  | 10.120   |\n",
       "| PI152651 | 2014     | Protein  |  9.625   |\n",
       "| PI152651 | 2017     | Protein  | 13.100   |\n",
       "| PI17548  | 2013     | Protein  | 11.545   |\n",
       "| PI17548  | 2014     | Protein  | 11.685   |\n",
       "| PI17548  | 2017     | Protein  | 12.230   |\n",
       "\n"
      ],
      "text/plain": [
       "  Taxa     Year variable value \n",
       "1 PI152651 2013 Protein  10.120\n",
       "2 PI152651 2014 Protein   9.625\n",
       "3 PI152651 2017 Protein  13.100\n",
       "4 PI17548  2013 Protein  11.545\n",
       "5 PI17548  2014 Protein  11.685\n",
       "6 PI17548  2017 Protein  12.230"
      ]
     },
     "metadata": {},
     "output_type": "display_data"
    },
    {
     "data": {
      "text/plain": [
       "              Df Sum Sq Mean Sq F value Pr(>F)    \n",
       "Year           2  398.7  199.33     115 <2e-16 ***\n",
       "Residuals   1075 1862.6    1.73                   \n",
       "---\n",
       "Signif. codes:  0 ‘***’ 0.001 ‘**’ 0.01 ‘*’ 0.05 ‘.’ 0.1 ‘ ’ 1\n",
       "117 observations deleted due to missingness"
      ]
     },
     "metadata": {},
     "output_type": "display_data"
    },
    {
     "data": {
      "text/plain": [
       "  Tukey multiple comparisons of means\n",
       "    95% family-wise confidence level\n",
       "\n",
       "Fit: aov(formula = value ~ Year, data = trait)\n",
       "\n",
       "$Year\n",
       "                diff       lwr        upr     p adj\n",
       "2014-2013  1.0377733  0.803229  1.2723175 0.0000000\n",
       "2017-2013 -0.3871646 -0.618449 -0.1558803 0.0002676\n",
       "2017-2014 -1.4249379 -1.651555 -1.1983208 0.0000000\n"
      ]
     },
     "metadata": {},
     "output_type": "display_data"
    }
   ],
   "source": [
    "trait = df %>% filter(variable==\"Protein\")\n",
    "dim(trait)\n",
    "head(trait)\n",
    "\n",
    "ano = aov(value~Year, data=trait)\n",
    "summary(ano)\n",
    "TukeyHSD(ano)"
   ]
  },
  {
   "cell_type": "markdown",
   "metadata": {},
   "source": [
    "####  Key points\n",
    "1. All year different from each other."
   ]
  },
  {
   "cell_type": "markdown",
   "metadata": {},
   "source": [
    "### Gross Energy (Cal/g)"
   ]
  },
  {
   "cell_type": "code",
   "execution_count": 17,
   "metadata": {},
   "outputs": [
    {
     "data": {
      "text/html": [
       "<ol class=list-inline>\n",
       "\t<li>1195</li>\n",
       "\t<li>4</li>\n",
       "</ol>\n"
      ],
      "text/latex": [
       "\\begin{enumerate*}\n",
       "\\item 1195\n",
       "\\item 4\n",
       "\\end{enumerate*}\n"
      ],
      "text/markdown": [
       "1. 1195\n",
       "2. 4\n",
       "\n",
       "\n"
      ],
      "text/plain": [
       "[1] 1195    4"
      ]
     },
     "metadata": {},
     "output_type": "display_data"
    },
    {
     "data": {
      "text/html": [
       "<table>\n",
       "<thead><tr><th scope=col>Taxa</th><th scope=col>Year</th><th scope=col>variable</th><th scope=col>value</th></tr></thead>\n",
       "<tbody>\n",
       "\t<tr><td>PI152651</td><td>2013    </td><td>Cal.g   </td><td>4060.500</td></tr>\n",
       "\t<tr><td>PI152651</td><td>2014    </td><td>Cal.g   </td><td>4052.550</td></tr>\n",
       "\t<tr><td>PI152651</td><td>2017    </td><td>Cal.g   </td><td>4081.625</td></tr>\n",
       "\t<tr><td>PI17548 </td><td>2013    </td><td>Cal.g   </td><td>4208.500</td></tr>\n",
       "\t<tr><td>PI17548 </td><td>2014    </td><td>Cal.g   </td><td>4189.950</td></tr>\n",
       "\t<tr><td>PI17548 </td><td>2017    </td><td>Cal.g   </td><td>4199.630</td></tr>\n",
       "</tbody>\n",
       "</table>\n"
      ],
      "text/latex": [
       "\\begin{tabular}{r|llll}\n",
       " Taxa & Year & variable & value\\\\\n",
       "\\hline\n",
       "\t PI152651 & 2013     & Cal.g    & 4060.500\\\\\n",
       "\t PI152651 & 2014     & Cal.g    & 4052.550\\\\\n",
       "\t PI152651 & 2017     & Cal.g    & 4081.625\\\\\n",
       "\t PI17548  & 2013     & Cal.g    & 4208.500\\\\\n",
       "\t PI17548  & 2014     & Cal.g    & 4189.950\\\\\n",
       "\t PI17548  & 2017     & Cal.g    & 4199.630\\\\\n",
       "\\end{tabular}\n"
      ],
      "text/markdown": [
       "\n",
       "| Taxa | Year | variable | value |\n",
       "|---|---|---|---|\n",
       "| PI152651 | 2013     | Cal.g    | 4060.500 |\n",
       "| PI152651 | 2014     | Cal.g    | 4052.550 |\n",
       "| PI152651 | 2017     | Cal.g    | 4081.625 |\n",
       "| PI17548  | 2013     | Cal.g    | 4208.500 |\n",
       "| PI17548  | 2014     | Cal.g    | 4189.950 |\n",
       "| PI17548  | 2017     | Cal.g    | 4199.630 |\n",
       "\n"
      ],
      "text/plain": [
       "  Taxa     Year variable value   \n",
       "1 PI152651 2013 Cal.g    4060.500\n",
       "2 PI152651 2014 Cal.g    4052.550\n",
       "3 PI152651 2017 Cal.g    4081.625\n",
       "4 PI17548  2013 Cal.g    4208.500\n",
       "5 PI17548  2014 Cal.g    4189.950\n",
       "6 PI17548  2017 Cal.g    4199.630"
      ]
     },
     "metadata": {},
     "output_type": "display_data"
    },
    {
     "data": {
      "text/plain": [
       "              Df  Sum Sq Mean Sq F value Pr(>F)    \n",
       "Year           2  565015  282508     112 <2e-16 ***\n",
       "Residuals   1075 2711344    2522                   \n",
       "---\n",
       "Signif. codes:  0 ‘***’ 0.001 ‘**’ 0.01 ‘*’ 0.05 ‘.’ 0.1 ‘ ’ 1\n",
       "117 observations deleted due to missingness"
      ]
     },
     "metadata": {},
     "output_type": "display_data"
    },
    {
     "data": {
      "text/plain": [
       "  Tukey multiple comparisons of means\n",
       "    95% family-wise confidence level\n",
       "\n",
       "Fit: aov(formula = value ~ Year, data = trait)\n",
       "\n",
       "$Year\n",
       "               diff       lwr       upr p adj\n",
       "2014-2013  29.35435  20.40568  38.30303     0\n",
       "2017-2013 -25.77454 -34.59884 -16.95024     0\n",
       "2017-2014 -55.12889 -63.77512 -46.48266     0\n"
      ]
     },
     "metadata": {},
     "output_type": "display_data"
    }
   ],
   "source": [
    "trait = df %>% filter(variable==\"Cal.g\")\n",
    "dim(trait)\n",
    "head(trait)\n",
    "\n",
    "ano = aov(value~Year, data=trait)\n",
    "summary(ano)\n",
    "TukeyHSD(ano)"
   ]
  },
  {
   "cell_type": "markdown",
   "metadata": {},
   "source": [
    "#### Key points\n",
    "1. All different from each other."
   ]
  },
  {
   "cell_type": "code",
   "execution_count": null,
   "metadata": {},
   "outputs": [],
   "source": []
  }
 ],
 "metadata": {
  "kernelspec": {
   "display_name": "R 3.6.0",
   "language": "R",
   "name": "ir360"
  },
  "language_info": {
   "codemirror_mode": "r",
   "file_extension": ".r",
   "mimetype": "text/x-r-source",
   "name": "R",
   "pygments_lexer": "r",
   "version": "3.6.0"
  }
 },
 "nbformat": 4,
 "nbformat_minor": 2
}
