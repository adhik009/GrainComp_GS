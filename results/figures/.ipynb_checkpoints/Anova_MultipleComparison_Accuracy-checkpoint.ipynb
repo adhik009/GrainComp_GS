{
 "cells": [
  {
   "cell_type": "code",
   "execution_count": 2,
   "metadata": {},
   "outputs": [],
   "source": [
    ".libPaths(c('/home/ssapkot/.conda/envs/r_env_360/lib', .libPaths()))\n",
    "\n",
    "#install.packages(\"adegenet\",repos='http://cran.us.r-project.org', dependencies = TRUE)\n",
    "library(BGLR)\n",
    "#library(coda)\n",
    "library(tidyverse)\n",
    "library(ggplot2)\n",
    "#library(BMTME)\n",
    "library(reshape2)\n",
    "library(PerformanceAnalytics)\n",
    "\n",
    "setwd(\"/panicle/ssapkot/GrainComp/\")"
   ]
  },
  {
   "cell_type": "markdown",
   "metadata": {},
   "source": [
    "### Model Comparison By Population"
   ]
  },
  {
   "cell_type": "code",
   "execution_count": 19,
   "metadata": {},
   "outputs": [
    {
     "data": {
      "text/html": [
       "<table>\n",
       "<thead><tr><th scope=col>Trait</th><th scope=col>Model</th><th scope=col>Seed</th><th scope=col>r</th></tr></thead>\n",
       "<tbody>\n",
       "\t<tr><td>Amylose  </td><td>BRR      </td><td>12345    </td><td>0.4978591</td></tr>\n",
       "\t<tr><td>Amylose  </td><td>BRR      </td><td>12346    </td><td>0.5802688</td></tr>\n",
       "\t<tr><td>Amylose  </td><td>BRR      </td><td>12347    </td><td>0.6668133</td></tr>\n",
       "\t<tr><td>Amylose  </td><td>BRR      </td><td>12348    </td><td>0.5868119</td></tr>\n",
       "\t<tr><td>Amylose  </td><td>BRR      </td><td>12349    </td><td>0.6103302</td></tr>\n",
       "\t<tr><td>Amylose  </td><td>BRR      </td><td>12350    </td><td>0.5515044</td></tr>\n",
       "</tbody>\n",
       "</table>\n"
      ],
      "text/latex": [
       "\\begin{tabular}{r|llll}\n",
       " Trait & Model & Seed & r\\\\\n",
       "\\hline\n",
       "\t Amylose   & BRR       & 12345     & 0.4978591\\\\\n",
       "\t Amylose   & BRR       & 12346     & 0.5802688\\\\\n",
       "\t Amylose   & BRR       & 12347     & 0.6668133\\\\\n",
       "\t Amylose   & BRR       & 12348     & 0.5868119\\\\\n",
       "\t Amylose   & BRR       & 12349     & 0.6103302\\\\\n",
       "\t Amylose   & BRR       & 12350     & 0.5515044\\\\\n",
       "\\end{tabular}\n"
      ],
      "text/markdown": [
       "\n",
       "| Trait | Model | Seed | r |\n",
       "|---|---|---|---|\n",
       "| Amylose   | BRR       | 12345     | 0.4978591 |\n",
       "| Amylose   | BRR       | 12346     | 0.5802688 |\n",
       "| Amylose   | BRR       | 12347     | 0.6668133 |\n",
       "| Amylose   | BRR       | 12348     | 0.5868119 |\n",
       "| Amylose   | BRR       | 12349     | 0.6103302 |\n",
       "| Amylose   | BRR       | 12350     | 0.5515044 |\n",
       "\n"
      ],
      "text/plain": [
       "  Trait   Model Seed  r        \n",
       "1 Amylose BRR   12345 0.4978591\n",
       "2 Amylose BRR   12346 0.5802688\n",
       "3 Amylose BRR   12347 0.6668133\n",
       "4 Amylose BRR   12348 0.5868119\n",
       "5 Amylose BRR   12349 0.6103302\n",
       "6 Amylose BRR   12350 0.5515044"
      ]
     },
     "metadata": {},
     "output_type": "display_data"
    },
    {
     "data": {
      "text/html": [
       "<table>\n",
       "<thead><tr><th></th><th scope=col>Trait</th><th scope=col>Model</th><th scope=col>Seed</th><th scope=col>r</th></tr></thead>\n",
       "<tbody>\n",
       "\t<tr><th scope=row>745</th><td>Gross_Energy</td><td>BL          </td><td>12369       </td><td>0.6287626   </td></tr>\n",
       "\t<tr><th scope=row>746</th><td>Gross_Energy</td><td>BL          </td><td>12370       </td><td>0.5503461   </td></tr>\n",
       "\t<tr><th scope=row>747</th><td>Gross_Energy</td><td>BL          </td><td>12371       </td><td>0.5519990   </td></tr>\n",
       "\t<tr><th scope=row>748</th><td>Gross_Energy</td><td>BL          </td><td>12372       </td><td>0.6029312   </td></tr>\n",
       "\t<tr><th scope=row>749</th><td>Gross_Energy</td><td>BL          </td><td>12373       </td><td>0.5906658   </td></tr>\n",
       "\t<tr><th scope=row>750</th><td>Gross_Energy</td><td>BL          </td><td>12374       </td><td>0.4674903   </td></tr>\n",
       "</tbody>\n",
       "</table>\n"
      ],
      "text/latex": [
       "\\begin{tabular}{r|llll}\n",
       "  & Trait & Model & Seed & r\\\\\n",
       "\\hline\n",
       "\t745 & Gross\\_Energy & BL             & 12369          & 0.6287626     \\\\\n",
       "\t746 & Gross\\_Energy & BL             & 12370          & 0.5503461     \\\\\n",
       "\t747 & Gross\\_Energy & BL             & 12371          & 0.5519990     \\\\\n",
       "\t748 & Gross\\_Energy & BL             & 12372          & 0.6029312     \\\\\n",
       "\t749 & Gross\\_Energy & BL             & 12373          & 0.5906658     \\\\\n",
       "\t750 & Gross\\_Energy & BL             & 12374          & 0.4674903     \\\\\n",
       "\\end{tabular}\n"
      ],
      "text/markdown": [
       "\n",
       "| <!--/--> | Trait | Model | Seed | r |\n",
       "|---|---|---|---|---|\n",
       "| 745 | Gross_Energy | BL           | 12369        | 0.6287626    |\n",
       "| 746 | Gross_Energy | BL           | 12370        | 0.5503461    |\n",
       "| 747 | Gross_Energy | BL           | 12371        | 0.5519990    |\n",
       "| 748 | Gross_Energy | BL           | 12372        | 0.6029312    |\n",
       "| 749 | Gross_Energy | BL           | 12373        | 0.5906658    |\n",
       "| 750 | Gross_Energy | BL           | 12374        | 0.4674903    |\n",
       "\n"
      ],
      "text/plain": [
       "    Trait        Model Seed  r        \n",
       "745 Gross_Energy BL    12369 0.6287626\n",
       "746 Gross_Energy BL    12370 0.5503461\n",
       "747 Gross_Energy BL    12371 0.5519990\n",
       "748 Gross_Energy BL    12372 0.6029312\n",
       "749 Gross_Energy BL    12373 0.5906658\n",
       "750 Gross_Energy BL    12374 0.4674903"
      ]
     },
     "metadata": {},
     "output_type": "display_data"
    },
    {
     "data": {
      "text/html": [
       "<table>\n",
       "<thead><tr><th scope=col>Trait</th><th scope=col>Model</th><th scope=col>Seed</th><th scope=col>r</th></tr></thead>\n",
       "<tbody>\n",
       "\t<tr><td>Amylose  </td><td>BRR      </td><td>12345    </td><td>0.3063746</td></tr>\n",
       "\t<tr><td>Amylose  </td><td>BRR      </td><td>12346    </td><td>0.2803957</td></tr>\n",
       "\t<tr><td>Amylose  </td><td>BRR      </td><td>12347    </td><td>0.3252473</td></tr>\n",
       "\t<tr><td>Amylose  </td><td>BRR      </td><td>12348    </td><td>0.3168352</td></tr>\n",
       "\t<tr><td>Amylose  </td><td>BRR      </td><td>12349    </td><td>0.2617919</td></tr>\n",
       "\t<tr><td>Amylose  </td><td>BRR      </td><td>12350    </td><td>0.1962646</td></tr>\n",
       "</tbody>\n",
       "</table>\n"
      ],
      "text/latex": [
       "\\begin{tabular}{r|llll}\n",
       " Trait & Model & Seed & r\\\\\n",
       "\\hline\n",
       "\t Amylose   & BRR       & 12345     & 0.3063746\\\\\n",
       "\t Amylose   & BRR       & 12346     & 0.2803957\\\\\n",
       "\t Amylose   & BRR       & 12347     & 0.3252473\\\\\n",
       "\t Amylose   & BRR       & 12348     & 0.3168352\\\\\n",
       "\t Amylose   & BRR       & 12349     & 0.2617919\\\\\n",
       "\t Amylose   & BRR       & 12350     & 0.1962646\\\\\n",
       "\\end{tabular}\n"
      ],
      "text/markdown": [
       "\n",
       "| Trait | Model | Seed | r |\n",
       "|---|---|---|---|\n",
       "| Amylose   | BRR       | 12345     | 0.3063746 |\n",
       "| Amylose   | BRR       | 12346     | 0.2803957 |\n",
       "| Amylose   | BRR       | 12347     | 0.3252473 |\n",
       "| Amylose   | BRR       | 12348     | 0.3168352 |\n",
       "| Amylose   | BRR       | 12349     | 0.2617919 |\n",
       "| Amylose   | BRR       | 12350     | 0.1962646 |\n",
       "\n"
      ],
      "text/plain": [
       "  Trait   Model Seed  r        \n",
       "1 Amylose BRR   12345 0.3063746\n",
       "2 Amylose BRR   12346 0.2803957\n",
       "3 Amylose BRR   12347 0.3252473\n",
       "4 Amylose BRR   12348 0.3168352\n",
       "5 Amylose BRR   12349 0.2617919\n",
       "6 Amylose BRR   12350 0.1962646"
      ]
     },
     "metadata": {},
     "output_type": "display_data"
    },
    {
     "data": {
      "text/html": [
       "<table>\n",
       "<thead><tr><th></th><th scope=col>Trait</th><th scope=col>Model</th><th scope=col>Seed</th><th scope=col>r</th></tr></thead>\n",
       "<tbody>\n",
       "\t<tr><th scope=row>745</th><td>Cal.g    </td><td>BL       </td><td>12369    </td><td>0.6000871</td></tr>\n",
       "\t<tr><th scope=row>746</th><td>Cal.g    </td><td>BL       </td><td>12370    </td><td>0.5784640</td></tr>\n",
       "\t<tr><th scope=row>747</th><td>Cal.g    </td><td>BL       </td><td>12371    </td><td>0.5695435</td></tr>\n",
       "\t<tr><th scope=row>748</th><td>Cal.g    </td><td>BL       </td><td>12372    </td><td>0.5528334</td></tr>\n",
       "\t<tr><th scope=row>749</th><td>Cal.g    </td><td>BL       </td><td>12373    </td><td>0.5672922</td></tr>\n",
       "\t<tr><th scope=row>750</th><td>Cal.g    </td><td>BL       </td><td>12374    </td><td>0.4971720</td></tr>\n",
       "</tbody>\n",
       "</table>\n"
      ],
      "text/latex": [
       "\\begin{tabular}{r|llll}\n",
       "  & Trait & Model & Seed & r\\\\\n",
       "\\hline\n",
       "\t745 & Cal.g     & BL        & 12369     & 0.6000871\\\\\n",
       "\t746 & Cal.g     & BL        & 12370     & 0.5784640\\\\\n",
       "\t747 & Cal.g     & BL        & 12371     & 0.5695435\\\\\n",
       "\t748 & Cal.g     & BL        & 12372     & 0.5528334\\\\\n",
       "\t749 & Cal.g     & BL        & 12373     & 0.5672922\\\\\n",
       "\t750 & Cal.g     & BL        & 12374     & 0.4971720\\\\\n",
       "\\end{tabular}\n"
      ],
      "text/markdown": [
       "\n",
       "| <!--/--> | Trait | Model | Seed | r |\n",
       "|---|---|---|---|---|\n",
       "| 745 | Cal.g     | BL        | 12369     | 0.6000871 |\n",
       "| 746 | Cal.g     | BL        | 12370     | 0.5784640 |\n",
       "| 747 | Cal.g     | BL        | 12371     | 0.5695435 |\n",
       "| 748 | Cal.g     | BL        | 12372     | 0.5528334 |\n",
       "| 749 | Cal.g     | BL        | 12373     | 0.5672922 |\n",
       "| 750 | Cal.g     | BL        | 12374     | 0.4971720 |\n",
       "\n"
      ],
      "text/plain": [
       "    Trait Model Seed  r        \n",
       "745 Cal.g BL    12369 0.6000871\n",
       "746 Cal.g BL    12370 0.5784640\n",
       "747 Cal.g BL    12371 0.5695435\n",
       "748 Cal.g BL    12372 0.5528334\n",
       "749 Cal.g BL    12373 0.5672922\n",
       "750 Cal.g BL    12374 0.4971720"
      ]
     },
     "metadata": {},
     "output_type": "display_data"
    }
   ],
   "source": [
    "### Load phenotypic file and melt\n",
    "RIL = read.csv(\"results/Predictability_BTx642_IndivFolds_accuracy.csv\")\n",
    "head(RIL)\n",
    "tail(RIL)\n",
    "\n",
    "GSDP = read.csv(\"results/Predictability_SAP_IndivFolds_accuracy.csv\")\n",
    "head(GSDP)\n",
    "tail(GSDP)"
   ]
  },
  {
   "cell_type": "markdown",
   "metadata": {},
   "source": [
    "#### Amylose"
   ]
  },
  {
   "cell_type": "code",
   "execution_count": 11,
   "metadata": {},
   "outputs": [
    {
     "name": "stdout",
     "output_type": "stream",
     "text": [
      "[1] \"Anova and HSD for RIL\"\n"
     ]
    },
    {
     "data": {
      "text/plain": [
       "             Df Sum Sq Mean Sq F value Pr(>F)    \n",
       "Model         4 0.5545 0.13862   61.44 <2e-16 ***\n",
       "Residuals   145 0.3271 0.00226                   \n",
       "---\n",
       "Signif. codes:  0 ‘***’ 0.001 ‘**’ 0.01 ‘*’ 0.05 ‘.’ 0.1 ‘ ’ 1"
      ]
     },
     "metadata": {},
     "output_type": "display_data"
    },
    {
     "data": {
      "text/plain": [
       "  Tukey multiple comparisons of means\n",
       "    95% family-wise confidence level\n",
       "\n",
       "Fit: aov(formula = r ~ Model, data = ril)\n",
       "\n",
       "$Model\n",
       "                       diff         lwr         upr     p adj\n",
       "BayesB-BayesA  1.507262e-02 -0.01880610  0.04895134 0.7344919\n",
       "BayesC-BayesA -1.138788e-01 -0.14775755 -0.08000011 0.0000000\n",
       "BL-BayesA     -1.173050e-01 -0.15118375 -0.08342631 0.0000000\n",
       "BRR-BayesA    -1.172958e-01 -0.15117454 -0.08341710 0.0000000\n",
       "BayesC-BayesB -1.289514e-01 -0.16283017 -0.09507272 0.0000000\n",
       "BL-BayesB     -1.323776e-01 -0.16625637 -0.09849893 0.0000000\n",
       "BRR-BayesB    -1.323684e-01 -0.16624716 -0.09848972 0.0000000\n",
       "BL-BayesC     -3.426202e-03 -0.03730492  0.03045252 0.9986522\n",
       "BRR-BayesC    -3.416995e-03 -0.03729572  0.03046173 0.9986664\n",
       "BRR-BL         9.207811e-06 -0.03386951  0.03388793 1.0000000\n"
      ]
     },
     "metadata": {},
     "output_type": "display_data"
    },
    {
     "name": "stdout",
     "output_type": "stream",
     "text": [
      "[1] \"#####################\"\n",
      "[1] \"Anova and HSD for SAP\"\n"
     ]
    },
    {
     "data": {
      "text/plain": [
       "             Df Sum Sq  Mean Sq F value Pr(>F)\n",
       "Model         4 0.0016 0.000398   0.081  0.988\n",
       "Residuals   145 0.7109 0.004903               "
      ]
     },
     "metadata": {},
     "output_type": "display_data"
    },
    {
     "data": {
      "text/plain": [
       "  Tukey multiple comparisons of means\n",
       "    95% family-wise confidence level\n",
       "\n",
       "Fit: aov(formula = r ~ Model, data = sap)\n",
       "\n",
       "$Model\n",
       "                       diff         lwr        upr     p adj\n",
       "BayesB-BayesA -0.0069871451 -0.05692770 0.04295341 0.9952274\n",
       "BayesC-BayesA -0.0089697174 -0.05891028 0.04097084 0.9876166\n",
       "BL-BayesA     -0.0034925103 -0.05343307 0.04644805 0.9996858\n",
       "BRR-BayesA    -0.0076412619 -0.05758182 0.04229930 0.9932671\n",
       "BayesC-BayesB -0.0019825723 -0.05192313 0.04795799 0.9999670\n",
       "BL-BayesB      0.0034946348 -0.04644592 0.05343519 0.9996850\n",
       "BRR-BayesB    -0.0006541167 -0.05059468 0.04928644 0.9999996\n",
       "BL-BayesC      0.0054772070 -0.04446335 0.05541777 0.9981479\n",
       "BRR-BayesC     0.0013284555 -0.04861210 0.05126901 0.9999933\n",
       "BRR-BL        -0.0041487515 -0.05408931 0.04579181 0.9993788\n"
      ]
     },
     "metadata": {},
     "output_type": "display_data"
    }
   ],
   "source": [
    "ril = RIL %>% filter(Trait==\"Amylose\")\n",
    "sap = GSDP %>% filter(Trait==\"Amylose\")\n",
    "\n",
    "ano_ril = aov(r~Model, data=ril)\n",
    "ano_sap = aov(r~Model, data=sap)\n",
    "print(\"Anova and HSD for RIL\")\n",
    "summary(ano_ril)\n",
    "TukeyHSD(ano_ril)\n",
    "\n",
    "print(\"#####################\")\n",
    "\n",
    "print(\"Anova and HSD for SAP\")\n",
    "summary(ano_sap)\n",
    "TukeyHSD(ano_sap)"
   ]
  },
  {
   "cell_type": "markdown",
   "metadata": {},
   "source": [
    "#### Key Points\n",
    "\n",
    "##### RILs\n",
    "1. BayesA and BayesB were significantly higher than all other models except each other.\n",
    "2. None of the other models were different from each other.\n",
    "\n",
    "##### GSDP\n",
    "No difference between any models."
   ]
  },
  {
   "cell_type": "markdown",
   "metadata": {},
   "source": [
    "#### Starch"
   ]
  },
  {
   "cell_type": "code",
   "execution_count": 12,
   "metadata": {},
   "outputs": [
    {
     "name": "stdout",
     "output_type": "stream",
     "text": [
      "[1] \"Anova and HSD for RIL\"\n"
     ]
    },
    {
     "data": {
      "text/plain": [
       "             Df Sum Sq  Mean Sq F value Pr(>F)\n",
       "Model         4 0.0008 0.000212   0.066  0.992\n",
       "Residuals   145 0.4657 0.003212               "
      ]
     },
     "metadata": {},
     "output_type": "display_data"
    },
    {
     "data": {
      "text/plain": [
       "  Tukey multiple comparisons of means\n",
       "    95% family-wise confidence level\n",
       "\n",
       "Fit: aov(formula = r ~ Model, data = ril)\n",
       "\n",
       "$Model\n",
       "                       diff         lwr        upr     p adj\n",
       "BayesB-BayesA -0.0002607275 -0.04068303 0.04016157 1.0000000\n",
       "BayesC-BayesA -0.0012209750 -0.04164327 0.03920132 0.9999889\n",
       "BL-BayesA     -0.0065469885 -0.04696929 0.03387531 0.9916320\n",
       "BRR-BayesA    -0.0021185268 -0.04254082 0.03830377 0.9999001\n",
       "BayesC-BayesB -0.0009602475 -0.04138255 0.03946205 0.9999957\n",
       "BL-BayesB     -0.0062862611 -0.04670856 0.03413604 0.9928348\n",
       "BRR-BayesB    -0.0018577994 -0.04228010 0.03856450 0.9999408\n",
       "BL-BayesC     -0.0053260135 -0.04574831 0.03509628 0.9962158\n",
       "BRR-BayesC    -0.0008975518 -0.04131985 0.03952475 0.9999968\n",
       "BRR-BL         0.0044284617 -0.03599384 0.04485076 0.9981558\n"
      ]
     },
     "metadata": {},
     "output_type": "display_data"
    },
    {
     "name": "stdout",
     "output_type": "stream",
     "text": [
      "[1] \"#####################\"\n",
      "[1] \"Anova and HSD for SAP\"\n"
     ]
    },
    {
     "data": {
      "text/plain": [
       "             Df  Sum Sq   Mean Sq F value Pr(>F)\n",
       "Model         4 0.00219 0.0005471   0.547  0.702\n",
       "Residuals   145 0.14504 0.0010003               "
      ]
     },
     "metadata": {},
     "output_type": "display_data"
    },
    {
     "data": {
      "text/plain": [
       "  Tukey multiple comparisons of means\n",
       "    95% family-wise confidence level\n",
       "\n",
       "Fit: aov(formula = r ~ Model, data = sap)\n",
       "\n",
       "$Model\n",
       "                       diff         lwr        upr     p adj\n",
       "BayesB-BayesA -0.0003180741 -0.02287603 0.02223989 0.9999995\n",
       "BayesC-BayesA -0.0022730578 -0.02483102 0.02028490 0.9986713\n",
       "BL-BayesA     -0.0103867877 -0.03294475 0.01217117 0.7087964\n",
       "BRR-BayesA    -0.0017043855 -0.02426235 0.02085357 0.9995731\n",
       "BayesC-BayesB -0.0019549837 -0.02451294 0.02060298 0.9992659\n",
       "BL-BayesB     -0.0100687137 -0.03262667 0.01248925 0.7321293\n",
       "BRR-BayesB    -0.0013863114 -0.02394427 0.02117165 0.9998118\n",
       "BL-BayesC     -0.0081137299 -0.03067169 0.01444423 0.8578748\n",
       "BRR-BayesC     0.0005686723 -0.02198929 0.02312663 0.9999946\n",
       "BRR-BL         0.0086824022 -0.01387556 0.03124036 0.8249817\n"
      ]
     },
     "metadata": {},
     "output_type": "display_data"
    }
   ],
   "source": [
    "ril = RIL %>% filter(Trait==\"Starch\")\n",
    "sap = GSDP %>% filter(Trait==\"Starch\")\n",
    "\n",
    "ano_ril = aov(r~Model, data=ril)\n",
    "ano_sap = aov(r~Model, data=sap)\n",
    "print(\"Anova and HSD for RIL\")\n",
    "summary(ano_ril)\n",
    "TukeyHSD(ano_ril)\n",
    "\n",
    "print(\"#####################\")\n",
    "\n",
    "print(\"Anova and HSD for SAP\")\n",
    "summary(ano_sap)\n",
    "TukeyHSD(ano_sap)"
   ]
  },
  {
   "cell_type": "markdown",
   "metadata": {},
   "source": [
    "#### Key points\n",
    "1. No significant difference between any model for both populations."
   ]
  },
  {
   "cell_type": "markdown",
   "metadata": {},
   "source": [
    "### Fat"
   ]
  },
  {
   "cell_type": "code",
   "execution_count": 13,
   "metadata": {},
   "outputs": [
    {
     "name": "stdout",
     "output_type": "stream",
     "text": [
      "[1] \"Anova and HSD for RIL\"\n"
     ]
    },
    {
     "data": {
      "text/plain": [
       "             Df Sum Sq  Mean Sq F value Pr(>F)\n",
       "Model         4 0.0000 0.000012   0.004      1\n",
       "Residuals   145 0.4374 0.003016               "
      ]
     },
     "metadata": {},
     "output_type": "display_data"
    },
    {
     "data": {
      "text/plain": [
       "  Tukey multiple comparisons of means\n",
       "    95% family-wise confidence level\n",
       "\n",
       "Fit: aov(formula = r ~ Model, data = ril)\n",
       "\n",
       "$Model\n",
       "                       diff         lwr        upr     p adj\n",
       "BayesB-BayesA  0.0013466325 -0.03782534 0.04051861 0.9999814\n",
       "BayesC-BayesA  0.0008667781 -0.03830520 0.04003875 0.9999968\n",
       "BL-BayesA      0.0004408143 -0.03873116 0.03961279 0.9999998\n",
       "BRR-BayesA     0.0015318771 -0.03764010 0.04070385 0.9999689\n",
       "BayesC-BayesB -0.0004798544 -0.03965183 0.03869212 0.9999997\n",
       "BL-BayesB     -0.0009058182 -0.04007779 0.03826616 0.9999962\n",
       "BRR-BayesB     0.0001852446 -0.03898673 0.03935722 1.0000000\n",
       "BL-BayesC     -0.0004259638 -0.03959794 0.03874601 0.9999998\n",
       "BRR-BayesC     0.0006650990 -0.03850688 0.03983708 0.9999989\n",
       "BRR-BL         0.0010910628 -0.03808091 0.04026304 0.9999920\n"
      ]
     },
     "metadata": {},
     "output_type": "display_data"
    },
    {
     "name": "stdout",
     "output_type": "stream",
     "text": [
      "[1] \"#####################\"\n",
      "[1] \"Anova and HSD for SAP\"\n"
     ]
    },
    {
     "data": {
      "text/plain": [
       "             Df  Sum Sq   Mean Sq F value Pr(>F)\n",
       "Model         4 0.00026 0.0000638   0.034  0.998\n",
       "Residuals   145 0.27070 0.0018669               "
      ]
     },
     "metadata": {},
     "output_type": "display_data"
    },
    {
     "data": {
      "text/plain": [
       "  Tukey multiple comparisons of means\n",
       "    95% family-wise confidence level\n",
       "\n",
       "Fit: aov(formula = r ~ Model, data = sap)\n",
       "\n",
       "$Model\n",
       "                       diff         lwr        upr     p adj\n",
       "BayesB-BayesA  0.0008022853 -0.03001580 0.03162037 0.9999939\n",
       "BayesC-BayesA  0.0021656054 -0.02865248 0.03298369 0.9996797\n",
       "BL-BayesA      0.0038257841 -0.02699230 0.03464387 0.9969969\n",
       "BRR-BayesA     0.0013962479 -0.02942183 0.03221433 0.9999441\n",
       "BayesC-BayesB  0.0013633201 -0.02945476 0.03218140 0.9999491\n",
       "BL-BayesB      0.0030234988 -0.02779458 0.03384158 0.9988037\n",
       "BRR-BayesB     0.0005939626 -0.03022412 0.03141204 0.9999982\n",
       "BL-BayesC      0.0016601787 -0.02915790 0.03247826 0.9998886\n",
       "BRR-BayesC    -0.0007693575 -0.03158744 0.03004872 0.9999948\n",
       "BRR-BL        -0.0024295362 -0.03324762 0.02838854 0.9994950\n"
      ]
     },
     "metadata": {},
     "output_type": "display_data"
    }
   ],
   "source": [
    "ril = RIL %>% filter(Trait==\"Fat\")\n",
    "sap = GSDP %>% filter(Trait==\"Fat\")\n",
    "\n",
    "ano_ril = aov(r~Model, data=ril)\n",
    "ano_sap = aov(r~Model, data=sap)\n",
    "print(\"Anova and HSD for RIL\")\n",
    "summary(ano_ril)\n",
    "TukeyHSD(ano_ril)\n",
    "\n",
    "print(\"#####################\")\n",
    "\n",
    "print(\"Anova and HSD for SAP\")\n",
    "summary(ano_sap)\n",
    "TukeyHSD(ano_sap)"
   ]
  },
  {
   "cell_type": "markdown",
   "metadata": {},
   "source": [
    "#### Key points\n",
    "No difference between any models in both populations."
   ]
  },
  {
   "cell_type": "markdown",
   "metadata": {},
   "source": [
    "### Protein"
   ]
  },
  {
   "cell_type": "code",
   "execution_count": 14,
   "metadata": {},
   "outputs": [
    {
     "name": "stdout",
     "output_type": "stream",
     "text": [
      "[1] \"Anova and HSD for RIL\"\n"
     ]
    },
    {
     "data": {
      "text/plain": [
       "             Df Sum Sq  Mean Sq F value Pr(>F)\n",
       "Model         4 0.0010 0.000240    0.07  0.991\n",
       "Residuals   145 0.4944 0.003409               "
      ]
     },
     "metadata": {},
     "output_type": "display_data"
    },
    {
     "data": {
      "text/plain": [
       "  Tukey multiple comparisons of means\n",
       "    95% family-wise confidence level\n",
       "\n",
       "Fit: aov(formula = r ~ Model, data = ril)\n",
       "\n",
       "$Model\n",
       "                       diff         lwr        upr     p adj\n",
       "BayesB-BayesA -0.0012168508 -0.04286331 0.04042960 0.9999903\n",
       "BayesC-BayesA -0.0031991808 -0.04484564 0.03844727 0.9995442\n",
       "BL-BayesA     -0.0074432638 -0.04908972 0.03420319 0.9878445\n",
       "BRR-BayesA    -0.0028327789 -0.04447923 0.03881368 0.9997185\n",
       "BayesC-BayesB -0.0019823300 -0.04362878 0.03966412 0.9999319\n",
       "BL-BayesB     -0.0062264130 -0.04787287 0.03542004 0.9938390\n",
       "BRR-BayesB    -0.0016159282 -0.04326238 0.04003053 0.9999699\n",
       "BL-BayesC     -0.0042440830 -0.04589054 0.03740237 0.9986111\n",
       "BRR-BayesC     0.0003664018 -0.04128005 0.04201286 0.9999999\n",
       "BRR-BL         0.0046104848 -0.03703597 0.04625694 0.9980789\n"
      ]
     },
     "metadata": {},
     "output_type": "display_data"
    },
    {
     "name": "stdout",
     "output_type": "stream",
     "text": [
      "[1] \"#####################\"\n",
      "[1] \"Anova and HSD for SAP\"\n"
     ]
    },
    {
     "data": {
      "text/plain": [
       "             Df  Sum Sq   Mean Sq F value Pr(>F)\n",
       "Model         4 0.00164 0.0004108   0.214  0.931\n",
       "Residuals   145 0.27889 0.0019234               "
      ]
     },
     "metadata": {},
     "output_type": "display_data"
    },
    {
     "data": {
      "text/plain": [
       "  Tukey multiple comparisons of means\n",
       "    95% family-wise confidence level\n",
       "\n",
       "Fit: aov(formula = r ~ Model, data = sap)\n",
       "\n",
       "$Model\n",
       "                      diff         lwr        upr     p adj\n",
       "BayesB-BayesA -0.004142190 -0.03542292 0.02713854 0.9961418\n",
       "BayesC-BayesA -0.005626557 -0.03690729 0.02565417 0.9875476\n",
       "BL-BayesA     -0.010263193 -0.04154392 0.02101754 0.8940770\n",
       "BRR-BayesA    -0.006097823 -0.03737855 0.02518291 0.9831653\n",
       "BayesC-BayesB -0.001484367 -0.03276510 0.02979636 0.9999327\n",
       "BL-BayesB     -0.006121003 -0.03740173 0.02515973 0.9829255\n",
       "BRR-BayesB    -0.001955633 -0.03323636 0.02932510 0.9997986\n",
       "BL-BayesC     -0.004636636 -0.03591737 0.02664409 0.9940391\n",
       "BRR-BayesC    -0.000471266 -0.03175200 0.03080947 0.9999993\n",
       "BRR-BL         0.004165370 -0.02711536 0.03544610 0.9960575\n"
      ]
     },
     "metadata": {},
     "output_type": "display_data"
    }
   ],
   "source": [
    "ril = RIL %>% filter(Trait==\"Protein\")\n",
    "sap = GSDP %>% filter(Trait==\"Protein\")\n",
    "\n",
    "ano_ril = aov(r~Model, data=ril)\n",
    "ano_sap = aov(r~Model, data=sap)\n",
    "print(\"Anova and HSD for RIL\")\n",
    "summary(ano_ril)\n",
    "TukeyHSD(ano_ril)\n",
    "\n",
    "print(\"#####################\")\n",
    "\n",
    "print(\"Anova and HSD for SAP\")\n",
    "summary(ano_sap)\n",
    "TukeyHSD(ano_sap)"
   ]
  },
  {
   "cell_type": "markdown",
   "metadata": {},
   "source": [
    "####  Key points\n",
    "No difference at all."
   ]
  },
  {
   "cell_type": "markdown",
   "metadata": {},
   "source": [
    "### Gross Energy (Cal/g)"
   ]
  },
  {
   "cell_type": "code",
   "execution_count": 20,
   "metadata": {},
   "outputs": [
    {
     "name": "stdout",
     "output_type": "stream",
     "text": [
      "[1] \"Anova and HSD for RIL\"\n"
     ]
    },
    {
     "data": {
      "text/plain": [
       "             Df  Sum Sq  Mean Sq F value Pr(>F)\n",
       "Model         4 0.00411 0.001028   0.479  0.751\n",
       "Residuals   145 0.31147 0.002148               "
      ]
     },
     "metadata": {},
     "output_type": "display_data"
    },
    {
     "data": {
      "text/plain": [
       "  Tukey multiple comparisons of means\n",
       "    95% family-wise confidence level\n",
       "\n",
       "Fit: aov(formula = r ~ Model, data = ril)\n",
       "\n",
       "$Model\n",
       "                       diff         lwr        upr     p adj\n",
       "BayesB-BayesA  0.0014698101 -0.03158726 0.03452688 0.9999481\n",
       "BayesC-BayesA  0.0023636835 -0.03069339 0.03542076 0.9996569\n",
       "BL-BayesA     -0.0111613297 -0.04421840 0.02189574 0.8837540\n",
       "BRR-BayesA     0.0029336488 -0.03012342 0.03599072 0.9991939\n",
       "BayesC-BayesB  0.0008938734 -0.03216320 0.03395095 0.9999929\n",
       "BL-BayesB     -0.0126311398 -0.04568821 0.02042593 0.8287900\n",
       "BRR-BayesB     0.0014638387 -0.03159323 0.03452091 0.9999489\n",
       "BL-BayesC     -0.0135250132 -0.04658209 0.01953206 0.7902990\n",
       "BRR-BayesC     0.0005699654 -0.03248711 0.03362704 0.9999988\n",
       "BRR-BL         0.0140949786 -0.01896209 0.04715205 0.7640192\n"
      ]
     },
     "metadata": {},
     "output_type": "display_data"
    },
    {
     "name": "stdout",
     "output_type": "stream",
     "text": [
      "[1] \"#####################\"\n",
      "[1] \"Anova and HSD for SAP\"\n"
     ]
    },
    {
     "data": {
      "text/plain": [
       "             Df  Sum Sq   Mean Sq F value Pr(>F)\n",
       "Model         4 0.00033 0.0000832   0.059  0.993\n",
       "Residuals   145 0.20348 0.0014033               "
      ]
     },
     "metadata": {},
     "output_type": "display_data"
    },
    {
     "data": {
      "text/plain": [
       "  Tukey multiple comparisons of means\n",
       "    95% family-wise confidence level\n",
       "\n",
       "Fit: aov(formula = r ~ Model, data = sap)\n",
       "\n",
       "$Model\n",
       "                       diff         lwr        upr     p adj\n",
       "BayesB-BayesA  0.0002990015 -0.02642008 0.02701808 0.9999998\n",
       "BayesC-BayesA  0.0007842339 -0.02593485 0.02750331 0.9999901\n",
       "BL-BayesA     -0.0033536623 -0.03007274 0.02336542 0.9968655\n",
       "BRR-BayesA     0.0001703312 -0.02654875 0.02688941 1.0000000\n",
       "BayesC-BayesB  0.0004852324 -0.02623385 0.02720431 0.9999985\n",
       "BL-BayesB     -0.0036526638 -0.03037174 0.02306642 0.9956357\n",
       "BRR-BayesB    -0.0001286703 -0.02684775 0.02659041 1.0000000\n",
       "BL-BayesC     -0.0041378962 -0.03085698 0.02258118 0.9929484\n",
       "BRR-BayesC    -0.0006139027 -0.02733298 0.02610518 0.9999963\n",
       "BRR-BL         0.0035239935 -0.02319509 0.03024307 0.9962012\n"
      ]
     },
     "metadata": {},
     "output_type": "display_data"
    }
   ],
   "source": [
    "ril = RIL %>% filter(Trait==\"Gross_Energy\")\n",
    "sap = GSDP %>% filter(Trait==\"Cal.g\")\n",
    "\n",
    "ano_ril = aov(r~Model, data=ril)\n",
    "ano_sap = aov(r~Model, data=sap)\n",
    "print(\"Anova and HSD for RIL\")\n",
    "summary(ano_ril)\n",
    "TukeyHSD(ano_ril)\n",
    "\n",
    "print(\"#####################\")\n",
    "\n",
    "print(\"Anova and HSD for SAP\")\n",
    "summary(ano_sap)\n",
    "TukeyHSD(ano_sap)"
   ]
  },
  {
   "cell_type": "markdown",
   "metadata": {},
   "source": [
    "#### Key points\n",
    "No difference at all."
   ]
  },
  {
   "cell_type": "code",
   "execution_count": null,
   "metadata": {},
   "outputs": [],
   "source": []
  }
 ],
 "metadata": {
  "kernelspec": {
   "display_name": "R 3.6.0",
   "language": "R",
   "name": "ir360"
  },
  "language_info": {
   "codemirror_mode": "r",
   "file_extension": ".r",
   "mimetype": "text/x-r-source",
   "name": "R",
   "pygments_lexer": "r",
   "version": "3.6.0"
  }
 },
 "nbformat": 4,
 "nbformat_minor": 2
}
