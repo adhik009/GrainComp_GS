{
 "cells": [
  {
   "cell_type": "code",
   "execution_count": 3,
   "metadata": {},
   "outputs": [],
   "source": [
    ".libPaths(c('/home/ssapkot/.conda/envs/r_env_360/lib', .libPaths()))\n",
    "\n",
    "#install.packages(\"adegenet\",repos='http://cran.us.r-project.org', dependencies = TRUE)\n",
    "library(BGLR)\n",
    "#library(coda)\n",
    "library(tidyverse)\n",
    "library(ggplot2)\n",
    "#library(BMTME)\n",
    "library(reshape2)\n",
    "library(PerformanceAnalytics)\n",
    "\n",
    "setwd(\"/panicle/ssapkot/GrainComp/\")"
   ]
  },
  {
   "cell_type": "markdown",
   "metadata": {},
   "source": [
    "### BTx642 RIL  population Comparison By Year, Location, and Trait"
   ]
  },
  {
   "cell_type": "code",
   "execution_count": 14,
   "metadata": {},
   "outputs": [
    {
     "name": "stderr",
     "output_type": "stream",
     "text": [
      "Using Taxa, Year, Location, Rep as id variables\n"
     ]
    },
    {
     "data": {
      "text/html": [
       "11.4890715667311"
      ],
      "text/latex": [
       "11.4890715667311"
      ],
      "text/markdown": [
       "11.4890715667311"
      ],
      "text/plain": [
       "[1] 11.48907"
      ]
     },
     "metadata": {},
     "output_type": "display_data"
    },
    {
     "data": {
      "text/html": [
       "4.32096834002751"
      ],
      "text/latex": [
       "4.32096834002751"
      ],
      "text/markdown": [
       "4.32096834002751"
      ],
      "text/plain": [
       "[1] 4.320968"
      ]
     },
     "metadata": {},
     "output_type": "display_data"
    },
    {
     "data": {
      "text/html": [
       "3.06805931656996"
      ],
      "text/latex": [
       "3.06805931656996"
      ],
      "text/markdown": [
       "3.06805931656996"
      ],
      "text/plain": [
       "[1] 3.068059"
      ]
     },
     "metadata": {},
     "output_type": "display_data"
    },
    {
     "data": {
      "text/html": [
       "0.669939649926611"
      ],
      "text/latex": [
       "0.669939649926611"
      ],
      "text/markdown": [
       "0.669939649926611"
      ],
      "text/plain": [
       "[1] 0.6699396"
      ]
     },
     "metadata": {},
     "output_type": "display_data"
    },
    {
     "data": {
      "text/html": [
       "4124.55737113402"
      ],
      "text/latex": [
       "4124.55737113402"
      ],
      "text/markdown": [
       "4124.55737113402"
      ],
      "text/plain": [
       "[1] 4124.557"
      ]
     },
     "metadata": {},
     "output_type": "display_data"
    },
    {
     "data": {
      "text/html": [
       "41.7425932793473"
      ],
      "text/latex": [
       "41.7425932793473"
      ],
      "text/markdown": [
       "41.7425932793473"
      ],
      "text/plain": [
       "[1] 41.74259"
      ]
     },
     "metadata": {},
     "output_type": "display_data"
    },
    {
     "data": {
      "text/html": [
       "11.4319471308833"
      ],
      "text/latex": [
       "11.4319471308833"
      ],
      "text/markdown": [
       "11.4319471308833"
      ],
      "text/plain": [
       "[1] 11.43195"
      ]
     },
     "metadata": {},
     "output_type": "display_data"
    },
    {
     "data": {
      "text/html": [
       "1.02943351777841"
      ],
      "text/latex": [
       "1.02943351777841"
      ],
      "text/markdown": [
       "1.02943351777841"
      ],
      "text/plain": [
       "[1] 1.029434"
      ]
     },
     "metadata": {},
     "output_type": "display_data"
    },
    {
     "data": {
      "text/html": [
       "68.3712701482914"
      ],
      "text/latex": [
       "68.3712701482914"
      ],
      "text/markdown": [
       "68.3712701482914"
      ],
      "text/plain": [
       "[1] 68.37127"
      ]
     },
     "metadata": {},
     "output_type": "display_data"
    },
    {
     "data": {
      "text/html": [
       "1.87110341739459"
      ],
      "text/latex": [
       "1.87110341739459"
      ],
      "text/markdown": [
       "1.87110341739459"
      ],
      "text/plain": [
       "[1] 1.871103"
      ]
     },
     "metadata": {},
     "output_type": "display_data"
    }
   ],
   "source": [
    "### Load phenotypic file and melt\n",
    "pheno = read.csv(\"data/BTx_Yield_Quality_Phenotypes.csv\")\n",
    "pheno$Year <- as.factor(pheno$Year)\n",
    "pheno$Rep <- as.factor(pheno$Rep)\n",
    "\n",
    "pheno <- pheno[,c(1,2,3,4,10:14)]\n",
    "colnames(pheno) <- c('Taxa','Year','Location','Rep','Amylose','Gross_Energy','Fat','Protein','Starch')\n",
    "\n",
    "df = melt(pheno)\n",
    "df$Year_Loc <- paste(df$Year,df$Location,sep=\"_\")\n",
    "\n",
    "\n",
    "mean(pheno$Amylose, na.rm=T); sd(pheno$Amylose, na.rm=T)\n",
    "mean(pheno$Fat, na.rm=T); sd(pheno$Fat, na.rm=T)\n",
    "mean(pheno$Gross_Energy, na.rm=T); sd(pheno$Gross_Energy, na.rm=T)\n",
    "mean(pheno$Protein, na.rm=T); sd(pheno$Protein, na.rm=T)\n",
    "mean(pheno$Starch, na.rm=T); sd(pheno$Starch, na.rm=T)\n"
   ]
  },
  {
   "cell_type": "code",
   "execution_count": 33,
   "metadata": {},
   "outputs": [
    {
     "name": "stderr",
     "output_type": "stream",
     "text": [
      "Warning message:\n",
      "“Removed 627 rows containing non-finite values (stat_boxplot).”Warning message:\n",
      "“Removed 627 rows containing missing values (geom_point).”"
     ]
    },
    {
     "data": {
      "image/png": "[encoded data removed]",
      "text/plain": [
       "plot without title"
      ]
     },
     "metadata": {},
     "output_type": "display_data"
    }
   ],
   "source": [
    "#png('/panicle/ssapkot/git_repo/GrainComp_GS/results/figures/BTx642_year_location_boxplot.png', units='in', width=5, height=5, res=500)\n",
    "ns <- ggplot(df,aes(x=Year, y=value, fill=Location)) + geom_boxplot()  + facet_wrap(df$variable~., scale='free')\n",
    "ns + theme_bw() + labs(y = '', x = '') + geom_point(pch = 18, position = position_jitterdodge())\n",
    "#dev.off()"
   ]
  },
  {
   "cell_type": "markdown",
   "metadata": {},
   "source": [
    "#### Amylose"
   ]
  },
  {
   "cell_type": "code",
   "execution_count": 8,
   "metadata": {},
   "outputs": [
    {
     "data": {
      "text/html": [
       "<ol class=list-inline>\n",
       "\t<li>1599</li>\n",
       "\t<li>7</li>\n",
       "</ol>\n"
      ],
      "text/latex": [
       "\\begin{enumerate*}\n",
       "\\item 1599\n",
       "\\item 7\n",
       "\\end{enumerate*}\n"
      ],
      "text/markdown": [
       "1. 1599\n",
       "2. 7\n",
       "\n",
       "\n"
      ],
      "text/plain": [
       "[1] 1599    7"
      ]
     },
     "metadata": {},
     "output_type": "display_data"
    },
    {
     "data": {
      "text/html": [
       "<table>\n",
       "<thead><tr><th scope=col>Pedigree2</th><th scope=col>Year</th><th scope=col>Location</th><th scope=col>Rep</th><th scope=col>variable</th><th scope=col>value</th><th scope=col>Year_Loc</th></tr></thead>\n",
       "<tbody>\n",
       "\t<tr><td>BTx642  </td><td>2014    </td><td>SC      </td><td>1       </td><td>Amylose </td><td>14.25   </td><td>2014_SC </td></tr>\n",
       "\t<tr><td>BTxARG-1</td><td>2014    </td><td>SC      </td><td>1       </td><td>Amylose </td><td> 2.87   </td><td>2014_SC </td></tr>\n",
       "\t<tr><td>CS_001  </td><td>2014    </td><td>SC      </td><td>1       </td><td>Amylose </td><td>13.14   </td><td>2014_SC </td></tr>\n",
       "\t<tr><td>CS_002  </td><td>2014    </td><td>SC      </td><td>1       </td><td>Amylose </td><td>12.63   </td><td>2014_SC </td></tr>\n",
       "\t<tr><td>CS_004  </td><td>2014    </td><td>SC      </td><td>1       </td><td>Amylose </td><td>10.54   </td><td>2014_SC </td></tr>\n",
       "\t<tr><td>CS_005  </td><td>2014    </td><td>SC      </td><td>1       </td><td>Amylose </td><td>11.39   </td><td>2014_SC </td></tr>\n",
       "</tbody>\n",
       "</table>\n"
      ],
      "text/latex": [
       "\\begin{tabular}{r|lllllll}\n",
       " Pedigree2 & Year & Location & Rep & variable & value & Year\\_Loc\\\\\n",
       "\\hline\n",
       "\t BTx642    & 2014      & SC        & 1         & Amylose   & 14.25     & 2014\\_SC\\\\\n",
       "\t BTxARG-1  & 2014      & SC        & 1         & Amylose   &  2.87     & 2014\\_SC\\\\\n",
       "\t CS\\_001   & 2014       & SC         & 1          & Amylose    & 13.14      & 2014\\_SC \\\\\n",
       "\t CS\\_002   & 2014       & SC         & 1          & Amylose    & 12.63      & 2014\\_SC \\\\\n",
       "\t CS\\_004   & 2014       & SC         & 1          & Amylose    & 10.54      & 2014\\_SC \\\\\n",
       "\t CS\\_005   & 2014       & SC         & 1          & Amylose    & 11.39      & 2014\\_SC \\\\\n",
       "\\end{tabular}\n"
      ],
      "text/markdown": [
       "\n",
       "| Pedigree2 | Year | Location | Rep | variable | value | Year_Loc |\n",
       "|---|---|---|---|---|---|---|\n",
       "| BTx642   | 2014     | SC       | 1        | Amylose  | 14.25    | 2014_SC  |\n",
       "| BTxARG-1 | 2014     | SC       | 1        | Amylose  |  2.87    | 2014_SC  |\n",
       "| CS_001   | 2014     | SC       | 1        | Amylose  | 13.14    | 2014_SC  |\n",
       "| CS_002   | 2014     | SC       | 1        | Amylose  | 12.63    | 2014_SC  |\n",
       "| CS_004   | 2014     | SC       | 1        | Amylose  | 10.54    | 2014_SC  |\n",
       "| CS_005   | 2014     | SC       | 1        | Amylose  | 11.39    | 2014_SC  |\n",
       "\n"
      ],
      "text/plain": [
       "  Pedigree2 Year Location Rep variable value Year_Loc\n",
       "1 BTx642    2014 SC       1   Amylose  14.25 2014_SC \n",
       "2 BTxARG-1  2014 SC       1   Amylose   2.87 2014_SC \n",
       "3 CS_001    2014 SC       1   Amylose  13.14 2014_SC \n",
       "4 CS_002    2014 SC       1   Amylose  12.63 2014_SC \n",
       "5 CS_004    2014 SC       1   Amylose  10.54 2014_SC \n",
       "6 CS_005    2014 SC       1   Amylose  11.39 2014_SC "
      ]
     },
     "metadata": {},
     "output_type": "display_data"
    },
    {
     "data": {
      "text/plain": [
       "              Df Sum Sq Mean Sq F value   Pr(>F)    \n",
       "Year_Loc       3    599  199.72    10.9 4.36e-07 ***\n",
       "Residuals   1547  28341   18.32                     \n",
       "---\n",
       "Signif. codes:  0 ‘***’ 0.001 ‘**’ 0.01 ‘*’ 0.05 ‘.’ 0.1 ‘ ’ 1\n",
       "48 observations deleted due to missingness"
      ]
     },
     "metadata": {},
     "output_type": "display_data"
    },
    {
     "data": {
      "text/plain": [
       "  Tukey multiple comparisons of means\n",
       "    95% family-wise confidence level\n",
       "\n",
       "Fit: aov(formula = value ~ Year_Loc, data = ams)\n",
       "\n",
       "$Year_Loc\n",
       "                        diff        lwr       upr     p adj\n",
       "2014_TX-2014_SC  1.537621494  0.7480632 2.3271798 0.0000036\n",
       "2015_SC-2014_SC  1.387383010  0.5913741 2.1833919 0.0000468\n",
       "2015_TX-2014_SC  1.389814963  0.5943157 2.1853142 0.0000446\n",
       "2015_SC-2014_TX -0.150238485 -0.9361166 0.6356396 0.9609644\n",
       "2015_TX-2014_TX -0.147806532 -0.9331684 0.6375553 0.9626537\n",
       "2015_TX-2015_SC  0.002431953 -0.7894147 0.7942786 0.9999998\n"
      ]
     },
     "metadata": {},
     "output_type": "display_data"
    }
   ],
   "source": [
    "ams = df %>% filter(variable==\"Amylose\") %>% mutate(Year_Loc = paste(Year,Location,sep=\"_\"))\n",
    "dim(ams)\n",
    "head(ams)\n",
    "\n",
    "ams_aov = aov(value~Year_Loc, data=ams)\n",
    "summary(ams_aov)\n",
    "\n",
    "TukeyHSD(ams_aov)"
   ]
  },
  {
   "cell_type": "markdown",
   "metadata": {},
   "source": [
    "#### Points to be noted from amylose in RIL population\n",
    "\n",
    "1. In 2014, the TX and SC environments were significantly different for Amylose content.\n",
    "2. In SC, amylose for 2014 an 2015 were significantly different from each other."
   ]
  },
  {
   "cell_type": "markdown",
   "metadata": {},
   "source": [
    "#### Starch"
   ]
  },
  {
   "cell_type": "code",
   "execution_count": 18,
   "metadata": {},
   "outputs": [
    {
     "data": {
      "text/html": [
       "<ol class=list-inline>\n",
       "\t<li>1599</li>\n",
       "\t<li>7</li>\n",
       "</ol>\n"
      ],
      "text/latex": [
       "\\begin{enumerate*}\n",
       "\\item 1599\n",
       "\\item 7\n",
       "\\end{enumerate*}\n"
      ],
      "text/markdown": [
       "1. 1599\n",
       "2. 7\n",
       "\n",
       "\n"
      ],
      "text/plain": [
       "[1] 1599    7"
      ]
     },
     "metadata": {},
     "output_type": "display_data"
    },
    {
     "data": {
      "text/html": [
       "<table>\n",
       "<thead><tr><th scope=col>Pedigree2</th><th scope=col>Year</th><th scope=col>Location</th><th scope=col>Rep</th><th scope=col>variable</th><th scope=col>value</th><th scope=col>Year_Loc</th></tr></thead>\n",
       "<tbody>\n",
       "\t<tr><td>BTx642  </td><td>2014    </td><td>SC      </td><td>1       </td><td>Starch  </td><td>67.77   </td><td>2014_SC </td></tr>\n",
       "\t<tr><td>BTxARG-1</td><td>2014    </td><td>SC      </td><td>1       </td><td>Starch  </td><td>66.54   </td><td>2014_SC </td></tr>\n",
       "\t<tr><td>CS_001  </td><td>2014    </td><td>SC      </td><td>1       </td><td>Starch  </td><td>70.06   </td><td>2014_SC </td></tr>\n",
       "\t<tr><td>CS_002  </td><td>2014    </td><td>SC      </td><td>1       </td><td>Starch  </td><td>71.24   </td><td>2014_SC </td></tr>\n",
       "\t<tr><td>CS_004  </td><td>2014    </td><td>SC      </td><td>1       </td><td>Starch  </td><td>69.19   </td><td>2014_SC </td></tr>\n",
       "\t<tr><td>CS_005  </td><td>2014    </td><td>SC      </td><td>1       </td><td>Starch  </td><td>69.62   </td><td>2014_SC </td></tr>\n",
       "</tbody>\n",
       "</table>\n"
      ],
      "text/latex": [
       "\\begin{tabular}{r|lllllll}\n",
       " Pedigree2 & Year & Location & Rep & variable & value & Year\\_Loc\\\\\n",
       "\\hline\n",
       "\t BTx642    & 2014      & SC        & 1         & Starch    & 67.77     & 2014\\_SC\\\\\n",
       "\t BTxARG-1  & 2014      & SC        & 1         & Starch    & 66.54     & 2014\\_SC\\\\\n",
       "\t CS\\_001   & 2014       & SC         & 1          & Starch     & 70.06      & 2014\\_SC \\\\\n",
       "\t CS\\_002   & 2014       & SC         & 1          & Starch     & 71.24      & 2014\\_SC \\\\\n",
       "\t CS\\_004   & 2014       & SC         & 1          & Starch     & 69.19      & 2014\\_SC \\\\\n",
       "\t CS\\_005   & 2014       & SC         & 1          & Starch     & 69.62      & 2014\\_SC \\\\\n",
       "\\end{tabular}\n"
      ],
      "text/markdown": [
       "\n",
       "| Pedigree2 | Year | Location | Rep | variable | value | Year_Loc |\n",
       "|---|---|---|---|---|---|---|\n",
       "| BTx642   | 2014     | SC       | 1        | Starch   | 67.77    | 2014_SC  |\n",
       "| BTxARG-1 | 2014     | SC       | 1        | Starch   | 66.54    | 2014_SC  |\n",
       "| CS_001   | 2014     | SC       | 1        | Starch   | 70.06    | 2014_SC  |\n",
       "| CS_002   | 2014     | SC       | 1        | Starch   | 71.24    | 2014_SC  |\n",
       "| CS_004   | 2014     | SC       | 1        | Starch   | 69.19    | 2014_SC  |\n",
       "| CS_005   | 2014     | SC       | 1        | Starch   | 69.62    | 2014_SC  |\n",
       "\n"
      ],
      "text/plain": [
       "  Pedigree2 Year Location Rep variable value Year_Loc\n",
       "1 BTx642    2014 SC       1   Starch   67.77 2014_SC \n",
       "2 BTxARG-1  2014 SC       1   Starch   66.54 2014_SC \n",
       "3 CS_001    2014 SC       1   Starch   70.06 2014_SC \n",
       "4 CS_002    2014 SC       1   Starch   71.24 2014_SC \n",
       "5 CS_004    2014 SC       1   Starch   69.19 2014_SC \n",
       "6 CS_005    2014 SC       1   Starch   69.62 2014_SC "
      ]
     },
     "metadata": {},
     "output_type": "display_data"
    },
    {
     "data": {
      "text/plain": [
       "              Df Sum Sq Mean Sq F value Pr(>F)    \n",
       "Year_Loc       3    702  234.11   76.66 <2e-16 ***\n",
       "Residuals   1547   4724    3.05                   \n",
       "---\n",
       "Signif. codes:  0 ‘***’ 0.001 ‘**’ 0.01 ‘*’ 0.05 ‘.’ 0.1 ‘ ’ 1\n",
       "48 observations deleted due to missingness"
      ]
     },
     "metadata": {},
     "output_type": "display_data"
    },
    {
     "data": {
      "text/plain": [
       "  Tukey multiple comparisons of means\n",
       "    95% family-wise confidence level\n",
       "\n",
       "Fit: aov(formula = value ~ Year_Loc, data = sta)\n",
       "\n",
       "$Year_Loc\n",
       "                        diff        lwr        upr     p adj\n",
       "2014_TX-2014_SC -0.172338432 -0.4947026  0.1500258 0.5153210\n",
       "2015_SC-2014_SC -1.429957415 -1.7549553 -1.1049595 0.0000000\n",
       "2015_TX-2014_SC -1.427444997 -1.7522348 -1.1026552 0.0000000\n",
       "2015_SC-2014_TX -1.257618983 -1.5784806 -0.9367573 0.0000000\n",
       "2015_TX-2014_TX -1.255106565 -1.5757574 -0.9344557 0.0000000\n",
       "2015_TX-2015_SC  0.002512418 -0.3207861  0.3258109 0.9999971\n"
      ]
     },
     "metadata": {},
     "output_type": "display_data"
    }
   ],
   "source": [
    "sta = df %>% filter(variable==\"Starch\") %>% mutate(Year_Loc = paste(Year,Location,sep=\"_\"))\n",
    "dim(sta)\n",
    "head(sta)\n",
    "\n",
    "sta_aov = aov(value~Year_Loc, data=sta)\n",
    "summary(sta_aov)\n",
    "\n",
    "TukeyHSD(sta_aov)"
   ]
  },
  {
   "cell_type": "markdown",
   "metadata": {},
   "source": [
    "#### Key points\n",
    "1. At least some significantly different.\n",
    "2. Both TX and SC environment different for the years 2014 to 2015.\n",
    "3. No significant difference among the environments within the year."
   ]
  },
  {
   "cell_type": "markdown",
   "metadata": {},
   "source": [
    "### Fat"
   ]
  },
  {
   "cell_type": "code",
   "execution_count": 19,
   "metadata": {},
   "outputs": [
    {
     "data": {
      "text/html": [
       "<ol class=list-inline>\n",
       "\t<li>1599</li>\n",
       "\t<li>7</li>\n",
       "</ol>\n"
      ],
      "text/latex": [
       "\\begin{enumerate*}\n",
       "\\item 1599\n",
       "\\item 7\n",
       "\\end{enumerate*}\n"
      ],
      "text/markdown": [
       "1. 1599\n",
       "2. 7\n",
       "\n",
       "\n"
      ],
      "text/plain": [
       "[1] 1599    7"
      ]
     },
     "metadata": {},
     "output_type": "display_data"
    },
    {
     "data": {
      "text/html": [
       "<table>\n",
       "<thead><tr><th scope=col>Pedigree2</th><th scope=col>Year</th><th scope=col>Location</th><th scope=col>Rep</th><th scope=col>variable</th><th scope=col>value</th><th scope=col>Year_Loc</th></tr></thead>\n",
       "<tbody>\n",
       "\t<tr><td>BTx642  </td><td>2014    </td><td>SC      </td><td>1       </td><td>Fat     </td><td>3.72    </td><td>2014_SC </td></tr>\n",
       "\t<tr><td>BTxARG-1</td><td>2014    </td><td>SC      </td><td>1       </td><td>Fat     </td><td>3.42    </td><td>2014_SC </td></tr>\n",
       "\t<tr><td>CS_001  </td><td>2014    </td><td>SC      </td><td>1       </td><td>Fat     </td><td>2.96    </td><td>2014_SC </td></tr>\n",
       "\t<tr><td>CS_002  </td><td>2014    </td><td>SC      </td><td>1       </td><td>Fat     </td><td>2.65    </td><td>2014_SC </td></tr>\n",
       "\t<tr><td>CS_004  </td><td>2014    </td><td>SC      </td><td>1       </td><td>Fat     </td><td>3.39    </td><td>2014_SC </td></tr>\n",
       "\t<tr><td>CS_005  </td><td>2014    </td><td>SC      </td><td>1       </td><td>Fat     </td><td>3.09    </td><td>2014_SC </td></tr>\n",
       "</tbody>\n",
       "</table>\n"
      ],
      "text/latex": [
       "\\begin{tabular}{r|lllllll}\n",
       " Pedigree2 & Year & Location & Rep & variable & value & Year\\_Loc\\\\\n",
       "\\hline\n",
       "\t BTx642    & 2014      & SC        & 1         & Fat       & 3.72      & 2014\\_SC\\\\\n",
       "\t BTxARG-1  & 2014      & SC        & 1         & Fat       & 3.42      & 2014\\_SC\\\\\n",
       "\t CS\\_001   & 2014       & SC         & 1          & Fat        & 2.96       & 2014\\_SC \\\\\n",
       "\t CS\\_002   & 2014       & SC         & 1          & Fat        & 2.65       & 2014\\_SC \\\\\n",
       "\t CS\\_004   & 2014       & SC         & 1          & Fat        & 3.39       & 2014\\_SC \\\\\n",
       "\t CS\\_005   & 2014       & SC         & 1          & Fat        & 3.09       & 2014\\_SC \\\\\n",
       "\\end{tabular}\n"
      ],
      "text/markdown": [
       "\n",
       "| Pedigree2 | Year | Location | Rep | variable | value | Year_Loc |\n",
       "|---|---|---|---|---|---|---|\n",
       "| BTx642   | 2014     | SC       | 1        | Fat      | 3.72     | 2014_SC  |\n",
       "| BTxARG-1 | 2014     | SC       | 1        | Fat      | 3.42     | 2014_SC  |\n",
       "| CS_001   | 2014     | SC       | 1        | Fat      | 2.96     | 2014_SC  |\n",
       "| CS_002   | 2014     | SC       | 1        | Fat      | 2.65     | 2014_SC  |\n",
       "| CS_004   | 2014     | SC       | 1        | Fat      | 3.39     | 2014_SC  |\n",
       "| CS_005   | 2014     | SC       | 1        | Fat      | 3.09     | 2014_SC  |\n",
       "\n"
      ],
      "text/plain": [
       "  Pedigree2 Year Location Rep variable value Year_Loc\n",
       "1 BTx642    2014 SC       1   Fat      3.72  2014_SC \n",
       "2 BTxARG-1  2014 SC       1   Fat      3.42  2014_SC \n",
       "3 CS_001    2014 SC       1   Fat      2.96  2014_SC \n",
       "4 CS_002    2014 SC       1   Fat      2.65  2014_SC \n",
       "5 CS_004    2014 SC       1   Fat      3.39  2014_SC \n",
       "6 CS_005    2014 SC       1   Fat      3.09  2014_SC "
      ]
     },
     "metadata": {},
     "output_type": "display_data"
    },
    {
     "data": {
      "text/plain": [
       "              Df Sum Sq Mean Sq F value Pr(>F)    \n",
       "Year_Loc       3  193.0   64.34     198 <2e-16 ***\n",
       "Residuals   1547  502.6    0.32                   \n",
       "---\n",
       "Signif. codes:  0 ‘***’ 0.001 ‘**’ 0.01 ‘*’ 0.05 ‘.’ 0.1 ‘ ’ 1\n",
       "48 observations deleted due to missingness"
      ]
     },
     "metadata": {},
     "output_type": "display_data"
    },
    {
     "data": {
      "text/plain": [
       "  Tukey multiple comparisons of means\n",
       "    95% family-wise confidence level\n",
       "\n",
       "Fit: aov(formula = value ~ Year_Loc, data = trait)\n",
       "\n",
       "$Year_Loc\n",
       "                         diff        lwr        upr     p adj\n",
       "2014_TX-2014_SC  0.4487268303  0.3435761  0.5538775 0.0000000\n",
       "2015_SC-2014_SC -0.3993867828 -0.5053965 -0.2933770 0.0000000\n",
       "2015_TX-2014_SC -0.4002976690 -0.5062396 -0.2943558 0.0000000\n",
       "2015_SC-2014_TX -0.8481136130 -0.9527742 -0.7434530 0.0000000\n",
       "2015_TX-2014_TX -0.8490244992 -0.9536163 -0.7444327 0.0000000\n",
       "2015_TX-2015_SC -0.0009108862 -0.1063663  0.1045446 0.9999961\n"
      ]
     },
     "metadata": {},
     "output_type": "display_data"
    }
   ],
   "source": [
    "trait = df %>% filter(variable==\"Fat\") %>% mutate(Year_Loc = paste(Year,Location,sep=\"_\"))\n",
    "dim(trait)\n",
    "head(trait)\n",
    "\n",
    "ano = aov(value~Year_Loc, data=trait)\n",
    "summary(ano)\n",
    "TukeyHSD(ano)"
   ]
  },
  {
   "cell_type": "markdown",
   "metadata": {},
   "source": [
    "#### Key points\n",
    "1. In 2014, two environments were different but not in 2015.\n",
    "2. The means for two years within the environments were different."
   ]
  },
  {
   "cell_type": "markdown",
   "metadata": {},
   "source": [
    "### Protein"
   ]
  },
  {
   "cell_type": "code",
   "execution_count": 20,
   "metadata": {},
   "outputs": [
    {
     "data": {
      "text/html": [
       "<ol class=list-inline>\n",
       "\t<li>1599</li>\n",
       "\t<li>7</li>\n",
       "</ol>\n"
      ],
      "text/latex": [
       "\\begin{enumerate*}\n",
       "\\item 1599\n",
       "\\item 7\n",
       "\\end{enumerate*}\n"
      ],
      "text/markdown": [
       "1. 1599\n",
       "2. 7\n",
       "\n",
       "\n"
      ],
      "text/plain": [
       "[1] 1599    7"
      ]
     },
     "metadata": {},
     "output_type": "display_data"
    },
    {
     "data": {
      "text/html": [
       "<table>\n",
       "<thead><tr><th scope=col>Pedigree2</th><th scope=col>Year</th><th scope=col>Location</th><th scope=col>Rep</th><th scope=col>variable</th><th scope=col>value</th><th scope=col>Year_Loc</th></tr></thead>\n",
       "<tbody>\n",
       "\t<tr><td>BTx642  </td><td>2014    </td><td>SC      </td><td>1       </td><td>Protein </td><td>11.53   </td><td>2014_SC </td></tr>\n",
       "\t<tr><td>BTxARG-1</td><td>2014    </td><td>SC      </td><td>1       </td><td>Protein </td><td>11.85   </td><td>2014_SC </td></tr>\n",
       "\t<tr><td>CS_001  </td><td>2014    </td><td>SC      </td><td>1       </td><td>Protein </td><td>11.84   </td><td>2014_SC </td></tr>\n",
       "\t<tr><td>CS_002  </td><td>2014    </td><td>SC      </td><td>1       </td><td>Protein </td><td>10.62   </td><td>2014_SC </td></tr>\n",
       "\t<tr><td>CS_004  </td><td>2014    </td><td>SC      </td><td>1       </td><td>Protein </td><td>11.32   </td><td>2014_SC </td></tr>\n",
       "\t<tr><td>CS_005  </td><td>2014    </td><td>SC      </td><td>1       </td><td>Protein </td><td>11.01   </td><td>2014_SC </td></tr>\n",
       "</tbody>\n",
       "</table>\n"
      ],
      "text/latex": [
       "\\begin{tabular}{r|lllllll}\n",
       " Pedigree2 & Year & Location & Rep & variable & value & Year\\_Loc\\\\\n",
       "\\hline\n",
       "\t BTx642    & 2014      & SC        & 1         & Protein   & 11.53     & 2014\\_SC\\\\\n",
       "\t BTxARG-1  & 2014      & SC        & 1         & Protein   & 11.85     & 2014\\_SC\\\\\n",
       "\t CS\\_001   & 2014       & SC         & 1          & Protein    & 11.84      & 2014\\_SC \\\\\n",
       "\t CS\\_002   & 2014       & SC         & 1          & Protein    & 10.62      & 2014\\_SC \\\\\n",
       "\t CS\\_004   & 2014       & SC         & 1          & Protein    & 11.32      & 2014\\_SC \\\\\n",
       "\t CS\\_005   & 2014       & SC         & 1          & Protein    & 11.01      & 2014\\_SC \\\\\n",
       "\\end{tabular}\n"
      ],
      "text/markdown": [
       "\n",
       "| Pedigree2 | Year | Location | Rep | variable | value | Year_Loc |\n",
       "|---|---|---|---|---|---|---|\n",
       "| BTx642   | 2014     | SC       | 1        | Protein  | 11.53    | 2014_SC  |\n",
       "| BTxARG-1 | 2014     | SC       | 1        | Protein  | 11.85    | 2014_SC  |\n",
       "| CS_001   | 2014     | SC       | 1        | Protein  | 11.84    | 2014_SC  |\n",
       "| CS_002   | 2014     | SC       | 1        | Protein  | 10.62    | 2014_SC  |\n",
       "| CS_004   | 2014     | SC       | 1        | Protein  | 11.32    | 2014_SC  |\n",
       "| CS_005   | 2014     | SC       | 1        | Protein  | 11.01    | 2014_SC  |\n",
       "\n"
      ],
      "text/plain": [
       "  Pedigree2 Year Location Rep variable value Year_Loc\n",
       "1 BTx642    2014 SC       1   Protein  11.53 2014_SC \n",
       "2 BTxARG-1  2014 SC       1   Protein  11.85 2014_SC \n",
       "3 CS_001    2014 SC       1   Protein  11.84 2014_SC \n",
       "4 CS_002    2014 SC       1   Protein  10.62 2014_SC \n",
       "5 CS_004    2014 SC       1   Protein  11.32 2014_SC \n",
       "6 CS_005    2014 SC       1   Protein  11.01 2014_SC "
      ]
     },
     "metadata": {},
     "output_type": "display_data"
    },
    {
     "data": {
      "text/plain": [
       "              Df Sum Sq Mean Sq F value   Pr(>F)    \n",
       "Year_Loc       3   17.4   5.789    5.51 0.000918 ***\n",
       "Residuals   1547 1625.2   1.051                     \n",
       "---\n",
       "Signif. codes:  0 ‘***’ 0.001 ‘**’ 0.01 ‘*’ 0.05 ‘.’ 0.1 ‘ ’ 1\n",
       "48 observations deleted due to missingness"
      ]
     },
     "metadata": {},
     "output_type": "display_data"
    },
    {
     "data": {
      "text/plain": [
       "  Tukey multiple comparisons of means\n",
       "    95% family-wise confidence level\n",
       "\n",
       "Fit: aov(formula = value ~ Year_Loc, data = trait)\n",
       "\n",
       "$Year_Loc\n",
       "                        diff        lwr         upr     p adj\n",
       "2014_TX-2014_SC -0.273175683 -0.4622517 -0.08409971 0.0012004\n",
       "2015_SC-2014_SC -0.225450736 -0.4160714 -0.03483004 0.0127757\n",
       "2015_TX-2014_SC -0.226534468 -0.4170331 -0.03603582 0.0121223\n",
       "2015_SC-2014_TX  0.047724947 -0.1404697  0.23591962 0.9147988\n",
       "2015_TX-2014_TX  0.046641215 -0.1414298  0.23471226 0.9197765\n",
       "2015_TX-2015_SC -0.001083732 -0.1907077  0.18854023 0.9999989\n"
      ]
     },
     "metadata": {},
     "output_type": "display_data"
    }
   ],
   "source": [
    "trait = df %>% filter(variable==\"Protein\") %>% mutate(Year_Loc = paste(Year,Location,sep=\"_\"))\n",
    "dim(trait)\n",
    "head(trait)\n",
    "\n",
    "ano = aov(value~Year_Loc, data=trait)\n",
    "summary(ano)\n",
    "TukeyHSD(ano)"
   ]
  },
  {
   "cell_type": "markdown",
   "metadata": {},
   "source": [
    "####  Key points\n",
    "1. In 2014, the two environments were different but not in 2015.\n",
    "2. The mean for two years were different (<0.05) for SC but not for TX."
   ]
  },
  {
   "cell_type": "markdown",
   "metadata": {},
   "source": [
    "### Gross Energy (Cal/g)"
   ]
  },
  {
   "cell_type": "code",
   "execution_count": 23,
   "metadata": {},
   "outputs": [
    {
     "data": {
      "text/html": [
       "<ol class=list-inline>\n",
       "\t<li>1599</li>\n",
       "\t<li>7</li>\n",
       "</ol>\n"
      ],
      "text/latex": [
       "\\begin{enumerate*}\n",
       "\\item 1599\n",
       "\\item 7\n",
       "\\end{enumerate*}\n"
      ],
      "text/markdown": [
       "1. 1599\n",
       "2. 7\n",
       "\n",
       "\n"
      ],
      "text/plain": [
       "[1] 1599    7"
      ]
     },
     "metadata": {},
     "output_type": "display_data"
    },
    {
     "data": {
      "text/html": [
       "<table>\n",
       "<thead><tr><th scope=col>Pedigree2</th><th scope=col>Year</th><th scope=col>Location</th><th scope=col>Rep</th><th scope=col>variable</th><th scope=col>value</th><th scope=col>Year_Loc</th></tr></thead>\n",
       "<tbody>\n",
       "\t<tr><td>BTx642  </td><td>2014    </td><td>SC      </td><td>1       </td><td>Cal.g   </td><td>4171.34 </td><td>2014_SC </td></tr>\n",
       "\t<tr><td>BTxARG-1</td><td>2014    </td><td>SC      </td><td>1       </td><td>Cal.g   </td><td>4109.92 </td><td>2014_SC </td></tr>\n",
       "\t<tr><td>CS_001  </td><td>2014    </td><td>SC      </td><td>1       </td><td>Cal.g   </td><td>4119.23 </td><td>2014_SC </td></tr>\n",
       "\t<tr><td>CS_002  </td><td>2014    </td><td>SC      </td><td>1       </td><td>Cal.g   </td><td>4077.12 </td><td>2014_SC </td></tr>\n",
       "\t<tr><td>CS_004  </td><td>2014    </td><td>SC      </td><td>1       </td><td>Cal.g   </td><td>4151.21 </td><td>2014_SC </td></tr>\n",
       "\t<tr><td>CS_005  </td><td>2014    </td><td>SC      </td><td>1       </td><td>Cal.g   </td><td>4131.94 </td><td>2014_SC </td></tr>\n",
       "</tbody>\n",
       "</table>\n"
      ],
      "text/latex": [
       "\\begin{tabular}{r|lllllll}\n",
       " Pedigree2 & Year & Location & Rep & variable & value & Year\\_Loc\\\\\n",
       "\\hline\n",
       "\t BTx642    & 2014      & SC        & 1         & Cal.g     & 4171.34   & 2014\\_SC\\\\\n",
       "\t BTxARG-1  & 2014      & SC        & 1         & Cal.g     & 4109.92   & 2014\\_SC\\\\\n",
       "\t CS\\_001   & 2014       & SC         & 1          & Cal.g      & 4119.23    & 2014\\_SC \\\\\n",
       "\t CS\\_002   & 2014       & SC         & 1          & Cal.g      & 4077.12    & 2014\\_SC \\\\\n",
       "\t CS\\_004   & 2014       & SC         & 1          & Cal.g      & 4151.21    & 2014\\_SC \\\\\n",
       "\t CS\\_005   & 2014       & SC         & 1          & Cal.g      & 4131.94    & 2014\\_SC \\\\\n",
       "\\end{tabular}\n"
      ],
      "text/markdown": [
       "\n",
       "| Pedigree2 | Year | Location | Rep | variable | value | Year_Loc |\n",
       "|---|---|---|---|---|---|---|\n",
       "| BTx642   | 2014     | SC       | 1        | Cal.g    | 4171.34  | 2014_SC  |\n",
       "| BTxARG-1 | 2014     | SC       | 1        | Cal.g    | 4109.92  | 2014_SC  |\n",
       "| CS_001   | 2014     | SC       | 1        | Cal.g    | 4119.23  | 2014_SC  |\n",
       "| CS_002   | 2014     | SC       | 1        | Cal.g    | 4077.12  | 2014_SC  |\n",
       "| CS_004   | 2014     | SC       | 1        | Cal.g    | 4151.21  | 2014_SC  |\n",
       "| CS_005   | 2014     | SC       | 1        | Cal.g    | 4131.94  | 2014_SC  |\n",
       "\n"
      ],
      "text/plain": [
       "  Pedigree2 Year Location Rep variable value   Year_Loc\n",
       "1 BTx642    2014 SC       1   Cal.g    4171.34 2014_SC \n",
       "2 BTxARG-1  2014 SC       1   Cal.g    4109.92 2014_SC \n",
       "3 CS_001    2014 SC       1   Cal.g    4119.23 2014_SC \n",
       "4 CS_002    2014 SC       1   Cal.g    4077.12 2014_SC \n",
       "5 CS_004    2014 SC       1   Cal.g    4151.21 2014_SC \n",
       "6 CS_005    2014 SC       1   Cal.g    4131.94 2014_SC "
      ]
     },
     "metadata": {},
     "output_type": "display_data"
    },
    {
     "data": {
      "text/plain": [
       "              Df  Sum Sq Mean Sq F value   Pr(>F)    \n",
       "Year_Loc       2   34572   17286   10.07 4.59e-05 ***\n",
       "Residuals   1161 1991891    1716                     \n",
       "---\n",
       "Signif. codes:  0 ‘***’ 0.001 ‘**’ 0.01 ‘*’ 0.05 ‘.’ 0.1 ‘ ’ 1\n",
       "435 observations deleted due to missingness"
      ]
     },
     "metadata": {},
     "output_type": "display_data"
    },
    {
     "data": {
      "text/plain": [
       "  Tukey multiple comparisons of means\n",
       "    95% family-wise confidence level\n",
       "\n",
       "Fit: aov(formula = value ~ Year_Loc, data = trait)\n",
       "\n",
       "$Year_Loc\n",
       "                      diff       lwr       upr     p adj\n",
       "2014_TX-2014_SC 11.8815881  4.909532 18.853645 0.0001994\n",
       "2015_SC-2014_SC 11.3512378  4.322220 18.380255 0.0004652\n",
       "2015_SC-2014_TX -0.5303504 -7.469910  6.409209 0.9824243\n"
      ]
     },
     "metadata": {},
     "output_type": "display_data"
    }
   ],
   "source": [
    "trait = df %>% filter(variable==\"Cal.g\") %>% mutate(Year_Loc = paste(Year,Location,sep=\"_\"))\n",
    "dim(trait)\n",
    "head(trait)\n",
    "\n",
    "ano = aov(value~Year_Loc, data=trait)\n",
    "summary(ano)\n",
    "TukeyHSD(ano)"
   ]
  },
  {
   "cell_type": "markdown",
   "metadata": {},
   "source": [
    "#### Key points\n",
    "1. In 2015 GE for TX was missing.\n",
    "2. In 2014, the environments had different means.\n",
    "3. In SC, the mean for 2014 and 2015 were different."
   ]
  },
  {
   "cell_type": "code",
   "execution_count": null,
   "metadata": {},
   "outputs": [],
   "source": []
  }
 ],
 "metadata": {
  "kernelspec": {
   "display_name": "R 3.6.0",
   "language": "R",
   "name": "ir360"
  },
  "language_info": {
   "codemirror_mode": "r",
   "file_extension": ".r",
   "mimetype": "text/x-r-source",
   "name": "R",
   "pygments_lexer": "r",
   "version": "3.6.0"
  }
 },
 "nbformat": 4,
 "nbformat_minor": 2
}
